{
 "cells": [
  {
   "cell_type": "markdown",
   "metadata": {
    "id": "znlt8jyJKg-5"
   },
   "source": [
    "##### INF8460 – Traitement automatique de la langue naturelle - Automne 2024\n",
    "### TP1 - Recherche de documents avec une métrique de similarité\n"
   ]
  },
  {
   "cell_type": "markdown",
   "metadata": {},
   "source": [
    "## Identification de l'équipe:\n",
    "\n",
    "### Groupe de laboratoire:\n",
    "\n",
    "### Equipe numéro :\n",
    "\n",
    "### Membres:\n",
    "\n",
    "- membre 1 (% de contribution, nature de la contribution)\n",
    "- membre 2 (% de contribution, nature de la contribution)\n",
    "- membre 3 (% de contribution, nature de la contribution)\n",
    "\n",
    "* nature de la contribution: Décrivez brièvement ce qui a été fait par chaque membre de l’équipe. Tous les membres sont censés contribuer au développement. Bien que chaque membre puisse effectuer différentes tâches, vous devez vous efforcer d’obtenir une répartition égale du travail. Soyez précis ! N'indiquez pas seulement : travail réparti équitablement"
   ]
  },
  {
   "cell_type": "markdown",
   "metadata": {},
   "source": [
    "## Mise en place"
   ]
  },
  {
   "cell_type": "markdown",
   "metadata": {},
   "source": [
    "### Objectif du TP\n",
    "\n",
    "La recherche d'information est le processus d'accès aux données, généralement des documents ou d'autres données non structurées, à partir d'une requête. Dans ce TP, vous aurez en entrée une requête textuelle sous forme d'affirmation. Il faudra retrouver dans un corpus de littérature scientifique les documents pertinents qui justifient ou infirment la véracité de cette affirmation. Vous utiliserez des modèles vectoriels et des métriques de similarité pour cette tâche."
   ]
  },
  {
   "cell_type": "markdown",
   "metadata": {},
   "source": [
    "### Jeux de données\n",
    "\n",
    "Dans ce TP, vous utiliserez le jeu de données dans le répertoire _data_. Il s'agit d'un ensemble de données comprenant 809 affirmations rédigées par des experts et 5183 documents de références pour ces affirmations. Ces documents contiennent des phrases qui confirment ou infirment (contredisent) les affirmations. L'objectif est donc de trouver un document pertinent, c'est-à-dire contenant la ou les phrases qui permettent d'évaluer une affirmation donnée en entrée en utilisant une similarité sémantique. \n",
    "\n",
    "Le jeu de données comprend :\n",
    "\n",
    "1. Un corpus (_corpus.jsonl_) qui contient des documents décrits avec les informations suivantes :\n",
    "    - 'doc_id' : permet d'identifier le document en entrée\n",
    "    - 'title' : donne le titre du document\n",
    "    - 'abstract': est le résumé du document\n",
    "    - 'structured': indique si le document est structuré ou pas\n",
    "\n",
    "2. Un ensemble d'affirmations (_claims.jsonl_) qui contient des documents décrits avec les informations suivantes :\n",
    "    - 'id' : identifie l'affirmation.\n",
    "    - 'claim' : est l'affirmation en tant que telle.\n",
    "    - 'evidence' : précise quelles phrases du document sont pertinentes pour l'affirmation. Chaque phrase est accompagnée d'une étiquette de véracité (confirm/contradict) pour indiquer si la phrase confirme ou contredit l'affirmation.  \n",
    "    - 'cited_doc_ids' : indique les identifiants des documents cités.\n",
    "\n",
    "\n",
    "\n",
    "Dans _claims.jsonl_, seuls les identifiants des documents sont renseignés. Pour avoir les détails d'un document tel que le titre (\"title\") et le résumé (\"abstract\"), il faudra consulter le fichier _corpus.jsonl_. \n",
    "\n",
    "Voici un exemple :\n",
    "\n",
    "- **Affirmation (claim)** : Consumption of whole fruits increases the risk of type 2 diabetes.\n",
    "- **Cited document(s) ID(s)** : 1974176\n",
    "- **Evidence (sentence in the document containing the proof)** : [{'sentences': [11], 'label': 'CONTRADICT'}]\n",
    "\n",
    "  Ici [11] constitue le numéro de la phrase qui contredit l'affirmation.\n",
    "\n",
    "- **Cited document(s) title(s)** : Fruit consumption and risk of type 2 diabetes: results from three prospective longitudinal cohort studies\n",
    "- **Cited document(s) abstract(s) (list of sentences)** : \n",
    "    - [0] 'OBJECTIVE To determine whether individual fruits are differentially associated with risk of type 2 diabetes.\\n'\n",
    "    - [1] 'DESIGN Prospective longitudinal cohort study.'\n",
    "    - ...\n",
    "    - [10] 'CONCLUSION Our findings suggest the presence of heterogeneity in the associations between individual fruit consumption and risk of type 2 diabetes.'\n",
    "    - [11] 'Greater consumption of specific whole fruits, particularly blueberries, grapes, and apples, is significantly associated with a lower risk of type 2 diabetes, whereas greater consumption of fruit juice is associated with a higher risk.'\n",
    "\n",
    "Le champ \"evidence\" indique la phrase au niveau du résumé du document qui confirme ou infirme l'affirmation, d'où le numéro de la phrase et le label qui y sont renseignés. Dans le cas particulier de l'exemple ci-dessus, on voit bien que la onzième phrase du résumé du document est la plus pertinente pour l'affirmation et qu'elle la contredit, ce qui explique le label \"CONTRADICT\" dans \"evidence\". Cependant, dans le cadre de ce TP, on ne s'intéresse qu'à la présence de cette phrase pertinente dans le document, donc on ne considérera pas cette colonne \"evidence\" dans la suite du TP."
   ]
  },
  {
   "cell_type": "markdown",
   "metadata": {
    "id": "26Qe_-7z25EE"
   },
   "source": [
    "### Librairies permises\n",
    "- Jupyter notebook\n",
    "- NLTK\n",
    "- Numpy \n",
    "- Pandas\n",
    "- Sklearn\n",
    "- PowerLaw\n",
    "- Matplotlib\n",
    "- TQDM\n",
    "- BM25\n",
    "- Pour toute autre librairie, demandez à votre chargé de laboratoire"
   ]
  },
  {
   "cell_type": "markdown",
   "metadata": {
    "id": "zupXN9tr3oEa"
   },
   "source": [
    "## Étapes du TP\n",
    "A partir du notebook _INF8460_A24_TP1_ qui est distribué, vous devez réaliser les étapes suivantes. (Notez que les cellules dans le squelette sont là à titre informatif - il est fort probable que vous rajoutiez des sections au fur et à mesure de votre TP)."
   ]
  },
  {
   "cell_type": "code",
   "execution_count": 111,
   "metadata": {
    "ExecuteTime": {
     "end_time": "2024-09-12T19:40:06.797668900Z",
     "start_time": "2024-09-12T19:40:05.904217100Z"
    }
   },
   "outputs": [],
   "source": [
    "import json\n",
    "\n",
    "# Lien vers les fichiers à utiliser\n",
    "# Ne pas modifier\n",
    "\n",
    "PATH = 'data/ai2_data/'"
   ]
  },
  {
   "cell_type": "code",
   "execution_count": 112,
   "metadata": {
    "ExecuteTime": {
     "end_time": "2024-09-12T19:40:20.216411400Z",
     "start_time": "2024-09-12T19:40:05.904217100Z"
    }
   },
   "outputs": [
    {
     "name": "stdout",
     "output_type": "stream",
     "text": [
      "Requirement already satisfied: rank_bm25 in c:\\users\\dalil\\anaconda3\\envs\\ml\\lib\\site-packages (0.2.2)\n",
      "Requirement already satisfied: numpy in c:\\users\\dalil\\anaconda3\\envs\\ml\\lib\\site-packages (from rank_bm25) (1.24.3)\n"
     ]
    },
    {
     "name": "stderr",
     "output_type": "stream",
     "text": [
      "\n",
      "[notice] A new release of pip is available: 24.0 -> 24.2\n",
      "[notice] To update, run: python.exe -m pip install --upgrade pip\n"
     ]
    },
    {
     "name": "stdout",
     "output_type": "stream",
     "text": [
      "Requirement already satisfied: powerlaw in c:\\users\\dalil\\anaconda3\\envs\\ml\\lib\\site-packages (1.5)\n",
      "Requirement already satisfied: scipy in c:\\users\\dalil\\anaconda3\\envs\\ml\\lib\\site-packages (from powerlaw) (1.11.4)\n",
      "Requirement already satisfied: numpy in c:\\users\\dalil\\anaconda3\\envs\\ml\\lib\\site-packages (from powerlaw) (1.24.3)\n",
      "Requirement already satisfied: matplotlib in c:\\users\\dalil\\anaconda3\\envs\\ml\\lib\\site-packages (from powerlaw) (3.8.0)\n",
      "Requirement already satisfied: mpmath in c:\\users\\dalil\\anaconda3\\envs\\ml\\lib\\site-packages (from powerlaw) (1.3.0)\n",
      "Requirement already satisfied: contourpy>=1.0.1 in c:\\users\\dalil\\anaconda3\\envs\\ml\\lib\\site-packages (from matplotlib->powerlaw) (1.2.0)\n",
      "Requirement already satisfied: cycler>=0.10 in c:\\users\\dalil\\anaconda3\\envs\\ml\\lib\\site-packages (from matplotlib->powerlaw) (0.11.0)\n",
      "Requirement already satisfied: fonttools>=4.22.0 in c:\\users\\dalil\\anaconda3\\envs\\ml\\lib\\site-packages (from matplotlib->powerlaw) (4.25.0)\n",
      "Requirement already satisfied: kiwisolver>=1.0.1 in c:\\users\\dalil\\anaconda3\\envs\\ml\\lib\\site-packages (from matplotlib->powerlaw) (1.4.4)\n",
      "Requirement already satisfied: packaging>=20.0 in c:\\users\\dalil\\anaconda3\\envs\\ml\\lib\\site-packages (from matplotlib->powerlaw) (23.1)\n",
      "Requirement already satisfied: pillow>=6.2.0 in c:\\users\\dalil\\anaconda3\\envs\\ml\\lib\\site-packages (from matplotlib->powerlaw) (10.3.0)\n",
      "Requirement already satisfied: pyparsing>=2.3.1 in c:\\users\\dalil\\anaconda3\\envs\\ml\\lib\\site-packages (from matplotlib->powerlaw) (3.0.9)\n",
      "Requirement already satisfied: python-dateutil>=2.7 in c:\\users\\dalil\\anaconda3\\envs\\ml\\lib\\site-packages (from matplotlib->powerlaw) (2.8.2)\n",
      "Requirement already satisfied: six>=1.5 in c:\\users\\dalil\\anaconda3\\envs\\ml\\lib\\site-packages (from python-dateutil>=2.7->matplotlib->powerlaw) (1.16.0)\n"
     ]
    },
    {
     "name": "stderr",
     "output_type": "stream",
     "text": [
      "\n",
      "[notice] A new release of pip is available: 24.0 -> 24.2\n",
      "[notice] To update, run: python.exe -m pip install --upgrade pip\n"
     ]
    }
   ],
   "source": [
    "!pip install rank_bm25 \n",
    "!pip install powerlaw"
   ]
  },
  {
   "cell_type": "code",
   "execution_count": 113,
   "metadata": {
    "ExecuteTime": {
     "end_time": "2024-09-12T19:40:20.237895700Z",
     "start_time": "2024-09-12T19:40:20.207509100Z"
    }
   },
   "outputs": [],
   "source": [
    "# Import des librairies\n",
    "\n",
    "import numpy as np\n",
    "import pandas as pd\n",
    "import powerlaw\n",
    "from collections import defaultdict, Counter\n",
    "from tqdm import tqdm\n",
    "import matplotlib.pyplot as plt\n",
    "from typing import List, Dict\n",
    "\n",
    "import nltk\n",
    "from nltk.tokenize import word_tokenize\n",
    "from nltk.stem.porter import PorterStemmer\n",
    "from nltk.corpus import stopwords\n",
    "from string import punctuation\n",
    "\n",
    "import sklearn\n",
    "from sklearn.feature_extraction.text import TfidfVectorizer\n",
    "from sklearn.metrics.pairwise import cosine_similarity\n",
    "\n",
    "from rank_bm25 import BM25Okapi"
   ]
  },
  {
   "cell_type": "code",
   "execution_count": 114,
   "metadata": {
    "ExecuteTime": {
     "end_time": "2024-09-12T19:40:20.490422200Z",
     "start_time": "2024-09-12T19:40:20.222206300Z"
    }
   },
   "outputs": [
    {
     "name": "stderr",
     "output_type": "stream",
     "text": [
      "[nltk_data] Downloading package punkt to\n",
      "[nltk_data]     C:\\Users\\dalil\\AppData\\Roaming\\nltk_data...\n",
      "[nltk_data]   Package punkt is already up-to-date!\n",
      "[nltk_data] Downloading package stopwords to\n",
      "[nltk_data]     C:\\Users\\dalil\\AppData\\Roaming\\nltk_data...\n",
      "[nltk_data]   Package stopwords is already up-to-date!\n"
     ]
    }
   ],
   "source": [
    "nltk.download('punkt')\n",
    "nltk.download('stopwords')\n",
    "stop_words = stopwords.words('english')"
   ]
  },
  {
   "cell_type": "markdown",
   "metadata": {},
   "source": [
    "### 1. Traitement des données (15 points)\n",
    "Vous allez effectuer une analyse afin d'avoir une idée claire des données que vous aurez à manipuler."
   ]
  },
  {
   "cell_type": "markdown",
   "metadata": {},
   "source": [
    "#### 1.1 Chargement des données (2 points)"
   ]
  },
  {
   "cell_type": "markdown",
   "metadata": {},
   "source": [
    "##### 1.1.1 Chargement et affichage des données (1 point)\n",
    "\n",
    "Chargez les données '_claims.jsonl_' et '_corpus.jsonl_' puis affichez-les dans des dataframes en utilisant panda."
   ]
  },
  {
   "cell_type": "code",
   "execution_count": 115,
   "metadata": {
    "ExecuteTime": {
     "end_time": "2024-09-12T19:40:20.606500500Z",
     "start_time": "2024-09-12T19:40:20.434037700Z"
    }
   },
   "outputs": [
    {
     "data": {
      "text/plain": "       id                                              claim  \\\n0       0  0-dimensional biomaterials lack inductive prop...   \n1       2  1 in 5 million in UK have abnormal PrP positiv...   \n2       4  1-1% of colorectal cancer patients are diagnos...   \n3       6  10% of sudden infant death syndrome (SIDS) dea...   \n4       9  32% of liver transplantation programs required...   \n..    ...                                                ...   \n804  1403  siRNA knockdown of A20 accelerates tumor progr...   \n805  1404  siRNA knockdown of A20 slows tumor progression...   \n806  1405  taa1 tar1 tar2 triple mutants in Arabidopsis d...   \n807  1406  β-sheet opening occurs during pleurotolysin po...   \n808  1407             β1/Ketel is able to bind microtubules.   \n\n                                              evidence        cited_doc_ids  \n0                                                   {}           [31715818]  \n1    {'13734012': [{'sentences': [4], 'label': 'CON...           [13734012]  \n2                                                   {}           [22942787]  \n3                                                   {}            [2613775]  \n4    {'44265107': [{'sentences': [15], 'label': 'SU...           [44265107]  \n..                                                 ...                  ...  \n804  {'33370': [{'sentences': [6], 'label': 'CONTRA...    [33370, 38355793]  \n805  {'33370': [{'sentences': [6], 'label': 'SUPPOR...    [33370, 38355793]  \n806                                                 {}           [10504681]  \n807  {'2617858': [{'sentences': [4], 'label': 'SUPP...            [2617858]  \n808                                                 {}  [8087082, 29863668]  \n\n[809 rows x 4 columns]",
      "text/html": "<div>\n<style scoped>\n    .dataframe tbody tr th:only-of-type {\n        vertical-align: middle;\n    }\n\n    .dataframe tbody tr th {\n        vertical-align: top;\n    }\n\n    .dataframe thead th {\n        text-align: right;\n    }\n</style>\n<table border=\"1\" class=\"dataframe\">\n  <thead>\n    <tr style=\"text-align: right;\">\n      <th></th>\n      <th>id</th>\n      <th>claim</th>\n      <th>evidence</th>\n      <th>cited_doc_ids</th>\n    </tr>\n  </thead>\n  <tbody>\n    <tr>\n      <th>0</th>\n      <td>0</td>\n      <td>0-dimensional biomaterials lack inductive prop...</td>\n      <td>{}</td>\n      <td>[31715818]</td>\n    </tr>\n    <tr>\n      <th>1</th>\n      <td>2</td>\n      <td>1 in 5 million in UK have abnormal PrP positiv...</td>\n      <td>{'13734012': [{'sentences': [4], 'label': 'CON...</td>\n      <td>[13734012]</td>\n    </tr>\n    <tr>\n      <th>2</th>\n      <td>4</td>\n      <td>1-1% of colorectal cancer patients are diagnos...</td>\n      <td>{}</td>\n      <td>[22942787]</td>\n    </tr>\n    <tr>\n      <th>3</th>\n      <td>6</td>\n      <td>10% of sudden infant death syndrome (SIDS) dea...</td>\n      <td>{}</td>\n      <td>[2613775]</td>\n    </tr>\n    <tr>\n      <th>4</th>\n      <td>9</td>\n      <td>32% of liver transplantation programs required...</td>\n      <td>{'44265107': [{'sentences': [15], 'label': 'SU...</td>\n      <td>[44265107]</td>\n    </tr>\n    <tr>\n      <th>...</th>\n      <td>...</td>\n      <td>...</td>\n      <td>...</td>\n      <td>...</td>\n    </tr>\n    <tr>\n      <th>804</th>\n      <td>1403</td>\n      <td>siRNA knockdown of A20 accelerates tumor progr...</td>\n      <td>{'33370': [{'sentences': [6], 'label': 'CONTRA...</td>\n      <td>[33370, 38355793]</td>\n    </tr>\n    <tr>\n      <th>805</th>\n      <td>1404</td>\n      <td>siRNA knockdown of A20 slows tumor progression...</td>\n      <td>{'33370': [{'sentences': [6], 'label': 'SUPPOR...</td>\n      <td>[33370, 38355793]</td>\n    </tr>\n    <tr>\n      <th>806</th>\n      <td>1405</td>\n      <td>taa1 tar1 tar2 triple mutants in Arabidopsis d...</td>\n      <td>{}</td>\n      <td>[10504681]</td>\n    </tr>\n    <tr>\n      <th>807</th>\n      <td>1406</td>\n      <td>β-sheet opening occurs during pleurotolysin po...</td>\n      <td>{'2617858': [{'sentences': [4], 'label': 'SUPP...</td>\n      <td>[2617858]</td>\n    </tr>\n    <tr>\n      <th>808</th>\n      <td>1407</td>\n      <td>β1/Ketel is able to bind microtubules.</td>\n      <td>{}</td>\n      <td>[8087082, 29863668]</td>\n    </tr>\n  </tbody>\n</table>\n<p>809 rows × 4 columns</p>\n</div>"
     },
     "execution_count": 115,
     "metadata": {},
     "output_type": "execute_result"
    }
   ],
   "source": [
    "# TODO\n",
    "df_claims = pd.read_json(PATH+'/claims.jsonl', lines=True)\n",
    "df_corpus = pd.read_json(PATH+'/corpus.jsonl', lines=True)\n",
    "\n",
    "df_claims\n",
    "# END TODO\n"
   ]
  },
  {
   "cell_type": "markdown",
   "metadata": {},
   "source": [
    "##### 1.1.2 Statistique sur les évidences (1 point)\n",
    "\n",
    "Calculez les pourcentages d'apparition de chaque label des évidences dans \"_df_claims_\" (CONTRADICT ou SUPPORT). Pour rappel les évidences sont les extraits pertinents des résumés qui supportent ou contredisent les affirmations. "
   ]
  },
  {
   "cell_type": "code",
   "execution_count": 116,
   "metadata": {
    "ExecuteTime": {
     "end_time": "2024-09-12T19:40:20.635247400Z",
     "start_time": "2024-09-12T19:40:20.616863400Z"
    }
   },
   "outputs": [
    {
     "name": "stdout",
     "output_type": "stream",
     "text": [
      "nb_support 616 nb_contradict 341\n",
      "nb_support_perc 0.6436781609195402 nb_contradict 0.3563218390804598\n"
     ]
    }
   ],
   "source": [
    "# On calcule les pourcentages des labels present dans evidence\n",
    "# TODO\n",
    "\n",
    "\n",
    "nb_contradict = 0  \n",
    "nb_support = 0\n",
    "evidence = df_claims['evidence']\n",
    "for data in evidence : \n",
    "    for value in data.values() : \n",
    "        #print(value)\n",
    "        for sentence in value : \n",
    "            #print(sentence)\n",
    "            if sentence['label'] == 'SUPPORT' : \n",
    "                nb_support += 1 \n",
    "            else : \n",
    "                nb_contradict += 1 \n",
    "                \n",
    "total = nb_support+nb_contradict \n",
    "nb_support_perc = nb_support/total \n",
    "nb_contradict_perc = nb_contradict/total\n",
    "print(f'nb_support {nb_support} nb_contradict {nb_contradict}')\n",
    "print(f'nb_support_perc {nb_support_perc} nb_contradict {nb_contradict_perc}')\n",
    "                \n",
    "    \n",
    "    \n",
    "\n",
    "\n",
    "\n",
    "# END TODO"
   ]
  },
  {
   "cell_type": "markdown",
   "metadata": {},
   "source": [
    "> Réponse attendue:\n",
    "> \n",
    "> CONTRADICT: 35.63%\n",
    "> \n",
    "> SUPPORT: 64.37%"
   ]
  },
  {
   "cell_type": "markdown",
   "metadata": {},
   "source": [
    "#### 1.2 Analyse statistique des données (7 points)\n",
    "\n",
    "Nous allons faire une suite de transformations sur les données pour les rendre plus faciles à manipuler."
   ]
  },
  {
   "cell_type": "markdown",
   "metadata": {},
   "source": [
    "##### 1.2.1 Implémentation de la fonction \"_list_to_string_\" \n",
    "\n",
    "Nous mettons à votre disposition la fonction \"_list_to_string_\" qui transforme une liste de phrases en un texte en les concaténant et enlèvant tous les caractères de nouvelle ligne (`\\n`) pour s'assurer que nous avons un texte complet. "
   ]
  },
  {
   "cell_type": "code",
   "execution_count": 117,
   "metadata": {
    "ExecuteTime": {
     "end_time": "2024-09-12T19:40:20.635247400Z",
     "start_time": "2024-09-12T19:40:20.620161600Z"
    }
   },
   "outputs": [],
   "source": [
    "# On transforme la liste de phrases en un texte\n",
    "def list_to_string(x):\n",
    "    if isinstance(x, list):\n",
    "        return ' '.join(str(i).replace(\"\\n\",\"\").replace(\"  \",\" \") for i in x)  # Enlève les caractère de retour à la ligne et convertit les éléments de la liste en chaînes et les joint\n",
    "    return str(x)"
   ]
  },
  {
   "cell_type": "markdown",
   "metadata": {},
   "source": [
    "##### 1.2.2 Utilisation de la fonction \"_list_to_string_\" \n",
    "\n",
    "Appliquons cette fonction \"_list_to_string_\" aux colonnes \"_title_\" et \"abstract\" du dataframe \"_df_corpus_\"."
   ]
  },
  {
   "cell_type": "code",
   "execution_count": 118,
   "metadata": {
    "ExecuteTime": {
     "end_time": "2024-09-12T19:40:20.806266900Z",
     "start_time": "2024-09-12T19:40:20.634225Z"
    }
   },
   "outputs": [
    {
     "data": {
      "text/plain": "         doc_id                                              title  \\\n0          4983  Microstructural development of human newborn c...   \n1          5836  Induction of myelodysplasia by myeloid-derived...   \n2          7912  BC1 RNA, the transcript from a master gene for...   \n3         18670  The DNA Methylome of Human Peripheral Blood Mo...   \n4         19238  The human myelin basic protein gene is include...   \n...         ...                                                ...   \n5178  195689316  Body-mass index and cause-specific mortality i...   \n5179  195689757  Targeting metabolic remodeling in glioblastoma...   \n5180  196664003  Signaling architectures that transmit unidirec...   \n5181  198133135  Association between pre-diabetes, type 2 diabe...   \n5182  198309074  Adhesion molecules and chemokines: relation to...   \n\n                                               abstract  structured  \n0     Alterations of the architecture of cerebral wh...       False  \n1     Myelodysplastic syndromes (MDS) are age-depend...       False  \n2     ID elements are short interspersed elements (S...       False  \n3     DNA methylation plays an important role in bio...       False  \n4     Two human Golli (for gene expressed in the oli...       False  \n...                                                 ...         ...  \n5178  BACKGROUND The main associations of body-mass ...        True  \n5179  A key aberrant biological difference between t...       False  \n5180  A signaling pathway transmits information from...       False  \n5181  AIMS Trabecular bone score (TBS) is a surrogat...        True  \n5182  Introduction: Among the inflammatory mediators...       False  \n\n[5183 rows x 4 columns]",
      "text/html": "<div>\n<style scoped>\n    .dataframe tbody tr th:only-of-type {\n        vertical-align: middle;\n    }\n\n    .dataframe tbody tr th {\n        vertical-align: top;\n    }\n\n    .dataframe thead th {\n        text-align: right;\n    }\n</style>\n<table border=\"1\" class=\"dataframe\">\n  <thead>\n    <tr style=\"text-align: right;\">\n      <th></th>\n      <th>doc_id</th>\n      <th>title</th>\n      <th>abstract</th>\n      <th>structured</th>\n    </tr>\n  </thead>\n  <tbody>\n    <tr>\n      <th>0</th>\n      <td>4983</td>\n      <td>Microstructural development of human newborn c...</td>\n      <td>Alterations of the architecture of cerebral wh...</td>\n      <td>False</td>\n    </tr>\n    <tr>\n      <th>1</th>\n      <td>5836</td>\n      <td>Induction of myelodysplasia by myeloid-derived...</td>\n      <td>Myelodysplastic syndromes (MDS) are age-depend...</td>\n      <td>False</td>\n    </tr>\n    <tr>\n      <th>2</th>\n      <td>7912</td>\n      <td>BC1 RNA, the transcript from a master gene for...</td>\n      <td>ID elements are short interspersed elements (S...</td>\n      <td>False</td>\n    </tr>\n    <tr>\n      <th>3</th>\n      <td>18670</td>\n      <td>The DNA Methylome of Human Peripheral Blood Mo...</td>\n      <td>DNA methylation plays an important role in bio...</td>\n      <td>False</td>\n    </tr>\n    <tr>\n      <th>4</th>\n      <td>19238</td>\n      <td>The human myelin basic protein gene is include...</td>\n      <td>Two human Golli (for gene expressed in the oli...</td>\n      <td>False</td>\n    </tr>\n    <tr>\n      <th>...</th>\n      <td>...</td>\n      <td>...</td>\n      <td>...</td>\n      <td>...</td>\n    </tr>\n    <tr>\n      <th>5178</th>\n      <td>195689316</td>\n      <td>Body-mass index and cause-specific mortality i...</td>\n      <td>BACKGROUND The main associations of body-mass ...</td>\n      <td>True</td>\n    </tr>\n    <tr>\n      <th>5179</th>\n      <td>195689757</td>\n      <td>Targeting metabolic remodeling in glioblastoma...</td>\n      <td>A key aberrant biological difference between t...</td>\n      <td>False</td>\n    </tr>\n    <tr>\n      <th>5180</th>\n      <td>196664003</td>\n      <td>Signaling architectures that transmit unidirec...</td>\n      <td>A signaling pathway transmits information from...</td>\n      <td>False</td>\n    </tr>\n    <tr>\n      <th>5181</th>\n      <td>198133135</td>\n      <td>Association between pre-diabetes, type 2 diabe...</td>\n      <td>AIMS Trabecular bone score (TBS) is a surrogat...</td>\n      <td>True</td>\n    </tr>\n    <tr>\n      <th>5182</th>\n      <td>198309074</td>\n      <td>Adhesion molecules and chemokines: relation to...</td>\n      <td>Introduction: Among the inflammatory mediators...</td>\n      <td>False</td>\n    </tr>\n  </tbody>\n</table>\n<p>5183 rows × 4 columns</p>\n</div>"
     },
     "execution_count": 118,
     "metadata": {},
     "output_type": "execute_result"
    }
   ],
   "source": [
    "# On applique la fonction aux colonnes \"title\" et \"abstract\"\n",
    "df_corpus['title']    = df_corpus['title'].apply(list_to_string)\n",
    "df_corpus['abstract'] = df_corpus['abstract'].apply(list_to_string)\n",
    "df_corpus"
   ]
  },
  {
   "cell_type": "markdown",
   "metadata": {},
   "source": [
    "##### 1.2.3 Ajout de la colonne \"_text_\" dans \"df_corpus\"\n",
    "\n",
    "\n",
    "Ajoutons maintenant une colonne \"_text_\" qui est la concaténation du titre (\"_title_\") et du résumé (\"_abstract_\") au niveau du dataframe \"df_corpus\"."
   ]
  },
  {
   "cell_type": "code",
   "execution_count": 119,
   "metadata": {
    "ExecuteTime": {
     "end_time": "2024-09-12T19:40:20.806266900Z",
     "start_time": "2024-09-12T19:40:20.688179600Z"
    }
   },
   "outputs": [
    {
     "data": {
      "text/plain": "         doc_id                                              title  \\\n0          4983  Microstructural development of human newborn c...   \n1          5836  Induction of myelodysplasia by myeloid-derived...   \n2          7912  BC1 RNA, the transcript from a master gene for...   \n3         18670  The DNA Methylome of Human Peripheral Blood Mo...   \n4         19238  The human myelin basic protein gene is include...   \n...         ...                                                ...   \n5178  195689316  Body-mass index and cause-specific mortality i...   \n5179  195689757  Targeting metabolic remodeling in glioblastoma...   \n5180  196664003  Signaling architectures that transmit unidirec...   \n5181  198133135  Association between pre-diabetes, type 2 diabe...   \n5182  198309074  Adhesion molecules and chemokines: relation to...   \n\n                                               abstract  structured  \\\n0     Alterations of the architecture of cerebral wh...       False   \n1     Myelodysplastic syndromes (MDS) are age-depend...       False   \n2     ID elements are short interspersed elements (S...       False   \n3     DNA methylation plays an important role in bio...       False   \n4     Two human Golli (for gene expressed in the oli...       False   \n...                                                 ...         ...   \n5178  BACKGROUND The main associations of body-mass ...        True   \n5179  A key aberrant biological difference between t...       False   \n5180  A signaling pathway transmits information from...       False   \n5181  AIMS Trabecular bone score (TBS) is a surrogat...        True   \n5182  Introduction: Among the inflammatory mediators...       False   \n\n                                                   text  \n0     Microstructural development of human newborn c...  \n1     Induction of myelodysplasia by myeloid-derived...  \n2     BC1 RNA, the transcript from a master gene for...  \n3     The DNA Methylome of Human Peripheral Blood Mo...  \n4     The human myelin basic protein gene is include...  \n...                                                 ...  \n5178  Body-mass index and cause-specific mortality i...  \n5179  Targeting metabolic remodeling in glioblastoma...  \n5180  Signaling architectures that transmit unidirec...  \n5181  Association between pre-diabetes, type 2 diabe...  \n5182  Adhesion molecules and chemokines: relation to...  \n\n[5183 rows x 5 columns]",
      "text/html": "<div>\n<style scoped>\n    .dataframe tbody tr th:only-of-type {\n        vertical-align: middle;\n    }\n\n    .dataframe tbody tr th {\n        vertical-align: top;\n    }\n\n    .dataframe thead th {\n        text-align: right;\n    }\n</style>\n<table border=\"1\" class=\"dataframe\">\n  <thead>\n    <tr style=\"text-align: right;\">\n      <th></th>\n      <th>doc_id</th>\n      <th>title</th>\n      <th>abstract</th>\n      <th>structured</th>\n      <th>text</th>\n    </tr>\n  </thead>\n  <tbody>\n    <tr>\n      <th>0</th>\n      <td>4983</td>\n      <td>Microstructural development of human newborn c...</td>\n      <td>Alterations of the architecture of cerebral wh...</td>\n      <td>False</td>\n      <td>Microstructural development of human newborn c...</td>\n    </tr>\n    <tr>\n      <th>1</th>\n      <td>5836</td>\n      <td>Induction of myelodysplasia by myeloid-derived...</td>\n      <td>Myelodysplastic syndromes (MDS) are age-depend...</td>\n      <td>False</td>\n      <td>Induction of myelodysplasia by myeloid-derived...</td>\n    </tr>\n    <tr>\n      <th>2</th>\n      <td>7912</td>\n      <td>BC1 RNA, the transcript from a master gene for...</td>\n      <td>ID elements are short interspersed elements (S...</td>\n      <td>False</td>\n      <td>BC1 RNA, the transcript from a master gene for...</td>\n    </tr>\n    <tr>\n      <th>3</th>\n      <td>18670</td>\n      <td>The DNA Methylome of Human Peripheral Blood Mo...</td>\n      <td>DNA methylation plays an important role in bio...</td>\n      <td>False</td>\n      <td>The DNA Methylome of Human Peripheral Blood Mo...</td>\n    </tr>\n    <tr>\n      <th>4</th>\n      <td>19238</td>\n      <td>The human myelin basic protein gene is include...</td>\n      <td>Two human Golli (for gene expressed in the oli...</td>\n      <td>False</td>\n      <td>The human myelin basic protein gene is include...</td>\n    </tr>\n    <tr>\n      <th>...</th>\n      <td>...</td>\n      <td>...</td>\n      <td>...</td>\n      <td>...</td>\n      <td>...</td>\n    </tr>\n    <tr>\n      <th>5178</th>\n      <td>195689316</td>\n      <td>Body-mass index and cause-specific mortality i...</td>\n      <td>BACKGROUND The main associations of body-mass ...</td>\n      <td>True</td>\n      <td>Body-mass index and cause-specific mortality i...</td>\n    </tr>\n    <tr>\n      <th>5179</th>\n      <td>195689757</td>\n      <td>Targeting metabolic remodeling in glioblastoma...</td>\n      <td>A key aberrant biological difference between t...</td>\n      <td>False</td>\n      <td>Targeting metabolic remodeling in glioblastoma...</td>\n    </tr>\n    <tr>\n      <th>5180</th>\n      <td>196664003</td>\n      <td>Signaling architectures that transmit unidirec...</td>\n      <td>A signaling pathway transmits information from...</td>\n      <td>False</td>\n      <td>Signaling architectures that transmit unidirec...</td>\n    </tr>\n    <tr>\n      <th>5181</th>\n      <td>198133135</td>\n      <td>Association between pre-diabetes, type 2 diabe...</td>\n      <td>AIMS Trabecular bone score (TBS) is a surrogat...</td>\n      <td>True</td>\n      <td>Association between pre-diabetes, type 2 diabe...</td>\n    </tr>\n    <tr>\n      <th>5182</th>\n      <td>198309074</td>\n      <td>Adhesion molecules and chemokines: relation to...</td>\n      <td>Introduction: Among the inflammatory mediators...</td>\n      <td>False</td>\n      <td>Adhesion molecules and chemokines: relation to...</td>\n    </tr>\n  </tbody>\n</table>\n<p>5183 rows × 5 columns</p>\n</div>"
     },
     "execution_count": 119,
     "metadata": {},
     "output_type": "execute_result"
    }
   ],
   "source": [
    "# On concatene les textes dans \"title\" et \"abstract\"\n",
    "df_corpus['text'] = df_corpus['title'] + \" \" + df_corpus['abstract']\n",
    "df_corpus"
   ]
  },
  {
   "cell_type": "code",
   "execution_count": 120,
   "outputs": [
    {
     "data": {
      "text/plain": "       id                                              claim  \\\n0       0  0-dimensional biomaterials lack inductive prop...   \n1       2  1 in 5 million in UK have abnormal PrP positiv...   \n2       4  1-1% of colorectal cancer patients are diagnos...   \n3       6  10% of sudden infant death syndrome (SIDS) dea...   \n4       9  32% of liver transplantation programs required...   \n..    ...                                                ...   \n804  1403  siRNA knockdown of A20 accelerates tumor progr...   \n805  1404  siRNA knockdown of A20 slows tumor progression...   \n806  1405  taa1 tar1 tar2 triple mutants in Arabidopsis d...   \n807  1406  β-sheet opening occurs during pleurotolysin po...   \n808  1407             β1/Ketel is able to bind microtubules.   \n\n                                              evidence        cited_doc_ids  \n0                                                   {}           [31715818]  \n1    {'13734012': [{'sentences': [4], 'label': 'CON...           [13734012]  \n2                                                   {}           [22942787]  \n3                                                   {}            [2613775]  \n4    {'44265107': [{'sentences': [15], 'label': 'SU...           [44265107]  \n..                                                 ...                  ...  \n804  {'33370': [{'sentences': [6], 'label': 'CONTRA...    [33370, 38355793]  \n805  {'33370': [{'sentences': [6], 'label': 'SUPPOR...    [33370, 38355793]  \n806                                                 {}           [10504681]  \n807  {'2617858': [{'sentences': [4], 'label': 'SUPP...            [2617858]  \n808                                                 {}  [8087082, 29863668]  \n\n[809 rows x 4 columns]",
      "text/html": "<div>\n<style scoped>\n    .dataframe tbody tr th:only-of-type {\n        vertical-align: middle;\n    }\n\n    .dataframe tbody tr th {\n        vertical-align: top;\n    }\n\n    .dataframe thead th {\n        text-align: right;\n    }\n</style>\n<table border=\"1\" class=\"dataframe\">\n  <thead>\n    <tr style=\"text-align: right;\">\n      <th></th>\n      <th>id</th>\n      <th>claim</th>\n      <th>evidence</th>\n      <th>cited_doc_ids</th>\n    </tr>\n  </thead>\n  <tbody>\n    <tr>\n      <th>0</th>\n      <td>0</td>\n      <td>0-dimensional biomaterials lack inductive prop...</td>\n      <td>{}</td>\n      <td>[31715818]</td>\n    </tr>\n    <tr>\n      <th>1</th>\n      <td>2</td>\n      <td>1 in 5 million in UK have abnormal PrP positiv...</td>\n      <td>{'13734012': [{'sentences': [4], 'label': 'CON...</td>\n      <td>[13734012]</td>\n    </tr>\n    <tr>\n      <th>2</th>\n      <td>4</td>\n      <td>1-1% of colorectal cancer patients are diagnos...</td>\n      <td>{}</td>\n      <td>[22942787]</td>\n    </tr>\n    <tr>\n      <th>3</th>\n      <td>6</td>\n      <td>10% of sudden infant death syndrome (SIDS) dea...</td>\n      <td>{}</td>\n      <td>[2613775]</td>\n    </tr>\n    <tr>\n      <th>4</th>\n      <td>9</td>\n      <td>32% of liver transplantation programs required...</td>\n      <td>{'44265107': [{'sentences': [15], 'label': 'SU...</td>\n      <td>[44265107]</td>\n    </tr>\n    <tr>\n      <th>...</th>\n      <td>...</td>\n      <td>...</td>\n      <td>...</td>\n      <td>...</td>\n    </tr>\n    <tr>\n      <th>804</th>\n      <td>1403</td>\n      <td>siRNA knockdown of A20 accelerates tumor progr...</td>\n      <td>{'33370': [{'sentences': [6], 'label': 'CONTRA...</td>\n      <td>[33370, 38355793]</td>\n    </tr>\n    <tr>\n      <th>805</th>\n      <td>1404</td>\n      <td>siRNA knockdown of A20 slows tumor progression...</td>\n      <td>{'33370': [{'sentences': [6], 'label': 'SUPPOR...</td>\n      <td>[33370, 38355793]</td>\n    </tr>\n    <tr>\n      <th>806</th>\n      <td>1405</td>\n      <td>taa1 tar1 tar2 triple mutants in Arabidopsis d...</td>\n      <td>{}</td>\n      <td>[10504681]</td>\n    </tr>\n    <tr>\n      <th>807</th>\n      <td>1406</td>\n      <td>β-sheet opening occurs during pleurotolysin po...</td>\n      <td>{'2617858': [{'sentences': [4], 'label': 'SUPP...</td>\n      <td>[2617858]</td>\n    </tr>\n    <tr>\n      <th>808</th>\n      <td>1407</td>\n      <td>β1/Ketel is able to bind microtubules.</td>\n      <td>{}</td>\n      <td>[8087082, 29863668]</td>\n    </tr>\n  </tbody>\n</table>\n<p>809 rows × 4 columns</p>\n</div>"
     },
     "execution_count": 120,
     "metadata": {},
     "output_type": "execute_result"
    }
   ],
   "source": [
    "df_claims"
   ],
   "metadata": {
    "collapsed": false,
    "ExecuteTime": {
     "end_time": "2024-09-12T19:40:20.806266900Z",
     "start_time": "2024-09-12T19:40:20.727566100Z"
    }
   }
  },
  {
   "cell_type": "markdown",
   "metadata": {},
   "source": [
    "##### 1.2.4 Ajout de colonnes dans \"_df_claims_\" (1 point)\n",
    "\n",
    "Ajoutez les colonnes \"_claim_length_\" et \"_num_cited_doc_\" qui donnent, pour chaque affirmation, le nombre de mots dans la colonne \"_claim_\" et le nombre de documents cités au niveau de la colonne \"_cited_doc_ids_\" pour le dataframe \"_df_claims_\". Vous pouvez considérer que des mots sont simplement une séquence de caractères séparés par un espace."
   ]
  },
  {
   "cell_type": "code",
   "execution_count": 121,
   "metadata": {
    "ExecuteTime": {
     "end_time": "2024-09-12T19:40:20.869002500Z",
     "start_time": "2024-09-12T19:40:20.735321100Z"
    }
   },
   "outputs": [
    {
     "data": {
      "text/plain": "       id                                              claim  \\\n0       0  0-dimensional biomaterials lack inductive prop...   \n1       2  1 in 5 million in UK have abnormal PrP positiv...   \n2       4  1-1% of colorectal cancer patients are diagnos...   \n3       6  10% of sudden infant death syndrome (SIDS) dea...   \n4       9  32% of liver transplantation programs required...   \n..    ...                                                ...   \n804  1403  siRNA knockdown of A20 accelerates tumor progr...   \n805  1404  siRNA knockdown of A20 slows tumor progression...   \n806  1405  taa1 tar1 tar2 triple mutants in Arabidopsis d...   \n807  1406  β-sheet opening occurs during pleurotolysin po...   \n808  1407             β1/Ketel is able to bind microtubules.   \n\n                                              evidence        cited_doc_ids  \\\n0                                                   {}           [31715818]   \n1    {'13734012': [{'sentences': [4], 'label': 'CON...           [13734012]   \n2                                                   {}           [22942787]   \n3                                                   {}            [2613775]   \n4    {'44265107': [{'sentences': [15], 'label': 'SU...           [44265107]   \n..                                                 ...                  ...   \n804  {'33370': [{'sentences': [6], 'label': 'CONTRA...    [33370, 38355793]   \n805  {'33370': [{'sentences': [6], 'label': 'SUPPOR...    [33370, 38355793]   \n806                                                 {}           [10504681]   \n807  {'2617858': [{'sentences': [4], 'label': 'SUPP...            [2617858]   \n808                                                 {}  [8087082, 29863668]   \n\n     claim_length  num_cited_doc  \n0               5              1  \n1              10              1  \n2              12              1  \n3              16              1  \n4              13              1  \n..            ...            ...  \n804            14              2  \n805            14              2  \n806            14              1  \n807             7              1  \n808             6              2  \n\n[809 rows x 6 columns]",
      "text/html": "<div>\n<style scoped>\n    .dataframe tbody tr th:only-of-type {\n        vertical-align: middle;\n    }\n\n    .dataframe tbody tr th {\n        vertical-align: top;\n    }\n\n    .dataframe thead th {\n        text-align: right;\n    }\n</style>\n<table border=\"1\" class=\"dataframe\">\n  <thead>\n    <tr style=\"text-align: right;\">\n      <th></th>\n      <th>id</th>\n      <th>claim</th>\n      <th>evidence</th>\n      <th>cited_doc_ids</th>\n      <th>claim_length</th>\n      <th>num_cited_doc</th>\n    </tr>\n  </thead>\n  <tbody>\n    <tr>\n      <th>0</th>\n      <td>0</td>\n      <td>0-dimensional biomaterials lack inductive prop...</td>\n      <td>{}</td>\n      <td>[31715818]</td>\n      <td>5</td>\n      <td>1</td>\n    </tr>\n    <tr>\n      <th>1</th>\n      <td>2</td>\n      <td>1 in 5 million in UK have abnormal PrP positiv...</td>\n      <td>{'13734012': [{'sentences': [4], 'label': 'CON...</td>\n      <td>[13734012]</td>\n      <td>10</td>\n      <td>1</td>\n    </tr>\n    <tr>\n      <th>2</th>\n      <td>4</td>\n      <td>1-1% of colorectal cancer patients are diagnos...</td>\n      <td>{}</td>\n      <td>[22942787]</td>\n      <td>12</td>\n      <td>1</td>\n    </tr>\n    <tr>\n      <th>3</th>\n      <td>6</td>\n      <td>10% of sudden infant death syndrome (SIDS) dea...</td>\n      <td>{}</td>\n      <td>[2613775]</td>\n      <td>16</td>\n      <td>1</td>\n    </tr>\n    <tr>\n      <th>4</th>\n      <td>9</td>\n      <td>32% of liver transplantation programs required...</td>\n      <td>{'44265107': [{'sentences': [15], 'label': 'SU...</td>\n      <td>[44265107]</td>\n      <td>13</td>\n      <td>1</td>\n    </tr>\n    <tr>\n      <th>...</th>\n      <td>...</td>\n      <td>...</td>\n      <td>...</td>\n      <td>...</td>\n      <td>...</td>\n      <td>...</td>\n    </tr>\n    <tr>\n      <th>804</th>\n      <td>1403</td>\n      <td>siRNA knockdown of A20 accelerates tumor progr...</td>\n      <td>{'33370': [{'sentences': [6], 'label': 'CONTRA...</td>\n      <td>[33370, 38355793]</td>\n      <td>14</td>\n      <td>2</td>\n    </tr>\n    <tr>\n      <th>805</th>\n      <td>1404</td>\n      <td>siRNA knockdown of A20 slows tumor progression...</td>\n      <td>{'33370': [{'sentences': [6], 'label': 'SUPPOR...</td>\n      <td>[33370, 38355793]</td>\n      <td>14</td>\n      <td>2</td>\n    </tr>\n    <tr>\n      <th>806</th>\n      <td>1405</td>\n      <td>taa1 tar1 tar2 triple mutants in Arabidopsis d...</td>\n      <td>{}</td>\n      <td>[10504681]</td>\n      <td>14</td>\n      <td>1</td>\n    </tr>\n    <tr>\n      <th>807</th>\n      <td>1406</td>\n      <td>β-sheet opening occurs during pleurotolysin po...</td>\n      <td>{'2617858': [{'sentences': [4], 'label': 'SUPP...</td>\n      <td>[2617858]</td>\n      <td>7</td>\n      <td>1</td>\n    </tr>\n    <tr>\n      <th>808</th>\n      <td>1407</td>\n      <td>β1/Ketel is able to bind microtubules.</td>\n      <td>{}</td>\n      <td>[8087082, 29863668]</td>\n      <td>6</td>\n      <td>2</td>\n    </tr>\n  </tbody>\n</table>\n<p>809 rows × 6 columns</p>\n</div>"
     },
     "execution_count": 121,
     "metadata": {},
     "output_type": "execute_result"
    }
   ],
   "source": [
    "# TODO\n",
    "df_claims['claim_length'] = df_claims['claim'].apply(lambda x: len(str(x).split()))\n",
    "df_claims['num_cited_doc'] = df_claims['cited_doc_ids'].apply(lambda x: len(x))\n",
    "df_claims\n",
    "# END TODO"
   ]
  },
  {
   "cell_type": "code",
   "execution_count": 122,
   "outputs": [
    {
     "data": {
      "text/plain": "         doc_id                                              title  \\\n0          4983  Microstructural development of human newborn c...   \n1          5836  Induction of myelodysplasia by myeloid-derived...   \n2          7912  BC1 RNA, the transcript from a master gene for...   \n3         18670  The DNA Methylome of Human Peripheral Blood Mo...   \n4         19238  The human myelin basic protein gene is include...   \n...         ...                                                ...   \n5178  195689316  Body-mass index and cause-specific mortality i...   \n5179  195689757  Targeting metabolic remodeling in glioblastoma...   \n5180  196664003  Signaling architectures that transmit unidirec...   \n5181  198133135  Association between pre-diabetes, type 2 diabe...   \n5182  198309074  Adhesion molecules and chemokines: relation to...   \n\n                                               abstract  structured  \\\n0     Alterations of the architecture of cerebral wh...       False   \n1     Myelodysplastic syndromes (MDS) are age-depend...       False   \n2     ID elements are short interspersed elements (S...       False   \n3     DNA methylation plays an important role in bio...       False   \n4     Two human Golli (for gene expressed in the oli...       False   \n...                                                 ...         ...   \n5178  BACKGROUND The main associations of body-mass ...        True   \n5179  A key aberrant biological difference between t...       False   \n5180  A signaling pathway transmits information from...       False   \n5181  AIMS Trabecular bone score (TBS) is a surrogat...        True   \n5182  Introduction: Among the inflammatory mediators...       False   \n\n                                                   text  \n0     Microstructural development of human newborn c...  \n1     Induction of myelodysplasia by myeloid-derived...  \n2     BC1 RNA, the transcript from a master gene for...  \n3     The DNA Methylome of Human Peripheral Blood Mo...  \n4     The human myelin basic protein gene is include...  \n...                                                 ...  \n5178  Body-mass index and cause-specific mortality i...  \n5179  Targeting metabolic remodeling in glioblastoma...  \n5180  Signaling architectures that transmit unidirec...  \n5181  Association between pre-diabetes, type 2 diabe...  \n5182  Adhesion molecules and chemokines: relation to...  \n\n[5183 rows x 5 columns]",
      "text/html": "<div>\n<style scoped>\n    .dataframe tbody tr th:only-of-type {\n        vertical-align: middle;\n    }\n\n    .dataframe tbody tr th {\n        vertical-align: top;\n    }\n\n    .dataframe thead th {\n        text-align: right;\n    }\n</style>\n<table border=\"1\" class=\"dataframe\">\n  <thead>\n    <tr style=\"text-align: right;\">\n      <th></th>\n      <th>doc_id</th>\n      <th>title</th>\n      <th>abstract</th>\n      <th>structured</th>\n      <th>text</th>\n    </tr>\n  </thead>\n  <tbody>\n    <tr>\n      <th>0</th>\n      <td>4983</td>\n      <td>Microstructural development of human newborn c...</td>\n      <td>Alterations of the architecture of cerebral wh...</td>\n      <td>False</td>\n      <td>Microstructural development of human newborn c...</td>\n    </tr>\n    <tr>\n      <th>1</th>\n      <td>5836</td>\n      <td>Induction of myelodysplasia by myeloid-derived...</td>\n      <td>Myelodysplastic syndromes (MDS) are age-depend...</td>\n      <td>False</td>\n      <td>Induction of myelodysplasia by myeloid-derived...</td>\n    </tr>\n    <tr>\n      <th>2</th>\n      <td>7912</td>\n      <td>BC1 RNA, the transcript from a master gene for...</td>\n      <td>ID elements are short interspersed elements (S...</td>\n      <td>False</td>\n      <td>BC1 RNA, the transcript from a master gene for...</td>\n    </tr>\n    <tr>\n      <th>3</th>\n      <td>18670</td>\n      <td>The DNA Methylome of Human Peripheral Blood Mo...</td>\n      <td>DNA methylation plays an important role in bio...</td>\n      <td>False</td>\n      <td>The DNA Methylome of Human Peripheral Blood Mo...</td>\n    </tr>\n    <tr>\n      <th>4</th>\n      <td>19238</td>\n      <td>The human myelin basic protein gene is include...</td>\n      <td>Two human Golli (for gene expressed in the oli...</td>\n      <td>False</td>\n      <td>The human myelin basic protein gene is include...</td>\n    </tr>\n    <tr>\n      <th>...</th>\n      <td>...</td>\n      <td>...</td>\n      <td>...</td>\n      <td>...</td>\n      <td>...</td>\n    </tr>\n    <tr>\n      <th>5178</th>\n      <td>195689316</td>\n      <td>Body-mass index and cause-specific mortality i...</td>\n      <td>BACKGROUND The main associations of body-mass ...</td>\n      <td>True</td>\n      <td>Body-mass index and cause-specific mortality i...</td>\n    </tr>\n    <tr>\n      <th>5179</th>\n      <td>195689757</td>\n      <td>Targeting metabolic remodeling in glioblastoma...</td>\n      <td>A key aberrant biological difference between t...</td>\n      <td>False</td>\n      <td>Targeting metabolic remodeling in glioblastoma...</td>\n    </tr>\n    <tr>\n      <th>5180</th>\n      <td>196664003</td>\n      <td>Signaling architectures that transmit unidirec...</td>\n      <td>A signaling pathway transmits information from...</td>\n      <td>False</td>\n      <td>Signaling architectures that transmit unidirec...</td>\n    </tr>\n    <tr>\n      <th>5181</th>\n      <td>198133135</td>\n      <td>Association between pre-diabetes, type 2 diabe...</td>\n      <td>AIMS Trabecular bone score (TBS) is a surrogat...</td>\n      <td>True</td>\n      <td>Association between pre-diabetes, type 2 diabe...</td>\n    </tr>\n    <tr>\n      <th>5182</th>\n      <td>198309074</td>\n      <td>Adhesion molecules and chemokines: relation to...</td>\n      <td>Introduction: Among the inflammatory mediators...</td>\n      <td>False</td>\n      <td>Adhesion molecules and chemokines: relation to...</td>\n    </tr>\n  </tbody>\n</table>\n<p>5183 rows × 5 columns</p>\n</div>"
     },
     "execution_count": 122,
     "metadata": {},
     "output_type": "execute_result"
    }
   ],
   "source": [
    "df_corpus"
   ],
   "metadata": {
    "collapsed": false,
    "ExecuteTime": {
     "end_time": "2024-09-12T19:40:20.869002500Z",
     "start_time": "2024-09-12T19:40:20.761656300Z"
    }
   }
  },
  {
   "cell_type": "markdown",
   "metadata": {},
   "source": [
    "##### 1.2.5 Ajout des colonnes de mesures de longeurs de textes (documents) (1 point)\n",
    "\n",
    "Ajoutez les colonnes \"_title_length_\", \"_abstract_length_\" et \"_text_length_\" qui donnent le nombre de mots dans les colonnes \"_title_\", \"_abstract_\" et \"_text_\" du dataframe \"_df_corpus_\". Pour le reste du TP, nous définirons la longueur du \"_title_\", \"_abstract_\" et du \"_text_\" comme étant le nombre de mots dans les chaînes de caractères respectives. Encore une fois, vous pouvez considérer que des mots sont simplement une séquence de caractères séparés par un espace."
   ]
  },
  {
   "cell_type": "code",
   "execution_count": 123,
   "metadata": {
    "ExecuteTime": {
     "end_time": "2024-09-12T19:40:21.247987400Z",
     "start_time": "2024-09-12T19:40:20.837741400Z"
    }
   },
   "outputs": [
    {
     "data": {
      "text/plain": "str"
     },
     "execution_count": 123,
     "metadata": {},
     "output_type": "execute_result"
    }
   ],
   "source": [
    "# TODO\n",
    "df_corpus['title_length'] = df_corpus['title'].apply(lambda x: len(str(x).split()))\n",
    "df_corpus['abstract_length'] = df_corpus['abstract'].apply(lambda x: len(str(x).split()))\n",
    "df_corpus['text_length'] = df_corpus['text'].apply(lambda x: len(str(x).split()))\n",
    "type(df_corpus['abstract'][0])\n",
    "#df_corpus\n",
    "\n",
    "# END TODO"
   ]
  },
  {
   "cell_type": "markdown",
   "metadata": {},
   "source": [
    "##### 1.2.6 Analyse statistique (1.5 point)\n",
    "\n",
    "Faites l'analyse statistique des données en affichant le \"_min_\", le \"_max_\" et la \"_moyenne_\" pour les deux colonnes \"_claim_length_\" et \"_num_cited_doc_\" que vous venez de créer."
   ]
  },
  {
   "cell_type": "code",
   "execution_count": 124,
   "metadata": {
    "ExecuteTime": {
     "end_time": "2024-09-12T19:40:21.247987400Z",
     "start_time": "2024-09-12T19:40:20.947299Z"
    }
   },
   "outputs": [
    {
     "name": "stdout",
     "output_type": "stream",
     "text": [
      "min [3, 1] \n",
      " max [39, 5] \n",
      " mean [12.332509270704573, 1.1359703337453646]\n"
     ]
    }
   ],
   "source": [
    "# TODO\n",
    "min = [df_claims['claim_length'].min() , df_claims['num_cited_doc'].min()]\n",
    "max = [df_claims['claim_length'].max() , df_claims['num_cited_doc'].max()]\n",
    "mean =   [df_claims['claim_length'].mean() , df_claims['num_cited_doc'].mean()]\n",
    "print(f'min {min} \\n max {max} \\n mean {mean}')\n",
    "\n",
    "# END TODO"
   ]
  },
  {
   "cell_type": "markdown",
   "metadata": {},
   "source": [
    "##### 1.2.7 Histogrammes (2 points)\n",
    "\n",
    "En considérant le dataframe du corpus de résumés (\"_df_corpus_\"), affichez dans 3 histogrammes les distributions suivantes:\n",
    "\n",
    "- Fréquence des titres ('_title_') en fonction de leur longueur\n",
    "- Fréquence des résumés ('_abstract_') en fonction de leur longueur\n",
    "- Fréquence des textes ('_text_') en fonction de leur longueur\n",
    "\n",
    "Utilisez la valeur de 30 pour le paramètre \"_bins_\""
   ]
  },
  {
   "cell_type": "code",
   "execution_count": 125,
   "metadata": {
    "ExecuteTime": {
     "end_time": "2024-09-12T19:40:21.706384800Z",
     "start_time": "2024-09-12T19:40:20.954893Z"
    }
   },
   "outputs": [
    {
     "data": {
      "text/plain": "Text(0, 0.5, 'Frequency')"
     },
     "execution_count": 125,
     "metadata": {},
     "output_type": "execute_result"
    },
    {
     "data": {
      "text/plain": "<Figure size 1500x500 with 3 Axes>",
      "image/png": "[encoded data removed]"
     },
     "metadata": {},
     "output_type": "display_data"
    }
   ],
   "source": [
    "# TODO\n",
    "plt.figure(figsize=(15, 5))\n",
    "\n",
    "plt.subplot(1, 3, 1)\n",
    "plt.hist(df_corpus['title_length'], bins=30, color='blue', edgecolor='black')\n",
    "plt.title('Title Length Distribution')\n",
    "plt.xlabel('Length')\n",
    "plt.ylabel('Frequency')\n",
    "\n",
    "plt.subplot(1, 3, 2)\n",
    "plt.hist(df_corpus['abstract_length'], bins=30, color='green', edgecolor='black')\n",
    "plt.title('Abstract Length Distribution')\n",
    "plt.xlabel('Length')\n",
    "plt.ylabel('Frequency')\n",
    "\n",
    "plt.subplot(1, 3, 3)\n",
    "plt.hist(df_corpus['text_length'], bins=30, color='red', edgecolor='black')\n",
    "plt.title('Text Length Distribution')\n",
    "plt.xlabel('Length')\n",
    "plt.ylabel('Frequency')\n",
    "\n",
    "# END TODO"
   ]
  },
  {
   "cell_type": "markdown",
   "metadata": {},
   "source": [
    "##### 1.2.8 Quelles remarques faites-vous sur les affirmations (claims) et les documents ? (1.5 points) \n",
    "\n",
    "En observant les maximums, les minimums et les moyennes, que remarquez-vous à propos des affirmations ('_claims_') ? À l'aide des graphiques générés, comparez également les documents."
   ]
  },
  {
   "cell_type": "markdown",
   "source": [
    "Même si le maximum de documents cités est de 5. Nous avons très généralement un document cités comme référence."
   ],
   "metadata": {
    "collapsed": false
   }
  },
  {
   "cell_type": "markdown",
   "metadata": {},
   "source": [
    "#### 1.3 Pré-traitement (6 points)\n",
    "Les affirmations et résumés de texte de votre ensemble de données doivent d’abord être représentés et indexés pour ensuite pouvoir effectuer une recherche de document (pouvant être \"_title_\", \"_abstract_\" ou la fusion des deux représentée par \"_text_\") qui justifie/contredit une affirmation. Vous devez donc implémenter une étape de pré-traitement des données."
   ]
  },
  {
   "cell_type": "markdown",
   "metadata": {},
   "source": [
    "##### 1.3.1 Implémentation de la fonction \"_tokenize_sentence_\" (1 point)\n",
    "\n",
    "Implémentez la fonction \"_tokenize_sentence_\" pour la segmentation d'une phrase en une liste de jetons. Utilisez la librarie `nltk`."
   ]
  },
  {
   "cell_type": "code",
   "execution_count": 126,
   "metadata": {
    "ExecuteTime": {
     "end_time": "2024-09-12T19:40:21.706384800Z",
     "start_time": "2024-09-12T19:40:21.587728300Z"
    }
   },
   "outputs": [
    {
     "data": {
      "text/plain": "['bonou', '.', 'je', 'suis', 'momo']"
     },
     "execution_count": 126,
     "metadata": {},
     "output_type": "execute_result"
    }
   ],
   "source": [
    "# TODO\n",
    "def tokenize_sentence(sentence) : \n",
    "    return word_tokenize(sentence)\n",
    "\n",
    "\n",
    "\n",
    "\n",
    "s = 'bonou . je suis momo'\n",
    "tokenize_sentence(s)\n",
    "\n",
    "\n",
    "\n",
    "\n",
    "# END TODO"
   ]
  },
  {
   "cell_type": "markdown",
   "metadata": {},
   "source": [
    "##### 1.3.2 Implémentation de la fonction \"_tokenize_text_\" (1 point)\n",
    "Implémentez la fonction \"_tokenize_text_\" qui utilise \"_tokenize_sentence_\" pour faire la segmentation d'un texte (liste de phrases)."
   ]
  },
  {
   "cell_type": "code",
   "execution_count": 127,
   "metadata": {
    "ExecuteTime": {
     "end_time": "2024-09-12T19:40:21.706384800Z",
     "start_time": "2024-09-12T19:40:21.596779200Z"
    }
   },
   "outputs": [
    {
     "data": {
      "text/plain": "[['b'],\n ['o'],\n ['n'],\n ['j'],\n ['o'],\n ['u'],\n ['.'],\n [],\n ['j'],\n ['e'],\n [],\n ['s'],\n ['u'],\n ['i'],\n ['s'],\n [],\n ['m'],\n ['o'],\n ['m'],\n ['o']]"
     },
     "execution_count": 127,
     "metadata": {},
     "output_type": "execute_result"
    }
   ],
   "source": [
    "# TODO\n",
    "def tokenize_text(text): \n",
    "    tokens = []\n",
    "    for sentence in text:\n",
    "        # Tokenize each sentence and extend the list of tokens\n",
    "        sentence_tokens = tokenize_sentence(sentence)\n",
    "        tokens.append(sentence_tokens)\n",
    "    return tokens\n",
    "    \n",
    "text  = ['ahhbv if', 'fije jf']\n",
    "c = tokenize_text(text)\n",
    "\n",
    "s = 'bonjou. je suis momo'\n",
    "tokenize_text(s)\n",
    "\n",
    "\n",
    "\n",
    "\n",
    "\n",
    "\n",
    "        \n",
    "    \n",
    "# END TODO"
   ]
  },
  {
   "cell_type": "markdown",
   "metadata": {},
   "source": [
    "##### 1.3.3 Implémentation de la fonction \"_stem_tokens_\" (1 point)\n",
    "\n",
    "Implémentez la fonction \"_stem_tokens_\" qui prend une liste de jetons (tokens) en entrée et retourne une liste contenant leur forme racinisée (stems) en utilisant l'algorithme de racinisation PorterStemmer de la bibliothèque nltk."
   ]
  },
  {
   "cell_type": "code",
   "execution_count": 128,
   "metadata": {
    "ExecuteTime": {
     "end_time": "2024-09-12T19:40:21.706384800Z",
     "start_time": "2024-09-12T19:40:21.612816600Z"
    }
   },
   "outputs": [],
   "source": [
    "# TODO\n",
    "def stem_tokens(tokens) : \n",
    "   \n",
    "    porter = PorterStemmer()\n",
    "    return [porter.stem(token) for token in tokens]\n",
    "# END TODO"
   ]
  },
  {
   "cell_type": "code",
   "execution_count": 129,
   "outputs": [
    {
     "data": {
      "text/plain": "         doc_id                                              title  \\\n0          4983  Microstructural development of human newborn c...   \n1          5836  Induction of myelodysplasia by myeloid-derived...   \n2          7912  BC1 RNA, the transcript from a master gene for...   \n3         18670  The DNA Methylome of Human Peripheral Blood Mo...   \n4         19238  The human myelin basic protein gene is include...   \n...         ...                                                ...   \n5178  195689316  Body-mass index and cause-specific mortality i...   \n5179  195689757  Targeting metabolic remodeling in glioblastoma...   \n5180  196664003  Signaling architectures that transmit unidirec...   \n5181  198133135  Association between pre-diabetes, type 2 diabe...   \n5182  198309074  Adhesion molecules and chemokines: relation to...   \n\n                                               abstract  structured  \\\n0     Alterations of the architecture of cerebral wh...       False   \n1     Myelodysplastic syndromes (MDS) are age-depend...       False   \n2     ID elements are short interspersed elements (S...       False   \n3     DNA methylation plays an important role in bio...       False   \n4     Two human Golli (for gene expressed in the oli...       False   \n...                                                 ...         ...   \n5178  BACKGROUND The main associations of body-mass ...        True   \n5179  A key aberrant biological difference between t...       False   \n5180  A signaling pathway transmits information from...       False   \n5181  AIMS Trabecular bone score (TBS) is a surrogat...        True   \n5182  Introduction: Among the inflammatory mediators...       False   \n\n                                                   text  title_length  \\\n0     Microstructural development of human newborn c...            17   \n1     Induction of myelodysplasia by myeloid-derived...             7   \n2     BC1 RNA, the transcript from a master gene for...            20   \n3     The DNA Methylome of Human Peripheral Blood Mo...             9   \n4     The human myelin basic protein gene is include...            21   \n...                                                 ...           ...   \n5178  Body-mass index and cause-specific mortality i...            15   \n5179  Targeting metabolic remodeling in glioblastoma...             6   \n5180  Signaling architectures that transmit unidirec...             8   \n5181  Association between pre-diabetes, type 2 diabe...            14   \n5182  Adhesion molecules and chemokines: relation to...            13   \n\n      abstract_length  text_length  \n0                 278          295  \n1                 201          208  \n2                 180          200  \n3                 238          247  \n4                 241          262  \n...               ...          ...  \n5178              413          428  \n5179              159          165  \n5180              246          254  \n5181              233          247  \n5182              233          246  \n\n[5183 rows x 8 columns]",
      "text/html": "<div>\n<style scoped>\n    .dataframe tbody tr th:only-of-type {\n        vertical-align: middle;\n    }\n\n    .dataframe tbody tr th {\n        vertical-align: top;\n    }\n\n    .dataframe thead th {\n        text-align: right;\n    }\n</style>\n<table border=\"1\" class=\"dataframe\">\n  <thead>\n    <tr style=\"text-align: right;\">\n      <th></th>\n      <th>doc_id</th>\n      <th>title</th>\n      <th>abstract</th>\n      <th>structured</th>\n      <th>text</th>\n      <th>title_length</th>\n      <th>abstract_length</th>\n      <th>text_length</th>\n    </tr>\n  </thead>\n  <tbody>\n    <tr>\n      <th>0</th>\n      <td>4983</td>\n      <td>Microstructural development of human newborn c...</td>\n      <td>Alterations of the architecture of cerebral wh...</td>\n      <td>False</td>\n      <td>Microstructural development of human newborn c...</td>\n      <td>17</td>\n      <td>278</td>\n      <td>295</td>\n    </tr>\n    <tr>\n      <th>1</th>\n      <td>5836</td>\n      <td>Induction of myelodysplasia by myeloid-derived...</td>\n      <td>Myelodysplastic syndromes (MDS) are age-depend...</td>\n      <td>False</td>\n      <td>Induction of myelodysplasia by myeloid-derived...</td>\n      <td>7</td>\n      <td>201</td>\n      <td>208</td>\n    </tr>\n    <tr>\n      <th>2</th>\n      <td>7912</td>\n      <td>BC1 RNA, the transcript from a master gene for...</td>\n      <td>ID elements are short interspersed elements (S...</td>\n      <td>False</td>\n      <td>BC1 RNA, the transcript from a master gene for...</td>\n      <td>20</td>\n      <td>180</td>\n      <td>200</td>\n    </tr>\n    <tr>\n      <th>3</th>\n      <td>18670</td>\n      <td>The DNA Methylome of Human Peripheral Blood Mo...</td>\n      <td>DNA methylation plays an important role in bio...</td>\n      <td>False</td>\n      <td>The DNA Methylome of Human Peripheral Blood Mo...</td>\n      <td>9</td>\n      <td>238</td>\n      <td>247</td>\n    </tr>\n    <tr>\n      <th>4</th>\n      <td>19238</td>\n      <td>The human myelin basic protein gene is include...</td>\n      <td>Two human Golli (for gene expressed in the oli...</td>\n      <td>False</td>\n      <td>The human myelin basic protein gene is include...</td>\n      <td>21</td>\n      <td>241</td>\n      <td>262</td>\n    </tr>\n    <tr>\n      <th>...</th>\n      <td>...</td>\n      <td>...</td>\n      <td>...</td>\n      <td>...</td>\n      <td>...</td>\n      <td>...</td>\n      <td>...</td>\n      <td>...</td>\n    </tr>\n    <tr>\n      <th>5178</th>\n      <td>195689316</td>\n      <td>Body-mass index and cause-specific mortality i...</td>\n      <td>BACKGROUND The main associations of body-mass ...</td>\n      <td>True</td>\n      <td>Body-mass index and cause-specific mortality i...</td>\n      <td>15</td>\n      <td>413</td>\n      <td>428</td>\n    </tr>\n    <tr>\n      <th>5179</th>\n      <td>195689757</td>\n      <td>Targeting metabolic remodeling in glioblastoma...</td>\n      <td>A key aberrant biological difference between t...</td>\n      <td>False</td>\n      <td>Targeting metabolic remodeling in glioblastoma...</td>\n      <td>6</td>\n      <td>159</td>\n      <td>165</td>\n    </tr>\n    <tr>\n      <th>5180</th>\n      <td>196664003</td>\n      <td>Signaling architectures that transmit unidirec...</td>\n      <td>A signaling pathway transmits information from...</td>\n      <td>False</td>\n      <td>Signaling architectures that transmit unidirec...</td>\n      <td>8</td>\n      <td>246</td>\n      <td>254</td>\n    </tr>\n    <tr>\n      <th>5181</th>\n      <td>198133135</td>\n      <td>Association between pre-diabetes, type 2 diabe...</td>\n      <td>AIMS Trabecular bone score (TBS) is a surrogat...</td>\n      <td>True</td>\n      <td>Association between pre-diabetes, type 2 diabe...</td>\n      <td>14</td>\n      <td>233</td>\n      <td>247</td>\n    </tr>\n    <tr>\n      <th>5182</th>\n      <td>198309074</td>\n      <td>Adhesion molecules and chemokines: relation to...</td>\n      <td>Introduction: Among the inflammatory mediators...</td>\n      <td>False</td>\n      <td>Adhesion molecules and chemokines: relation to...</td>\n      <td>13</td>\n      <td>233</td>\n      <td>246</td>\n    </tr>\n  </tbody>\n</table>\n<p>5183 rows × 8 columns</p>\n</div>"
     },
     "execution_count": 129,
     "metadata": {},
     "output_type": "execute_result"
    }
   ],
   "source": [
    "df_corpus"
   ],
   "metadata": {
    "collapsed": false,
    "ExecuteTime": {
     "end_time": "2024-09-12T19:40:21.706384800Z",
     "start_time": "2024-09-12T19:40:21.616100400Z"
    }
   }
  },
  {
   "cell_type": "markdown",
   "metadata": {},
   "source": [
    "##### 1.3.4 Pré-traitement (2 points)\n",
    "\n",
    "En utilisant vos précédentes fonctions, faites maintenant le pré-traitement des champs \"_text_\", \"_title_\" et \"_abstract_\" du dataframe \"_df_corpus_\" et \"_claim_\" du dataframe \"_df_claims_\" en suivant les étapes suivantes:\n",
    "- conversion en minuscules\n",
    "- segmentation (tokenization) des passages\n",
    "- suppression des stop-words et ponctuation\n",
    "- racinisation (stemming) des jetons\n",
    "\n",
    "Nommez la liste des affirmations pré-traitées par \"_claims_preprocessed_\". Pour le corpus de documents considérez les ensembles de titres \"_title_\", de résumés \"abstract\" et la fusion des deux \"_text_\" et nommez les listes correspondantes par \"_titles_preprocessed_\", \"_abstracts_preprocessed_\" et \"_texts_preprocessed_\" respectivement."
   ]
  },
  {
   "cell_type": "code",
   "execution_count": 130,
   "metadata": {
    "ExecuteTime": {
     "end_time": "2024-09-12T22:58:34.791822400Z",
     "start_time": "2024-09-12T19:40:21.633752Z"
    }
   },
   "outputs": [
    {
     "data": {
      "text/plain": "         doc_id                                              title  \\\n0          4983  Microstructural development of human newborn c...   \n1          5836  Induction of myelodysplasia by myeloid-derived...   \n2          7912  BC1 RNA, the transcript from a master gene for...   \n3         18670  The DNA Methylome of Human Peripheral Blood Mo...   \n4         19238  The human myelin basic protein gene is include...   \n...         ...                                                ...   \n5178  195689316  Body-mass index and cause-specific mortality i...   \n5179  195689757  Targeting metabolic remodeling in glioblastoma...   \n5180  196664003  Signaling architectures that transmit unidirec...   \n5181  198133135  Association between pre-diabetes, type 2 diabe...   \n5182  198309074  Adhesion molecules and chemokines: relation to...   \n\n                                               abstract  structured  \\\n0     Alterations of the architecture of cerebral wh...       False   \n1     Myelodysplastic syndromes (MDS) are age-depend...       False   \n2     ID elements are short interspersed elements (S...       False   \n3     DNA methylation plays an important role in bio...       False   \n4     Two human Golli (for gene expressed in the oli...       False   \n...                                                 ...         ...   \n5178  BACKGROUND The main associations of body-mass ...        True   \n5179  A key aberrant biological difference between t...       False   \n5180  A signaling pathway transmits information from...       False   \n5181  AIMS Trabecular bone score (TBS) is a surrogat...        True   \n5182  Introduction: Among the inflammatory mediators...       False   \n\n                                                   text  title_length  \\\n0     Microstructural development of human newborn c...            17   \n1     Induction of myelodysplasia by myeloid-derived...             7   \n2     BC1 RNA, the transcript from a master gene for...            20   \n3     The DNA Methylome of Human Peripheral Blood Mo...             9   \n4     The human myelin basic protein gene is include...            21   \n...                                                 ...           ...   \n5178  Body-mass index and cause-specific mortality i...            15   \n5179  Targeting metabolic remodeling in glioblastoma...             6   \n5180  Signaling architectures that transmit unidirec...             8   \n5181  Association between pre-diabetes, type 2 diabe...            14   \n5182  Adhesion molecules and chemokines: relation to...            13   \n\n      abstract_length  text_length  \\\n0                 278          295   \n1                 201          208   \n2                 180          200   \n3                 238          247   \n4                 241          262   \n...               ...          ...   \n5178              413          428   \n5179              159          165   \n5180              246          254   \n5181              233          247   \n5182              233          246   \n\n                                     texts_preprocessed  \\\n0     [microstructur, develop, human, newborn, cereb...   \n1     [induct, myelodysplasia, myeloid-deriv, suppre...   \n2     [bc1, rna, transcript, master, gene, id, eleme...   \n3     [dna, methylom, human, peripher, blood, mononu...   \n4     [human, myelin, basic, protein, gene, includ, ...   \n...                                                 ...   \n5178  [body-mass, index, cause-specif, mortal, 900, ...   \n5179  [target, metabol, remodel, glioblastoma, multi...   \n5180  [signal, architectur, transmit, unidirect, inf...   \n5181  [associ, pre-diabet, type, 2, diabet, trabecul...   \n5182  [adhes, molecul, chemokin, relat, anthropometr...   \n\n                                    titles_preprocessed  \\\n0     [microstructur, develop, human, newborn, cereb...   \n1     [induct, myelodysplasia, myeloid-deriv, suppre...   \n2     [bc1, rna, transcript, master, gene, id, eleme...   \n3     [dna, methylom, human, peripher, blood, mononu...   \n4     [human, myelin, basic, protein, gene, includ, ...   \n...                                                 ...   \n5178  [body-mass, index, cause-specif, mortal, 900, ...   \n5179  [target, metabol, remodel, glioblastoma, multi...   \n5180  [signal, architectur, transmit, unidirect, inf...   \n5181  [associ, pre-diabet, type, 2, diabet, trabecul...   \n5182  [adhes, molecul, chemokin, relat, anthropometr...   \n\n                                 abstracts_preprocessed  \n0     [alter, architectur, cerebr, white, matter, de...  \n1     [myelodysplast, syndrom, md, age-depend, stem,...  \n2     [id, element, short, interspers, element, sine...  \n3     [dna, methyl, play, import, role, biolog, proc...  \n4     [two, human, golli, gene, express, oligodendro...  \n...                                                 ...  \n5178  [background, main, associ, body-mass, index, b...  \n5179  [key, aberr, biolog, differ, tumor, cell, norm...  \n5180  [signal, pathway, transmit, inform, upstream, ...  \n5181  [aim, trabecular, bone, score, tb, surrog, ind...  \n5182  [introduct, among, inflammatori, mediat, invol...  \n\n[5183 rows x 11 columns]",
      "text/html": "<div>\n<style scoped>\n    .dataframe tbody tr th:only-of-type {\n        vertical-align: middle;\n    }\n\n    .dataframe tbody tr th {\n        vertical-align: top;\n    }\n\n    .dataframe thead th {\n        text-align: right;\n    }\n</style>\n<table border=\"1\" class=\"dataframe\">\n  <thead>\n    <tr style=\"text-align: right;\">\n      <th></th>\n      <th>doc_id</th>\n      <th>title</th>\n      <th>abstract</th>\n      <th>structured</th>\n      <th>text</th>\n      <th>title_length</th>\n      <th>abstract_length</th>\n      <th>text_length</th>\n      <th>texts_preprocessed</th>\n      <th>titles_preprocessed</th>\n      <th>abstracts_preprocessed</th>\n    </tr>\n  </thead>\n  <tbody>\n    <tr>\n      <th>0</th>\n      <td>4983</td>\n      <td>Microstructural development of human newborn c...</td>\n      <td>Alterations of the architecture of cerebral wh...</td>\n      <td>False</td>\n      <td>Microstructural development of human newborn c...</td>\n      <td>17</td>\n      <td>278</td>\n      <td>295</td>\n      <td>[microstructur, develop, human, newborn, cereb...</td>\n      <td>[microstructur, develop, human, newborn, cereb...</td>\n      <td>[alter, architectur, cerebr, white, matter, de...</td>\n    </tr>\n    <tr>\n      <th>1</th>\n      <td>5836</td>\n      <td>Induction of myelodysplasia by myeloid-derived...</td>\n      <td>Myelodysplastic syndromes (MDS) are age-depend...</td>\n      <td>False</td>\n      <td>Induction of myelodysplasia by myeloid-derived...</td>\n      <td>7</td>\n      <td>201</td>\n      <td>208</td>\n      <td>[induct, myelodysplasia, myeloid-deriv, suppre...</td>\n      <td>[induct, myelodysplasia, myeloid-deriv, suppre...</td>\n      <td>[myelodysplast, syndrom, md, age-depend, stem,...</td>\n    </tr>\n    <tr>\n      <th>2</th>\n      <td>7912</td>\n      <td>BC1 RNA, the transcript from a master gene for...</td>\n      <td>ID elements are short interspersed elements (S...</td>\n      <td>False</td>\n      <td>BC1 RNA, the transcript from a master gene for...</td>\n      <td>20</td>\n      <td>180</td>\n      <td>200</td>\n      <td>[bc1, rna, transcript, master, gene, id, eleme...</td>\n      <td>[bc1, rna, transcript, master, gene, id, eleme...</td>\n      <td>[id, element, short, interspers, element, sine...</td>\n    </tr>\n    <tr>\n      <th>3</th>\n      <td>18670</td>\n      <td>The DNA Methylome of Human Peripheral Blood Mo...</td>\n      <td>DNA methylation plays an important role in bio...</td>\n      <td>False</td>\n      <td>The DNA Methylome of Human Peripheral Blood Mo...</td>\n      <td>9</td>\n      <td>238</td>\n      <td>247</td>\n      <td>[dna, methylom, human, peripher, blood, mononu...</td>\n      <td>[dna, methylom, human, peripher, blood, mononu...</td>\n      <td>[dna, methyl, play, import, role, biolog, proc...</td>\n    </tr>\n    <tr>\n      <th>4</th>\n      <td>19238</td>\n      <td>The human myelin basic protein gene is include...</td>\n      <td>Two human Golli (for gene expressed in the oli...</td>\n      <td>False</td>\n      <td>The human myelin basic protein gene is include...</td>\n      <td>21</td>\n      <td>241</td>\n      <td>262</td>\n      <td>[human, myelin, basic, protein, gene, includ, ...</td>\n      <td>[human, myelin, basic, protein, gene, includ, ...</td>\n      <td>[two, human, golli, gene, express, oligodendro...</td>\n    </tr>\n    <tr>\n      <th>...</th>\n      <td>...</td>\n      <td>...</td>\n      <td>...</td>\n      <td>...</td>\n      <td>...</td>\n      <td>...</td>\n      <td>...</td>\n      <td>...</td>\n      <td>...</td>\n      <td>...</td>\n      <td>...</td>\n    </tr>\n    <tr>\n      <th>5178</th>\n      <td>195689316</td>\n      <td>Body-mass index and cause-specific mortality i...</td>\n      <td>BACKGROUND The main associations of body-mass ...</td>\n      <td>True</td>\n      <td>Body-mass index and cause-specific mortality i...</td>\n      <td>15</td>\n      <td>413</td>\n      <td>428</td>\n      <td>[body-mass, index, cause-specif, mortal, 900, ...</td>\n      <td>[body-mass, index, cause-specif, mortal, 900, ...</td>\n      <td>[background, main, associ, body-mass, index, b...</td>\n    </tr>\n    <tr>\n      <th>5179</th>\n      <td>195689757</td>\n      <td>Targeting metabolic remodeling in glioblastoma...</td>\n      <td>A key aberrant biological difference between t...</td>\n      <td>False</td>\n      <td>Targeting metabolic remodeling in glioblastoma...</td>\n      <td>6</td>\n      <td>159</td>\n      <td>165</td>\n      <td>[target, metabol, remodel, glioblastoma, multi...</td>\n      <td>[target, metabol, remodel, glioblastoma, multi...</td>\n      <td>[key, aberr, biolog, differ, tumor, cell, norm...</td>\n    </tr>\n    <tr>\n      <th>5180</th>\n      <td>196664003</td>\n      <td>Signaling architectures that transmit unidirec...</td>\n      <td>A signaling pathway transmits information from...</td>\n      <td>False</td>\n      <td>Signaling architectures that transmit unidirec...</td>\n      <td>8</td>\n      <td>246</td>\n      <td>254</td>\n      <td>[signal, architectur, transmit, unidirect, inf...</td>\n      <td>[signal, architectur, transmit, unidirect, inf...</td>\n      <td>[signal, pathway, transmit, inform, upstream, ...</td>\n    </tr>\n    <tr>\n      <th>5181</th>\n      <td>198133135</td>\n      <td>Association between pre-diabetes, type 2 diabe...</td>\n      <td>AIMS Trabecular bone score (TBS) is a surrogat...</td>\n      <td>True</td>\n      <td>Association between pre-diabetes, type 2 diabe...</td>\n      <td>14</td>\n      <td>233</td>\n      <td>247</td>\n      <td>[associ, pre-diabet, type, 2, diabet, trabecul...</td>\n      <td>[associ, pre-diabet, type, 2, diabet, trabecul...</td>\n      <td>[aim, trabecular, bone, score, tb, surrog, ind...</td>\n    </tr>\n    <tr>\n      <th>5182</th>\n      <td>198309074</td>\n      <td>Adhesion molecules and chemokines: relation to...</td>\n      <td>Introduction: Among the inflammatory mediators...</td>\n      <td>False</td>\n      <td>Adhesion molecules and chemokines: relation to...</td>\n      <td>13</td>\n      <td>233</td>\n      <td>246</td>\n      <td>[adhes, molecul, chemokin, relat, anthropometr...</td>\n      <td>[adhes, molecul, chemokin, relat, anthropometr...</td>\n      <td>[introduct, among, inflammatori, mediat, invol...</td>\n    </tr>\n  </tbody>\n</table>\n<p>5183 rows × 11 columns</p>\n</div>"
     },
     "execution_count": 130,
     "metadata": {},
     "output_type": "execute_result"
    }
   ],
   "source": [
    "# TODO\n",
    "def preprocess_text(text):\n",
    "    text = text.lower()\n",
    "    tokens = tokenize_sentence(text)\n",
    "    tokens = [word for word in tokens if word not in stop_words and word not in punctuation]\n",
    "    tokens = stem_tokens(tokens)\n",
    "\n",
    "    return tokens\n",
    "\n",
    "attr_corp = ['text' , 'title','abstract']\n",
    "\n",
    "\n",
    "for attr in attr_corp : \n",
    "    df_corpus[attr+'s_preprocessed'] = df_corpus[attr].apply(preprocess_text)\n",
    "    \n",
    "df_claims['claims_preprocessed'] =  df_claims['claim'].apply(preprocess_text)\n",
    "    \n",
    "\n",
    "    #df_corpus[attr+'s_preprocessed'] = tokenize_sentence(df_corpus[attr+'s_preprocessed'])\n",
    "df_corpus\n",
    "# END TODO"
   ]
  },
  {
   "cell_type": "code",
   "execution_count": 131,
   "outputs": [],
   "source": [
    "df_claims['claims_preprocessed'] =  df_claims['claim'].apply(preprocess_text)"
   ],
   "metadata": {
    "collapsed": false,
    "ExecuteTime": {
     "end_time": "2024-09-12T22:58:35.364925700Z",
     "start_time": "2024-09-12T22:58:33.939036700Z"
    }
   }
  },
  {
   "cell_type": "markdown",
   "metadata": {},
   "source": [
    "##### 1.3.5 Jetons uniques (types) (1 point)\n",
    "\n",
    "Affichez maintenant le nombre total de jetons dans tous les textes (_text_) et affirmations (_claim_) (en les considérant comme un seul corpus) après le pré-traitement. Puis, affichez le nombre de jetons uniques (types) dans les textes (_text_) et les affirmations (_claim_). "
   ]
  },
  {
   "cell_type": "code",
   "execution_count": 132,
   "metadata": {
    "ExecuteTime": {
     "end_time": "2024-09-12T22:58:35.365925600Z",
     "start_time": "2024-09-12T22:58:34.481494900Z"
    }
   },
   "outputs": [
    {
     "name": "stdout",
     "output_type": "stream",
     "text": [
      "Total tokens in text: 735052\n",
      "Total tokens in claim: 7150\n",
      "Unique tokens in text: 44969\n",
      "Unique tokens in claim: 2416\n"
     ]
    }
   ],
   "source": [
    "# TODO\n",
    "\n",
    "total_tokens_text = df_corpus['texts_preprocessed'].apply(len).sum()\n",
    "total_tokens_claim = df_claims['claims_preprocessed'].apply(len).sum()\n",
    "\n",
    "unique_tokens_text = len(set([token for text in df_corpus['texts_preprocessed'] for token in text]))\n",
    "unique_tokens_claim = len(set([token for claim in df_claims['claims_preprocessed'] for token in claim]))\n",
    "\n",
    "print(f'Total tokens in text: {total_tokens_text}')\n",
    "print(f'Total tokens in claim: {total_tokens_claim}')\n",
    "print(f'Unique tokens in text: {unique_tokens_text}')\n",
    "print(f'Unique tokens in claim: {unique_tokens_claim}')\n",
    "\n",
    "# END TODO"
   ]
  },
  {
   "cell_type": "markdown",
   "metadata": {
    "id": "3qH8-QAw8BEV"
   },
   "source": [
    "### 2. Représentation des affirmations et des documents  (45 points)"
   ]
  },
  {
   "cell_type": "markdown",
   "metadata": {},
   "source": [
    "#### 2.1  Vocabulaire (15 points)"
   ]
  },
  {
   "cell_type": "markdown",
   "metadata": {},
   "source": [
    "##### 2.1.1 Implémentation de la fonction \"_get_vocab_\" (3 points)\n",
    "\n",
    "Implémentez la fonction \"_get_vocab_\" qui prend une liste de textes composés chacun d'une liste de jetons et retourne un dictionnaire dont les clés sont les jetons uniques et les valeurs sont leur fréquence dans l'ensemble des textes."
   ]
  },
  {
   "cell_type": "code",
   "execution_count": 133,
   "metadata": {
    "ExecuteTime": {
     "end_time": "2024-09-12T22:58:35.365925600Z",
     "start_time": "2024-09-12T22:58:34.600187400Z"
    }
   },
   "outputs": [],
   "source": [
    "# TODO\n",
    "def get_vocab(text_list) :\n",
    "    dict = {}\n",
    "    for text in text_list : \n",
    "        for type in text : \n",
    "            if type not in dict : \n",
    "                dict[type] = 1\n",
    "            else : \n",
    "                dict[type] += 1 \n",
    "    return dict\n",
    "                \n",
    "dict = get_vocab(df_corpus['texts_preprocessed'])\n",
    "            \n",
    "\n",
    "    \n",
    "# END TODO"
   ]
  },
  {
   "cell_type": "markdown",
   "metadata": {},
   "source": [
    "##### 2.1.2 Implémentez la fonction \"_show_top_N_types_\" (3 points)\n",
    "\n",
    "Implémentez la fonction \"show_top_N_types\" qui affiche les N jetons les plus fréquents à partir d'un dictionnaire comme celui retourné par la fonction \"_get_vocab_\".\n",
    "\n",
    "La fonction prend deux arguments: le dictionnaire \"_dictionary_\" et le paramètre \"_N_\". "
   ]
  },
  {
   "cell_type": "code",
   "execution_count": 134,
   "metadata": {
    "ExecuteTime": {
     "end_time": "2024-09-12T22:58:35.366925400Z",
     "start_time": "2024-09-12T22:58:34.772061600Z"
    }
   },
   "outputs": [
    {
     "name": "stdout",
     "output_type": "stream",
     "text": [
      "les 4 types les plus fréquents :\n",
      "('cell', 10307)\n",
      "('patient', 4132)\n",
      "('activ', 4087)\n",
      "('studi', 4014)\n"
     ]
    }
   ],
   "source": [
    "# TODO\n",
    "def show_top_N_types(dictionnary , N) : \n",
    "    top_types = sorted(dictionnary.items(), key=lambda item: item[1] , reverse=True )[:N]\n",
    "    print(f'les {N} types les plus fréquents :')\n",
    "    for type in top_types : \n",
    "        print(type)\n",
    "    \n",
    "    \n",
    "    \n",
    "show_top_N_types(dict , 4)\n",
    "# END TODO"
   ]
  },
  {
   "cell_type": "code",
   "execution_count": 135,
   "outputs": [
    {
     "data": {
      "text/plain": "       id                                              claim  \\\n0       0  0-dimensional biomaterials lack inductive prop...   \n1       2  1 in 5 million in UK have abnormal PrP positiv...   \n2       4  1-1% of colorectal cancer patients are diagnos...   \n3       6  10% of sudden infant death syndrome (SIDS) dea...   \n4       9  32% of liver transplantation programs required...   \n..    ...                                                ...   \n804  1403  siRNA knockdown of A20 accelerates tumor progr...   \n805  1404  siRNA knockdown of A20 slows tumor progression...   \n806  1405  taa1 tar1 tar2 triple mutants in Arabidopsis d...   \n807  1406  β-sheet opening occurs during pleurotolysin po...   \n808  1407             β1/Ketel is able to bind microtubules.   \n\n                                              evidence        cited_doc_ids  \\\n0                                                   {}           [31715818]   \n1    {'13734012': [{'sentences': [4], 'label': 'CON...           [13734012]   \n2                                                   {}           [22942787]   \n3                                                   {}            [2613775]   \n4    {'44265107': [{'sentences': [15], 'label': 'SU...           [44265107]   \n..                                                 ...                  ...   \n804  {'33370': [{'sentences': [6], 'label': 'CONTRA...    [33370, 38355793]   \n805  {'33370': [{'sentences': [6], 'label': 'SUPPOR...    [33370, 38355793]   \n806                                                 {}           [10504681]   \n807  {'2617858': [{'sentences': [4], 'label': 'SUPP...            [2617858]   \n808                                                 {}  [8087082, 29863668]   \n\n     claim_length  num_cited_doc  \\\n0               5              1   \n1              10              1   \n2              12              1   \n3              16              1   \n4              13              1   \n..            ...            ...   \n804            14              2   \n805            14              2   \n806            14              1   \n807             7              1   \n808             6              2   \n\n                                   claims_preprocessed  \n0     [0-dimension, biomateri, lack, induct, properti]  \n1              [1, 5, million, uk, abnorm, prp, posit]  \n2    [1-1, colorect, cancer, patient, diagnos, regi...  \n3    [10, sudden, infant, death, syndrom, sid, deat...  \n4    [32, liver, transplant, program, requir, patie...  \n..                                                 ...  \n804  [sirna, knockdown, a20, acceler, tumor, progre...  \n805  [sirna, knockdown, a20, slow, tumor, progress,...  \n806  [taa1, tar1, tar2, tripl, mutant, arabidopsi, ...  \n807  [β-sheet, open, occur, pleurotolysin, pore, fo...  \n808                  [β1/ketel, abl, bind, microtubul]  \n\n[809 rows x 7 columns]",
      "text/html": "<div>\n<style scoped>\n    .dataframe tbody tr th:only-of-type {\n        vertical-align: middle;\n    }\n\n    .dataframe tbody tr th {\n        vertical-align: top;\n    }\n\n    .dataframe thead th {\n        text-align: right;\n    }\n</style>\n<table border=\"1\" class=\"dataframe\">\n  <thead>\n    <tr style=\"text-align: right;\">\n      <th></th>\n      <th>id</th>\n      <th>claim</th>\n      <th>evidence</th>\n      <th>cited_doc_ids</th>\n      <th>claim_length</th>\n      <th>num_cited_doc</th>\n      <th>claims_preprocessed</th>\n    </tr>\n  </thead>\n  <tbody>\n    <tr>\n      <th>0</th>\n      <td>0</td>\n      <td>0-dimensional biomaterials lack inductive prop...</td>\n      <td>{}</td>\n      <td>[31715818]</td>\n      <td>5</td>\n      <td>1</td>\n      <td>[0-dimension, biomateri, lack, induct, properti]</td>\n    </tr>\n    <tr>\n      <th>1</th>\n      <td>2</td>\n      <td>1 in 5 million in UK have abnormal PrP positiv...</td>\n      <td>{'13734012': [{'sentences': [4], 'label': 'CON...</td>\n      <td>[13734012]</td>\n      <td>10</td>\n      <td>1</td>\n      <td>[1, 5, million, uk, abnorm, prp, posit]</td>\n    </tr>\n    <tr>\n      <th>2</th>\n      <td>4</td>\n      <td>1-1% of colorectal cancer patients are diagnos...</td>\n      <td>{}</td>\n      <td>[22942787]</td>\n      <td>12</td>\n      <td>1</td>\n      <td>[1-1, colorect, cancer, patient, diagnos, regi...</td>\n    </tr>\n    <tr>\n      <th>3</th>\n      <td>6</td>\n      <td>10% of sudden infant death syndrome (SIDS) dea...</td>\n      <td>{}</td>\n      <td>[2613775]</td>\n      <td>16</td>\n      <td>1</td>\n      <td>[10, sudden, infant, death, syndrom, sid, deat...</td>\n    </tr>\n    <tr>\n      <th>4</th>\n      <td>9</td>\n      <td>32% of liver transplantation programs required...</td>\n      <td>{'44265107': [{'sentences': [15], 'label': 'SU...</td>\n      <td>[44265107]</td>\n      <td>13</td>\n      <td>1</td>\n      <td>[32, liver, transplant, program, requir, patie...</td>\n    </tr>\n    <tr>\n      <th>...</th>\n      <td>...</td>\n      <td>...</td>\n      <td>...</td>\n      <td>...</td>\n      <td>...</td>\n      <td>...</td>\n      <td>...</td>\n    </tr>\n    <tr>\n      <th>804</th>\n      <td>1403</td>\n      <td>siRNA knockdown of A20 accelerates tumor progr...</td>\n      <td>{'33370': [{'sentences': [6], 'label': 'CONTRA...</td>\n      <td>[33370, 38355793]</td>\n      <td>14</td>\n      <td>2</td>\n      <td>[sirna, knockdown, a20, acceler, tumor, progre...</td>\n    </tr>\n    <tr>\n      <th>805</th>\n      <td>1404</td>\n      <td>siRNA knockdown of A20 slows tumor progression...</td>\n      <td>{'33370': [{'sentences': [6], 'label': 'SUPPOR...</td>\n      <td>[33370, 38355793]</td>\n      <td>14</td>\n      <td>2</td>\n      <td>[sirna, knockdown, a20, slow, tumor, progress,...</td>\n    </tr>\n    <tr>\n      <th>806</th>\n      <td>1405</td>\n      <td>taa1 tar1 tar2 triple mutants in Arabidopsis d...</td>\n      <td>{}</td>\n      <td>[10504681]</td>\n      <td>14</td>\n      <td>1</td>\n      <td>[taa1, tar1, tar2, tripl, mutant, arabidopsi, ...</td>\n    </tr>\n    <tr>\n      <th>807</th>\n      <td>1406</td>\n      <td>β-sheet opening occurs during pleurotolysin po...</td>\n      <td>{'2617858': [{'sentences': [4], 'label': 'SUPP...</td>\n      <td>[2617858]</td>\n      <td>7</td>\n      <td>1</td>\n      <td>[β-sheet, open, occur, pleurotolysin, pore, fo...</td>\n    </tr>\n    <tr>\n      <th>808</th>\n      <td>1407</td>\n      <td>β1/Ketel is able to bind microtubules.</td>\n      <td>{}</td>\n      <td>[8087082, 29863668]</td>\n      <td>6</td>\n      <td>2</td>\n      <td>[β1/ketel, abl, bind, microtubul]</td>\n    </tr>\n  </tbody>\n</table>\n<p>809 rows × 7 columns</p>\n</div>"
     },
     "execution_count": 135,
     "metadata": {},
     "output_type": "execute_result"
    }
   ],
   "source": [
    "df_claims"
   ],
   "metadata": {
    "collapsed": false,
    "ExecuteTime": {
     "end_time": "2024-09-12T22:58:35.449442500Z",
     "start_time": "2024-09-12T22:58:34.777666700Z"
    }
   }
  },
  {
   "cell_type": "markdown",
   "metadata": {},
   "source": [
    "##### 2.1.3 Construction du vocabulaire (1 point)\n",
    "\n",
    "Construisez maintenant le vocabulaire pour les affirmations et le corpus de documents à partir des listes \"texts_preprocessed\" et \"claims_preprocessed\". \n",
    "\n",
    "Ensuite affichez les 15 jetons les plus fréquents ainsi que leur fréquence."
   ]
  },
  {
   "cell_type": "code",
   "execution_count": 136,
   "metadata": {
    "ExecuteTime": {
     "end_time": "2024-09-12T22:58:35.869473200Z",
     "start_time": "2024-09-12T22:58:34.798734600Z"
    }
   },
   "outputs": [
    {
     "name": "stdout",
     "output_type": "stream",
     "text": [
      "les 15 types les plus fréquents :\n",
      "('cell', 10464)\n",
      "('patient', 4175)\n",
      "('activ', 4145)\n",
      "('studi', 4014)\n",
      "('use', 3799)\n",
      "('express', 3626)\n",
      "('result', 3213)\n",
      "('protein', 3083)\n",
      "('gene', 3004)\n",
      "('cancer', 2945)\n",
      "('increas', 2794)\n",
      "('associ', 2659)\n",
      "('effect', 2567)\n",
      "('function', 2515)\n",
      "('human', 2464)\n"
     ]
    }
   ],
   "source": [
    "# TODO\n",
    "\n",
    "vocab = get_vocab(pd.concat([df_corpus['texts_preprocessed'] , df_claims['claims_preprocessed']]))\n",
    "show_top_N_types(vocab , 15)\n",
    "\n",
    "# END TODO"
   ]
  },
  {
   "cell_type": "markdown",
   "metadata": {},
   "source": [
    "Sortie attendue:\n",
    "\n",
    "```Nombre de types composant le vocabulaire: 45195\n",
    "Les 15 types les plus fréquents:\n",
    "('cell', 10464)\n",
    "('patient', 4175)\n",
    "('activ', 4145)\n",
    "('studi', 4014)\n",
    "('use', 3799)\n",
    "('express', 3626)\n",
    "('result', 3213)\n",
    "('protein', 3083)\n",
    "('gene', 3004)\n",
    "('cancer', 2945)\n",
    "('increas', 2794)\n",
    "('associ', 2659)\n",
    "('effect', 2567)\n",
    "('function', 2515)\n",
    "('human', 2464)"
   ]
  },
  {
   "cell_type": "markdown",
   "metadata": {},
   "source": [
    "##### 2.1.4 Implémentation de la fonction \"_show_distribution_\" (4 points)\n",
    "\n",
    "Implémentez la fonction \"__show_distribution__\" qui permet de visualiser la distribution des fréquences des jetons à partir d'un dictionnaire comme celui retourné par la fonction \"_get_vocab_\", en utilisant un graphique où l'axe des abscisses représente le rang d'un type (après un tri par ordre de fréquence décroissante) et l'axe des ordonnées représente sa fréquence sur une échelle logarithmique.  \n",
    "\n",
    "Par exemple, le point (10000, 10) voudrait dire que le 10000ème mot le plus fréquent a une fréquence à peu prés egale à 10 dans le vocabulaire."
   ]
  },
  {
   "cell_type": "code",
   "execution_count": 173,
   "metadata": {
    "ExecuteTime": {
     "end_time": "2024-09-15T17:38:30.095454800Z",
     "start_time": "2024-09-15T17:38:29.259988900Z"
    }
   },
   "outputs": [
    {
     "data": {
      "text/plain": "<Figure size 1000x600 with 1 Axes>",
      "image/png": "[encoded data removed]"
     },
     "metadata": {},
     "output_type": "display_data"
    }
   ],
   "source": [
    "# TODO\n",
    "def show_distribution(vocab):\n",
    "    #print(vocab.items())\n",
    "    sorted_vocab = sorted(vocab.values(), reverse=True)\n",
    "    #print(sorted_vocab)\n",
    "    \n",
    "    plt.figure(figsize=(10, 6))\n",
    "    ranks = np.arange(1, len(sorted_vocab) + 1)\n",
    "    plt.loglog(ranks, sorted_vocab, marker=\".\", linestyle='None')\n",
    "    \n",
    "\n",
    "    plt.xlabel('Rank of token')\n",
    "    plt.ylabel('Frequency of token')\n",
    "    plt.title('Token Frequency Distribution on a Log-Log Scale')\n",
    "    plt.grid(True)\n",
    "\n",
    "show_distribution(vocab)\n",
    "    \n",
    "#show_distribution(vocab)\n",
    "# END TODO"
   ]
  },
  {
   "cell_type": "markdown",
   "metadata": {},
   "source": [
    "##### 2.1.5 Vérification de la loi de Zipf (4 points)\n",
    "\n",
    "Afin de vérifier la loi de Zipf, donnez une estimation de la valeur de la constante k de cette loi définie comme suit: \n",
    "\n",
    "$$ f \\approx \\frac{k}{r^\\alpha} $$ \n",
    "\n",
    "où $ f $ est la fréquence d'un mot, $ r $ est le rang de ce mot dans la liste triée par fréquence décroissante, et $ k $ est une constante. Etant données les fluctuations sur les valeurs de fréquence, vous pouvez utiliser la librairie ['powerlaw'](https://pypi.org/project/powerlaw/) conçue pour analyser et ajuster des distributions de loi de puissance aux données et qui peut être utile dans l'estimation de $ \\alpha $.\n",
    "\n",
    "Affichez la constante $ k $ trouvée, les fréquences réelles des mots avec celles qui sont prédites par la loi de Zipf."
   ]
  },
  {
   "cell_type": "code",
   "execution_count": 170,
   "metadata": {
    "ExecuteTime": {
     "end_time": "2024-09-15T17:03:32.407408800Z",
     "start_time": "2024-09-15T17:03:30.139082600Z"
    }
   },
   "outputs": [
    {
     "name": "stdout",
     "output_type": "stream",
     "text": [
      "Calculating best minimal value for power law fit\n",
      "1.7774914193011577\n",
      "la constante k est égale à : 12131.745923002105\n"
     ]
    },
    {
     "data": {
      "text/plain": "<matplotlib.legend.Legend at 0x1a91fe6f310>"
     },
     "execution_count": 170,
     "metadata": {},
     "output_type": "execute_result"
    },
    {
     "data": {
      "text/plain": "<Figure size 1000x600 with 1 Axes>",
      "image/png": "[encoded data removed]"
     },
     "metadata": {},
     "output_type": "display_data"
    }
   ],
   "source": [
    "# TODO\n",
    "frequencies = sorted(vocab.values() , reverse=True)\n",
    "\n",
    "data = powerlaw.Fit(frequencies) \n",
    "#print(frequencies)\n",
    "print(data.power_law.alpha)\n",
    "x = np.arange(1, len(frequencies)+1)\n",
    "x = x **(-data.power_law.alpha)\n",
    "\n",
    "slope = np.polyfit(x, frequencies, 1)[0]\n",
    "\n",
    "print(f'la constante k est égale à : {slope}')\n",
    "\n",
    "\n",
    "predicted_freqs = [slope / ((i+1)**(data.power_law.alpha)) for i in range(len(frequencies))]\n",
    "#print(predicted_freqs)\n",
    "plt.figure(figsize=(10, 6))\n",
    "plt.loglog(frequencies, label='Fréquences Réelles', marker='o')\n",
    "plt.loglog(predicted_freqs, label='Fréquences Prédites par Zipf', linestyle='--', marker='x')\n",
    "plt.xlabel('Rang du mot')\n",
    "plt.ylabel('Fréquence')\n",
    "plt.title('Comparaison des Fréquences Réelles et Prédites par la Loi de Zipf')\n",
    "plt.legend()\n",
    "plt.show()\n",
    "\n",
    "\n",
    "\n",
    "# END TODO"
   ]
  },
  {
   "cell_type": "markdown",
   "metadata": {
    "id": "pdxcQdRJ818T"
   },
   "source": [
    "#### 2.2  Création d’un modèle sac de mots (10 points)"
   ]
  },
  {
   "cell_type": "markdown",
   "metadata": {},
   "source": [
    "##### 2.2.1 Répresentation de texte (5 points)\n",
    "\n",
    "En utilisant sklearn et à partir de vos données pré-traitées (\"_claims_preprocessed_\", \"_titles_preprocessed_\", \"_abstracts_preprocessed_\" et \"_texts_preprocessed_\"), représentez chaque affirmation (_claim_) et document avec le vocabulaire créé 'précédemment dans la variables \"_claims_preprocessed_joined\", \"_titles_preprocessed_joined_\", \"_abstract_preprocessed_joined_\" et \"_texts_preprocessed_joined_\". Cela veut dire que tout jeton qui n'est pas dans le vocabulaire doit être enlevé dans le document et l'affirmation. Faites cela pour les trois possibilités de représentation de document: \"_title_\", \"_abstract_\" et \"_text_\"."
   ]
  },
  {
   "cell_type": "code",
   "execution_count": 172,
   "outputs": [],
   "source": [
    "import os\n",
    "downloads_folder = os.path.expanduser(\"~/Downloads\")\n",
    "\n",
    "# Save the dataframe to a CSV in the Downloads folder\n",
    "df_corpus.to_csv(os.path.join(downloads_folder, \"saved_file.csv\"), index=False)"
   ],
   "metadata": {
    "collapsed": false,
    "ExecuteTime": {
     "end_time": "2024-09-15T17:32:13.621223800Z",
     "start_time": "2024-09-15T17:32:12.434649400Z"
    }
   }
  },
  {
   "cell_type": "code",
   "execution_count": null,
   "metadata": {
    "id": "NKJxoJSwBovJ",
    "ExecuteTime": {
     "start_time": "2024-09-12T22:58:37.926713800Z"
    }
   },
   "outputs": [],
   "source": [
    "# TODO\n",
    "# END TODO"
   ]
  },
  {
   "cell_type": "markdown",
   "metadata": {},
   "source": [
    "##### 2.2.2 Pondération (4 points)\n",
    "\n",
    "En utilisant un modèle sac de mots basé sur des unigrammes et des bigrammes, créez une représentation vectorielle de vos documents (titles, abstracts, texts) et de vos affirmations (claims) avec TF-IDF en utilisant le TfidfVectorizer de sklearn. "
   ]
  },
  {
   "cell_type": "code",
   "execution_count": null,
   "metadata": {
    "ExecuteTime": {
     "end_time": "2024-09-12T22:58:37.963976900Z",
     "start_time": "2024-09-12T22:58:37.926713800Z"
    }
   },
   "outputs": [],
   "source": [
    "# TODO\n",
    "# END TODO"
   ]
  },
  {
   "cell_type": "markdown",
   "metadata": {},
   "source": [
    "##### 2.2.3 Affichage (1 point)\n",
    "\n",
    "Affichez les dimensions (shape) de vos corpus (claims, text, title, abstract) après vectorisation"
   ]
  },
  {
   "cell_type": "code",
   "execution_count": null,
   "metadata": {
    "ExecuteTime": {
     "start_time": "2024-09-12T22:58:37.926713800Z"
    }
   },
   "outputs": [],
   "source": [
    "# TODO\n",
    "# END TODO"
   ]
  },
  {
   "cell_type": "markdown",
   "metadata": {},
   "source": [
    "Sortie attendue pour \"_claims_\"\n",
    "```\n",
    "(809, 473643)\n",
    "```"
   ]
  },
  {
   "cell_type": "code",
   "execution_count": null,
   "metadata": {
    "ExecuteTime": {
     "start_time": "2024-09-12T22:58:37.936726900Z"
    }
   },
   "outputs": [],
   "source": [
    "# TODO\n",
    "# END TODO"
   ]
  },
  {
   "cell_type": "markdown",
   "metadata": {},
   "source": [
    "Sortie attendue pour \"_texts_\"\n",
    "```\n",
    "(5183, 473643)\n",
    "```"
   ]
  },
  {
   "cell_type": "code",
   "execution_count": null,
   "metadata": {
    "ExecuteTime": {
     "start_time": "2024-09-12T22:58:37.941237800Z"
    }
   },
   "outputs": [],
   "source": [
    "# TODO\n",
    "# END TODO"
   ]
  },
  {
   "cell_type": "markdown",
   "metadata": {},
   "source": [
    "Sortie attendue pour \"_titles_\"\n",
    "```\n",
    "(5183, 473643)\n",
    "```"
   ]
  },
  {
   "cell_type": "code",
   "execution_count": null,
   "metadata": {
    "ExecuteTime": {
     "start_time": "2024-09-12T22:58:37.941237800Z"
    }
   },
   "outputs": [],
   "source": [
    "# TODO\n",
    "# END TODO"
   ]
  },
  {
   "cell_type": "markdown",
   "metadata": {},
   "source": [
    "Sortie attendue pour abstracts\n",
    "```\n",
    "(5183, 473643)"
   ]
  },
  {
   "cell_type": "markdown",
   "metadata": {
    "id": "sMrNWcxL9QNF"
   },
   "source": [
    "#### 2.3 Pertinence d'un document (20 points)"
   ]
  },
  {
   "cell_type": "markdown",
   "metadata": {},
   "source": [
    "Maintenant que vous avez une représentation de vos affirmations \"_claims_\" et documents (\"_texts_\", \"_titles_\", \"_abstracts_\"), il faut être capable de déterminer quel document sera le plus pertinent pour une affirmation donnée."
   ]
  },
  {
   "cell_type": "markdown",
   "metadata": {
    "id": "3AsiWH2O9XKD"
   },
   "source": [
    "##### 2.3.1 Implémentation de \"_eval_similarity_\" (3 points)\n",
    "\n",
    "Implémentez la fonction \"_eval_similarity_\" pour évaluer la similarité cosinus entre la représentation de l'affirmation et celle de chaque document. La fonction prend une liste d'affirmations et une liste de documents et retourne une matrice où chaque ligne représente une affirmation et chaque colonne représente un document (\"title\", \"abstract\" ou \"text\") et les valeurs sont les similarités cosinus entre une affirmation et un document."
   ]
  },
  {
   "cell_type": "code",
   "execution_count": null,
   "metadata": {
    "ExecuteTime": {
     "start_time": "2024-09-12T22:58:37.946745900Z"
    }
   },
   "outputs": [],
   "source": [
    "# TODO\n",
    "# END TODO"
   ]
  },
  {
   "cell_type": "markdown",
   "metadata": {
    "id": "5_gDSgTv9fCu"
   },
   "source": [
    "##### 2.3.2 Implémentation de la fonction \"_rank_texts_\" (2 points)\n",
    "\n",
    "Implémentez la fonction \"_rank_texts_\", qui, au moyen de la précédente (_eval_similarity_), retourne le top-N (N=1,3,5) des documents pertinents pour une affirmation donnée (N est un paramètre). Ces documents devront être ordonnés du plus pertinent au moins pertinent. Idéalement, le document à la position 1 sera celui qui contient la preuve (ou justification) de l'affirmation. Il faudra retourner non pas les indices des documents dans le dataframe mais plutôt leur identifiants au niveau de la colonne \"_doc_id_\"."
   ]
  },
  {
   "cell_type": "code",
   "execution_count": null,
   "metadata": {
    "ExecuteTime": {
     "start_time": "2024-09-12T22:58:37.946745900Z"
    }
   },
   "outputs": [],
   "source": [
    "# TODO\n",
    "# END TODO"
   ]
  },
  {
   "cell_type": "markdown",
   "metadata": {},
   "source": [
    "##### 2.3.3 Préparation des dataframes de réponses (1 point) \n",
    "\n",
    "Vous allez écrire la fonction \"prepare_results_df\" qui crée les dataframes qui vont contenir les résultats de la recherche de documents pertinents pour les affirmations.\n",
    "\n",
    "La fonction \"prepare_results_df\" prend les arguments suivants:\n",
    "\n",
    "- '_df_': le dataframe original nommé '_df_claims_' à partir duquel on crée les autres, \n",
    "- '_columns_to_drop_': les colonnes à supprimer \n",
    "- '_column_to_rename_': le nom de la colonne de référence dans le dataframe original qui sera renommée \"gold standard passage\"\n",
    "\n",
    "et effectue les opérations suivantes:\n",
    "\n",
    "1. Créer un nouveau dataframe à partir de \"_df_claims_\" en supprimant toutes les colonnes sauf \"cited_doc_ids\".\n",
    "2. Renommer la colonne \"cited_doc_ids\" en \"gold standard passage\".\n",
    "3. Ajouter les colonnes \"top_1\", \"top_3\", et \"top_5\" au dataframe, \n",
    "en les initialisant avec des chaînes de zéros séparés par des points-\n",
    "virgules, correspondant respectivement à des configurations de 1, 3, et \n",
    "5 zéros pour toutes les lignes.\n",
    "\n",
    "Vous utiliserez ensuite cette fonction pour créer les dataframes \"results_titles_df\", \"results_abstracts_df\" et \"results_texts_df\", qui seront destinés à contenir les résultats de recherche de documents pour \"title\", \"abstract\" et \"text\" respectivement."
   ]
  },
  {
   "cell_type": "code",
   "execution_count": null,
   "metadata": {
    "ExecuteTime": {
     "start_time": "2024-09-12T22:58:37.956756400Z"
    }
   },
   "outputs": [],
   "source": [
    "# TODO\n",
    "# END TODO"
   ]
  },
  {
   "cell_type": "markdown",
   "metadata": {},
   "source": [
    "> Sortie attendue pour chaque dataframe préparé\n",
    "<div>\n",
    "<style scoped>\n",
    "    .dataframe tbody tr th:only-of-type {\n",
    "        vertical-align: middle;\n",
    "    }\n",
    "\n",
    "    .dataframe tbody tr th {\n",
    "        vertical-align: top;\n",
    "    }\n",
    "\n",
    "    .dataframe thead th {\n",
    "        text-align: right;\n",
    "    }\n",
    "</style>\n",
    "<table border=\"1\" class=\"dataframe\">\n",
    "  <thead>\n",
    "    <tr style=\"text-align: right;\">\n",
    "      <th></th>\n",
    "      <th>id</th>\n",
    "      <th>gold standard passage</th>\n",
    "      <th>top_1</th>\n",
    "      <th>top_3</th>\n",
    "      <th>top_5</th>\n",
    "    </tr>\n",
    "  </thead>\n",
    "  <tbody>\n",
    "    <tr>\n",
    "      <th>0</th>\n",
    "      <td>0</td>\n",
    "      <td>[31715818]</td>\n",
    "      <td>0</td>\n",
    "      <td>0;0;0</td>\n",
    "      <td>0;0;0;0;0</td>\n",
    "    </tr>\n",
    "    <tr>\n",
    "      <th>1</th>\n",
    "      <td>2</td>\n",
    "      <td>[13734012]</td>\n",
    "      <td>0</td>\n",
    "      <td>0;0;0</td>\n",
    "      <td>0;0;0;0;0</td>\n",
    "    </tr>\n",
    "    <tr>\n",
    "      <th>2</th>\n",
    "      <td>4</td>\n",
    "      <td>[22942787]</td>\n",
    "      <td>0</td>\n",
    "      <td>0;0;0</td>\n",
    "      <td>0;0;0;0;0</td>\n",
    "    </tr>\n",
    "  </tbody>\n",
    "</table>\n",
    "</div>"
   ]
  },
  {
   "cell_type": "markdown",
   "metadata": {},
   "source": [
    "##### 2.3.4 Implémentation de la fonction \"_fill_results_\" (2 points)\n",
    "\n",
    "Vous devez maintenant implémenter la fonction \"_fill_results_\" qui remplit les dataframes préparés dans l'étape précédente en utilisant les resultats de recherche de document.\n",
    "Cette fonction prend les arguments suivant: \n",
    "- \"_results_\" : matrice contenant les valeurs de similarite des affirmations et des documents\n",
    "- \"_results_texts_df_\" : Dataframe contenant les affirmations ainsi que les colonnes \"top_1\", \"top_3\", \"top_5\" où doivent être mis les top-n documents les plus pertinents.\n",
    "\n",
    "Les deux arguments contiennent le même nombre d'éléments et pour le même indice, font référence à la même affirmation."
   ]
  },
  {
   "cell_type": "code",
   "execution_count": null,
   "metadata": {
    "ExecuteTime": {
     "start_time": "2024-09-12T22:58:37.956756400Z"
    }
   },
   "outputs": [],
   "source": [
    "# TODO\n",
    "# END TODO"
   ]
  },
  {
   "cell_type": "markdown",
   "metadata": {
    "id": "EqRUGA9D9xoI"
   },
   "source": [
    "##### 2.3.5 Exécution des fonctions \"_rank_texts_\" et fill_results(2 points)\n",
    "\n",
    "Exécutez maintenant votre fonction \"_rank_texts_\" sur toutes les affirmations (claims) et toutes les représentations de documents (title, abstract, text) en mettant les résultats dans les variables \"results_texts\", \"results_titles\" et \"results_abstracts\". Ensuite appelez la fonction \"_fill_results_\" qui remplit les dataframes \"_results_titles_df_\", \"_results_abstracts_df_\", et \"_results_texts_df_\" contenant les résultats de recheche de documents."
   ]
  },
  {
   "cell_type": "code",
   "execution_count": null,
   "metadata": {
    "ExecuteTime": {
     "start_time": "2024-09-12T22:58:37.956756400Z"
    }
   },
   "outputs": [],
   "source": [
    "# TODO\n",
    "# END TODO"
   ]
  },
  {
   "cell_type": "markdown",
   "metadata": {},
   "source": [
    "##### 2.3.6 Enregistrement des dataframes \n",
    "\n",
    "On enregistre les dataframes dans des fichiers .csv."
   ]
  },
  {
   "cell_type": "code",
   "execution_count": null,
   "metadata": {
    "ExecuteTime": {
     "end_time": "2024-09-12T22:58:38.200622300Z",
     "start_time": "2024-09-12T22:58:37.963976900Z"
    }
   },
   "outputs": [],
   "source": [
    "# TODO\n",
    "# END TODO"
   ]
  },
  {
   "cell_type": "markdown",
   "metadata": {
    "id": "4qWHRy8oZvOt"
   },
   "source": [
    "##### 2.3.7 Implémentation de la fonction \"_show_top_n_passages_\" (3 points)\n",
    "\n",
    "Vous devez maintenant implémenter une fonction \"_show_top_n_passages_\" qui affiche le top-n ainsi que le texte (document) attendu pour une affirmation donnée. Ici on considère que document est representé par \"_text_\" donc la fusion du titre (\"_title_\") et du résumé (\"_abstract_\")"
   ]
  },
  {
   "cell_type": "code",
   "execution_count": null,
   "metadata": {
    "id": "-l9sKrgC-Sq7",
    "ExecuteTime": {
     "start_time": "2024-09-12T22:58:37.963976900Z"
    }
   },
   "outputs": [],
   "source": [
    "# TODO\n",
    "# END TODO"
   ]
  },
  {
   "cell_type": "markdown",
   "metadata": {},
   "source": [
    "##### 2.3.8 Affichage (1 point)\n",
    "\n",
    "Appliquez cette fonction sur l'affirmation ayant pour identifiant 211 et affichez le top-5 des documents les plus pertinents retrouvés."
   ]
  },
  {
   "cell_type": "code",
   "execution_count": null,
   "metadata": {
    "ExecuteTime": {
     "start_time": "2024-09-12T22:58:37.970537700Z"
    }
   },
   "outputs": [],
   "source": [
    "# TODO\n",
    "# END TODO"
   ]
  },
  {
   "cell_type": "markdown",
   "metadata": {},
   "source": [
    "##### 2.3.9 Évaluation (3 points)\n",
    "\n",
    "Vous devez maintenant implémenter la fonction \"_evaluate_\" qui, à partir des colonnes *Gold standard passage* et de vos top-N respectifs, calcule la précision top-N (N=1,3,5) sur l’ensemble de données en paramètre et l’affiche. \n",
    "\n",
    "Cette précision connue sous le nom \"precision at k (precision@k)\" se calcule de la manière suivante:\n",
    "\n",
    "\n",
    "$$\n",
    "\\text{precision@k} = \\frac{\\text{nombre d'éléments corrects}}{\\text{nombre total d'éléments k retrouvés}}\n",
    "$$\n",
    "\n",
    "\n",
    "Veillez à ce que la fonction soit générique. "
   ]
  },
  {
   "cell_type": "code",
   "execution_count": null,
   "metadata": {
    "ExecuteTime": {
     "start_time": "2024-09-12T22:58:37.970537700Z"
    }
   },
   "outputs": [],
   "source": [
    "# TODO\n",
    "# END TODO"
   ]
  },
  {
   "cell_type": "markdown",
   "metadata": {},
   "source": [
    "##### 2.3.10 Affichage (1 point)\n",
    "\n",
    "Appliquez cette fonction pour calculer la précision des documents retrouvés en utilisant les titres (\"_title_\"), les résumés (\"_abstract_\") et la fusion des deux (\"_text_\")."
   ]
  },
  {
   "cell_type": "code",
   "execution_count": null,
   "metadata": {
    "ExecuteTime": {
     "start_time": "2024-09-12T22:58:37.970537700Z"
    }
   },
   "outputs": [],
   "source": [
    "# TODO\n",
    "# END TODO"
   ]
  },
  {
   "cell_type": "markdown",
   "metadata": {},
   "source": [
    "##### 2.3.11 Graphique (2 points)\n",
    "\n",
    "Tracez un graphique des valeurs de précisions des documents retrouvés (\"__title__\", \"__abstract__\", \"__text__\") pour différents N (1,3,5)."
   ]
  },
  {
   "cell_type": "code",
   "execution_count": null,
   "metadata": {
    "ExecuteTime": {
     "start_time": "2024-09-12T22:58:37.980547100Z"
    }
   },
   "outputs": [],
   "source": [
    "# TODO\n",
    "# END TODO"
   ]
  },
  {
   "cell_type": "markdown",
   "metadata": {
    "id": "vI_2JXRxAygz"
   },
   "source": [
    "### 3 Amélioration avec BM25 (20 points)"
   ]
  },
  {
   "cell_type": "markdown",
   "metadata": {},
   "source": [
    "BM25 (Best Matching 25) est un algorithme de recherche utilisé pour évaluer la pertinence des documents par rapport à une requête. Basé sur le modèle de récupération d'informations probabilistes, BM25 calcule un score de pertinence en tenant compte de la fréquence des termes de la requête dans chaque document et dans le corpus global mais aussi de la longueur des documents. \n",
    "\n",
    "BM25 est pertinent pour la recherche d'information car il offre un bon équilibre entre précision et rappel, il gère efficacement de grandes collections de documents et permet des ajustements pour différents types de corpus. Il est largement utilisé dans les moteurs de recherche et les systèmes de recommandation.\n",
    "\n",
    "Dans cette partie on vous demande de la tester au moyen de la librairie rank_bm25 pour cette tâche de recherche de texte qui justifie ou contredit une affirmation donnée. Vous allez utiliser le corpus et les affirmations et procéder comme indiqué dans la suite."
   ]
  },
  {
   "cell_type": "markdown",
   "metadata": {},
   "source": [
    "##### 3.1 Initialisation du modèle BM25 (3 points)\n",
    "Réutilisez les variables \"claims_preprocessed_joined\", \"texts_preprocessed_joined\", \"titles_preprocessed_joined\" et \"abstract_preprocessed_joined\" définies à la question `2.2.1` pour initialiser les modèles BM25 pour les documents (\"__titles__\", \"__abstracts__\" et \"__text__\"). Il faudra transformer chaque séquence (dont les jetons étaient joints pour former une seule chaîne) en une liste de jetons. Vous utiliserez la classe \"_BM250kapi_\" à ce niveau. "
   ]
  },
  {
   "cell_type": "code",
   "execution_count": null,
   "metadata": {
    "ExecuteTime": {
     "start_time": "2024-09-12T22:58:37.980547100Z"
    }
   },
   "outputs": [],
   "source": [
    "# TODO\n",
    "# END TODO"
   ]
  },
  {
   "cell_type": "markdown",
   "metadata": {},
   "source": [
    "##### 3.2 Utilisation du modèle BM25 (5 points)\n",
    "\n",
    "Retrouvez les identifiants des documents pour les cinq meilleures correspondances de \"_title_\", de \"_abstract_\" et de \"_text_\" en utilisant le score BM25 pour chaque affirmation (claim) traitée, et mettez à jour les résultats avec les identifiants de documents correspondants."
   ]
  },
  {
   "cell_type": "code",
   "execution_count": null,
   "metadata": {
    "ExecuteTime": {
     "start_time": "2024-09-12T22:58:37.980547100Z"
    }
   },
   "outputs": [],
   "source": [
    "# TODO\n",
    "# END TODO"
   ]
  },
  {
   "cell_type": "markdown",
   "metadata": {},
   "source": [
    "##### 3.3 Affichage des performances (4 points)\n",
    "\n",
    "Affichez les résultats des performances BM25 pour les configurations Top1, Top3 et Top5 avec \"_title_\", \"_asbtract_\" et \"_text_\"."
   ]
  },
  {
   "cell_type": "code",
   "execution_count": null,
   "metadata": {
    "ExecuteTime": {
     "start_time": "2024-09-12T22:58:37.980547100Z"
    }
   },
   "outputs": [],
   "source": [
    "# TODO\n",
    "# END TODO"
   ]
  },
  {
   "cell_type": "markdown",
   "metadata": {},
   "source": [
    "##### 3.4 Graphique (4 points)\n",
    "\n",
    "Dans un même graphique, affichez les performances pour les deux modèles (TF-IDF et BM25) dans la recherche des documents (text, title et abstract) pour les affirmations."
   ]
  },
  {
   "cell_type": "code",
   "execution_count": null,
   "metadata": {
    "ExecuteTime": {
     "start_time": "2024-09-12T22:58:37.990548200Z"
    }
   },
   "outputs": [],
   "source": [
    "# TODO\n",
    "# END TODO"
   ]
  },
  {
   "cell_type": "markdown",
   "metadata": {},
   "source": [
    "##### 3.5 Observation (4 points)\n",
    "\n",
    "Par rapport à vos résultats avec TF-IDF, observez-vous une amélioration ou une détérioration des performances, qu'est ce qui explique cela ? (Donnez au moins trois justifications)"
   ]
  },
  {
   "cell_type": "markdown",
   "metadata": {
    "id": "DVYiuH8aeB8x"
   },
   "source": [
    "## Livrables\n",
    "Vous devez remettre votre notebook sur Moodle et Gradescope en ipynb et pdf. Pour Gradescope vous devez associer les numéros de questions avec vos réponses dans le pdf grâce à l'outil que fournit Gradescope.\n",
    "\n",
    "\n",
    "## Évaluation \n",
    "Votre TP sera évalué selon les critères suivants :\n",
    "1. Exécution correcte du code et obtention des sorties attendues\n",
    "2. Réponses correctes aux questions d'analyse\n",
    "3. Qualité du code (noms significatifs, structure, performance, gestion d’exception, etc.)\n",
    "4. Commentaires clairs et informatifs\n"
   ]
  }
 ],
 "metadata": {
  "colab": {
   "collapsed_sections": [
    "1tMX8go24rB_",
    "4ItqD8yL-utW",
    "0kzLIzqD-vp7",
    "VIRjMFlY-wHL",
    "R41oj9nI-wwi",
    "3FibZKYkHi06"
   ],
   "name": "TP2 solution.ipynb",
   "provenance": []
  },
  "kernelspec": {
   "name": "python3",
   "language": "python",
   "display_name": "Python 3 (ipykernel)"
  },
  "language_info": {
   "codemirror_mode": {
    "name": "ipython",
    "version": 3
   },
   "file_extension": ".py",
   "mimetype": "text/x-python",
   "name": "python",
   "nbconvert_exporter": "python",
   "pygments_lexer": "ipython3",
   "version": "3.12.3"
  }
 },
 "nbformat": 4,
 "nbformat_minor": 1
}
