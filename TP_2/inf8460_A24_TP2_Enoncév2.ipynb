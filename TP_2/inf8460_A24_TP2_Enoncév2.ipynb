{
 "cells": [
  {
   "cell_type": "markdown",
   "metadata": {},
   "source": [
    "##### INF8460 – Traitement automatique de la langue naturelle - Automne 2024\n",
    "\n",
    "## TP2: Plongements de mots"
   ]
  },
  {
   "cell_type": "markdown",
   "metadata": {},
   "source": [
    "## Identification de l'équipe:\n",
    "\n",
    "### Groupe de laboratoire:\n",
    "\n",
    "### Equipe numéro :\n",
    "\n",
    "### Membres:\n",
    "\n",
    "- membre 1 (% de contribution, nature de la contribution)\n",
    "- membre 2 (% de contribution, nature de la contribution)\n",
    "- membre 3 (% de contribution, nature de la contribution)\n",
    "\n",
    "* nature de la contribution: Décrivez brièvement ce qui a été fait par chaque membre de l’équipe. Tous les membres sont censés contribuer au développement. Bien que chaque membre puisse effectuer différentes tâches, vous devez vous efforcer d’obtenir une répartition égale du travail. Soyez précis ! N'indiquez pas seulement : travail réparti équitablement"
   ]
  },
  {
   "cell_type": "markdown",
   "metadata": {},
   "source": [
    "### Objectif du TP\n",
    "\n",
    "L'objectif de ce TP est d'entraîner un modèle de plongements lexicaux qui intègre des notions de synonymie et d'antonymie en utilisant des réseaux de neurones. \n",
    "\n",
    "Contrairement aux plongements vus en cours comme GloVe ou Word2Vec, qui positionnent souvent les mots à proximité équivalente de leurs synonymes et antonymes, nous chercherons à faire distinguer à nos modèles les synonymes et antonymes, en rapprochant les mots de leurs synonymes et en les éloignant de leurs antonymes.\n",
    "\n",
    "### Jeux de données\n",
    "\n",
    "**Paires de synonymes et antonymes** (entraînement) : Les fichiers `train_synonyms.txt` et `train_antonymms.txt` contiennent les paires de synonymes et d'antonymes qui serviront à l'entraînement de nos modèles.\n",
    "- train_synonyms: ~640k paires de synonymes\n",
    "- train_antonyms: ~12k paires d'antonymes\n",
    "\n",
    "**SimLex-999** (test) : Le fichier `simlex_english.txt` contient 1000 paires de mots et leur similarité entre 0 et 10. Des antonymes auront une similarité de 0 et des mots proches auront une similarité plus élevée. Par exemples :\n",
    "\n",
    "- *nice* & *cruel* -> 0\n",
    "- *violent* & *angry* -> 5.9\n",
    "- *essential* & *necessary* -> 9.8\n",
    "\n",
    "### Développement du TP\n",
    "\n",
    "Le TP suivra les étapes suivantes:\n",
    "\n",
    "- Partie 1 : Familiarisation avec GloVe, modèle de plongements de mots pré-entraîné\n",
    "- Partie 2 : Évaluation de GloVe sur SimLex-999\n",
    "- Partie 3 : Mise en place de la méthode d'entraînement\n",
    "- Partie 4 : Entraînement de zéro (baseline)\n",
    "- Partie 5 : Entraînement utilisant GloVe pré-entraîné et conclusion\n",
    "\n",
    "Le TP est noté sur 89 points."
   ]
  },
  {
   "cell_type": "markdown",
   "metadata": {},
   "source": [
    "### Librairies autorisées\n",
    "\n",
    "+ numpy\n",
    "+ pandas\n",
    "+ torch\n",
    "+ matplotlib\n",
    "\n",
    "Si vous voulez utiliser une autre librairie, veuillez demander à votre chargé de lab.\n",
    "\n",
    "### Imports\n",
    "\n",
    "Les imports effectués dans la cellule suivante devraient être suffisants pour faire tout ce TP."
   ]
  },
  {
   "cell_type": "code",
   "execution_count": 1,
   "metadata": {
    "ExecuteTime": {
     "end_time": "2024-10-02T17:33:53.552257500Z",
     "start_time": "2024-10-02T17:33:50.963112500Z"
    }
   },
   "outputs": [],
   "source": [
    "from tqdm import tqdm\n",
    "import gc\n",
    "\n",
    "import numpy as np\n",
    "import pandas as pd\n",
    "import matplotlib.pyplot as plt\n",
    "\n",
    "import torch\n",
    "import torch.nn as nn\n",
    "import torch.nn.functional as F\n",
    "import torch.optim as optim\n",
    "from torch.utils.data import DataLoader"
   ]
  },
  {
   "cell_type": "markdown",
   "metadata": {},
   "source": [
    "### 1. GloVe (10 Points)"
   ]
  },
  {
   "cell_type": "markdown",
   "metadata": {},
   "source": [
    "Dans ce TP, nous allons utiliser le modèle pré-entraîné GloVe qui crée des plongements lexicaux de mots."
   ]
  },
  {
   "cell_type": "markdown",
   "metadata": {},
   "source": [
    "#### 1.1 Chargement du modèle\n",
    "\n",
    "La cellule suivante permet charger le modèle GloVe pré-entraîné. Le chargement du modèle peut prendre quelques minutes."
   ]
  },
  {
   "cell_type": "code",
   "execution_count": 2,
   "metadata": {
    "ExecuteTime": {
     "end_time": "2024-10-02T17:33:53.559881400Z",
     "start_time": "2024-10-02T17:33:53.555970700Z"
    }
   },
   "outputs": [],
   "source": [
    "# # Décommenter pour télécharger les GloVe embeddings à partir de https://nlp.stanford.edu/projects/glove/\n",
    "# !wget http://nlp.stanford.edu/data/glove.42B.300d.zip -P /content\n",
    "# !unzip /content/glove.42B.300d.zip -d /content"
   ]
  },
  {
   "cell_type": "code",
   "execution_count": 3,
   "metadata": {
    "ExecuteTime": {
     "end_time": "2024-10-02T17:33:53.560413600Z",
     "start_time": "2024-10-02T17:33:53.560413600Z"
    }
   },
   "outputs": [],
   "source": [
    "pretrained_model_path = 'glove.42B.300d.txt'\n",
    "\n",
    "data_root = 'data'\n",
    "\n",
    "train_synonyms_path = f\"{data_root}/train_synonyms.txt\"\n",
    "train_antonyms_path = f\"{data_root}/train_antonyms.txt\"\n",
    "\n",
    "eval_simlex = f'{data_root}/simlex_english.txt'"
   ]
  },
  {
   "cell_type": "code",
   "execution_count": 4,
   "metadata": {
    "ExecuteTime": {
     "end_time": "2024-10-02T17:33:53.565421100Z",
     "start_time": "2024-10-02T17:33:53.560413600Z"
    }
   },
   "outputs": [],
   "source": [
    "def load_word_vectors(filepath, vocab=None):\n",
    "    \"\"\"\n",
    "    Télécharge le modèle pré-entraîné de plongements de mots en pytorch\n",
    "    \"\"\"\n",
    "    word_to_index = {}\n",
    "    embeddings = []\n",
    "    index = 0\n",
    "\n",
    "    with open(filepath, 'r', encoding='utf-8') as f:\n",
    "        for line in f:\n",
    "            split_line = line.split()\n",
    "            word = split_line[0]\n",
    "            if vocab is None or word in vocab:\n",
    "                embedding = np.array(split_line[1:], dtype=np.float32)\n",
    "                word_to_index[word] = index\n",
    "                embeddings.append(embedding)\n",
    "                index += 1\n",
    "    \n",
    "    embeddings = np.stack(embeddings)\n",
    "    embeddings = torch.from_numpy(embeddings)\n",
    "    return word_to_index, embeddings"
   ]
  },
  {
   "cell_type": "code",
   "execution_count": 5,
   "metadata": {
    "ExecuteTime": {
     "end_time": "2024-10-02T17:35:29.954781400Z",
     "start_time": "2024-10-02T17:33:53.565421100Z"
    }
   },
   "outputs": [],
   "source": [
    "word_to_index, embeddings = load_word_vectors(pretrained_model_path)"
   ]
  },
  {
   "cell_type": "code",
   "execution_count": 6,
   "metadata": {
    "ExecuteTime": {
     "end_time": "2024-10-02T17:35:30.009357500Z",
     "start_time": "2024-10-02T17:35:30.001689400Z"
    }
   },
   "outputs": [
    {
     "data": {
      "text/plain": "{',': 0,\n 'the': 1,\n '.': 2,\n 'and': 3,\n 'to': 4,\n 'of': 5,\n 'a': 6,\n 'in': 7,\n '\"': 8,\n 'is': 9,\n 'for': 10,\n ':': 11,\n 'i': 12,\n ')': 13,\n 'that': 14,\n '(': 15,\n 'you': 16,\n 'it': 17,\n 'on': 18,\n '-': 19,\n 'with': 20,\n \"'s\": 21,\n 'this': 22,\n 'by': 23,\n 'are': 24,\n 'at': 25,\n 'as': 26,\n 'be': 27,\n 'from': 28,\n 'have': 29,\n 'was': 30,\n 'or': 31,\n 'your': 32,\n 'not': 33,\n '...': 34,\n 'we': 35,\n '!': 36,\n 'but': 37,\n '?': 38,\n 'all': 39,\n 'will': 40,\n 'an': 41,\n 'my': 42,\n 'can': 43,\n 'they': 44,\n \"n't\": 45,\n 'do': 46,\n 'he': 47,\n 'more': 48,\n 'if': 49,\n 'one': 50,\n 'has': 51,\n '|': 52,\n 'so': 53,\n 'about': 54,\n 'new': 55,\n 'what': 56,\n 'his': 57,\n 'there': 58,\n 'up': 59,\n 'out': 60,\n ';': 61,\n 'their': 62,\n 'our': 63,\n \"'\": 64,\n 'like': 65,\n 'when': 66,\n '$': 67,\n 'just': 68,\n 'time': 69,\n '&': 70,\n 'me': 71,\n 'which': 72,\n 'who': 73,\n 'no': 74,\n 'would': 75,\n '/': 76,\n '1': 77,\n 'some': 78,\n 'get': 79,\n '[': 80,\n ']': 81,\n 'also': 82,\n 'other': 83,\n 'how': 84,\n 'may': 85,\n 'had': 86,\n 'am': 87,\n 'been': 88,\n '2': 89,\n 'her': 90,\n 'were': 91,\n 'them': 92,\n 'people': 93,\n 'she': 94,\n 'any': 95,\n 'now': 96,\n 'only': 97,\n 'pm': 98,\n 'first': 99,\n 'than': 100,\n 'good': 101,\n '>': 102,\n 'into': 103,\n 'its': 104,\n 'these': 105,\n 'us': 106,\n 'see': 107,\n 'here': 108,\n 'make': 109,\n 'home': 110,\n '3': 111,\n 'very': 112,\n 'over': 113,\n 'most': 114,\n 'then': 115,\n 'know': 116,\n 'said': 117,\n 'after': 118,\n 'well': 119,\n 'use': 120,\n 'two': 121,\n '%': 122,\n 'did': 123,\n 'could': 124,\n 'day': 125,\n 'great': 126,\n 'free': 127,\n 'many': 128,\n 'back': 129,\n 'way': 130,\n 'work': 131,\n 'because': 132,\n \"'m\": 133,\n 'best': 134,\n 'should': 135,\n 'even': 136,\n 'year': 137,\n 'think': 138,\n 'years': 139,\n 'much': 140,\n 'does': 141,\n 'where': 142,\n '4': 143,\n 'go': 144,\n 'love': 145,\n 'need': 146,\n 'last': 147,\n 'find': 148,\n '2012': 149,\n '=': 150,\n 'world': 151,\n 'really': 152,\n 'information': 153,\n 'through': 154,\n 'want': 155,\n '#': 156,\n '5': 157,\n 'him': 158,\n 'right': 159,\n 'take': 160,\n 'views': 161,\n 'such': 162,\n 'made': 163,\n 'those': 164,\n 'business': 165,\n 'life': 166,\n '2011': 167,\n 'before': 168,\n 'being': 169,\n '--': 170,\n 'off': 171,\n 'used': 172,\n 'help': 173,\n '10': 174,\n 'while': 175,\n 'posted': 176,\n \"'re\": 177,\n 'too': 178,\n 'still': 179,\n \"'ve\": 180,\n 'down': 181,\n '2010': 182,\n 'going': 183,\n 'video': 184,\n 'part': 185,\n 'online': 186,\n 'each': 187,\n 'little': 188,\n 'high': 189,\n '+': 190,\n 'look': 191,\n 'around': 192,\n 'same': 193,\n 'game': 194,\n 'read': 195,\n 'service': 196,\n '2009': 197,\n 'long': 198,\n 'why': 199,\n 'school': 200,\n 'state': 201,\n '6': 202,\n 'post': 203,\n 'city': 204,\n 'own': 205,\n 'every': 206,\n 'system': 207,\n 'next': 208,\n \"'ll\": 209,\n 'news': 210,\n 'site': 211,\n 'say': 212,\n 'got': 213,\n 'both': 214,\n 'under': 215,\n 'top': 216,\n 'set': 217,\n 'another': 218,\n 'since': 219,\n 'things': 220,\n 'available': 221,\n 'show': 222,\n 'place': 223,\n 'using': 224,\n 'better': 225,\n 'page': 226,\n 'never': 227,\n 'please': 228,\n 'come': 229,\n 'big': 230,\n 'today': 231,\n 's': 232,\n 'family': 233,\n 'music': 234,\n 'services': 235,\n 'full': 236,\n 'something': 237,\n 'number': 238,\n 'company': 239,\n 'few': 240,\n '7': 241,\n 'price': 242,\n 'ca': 243,\n 'between': 244,\n 'days': 245,\n 'book': 246,\n '0': 247,\n 'name': 248,\n 'view': 249,\n 'found': 250,\n 'ago': 251,\n 'real': 252,\n 'without': 253,\n 'old': 254,\n 'search': 255,\n 'always': 256,\n 'black': 257,\n 'house': 258,\n '2008': 259,\n 'three': 260,\n '8': 261,\n 'man': 262,\n 'must': 263,\n 'during': 264,\n 'again': 265,\n 'end': 266,\n '12': 267,\n 'different': 268,\n 'lot': 269,\n 'health': 270,\n 'looking': 271,\n 'week': 272,\n 'sure': 273,\n 'group': 274,\n 'give': 275,\n '20': 276,\n 'team': 277,\n 'power': 278,\n 'times': 279,\n 'let': 280,\n 'car': 281,\n 'area': 282,\n 'buy': 283,\n 'money': 284,\n 'water': 285,\n 'keep': 286,\n 'support': 287,\n 'web': 288,\n 'data': 289,\n 'live': 290,\n 'comments': 291,\n 'small': 292,\n '.....': 293,\n 'play': 294,\n 'including': 295,\n 'x': 296,\n 'thing': 297,\n 'list': 298,\n 'put': 299,\n 'children': 300,\n 'design': 301,\n 'women': 302,\n 'might': 303,\n 'white': 304,\n 'public': 305,\n 'point': 306,\n 'order': 307,\n '2013': 308,\n 'call': 309,\n 'second': 310,\n 'local': 311,\n 'says': 312,\n 'case': 313,\n 'care': 314,\n 'download': 315,\n 'reblogged': 316,\n 'program': 317,\n '....': 318,\n 'night': 319,\n '15': 320,\n 'blog': 321,\n 'away': 322,\n 'start': 323,\n 'products': 324,\n 'review': 325,\n 'against': 326,\n 'left': 327,\n 'however': 328,\n 'center': 329,\n 'feel': 330,\n 'having': 331,\n '11': 332,\n 'website': 333,\n 'line': 334,\n 'thanks': 335,\n 'food': 336,\n 'ever': 337,\n '9': 338,\n 'open': 339,\n 'university': 340,\n 'room': 341,\n 'though': 342,\n '30': 343,\n 'god': 344,\n 'product': 345,\n 'national': 346,\n 'change': 347,\n 'making': 348,\n 'experience': 349,\n 'add': 350,\n '2007': 351,\n 'internet': 352,\n 'hotel': 353,\n 'check': 354,\n 'job': 355,\n 'getting': 356,\n 'date': 357,\n \"'d\": 358,\n 'quality': 359,\n 'once': 360,\n 'course': 361,\n 'american': 362,\n 'hard': 363,\n 'within': 364,\n 'contact': 365,\n 'until': 366,\n 'try': 367,\n 'sale': 368,\n 'games': 369,\n 'side': 370,\n 'able': 371,\n 'county': 372,\n 'phone': 373,\n 'research': 374,\n 'community': 375,\n 'software': 376,\n 'working': 377,\n 'march': 378,\n 'art': 379,\n 'yet': 380,\n 'months': 381,\n 'body': 382,\n 'easy': 383,\n 'control': 384,\n 'story': 385,\n 'done': 386,\n 'light': 387,\n 'de': 388,\n 'click': 389,\n 'country': 390,\n 'provide': 391,\n 'market': 392,\n 'results': 393,\n 'large': 394,\n 'person': 395,\n 'actually': 396,\n 'less': 397,\n 'office': 398,\n 'enough': 399,\n 'men': 400,\n 'government': 401,\n 'june': 402,\n 'following': 403,\n 'special': 404,\n 'international': 405,\n 'states': 406,\n 'report': 407,\n 'makes': 408,\n 'per': 409,\n 'important': 410,\n 'united': 411,\n 'series': 412,\n 'april': 413,\n 'doing': 414,\n 'size': 415,\n 'air': 416,\n 'hours': 417,\n 'red': 418,\n 'john': 419,\n 'south': 420,\n 'project': 421,\n 'thought': 422,\n 'nice': 423,\n 'management': 424,\n 'based': 425,\n 'run': 426,\n 'development': 427,\n '100': 428,\n 'type': 429,\n 'history': 430,\n 'least': 431,\n 'friends': 432,\n '18': 433,\n '14': 434,\n '13': 435,\n 'email': 436,\n 'party': 437,\n 'general': 438,\n 'north': 439,\n '16': 440,\n 'law': 441,\n 'bad': 442,\n 'far': 443,\n '25': 444,\n 'head': 445,\n 'problem': 446,\n 'already': 447,\n 'called': 448,\n 'process': 449,\n 'january': 450,\n 'fun': 451,\n 'york': 452,\n 'someone': 453,\n 'hope': 454,\n 'students': 455,\n 'watch': 456,\n 'hot': 457,\n 'photo': 458,\n 'level': 459,\n 'movie': 460,\n 'comment': 461,\n 'july': 462,\n 'media': 463,\n 'together': 464,\n 'needs': 465,\n '!!': 466,\n 'others': 467,\n '24': 468,\n 'include': 469,\n 'young': 470,\n 'season': 471,\n 'members': 472,\n 'version': 473,\n 'started': 474,\n 'offer': 475,\n 'went': 476,\n 'form': 477,\n 'anything': 478,\n 'several': 479,\n 'file': 480,\n 'bit': 481,\n 'road': 482,\n 'tell': 483,\n '@': 484,\n 'link': 485,\n 'article': 486,\n 'pretty': 487,\n 'often': 488,\n 'four': 489,\n 'february': 490,\n 'park': 491,\n 'tv': 492,\n 'came': 493,\n 'hand': 494,\n 'yes': 495,\n 'everything': 496,\n 'green': 497,\n 'share': 498,\n 'access': 499,\n 'social': 500,\n 'fact': 501,\n 'reviews': 502,\n 'personal': 503,\n 'visit': 504,\n 'single': 505,\n 'along': 506,\n 'become': 507,\n '~': 508,\n 'points': 509,\n 'plan': 510,\n 'added': 511,\n 'october': 512,\n 'reply': 513,\n 'believe': 514,\n 'technology': 515,\n '2006': 516,\n 'possible': 517,\n 'photos': 518,\n 'street': 519,\n 'everyone': 520,\n 'past': 521,\n 'anyone': 522,\n 'below': 523,\n 'features': 524,\n 'means': 525,\n 'west': 526,\n 'windows': 527,\n 'current': 528,\n 'related': 529,\n 'september': 530,\n 'details': 531,\n 'november': 532,\n 'code': 533,\n 'sex': 534,\n 'tags': 535,\n 'college': 536,\n 'nothing': 537,\n 'class': 538,\n 'event': 539,\n 'card': 540,\n '17': 541,\n 'seen': 542,\n 'december': 543,\n 're': 544,\n 'minutes': 545,\n 'august': 546,\n 'value': 547,\n 'training': 548,\n 'beautiful': 549,\n 'early': 550,\n 'took': 551,\n 'security': 552,\n 'true': 553,\n 'education': 554,\n 'comes': 555,\n 'kind': 556,\n 'source': 557,\n 'song': 558,\n 'board': 559,\n 'film': 560,\n 'learn': 561,\n 'low': 562,\n 'happy': 563,\n 'question': 564,\n 'front': 565,\n 'kids': 566,\n 'property': 567,\n 'reading': 568,\n 'probably': 569,\n 'short': 570,\n 'above': 571,\n 'create': 572,\n 'computer': 573,\n 'whole': 574,\n 'blue': 575,\n 'either': 576,\n 'given': 577,\n 'example': 578,\n 'heart': 579,\n '£': 580,\n 'near': 581,\n 'parts': 582,\n 'member': 583,\n 'future': 584,\n 'whether': 585,\n 'building': 586,\n 'insurance': 587,\n 'girl': 588,\n 'c': 589,\n '21': 590,\n 'energy': 591,\n '19': 592,\n 'image': 593,\n 'million': 594,\n 'child': 595,\n 'face': 596,\n 'maybe': 597,\n 'pay': 598,\n 'mind': 599,\n 'thank': 600,\n 'close': 601,\n 'books': 602,\n '22': 603,\n 'complete': 604,\n 'network': 605,\n 'main': 606,\n 'u.s.': 607,\n 'trying': 608,\n 'war': 609,\n 'location': 610,\n 'later': 611,\n 'user': 612,\n 'offers': 613,\n 'month': 614,\n 'credit': 615,\n 'president': 616,\n 'save': 617,\n 'idea': 618,\n 'human': 619,\n 'jobs': 620,\n 'words': 621,\n 'works': 622,\n 'travel': 623,\n 'perfect': 624,\n 'total': 625,\n 'cost': 626,\n 'store': 627,\n 'looks': 628,\n 'questions': 629,\n 'almost': 630,\n 'original': 631,\n 'model': 632,\n 'style': 633,\n 'systems': 634,\n 'medical': 635,\n 'space': 636,\n 'action': 637,\n 'sales': 638,\n 'taking': 639,\n 'quite': 640,\n 'age': 641,\n '50': 642,\n 'club': 643,\n 'living': 644,\n 'known': 645,\n 'stop': 646,\n 'posts': 647,\n 'oh': 648,\n '\\\\': 649,\n 'drive': 650,\n 'talk': 651,\n 'box': 652,\n 'events': 653,\n 'color': 654,\n 'content': 655,\n 'study': 656,\n 'companies': 657,\n 'via': 658,\n 'baby': 659,\n '!!!': 660,\n 'church': 661,\n 'b': 662,\n 'natural': 663,\n 'issue': 664,\n 'coming': 665,\n 'test': 666,\n 'major': 667,\n 'five': 668,\n 'performance': 669,\n 'industry': 670,\n 'mean': 671,\n 'america': 672,\n 'key': 673,\n 'uk': 674,\n 'enjoy': 675,\n 'collection': 676,\n 'range': 677,\n 'rate': 678,\n 'marketing': 679,\n 'told': 680,\n 'simple': 681,\n '23': 682,\n 'seems': 683,\n 'digital': 684,\n 'ask': 685,\n 'rights': 686,\n 'court': 687,\n 'due': 688,\n 'sound': 689,\n 'friend': 690,\n 'send': 691,\n 'across': 692,\n 'word': 693,\n '2005': 694,\n 'remember': 695,\n 'leave': 696,\n 'according': 697,\n 'professional': 698,\n 'soon': 699,\n 'wanted': 700,\n 'problems': 701,\n 'miles': 702,\n 'else': 703,\n 'private': 704,\n 'includes': 705,\n 'english': 706,\n 'field': 707,\n 'rather': 708,\n 'cover': 709,\n 'beach': 710,\n 'issues': 711,\n 'stay': 712,\n 'taken': 713,\n 'message': 714,\n 'girls': 715,\n 'reason': 716,\n '>>': 717,\n 'pictures': 718,\n 'address': 719,\n 'financial': 720,\n 'turn': 721,\n 'guide': 722,\n 'although': 723,\n 'especially': 724,\n 'move': 725,\n 'oil': 726,\n 'prices': 727,\n 'half': 728,\n 'star': 729,\n 'simply': 730,\n 'press': 731,\n 'estate': 732,\n 'continue': 733,\n 'running': 734,\n 'section': 735,\n 'woman': 736,\n 'weeks': 737,\n 'policy': 738,\n 'latest': 739,\n 'return': 740,\n '26': 741,\n 'la': 742,\n 'department': 743,\n 'shows': 744,\n 'stock': 745,\n '28': 746,\n 'title': 747,\n 'summer': 748,\n 'provides': 749,\n 'picture': 750,\n 'deal': 751,\n 'note': 752,\n 'm': 753,\n 'win': 754,\n 'paper': 755,\n 'town': 756,\n 'meet': 757,\n 'mobile': 758,\n 'items': 759,\n 'hair': 760,\n 'understand': 761,\n ':)': 762,\n 'friday': 763,\n 'further': 764,\n 'weight': 765,\n 'follow': 766,\n 'application': 767,\n 't': 768,\n 'account': 769,\n 'asked': 770,\n 'plus': 771,\n 'staff': 772,\n 'item': 773,\n 'death': 774,\n 'bring': 775,\n 'sports': 776,\n 'player': 777,\n 'lost': 778,\n 'google': 779,\n '_': 780,\n 'published': 781,\n 'gold': 782,\n 'london': 783,\n 'gets': 784,\n 'act': 785,\n 'among': 786,\n 'shop': 787,\n 'east': 788,\n 'upon': 789,\n 'guy': 790,\n '27': 791,\n 'wedding': 792,\n 'subject': 793,\n 'd': 794,\n 'instead': 795,\n 'morning': 796,\n 'videos': 797,\n 'usually': 798,\n 'clear': 799,\n 'science': 800,\n 'couple': 801,\n 'playing': 802,\n 'standard': 803,\n 'present': 804,\n 'recent': 805,\n 'san': 806,\n 'david': 807,\n 'lyrics': 808,\n 'release': 809,\n 'currently': 810,\n 'table': 811,\n 'etc.': 812,\n 'daily': 813,\n 'record': 814,\n 'stuff': 815,\n 'matter': 816,\n 'required': 817,\n 'fire': 818,\n 'inside': 819,\n 'needed': 820,\n 'sun': 821,\n 'writing': 822,\n 'favorite': 823,\n 'final': 824,\n 'various': 825,\n 'behind': 826,\n 'third': 827,\n 'dog': 828,\n 'common': 829,\n 'provided': 830,\n 'u': 831,\n 'saw': 832,\n 'cool': 833,\n 'guys': 834,\n 'california': 835,\n 'popular': 836,\n 'tax': 837,\n 'interest': 838,\n 'located': 839,\n 'meeting': 840,\n 'rock': 841,\n 'takes': 842,\n 'cheap': 843,\n 'fast': 844,\n 'choose': 845,\n 'position': 846,\n 'links': 847,\n 'similar': 848,\n 'name@domain.com': 849,\n 'hit': 850,\n 'forum': 851,\n 'write': 852,\n 'cut': 853,\n '29': 854,\n 'n': 855,\n 'written': 856,\n 'users': 857,\n 'areas': 858,\n 'info': 859,\n 'sites': 860,\n 'sunday': 861,\n 'created': 862,\n 'result': 863,\n 'amazing': 864,\n 'yourself': 865,\n 'lead': 866,\n 'treatment': 867,\n 'saturday': 868,\n 'cannot': 869,\n 'wo': 870,\n 'terms': 871,\n 'pages': 872,\n 'bill': 873,\n 'land': 874,\n 'e': 875,\n 'fine': 876,\n 'cause': 877,\n 'designed': 878,\n 'resources': 879,\n 'images': 880,\n 'rest': 881,\n 'goes': 882,\n 'wrong': 883,\n 'outside': 884,\n 'band': 885,\n 'ready': 886,\n 'sometimes': 887,\n 'author': 888,\n 'amount': 889,\n 'text': 890,\n 'sign': 891,\n '2004': 892,\n 'customer': 893,\n 'mr.': 894,\n 'police': 895,\n 'changes': 896,\n 'players': 897,\n 'join': 898,\n 'equipment': 899,\n 'longer': 900,\n 'usa': 901,\n 'recently': 902,\n 'finally': 903,\n 'central': 904,\n 'student': 905,\n 'myself': 906,\n 'bank': 907,\n 'choice': 908,\n 'previous': 909,\n 'percent': 910,\n 'programs': 911,\n 'hotels': 912,\n 'map': 913,\n 'step': 914,\n 'w': 915,\n 'washington': 916,\n 'interesting': 917,\n 'strong': 918,\n 'ways': 919,\n 'late': 920,\n 'customers': 921,\n 'director': 922,\n 'global': 923,\n 'period': 924,\n 'mark': 925,\n 'category': 926,\n '{': 927,\n 'welcome': 928,\n 'mother': 929,\n 'bar': 930,\n 'hear': 931,\n 'homes': 932,\n 'held': 933,\n 'shall': 934,\n 'movies': 935,\n 'received': 936,\n 'king': 937,\n 'unique': 938,\n 'forward': 939,\n 'description': 940,\n 'door': 941,\n 'answer': 942,\n 'jan': 943,\n 'christmas': 944,\n 'tools': 945,\n 'james': 946,\n 'worth': 947,\n 'certain': 948,\n 'additional': 949,\n 'fall': 950,\n 'safety': 951,\n 'wall': 952,\n 'heard': 953,\n 'gift': 954,\n 'bed': 955,\n 'material': 956,\n 'excellent': 957,\n 'st.': 958,\n 'practice': 959,\n 'conference': 960,\n 'inc.': 961,\n 'language': 962,\n 'brand': 963,\n 'speed': 964,\n 'wish': 965,\n 'wait': 966,\n 'obama': 967,\n 'included': 968,\n 'build': 969,\n 'sense': 970,\n 'monday': 971,\n 'track': 972,\n 'lol': 973,\n 'learning': 974,\n 'saying': 975,\n 'skin': 976,\n 'loss': 977,\n 'quote': 978,\n 'lake': 979,\n 'huge': 980,\n 'production': 981,\n 'thinking': 982,\n 'six': 983,\n 'album': 984,\n 'brown': 985,\n 'radio': 986,\n 'super': 987,\n 'china': 988,\n 'likely': 989,\n 'society': 990,\n 'eyes': 991,\n 'update': 992,\n 'options': 993,\n '40': 994,\n 'son': 995,\n 'screen': 996,\n 'engine': 997,\n 'wrote': 998,\n 'paul': 999,\n ...}"
     },
     "execution_count": 6,
     "metadata": {},
     "output_type": "execute_result"
    }
   ],
   "source": [
    "word_to_index\n",
    "# len(word_to_index)\n",
    "# type(word_to_index)"
   ]
  },
  {
   "cell_type": "code",
   "execution_count": 7,
   "metadata": {
    "ExecuteTime": {
     "end_time": "2024-10-02T17:35:30.111370600Z",
     "start_time": "2024-10-02T17:35:30.009357500Z"
    }
   },
   "outputs": [
    {
     "data": {
      "text/plain": "tensor([[ 0.1838, -0.1212, -0.1199,  ..., -0.0390,  0.1827,  0.1465],\n        [-0.2084, -0.1493, -0.0175,  ..., -0.5407,  0.2120, -0.0094],\n        [ 0.1088,  0.0022,  0.2221,  ..., -0.2970,  0.1594, -0.1490],\n        ...,\n        [ 0.2736,  0.0413, -0.1227,  ..., -0.3318,  0.0379,  0.0564],\n        [-0.0524,  0.3214,  0.2324,  ..., -0.0813,  0.0481, -0.0872],\n        [-0.1197,  0.1602, -0.2492,  ..., -0.0909,  0.2783,  0.1137]])"
     },
     "execution_count": 7,
     "metadata": {},
     "output_type": "execute_result"
    }
   ],
   "source": [
    "embeddings\n",
    "# print(embeddings.shape)\n",
    "# type(embeddings)"
   ]
  },
  {
   "cell_type": "markdown",
   "metadata": {},
   "source": [
    "#### 1.2 Implémentez la fonction `cosine_similarity` avec pytorch et sans utiliser `torch.nn.CosineSimilarity` (2 points)"
   ]
  },
  {
   "cell_type": "code",
   "execution_count": 8,
   "metadata": {
    "ExecuteTime": {
     "end_time": "2024-10-02T17:35:30.114910500Z",
     "start_time": "2024-10-02T17:35:30.111370600Z"
    }
   },
   "outputs": [],
   "source": [
    "def cosine_similarity(a, b):\n",
    "    \"\"\"\n",
    "    Calcule la matrice de similarité cosinus entre deux matrices\n",
    "\n",
    "    Args : \n",
    "        a   : torch.Tensor, shape=(n, d)\n",
    "        b   : torch.Tensor, shape=(m, d)\n",
    "\n",
    "    Returns:\n",
    "    torch.Tensor, shape=(n, m)\n",
    "    \"\"\"\n",
    "\n",
    "    # Normalisation\n",
    "    a_norm = a / a.norm(dim=1, keepdim=True)\n",
    "    b_norm = b / b.norm(dim=1, keepdim=True)\n",
    "\n",
    "    return torch.mm(a_norm, b_norm.T) # Produit matriciel"
   ]
  },
  {
   "cell_type": "markdown",
   "metadata": {},
   "source": [
    "#### 1.3 Complétez la fonction `n_closest_vect` qui retourne les n mots les plus proches d'un mot donné. (5 points)\n",
    "\n",
    "`n_closest_vect` prendra en entrée la matrice des plongements `embeddings`, le dictionnaire de correspondance entre les mots et les indices `word_to_index`, le plongement d'un mot `word` et le nombre `n` de mots attendus. La fonction devra retourner la liste des mots dont les plongements sont les plus proches du vecteur de référence et leur similarité cosinus.\n",
    "\n",
    "C'est-à-dire les n mots avec lesquels le mot a la plus grande similarité cosinus. Utilisez la fonction `cosine_similarity` que vous venez d'implémenter."
   ]
  },
  {
   "cell_type": "code",
   "execution_count": 9,
   "metadata": {
    "ExecuteTime": {
     "end_time": "2024-10-02T17:35:30.127260600Z",
     "start_time": "2024-10-02T17:35:30.114910500Z"
    }
   },
   "outputs": [],
   "source": [
    "def n_closest_vect(embeddings, word_to_index, word, n=5):\n",
    "    \"\"\"\n",
    "    Trouve les n mots les plus proches du vecteur donné et leur similarité\n",
    "\n",
    "    Args : \n",
    "        embeddings      : torch.Tensor, shape=(vocab_size, embedding_dim)\n",
    "        Matrice de plongement de tous les mots\n",
    "\n",
    "        word_to_index   : dict\n",
    "        Dictionnaire qui relie un mot à son index dans le vocabulaire\n",
    "\n",
    "        word            : torch.Tensor, shape=(embedding_dim,)\n",
    "        Plongement du mot dont on cherche les n mots les plus proches\n",
    "\n",
    "        n               : int, number of closest words to return\n",
    "        Nombre de mots à retourner\n",
    "\n",
    "    Returns:\n",
    "    Liste de tuple contenant les n mots les plus similaires avec leur coefficient\n",
    "    de similarité\n",
    "    \"\"\"\n",
    "\n",
    "    # Calcul de la similarité entre word et tous les autres mots\n",
    "    similarities = cosine_similarity(word.unsqueeze(0), embeddings)\n",
    "\n",
    "    # Récupération des n similarités les plus grandes\n",
    "    top_n_similarities, top_n_indices = torch.topk(similarities.squeeze(0), n)\n",
    "\n",
    "    # Construction de la liste de tuples des n mots les plus similaires\n",
    "    closest_words = []\n",
    "    for i in range(n):\n",
    "        similar_word = list(word_to_index.keys())[top_n_indices[i].item()]\n",
    "        similarity = top_n_similarities[i].item()\n",
    "        closest_words.append((similar_word, similarity))\n",
    "\n",
    "    return closest_words"
   ]
  },
  {
   "cell_type": "code",
   "execution_count": 10,
   "metadata": {
    "ExecuteTime": {
     "end_time": "2024-10-02T17:35:32.050319600Z",
     "start_time": "2024-10-02T17:35:30.122249Z"
    }
   },
   "outputs": [
    {
     "name": "stdout",
     "output_type": "stream",
     "text": [
      "[('morning', 0.9999999403953552), ('afternoon', 0.8665475249290466), ('evening', 0.7880069613456726), ('yesterday', 0.7614548802375793), ('sunday', 0.7548925280570984)]\n"
     ]
    }
   ],
   "source": [
    "# Exemple\n",
    "print(n_closest_vect(embeddings, word_to_index, embeddings[word_to_index['morning']]))"
   ]
  },
  {
   "cell_type": "markdown",
   "metadata": {},
   "source": [
    "Sortie attendue :\n",
    "```\n",
    "[('morning', 1.0), ('afternoon', 0.8665473461151123), ('evening', 0.7880070209503174), ('yesterday', 0.7614548206329346), ('sunday', 0.7548925876617432)]\n",
    "```"
   ]
  },
  {
   "cell_type": "markdown",
   "metadata": {},
   "source": [
    "#### 1.4 Quelle est la similarité cosinus entre 'fast' et 'slow' ? Entre 'fast' et 'rapid' ? Commentez les résultats et expliquez leur origine. (3 points)"
   ]
  },
  {
   "cell_type": "code",
   "execution_count": 11,
   "metadata": {
    "ExecuteTime": {
     "end_time": "2024-10-02T17:35:32.060065700Z",
     "start_time": "2024-10-02T17:35:32.050319600Z"
    }
   },
   "outputs": [
    {
     "name": "stdout",
     "output_type": "stream",
     "text": [
      "Similarité cosinus 'fast' / 'slow' :  0.7113726139068604\n",
      "Similarité cosinus 'fast' / 'rapid' :  0.6445335149765015\n"
     ]
    }
   ],
   "source": [
    "# Calcul de la similarité cosinus entre 'fast' et 'slow'\n",
    "similarity_fast_slow = cosine_similarity(\n",
    "    embeddings[word_to_index['fast']].unsqueeze(0), \n",
    "    embeddings[word_to_index['slow']].unsqueeze(0)\n",
    ").item()\n",
    "\n",
    "# Calcul de la similarité cosinus entre 'fast' et 'rapid'\n",
    "similarity_fast_rapid = cosine_similarity(\n",
    "    embeddings[word_to_index['fast']].unsqueeze(0), \n",
    "    embeddings[word_to_index['rapid']].unsqueeze(0)\n",
    ").item()\n",
    "\n",
    "# Affichage des résultats\n",
    "print(\"Similarité cosinus 'fast' / 'slow' : \", similarity_fast_slow)\n",
    "print(\"Similarité cosinus 'fast' / 'rapid' : \", similarity_fast_rapid)"
   ]
  },
  {
   "cell_type": "markdown",
   "metadata": {},
   "source": [
    "### 2. Évaluation (12 Points)\n",
    "\n",
    "#### Données\n",
    "\n",
    "Les cellules qui suivent permettent de télécharger les données et de se restreindre au vocabulaire qui nous sera utile, pour éviter de charger des plongements inutiles.\n",
    "\n",
    "Comme décrit dans l'introduction, nous avons 3 fichiers de données:\n",
    "- Des paires de synonymes pour l'entraînement (`train_synonyms.txt`) \n",
    "- Des paires d'antonymes pour l'entraînement (`train_antonymms.txt`)\n",
    "- Des paires de mots avec leur similarité pour l'évaluation (`simlex_english.txt`)"
   ]
  },
  {
   "cell_type": "code",
   "execution_count": 12,
   "metadata": {
    "ExecuteTime": {
     "end_time": "2024-10-02T17:35:32.075455700Z",
     "start_time": "2024-10-02T17:35:32.060065700Z"
    }
   },
   "outputs": [],
   "source": [
    "def load_data(filepath):\n",
    "    \"\"\"\n",
    "    Télécharge les paires de synonymes et antonymes\n",
    "    \"\"\"\n",
    "    data = []\n",
    "    with open(filepath, 'r', encoding='utf-8') as f:\n",
    "        for line in f:\n",
    "            pair = line.strip().split()\n",
    "            assert pair[0].startswith('en_') and pair[1].startswith('en_')\n",
    "            data.append((pair[0][3:], pair[1][3:]))\n",
    "    return data\n",
    "\n",
    "def data_to_tensor(data, word_to_index):\n",
    "    indices = [word_to_index[word] for pair in data for word in pair if word in word_to_index]\n",
    "    return torch.tensor(indices).view(-1, 2)"
   ]
  },
  {
   "cell_type": "code",
   "execution_count": 13,
   "metadata": {
    "ExecuteTime": {
     "end_time": "2024-10-02T17:35:57.747142100Z",
     "start_time": "2024-10-02T17:35:32.068947400Z"
    }
   },
   "outputs": [],
   "source": [
    "# Données d'entraînement\n",
    "train_synonyms = load_data(train_synonyms_path)\n",
    "train_antonyms = load_data(train_antonyms_path)\n",
    "\n",
    "# Données d'évaluation\n",
    "evaluation_simlex = pd.read_csv(eval_simlex, sep='\\t') # pd dataframe with columns 'word 1', 'word 2', 'score'\n",
    "\n",
    "# On se restreint au vocabulaire qu'on va utiliser pour éviter de charger des embeddings inutiles\n",
    "vocab = set([word for pair in train_synonyms + train_antonyms for word in pair])\n",
    "eval_vocab = set(evaluation_simlex['word 1']).union(set(evaluation_simlex['word 2']))\n",
    "vocab.update(eval_vocab)\n",
    "\n",
    "glove_word_to_index, glove_embeddings = load_word_vectors(pretrained_model_path, vocab)"
   ]
  },
  {
   "cell_type": "markdown",
   "metadata": {},
   "source": [
    "#### 2.1 Observation du jeu de données SimLex-999. (2 points)\n",
    "\n",
    "Affichez l'histogramme de fréquence des scores de similarité dans le jeu de données SimLex-999. Utilisez `bins=40`. Votre axe des x doit représenter le score de similarité et votre axe des y doit représenter la fréquence. Comment interpréter un score de 0?"
   ]
  },
  {
   "cell_type": "code",
   "execution_count": 18,
   "metadata": {
    "ExecuteTime": {
     "end_time": "2024-10-02T17:35:58.076060300Z",
     "start_time": "2024-10-02T17:35:57.772446100Z"
    }
   },
   "outputs": [
    {
     "data": {
      "text/plain": "<Figure size 1000x600 with 1 Axes>",
      "image/png": "[encoded data removed]"
     },
     "metadata": {},
     "output_type": "display_data"
    }
   ],
   "source": [
    "plt.figure(figsize=(10, 6))\n",
    "plt.hist(evaluation_simlex['score'], bins=40, color='blue', edgecolor='black')\n",
    "plt.title('Histogramme des scores de similarité dans SimLex-999')\n",
    "plt.xlabel('Score de similarité')\n",
    "plt.ylabel('Fréquence')\n",
    "plt.grid(axis='y')\n",
    "plt.show()"
   ]
  },
  {
   "cell_type": "markdown",
   "metadata": {},
   "source": [
    "#### 2.2 Corrélation de Spearman\n",
    "\n",
    "\n",
    "La corrélation de Spearman est une mesure de la relation monotone entre deux variables $x$ et $y$. Elle est comprise entre -1 et 1. Plutôt que de comparer les valeurs brutes des variables, elle compare leurs rangs. Elle est calculée comme suit :\n",
    "$$\\rho (x, y) = 1 - \\frac{6 \\sum_{i=1}^n (r_{x_i} - r_{y_i})^2}{n(n^2 - 1)}$$\n",
    "où $r_{x_i}$ est le rang de la i-ème valeur de la variable x, $r_{y_i}$ est le rang de la i-ème valeur de la variable y, $n$ est le nombre total de paires d'observations $(x, y)$.\n",
    "\n",
    "Les rangs sont attribués en ordonnant les valeurs de chaque variable du plus petit au plus grand. La plus petite valeur reçoit le rang 1, la suivante le rang 2, et ainsi de suite.\n",
    "\n",
    "##### Expliquez pourquoi on utilise la corrélation de Spearman plutôt que la corrélation entre les valeurs des variables. (3 points)\n"
   ]
  },
  {
   "cell_type": "markdown",
   "metadata": {},
   "source": [
    "#### 2.3 Implémentation de la corrélation de Spearman (2 points)\n",
    "\n",
    "Complétez la fonction suivante pour calculer la corrélation de Spearman entre deux listes de valeurs."
   ]
  },
  {
   "cell_type": "code",
   "execution_count": 19,
   "metadata": {
    "ExecuteTime": {
     "end_time": "2024-10-02T17:35:58.076060300Z",
     "start_time": "2024-10-02T17:35:58.070259700Z"
    }
   },
   "outputs": [],
   "source": [
    "def spearman_rank_correlation(x, y):\n",
    "    \"\"\"\n",
    "    Calcule la corrélation de Spearman entre deux listes de valeurs.\n",
    "\n",
    "    Args:\n",
    "        x   : list of float\n",
    "        y   : list of float\n",
    "\n",
    "    Returns:\n",
    "    La corrélation de Spearman entre les deux listes (float). \n",
    "    \"\"\"\n",
    "\n",
    "    # Transformation de x en DataFrame\n",
    "    x_df = pd.DataFrame(x, columns=['value'])\n",
    "    x_df['rank'] = x_df['value'].rank() # Obtenir le rang\n",
    "   \n",
    "    # Transformation de y en DataFrame\n",
    "    y_df = pd.DataFrame(y, columns=['value'])\n",
    "    y_df['rank'] = y_df['value'].rank() # Obtenir le rang\n",
    "    \n",
    "    # Calcul de la somme des différences des rangs au carré\n",
    "    sum_diff_ranks = 0\n",
    "    n  = len(x_df)\n",
    "    for i in range(n) : \n",
    "        sum_diff_ranks += (x_df.iloc[i]['rank'] - y_df.iloc[i]['rank'])**2\n",
    "        \n",
    "    # Calcul de la corrélation de Spearman\n",
    "    spearman_corr = 1 - 6*(sum_diff_ranks)/(n * (n**2 -1))\n",
    "    \n",
    "    return spearman_corr"
   ]
  },
  {
   "cell_type": "markdown",
   "metadata": {},
   "source": [
    "#### 2.4 Évaluation du modèle GloVe (2 points)\n",
    "\n",
    "\n",
    "Retrouvez les plongements du modèle GloVe de tous les mots du jeu de données SimLex-999, puis calculez la similarité cosinus entre les paires.\n",
    "\n",
    "Calculez ensuite la corrélation de Spearman entre les scores de simlex et les similarités cosinus obtenues et affichez-la."
   ]
  },
  {
   "cell_type": "code",
   "execution_count": 20,
   "metadata": {
    "ExecuteTime": {
     "end_time": "2024-10-02T17:35:58.254935700Z",
     "start_time": "2024-10-02T17:35:58.084568300Z"
    }
   },
   "outputs": [
    {
     "name": "stdout",
     "output_type": "stream",
     "text": [
      "Correlation de Spearman: 0.29\n"
     ]
    }
   ],
   "source": [
    "pairs = evaluation_simlex[['word 1', 'word 2', 'score']].values.tolist()\n",
    "\n",
    "similarities = []\n",
    "simlex_scores = []\n",
    "\n",
    "for word1, word2, score in pairs: # Pour chaque paire de Simlex\n",
    "    if word1 in glove_word_to_index and word2 in glove_word_to_index:\n",
    "        embedding1 = glove_embeddings[glove_word_to_index[word1]] # Récupérer la représentation de word 1\n",
    "        embedding2 = glove_embeddings[glove_word_to_index[word2]] # Récupérer la représentation de word 2\n",
    "        \n",
    "        cosine_sim = cosine_similarity(embedding1.unsqueeze(0), embedding2.unsqueeze(0)).item() # Calcul de la similarité cosinus entre les deux paires\n",
    "        similarities.append(cosine_sim) # Stocker la similarité\n",
    "        simlex_scores.append(score) #Stocker le score\n",
    "\n",
    "\n",
    "spearman_corr = spearman_rank_correlation(similarities, simlex_scores) # Calcul de la corrélation de Spearman\n",
    "\n",
    "print(f\"Correlation de Spearman: {spearman_corr:.2f}\")"
   ]
  },
  {
   "cell_type": "markdown",
   "metadata": {},
   "source": [
    "Résultat attendu: 0.29"
   ]
  },
  {
   "cell_type": "markdown",
   "metadata": {},
   "source": [
    "#### 2.5 Interprétation du résultat (3 points)\n",
    "\n",
    "Qu'est ce que ce nombre représente et que peut-on en conclure sur la qualité des plongements GloVe (2 conclusions) ?"
   ]
  },
  {
   "cell_type": "markdown",
   "metadata": {},
   "source": [
    "### 3. Description de la méthode contrastive (33 Points)\n",
    "\n",
    "Nous allons maintenant implémenter une méthode contrastive de plongements de mots. Elle vise à améliorer les plongements lexicaux de mots en tenant compte des synonymes et antonymes. \n",
    "\n",
    "Notre modèle se basera simplement sur une matrice de plongements de mots, qui associe à chaque mot un vecteur de plongement.\n",
    "\n",
    "L'idée est d'entraîner ce modèle à rapprocher les plongements de synonymes et d'éloigner ceux d'antonymes.\n",
    "\n",
    "La cellule suivante définit le modèle et ses attributs."
   ]
  },
  {
   "cell_type": "code",
   "execution_count": 21,
   "metadata": {
    "ExecuteTime": {
     "end_time": "2024-10-02T17:35:58.254935700Z",
     "start_time": "2024-10-02T17:35:58.196026600Z"
    }
   },
   "outputs": [],
   "source": [
    "class ContrastiveWordEmbeddingModel(nn.Module):\n",
    "    def __init__(self, embeddings, device='cpu', margin_plus=0.6, margin_minus=0., regularization=1e-9):\n",
    "        super(ContrastiveWordEmbeddingModel, self).__init__()\n",
    "        \n",
    "        \n",
    "        self.device = device\n",
    "\n",
    "        # Hyperparamètres pour les fonctions de coût\n",
    "        self.margin_plus = margin_plus\n",
    "        self.margin_minus = margin_minus\n",
    "        self.regularization = regularization\n",
    "        \n",
    "        # Initialisation des plongements de mots\n",
    "        self.embeddings = nn.Embedding.from_pretrained(embeddings.detach().clone(), freeze=False).to(self.device)\n",
    "        self.original_embeddings = nn.Embedding.from_pretrained(embeddings.detach().clone(), freeze=True).to(self.device)\n"
   ]
  },
  {
   "cell_type": "code",
   "execution_count": 39,
   "outputs": [
    {
     "data": {
      "text/plain": "True"
     },
     "execution_count": 39,
     "metadata": {},
     "output_type": "execute_result"
    }
   ],
   "source": [
    "torch.cuda.is_available()"
   ],
   "metadata": {
    "collapsed": false,
    "ExecuteTime": {
     "end_time": "2024-10-02T17:50:23.469102500Z",
     "start_time": "2024-10-02T17:50:23.453346300Z"
    }
   }
  },
  {
   "cell_type": "markdown",
   "metadata": {},
   "source": [
    "#### 3.1 Création des négatifs\n",
    "\n",
    "Pendant l'entraînement, au lieu de traiter tout le jeu d'entraînement d'un coup, nous allons avoir des lots (batchs) de paires de synonymes $B_S$ et d'antonymes $B_A$.\n",
    "\n",
    "Dans un lot de synonymes, on définit le négatif d'un mot comme le mot du lot le plus proche qui n'est pas dans la même paire. Intuitivement, c'est le mot que le modèle devrait confondre le plus avec le synonyme. Similairement, dans un lot d'antonymes, on définit le négatif d'un mot comme le mot du lot le plus éloigné qui n'est pas dans la même paire.\n",
    "\n",
    "On répète ce processus pour chaque mot de chaque paire de synonymes et d'antonymes.\n",
    "\n",
    "*Attention, un mot peut apparaître plusieurs fois dans un lot avec des synonymes ou antonymes différents, et il ne peut être le négatif d'aucun de ses synonymes, ou antonymes.*\n",
    "\n",
    "##### 3.1.1 Exemple pour illustrer l'implémentation\n",
    "\n",
    "Prenons un exemple avec un lot $B_S$ de synonymes de taille 3. On veut construire le lot de négatifs $T_S$\n",
    "\n",
    "$B_S$:\n",
    "- (arbre, plante)\n",
    "- (voiture, véhicule)\n",
    "- (arbre, buisson)\n",
    "\n",
    "On a 5 mots uniques dans le lot: arbre, plante, voiture, véhicule, buisson. Supposons que la matrice de similarité cosinus soit la suivante :\n",
    "\n",
    "|       | arbre | plante | voiture | véhicule | buisson |\n",
    "|-------|-------|--------|--------|----------|---------|\n",
    "| arbre | 1     | 0.8    | 0.1    | 0.2      | 0.9     |\n",
    "| plante| 0.8   | 1      | 0.3    | 0.4      | 0.7     |\n",
    "| voiture| 0.1  | 0.3    | 1      | 0.9      | 0.2     |\n",
    "| véhicule| 0.2 | 0.4    | 0.9    | 1        | 0.3     |\n",
    "| buisson| 0.9  | 0.7    | 0.2    | 0.3      | 1       |\n",
    "\n",
    "\n",
    "On commence par calculer les voisins de chaque mot du lot $B_S$. Le voisin d'un mot $m$ est défini comme tout mot qui apparait dans au moins une paire avec $m$ dans $B_S$. Un mot est aussi considéré comme son propre voisin.\n",
    "\n",
    "- voisins de arbre : arbre, plante, buisson\n",
    "- voisins de plante : plante, arbre\n",
    "- voisins de voiture : voiture, véhicule\n",
    "- voisins de véhicule : véhicule, voiture\n",
    "- voisins de buisson : buisson, arbre\n",
    "\n",
    "Après avoir masqué les voisins, la matrice est :\n",
    "\n",
    "|       | arbre | plante | voiture | véhicule | buisson |\n",
    "|-------|-------|--------|--------|----------|---------|\n",
    "| arbre | -inf  | -inf   | 0.1    | 0.2      | -inf    |\n",
    "| plante| -inf  | -inf   | 0.3    | 0.4      | 0.7     |\n",
    "| voiture| 0.1  | 0.3    | -inf   | -inf     | 0.2     |\n",
    "| véhicule| 0.2 | 0.4    | -inf   | -inf     | 0.3     |\n",
    "| buisson| -inf | 0.7    | 0.2    | 0.3      | -inf    |\n",
    "\n",
    "Pour calculer les négatifs, on prend le maximum de chaque ligne (donc le mot le plus similaire qui n'est pas un voisin) :\n",
    "\n",
    "Ici,\n",
    "- le négatif d'arbre est véhicule\n",
    "- le négatif de plante est buisson\n",
    "- le négatif de voiture est plante\n",
    "- le négatif de véhicule est plante\n",
    "- le négatif de buisson est plante\n",
    "\n",
    "En reprenant le batch $B_S$:\n",
    "- (arbre, plante)\n",
    "- (voiture, véhicule)\n",
    "- (arbre, buisson)\n",
    "\n",
    "$T_S$ sera composé de paires composées du négatif de chaque élément de $B_S$ :\n",
    "\n",
    "$B_S$ -> $T_S$\n",
    "- (arbre, plante) $\\rightarrow$ (véhicule, buisson), car le négatif d'arbre est véhicule et le négatif de plante est buisson\n",
    "- (voiture, véhicule) $\\rightarrow$ (plante, plante), car le négatif de voiture est plante et le négatif de véhicule est plante\n",
    "- (arbre, buisson) $\\rightarrow$ (véhicule, plante), car le négatif d'arbre est véhicule et le négatif de buisson est plante\n",
    "\n",
    "$T_S$ sera donc : \n",
    "- (véhicule, buisson)\n",
    "- (plante, plante)\n",
    "- (véhicule, plante)"
   ]
  },
  {
   "cell_type": "markdown",
   "metadata": {},
   "source": [
    "##### 3.1.2 Implémentez la fonction `prepare_neighbors` qui renvoit la liste des voisins de chaque mot dans le lot. (4 points)\n",
    "\n",
    "Les voisins d'un mot $m$ sont tous les mots du lot qui apparaissent dans au moins une paire avec $m$. Utilisez les bons indices (indice dans la matrice d'embeddings et indice dans le lot). Le résultat est une liste de liste de voisins, où `neighbors[i]` est la liste des voisins du mot `i` dans le lot."
   ]
  },
  {
   "cell_type": "code",
   "execution_count": 22,
   "metadata": {
    "ExecuteTime": {
     "end_time": "2024-10-02T17:35:58.254935700Z",
     "start_time": "2024-10-02T17:35:58.201949600Z"
    }
   },
   "outputs": [],
   "source": [
    "def prepare_neighbors(index_pairs, unique_idx, index_to_idx):\n",
    "    \"\"\"\n",
    "    Prépare les voisins pour chaque mot dans les paires de mots.\n",
    "    \n",
    "    Args : \n",
    "        index_pairs     : torch.Tensor de seconde dimension 2\n",
    "        Tensor contenant les indices des embeddings des mots dans le vocabulaire. \n",
    "        Des indices qui sont reliés ensemble par une ligne dans ce tenseur ont \n",
    "        une relation sémantique entre eux (synonymes ou antonymes).\n",
    "\n",
    "        unique_idx      : set\n",
    "        Ensemble de tous les indices qui sont mentionnés dans la liste `index_pairs`.\n",
    "        \n",
    "        index_to_idx    : dict\n",
    "        Dictionnaire associant un indice mentionné dans `index_pairs` à son indice dans\n",
    "        la liste qui sera retournée. Par exemple, si dans ce dictionnaire, la clé 4 est\n",
    "        associée à la valeur 12, cela veut dire que les voisins du mot 4 dans le vocabulaire\n",
    "        seront retournés à l'indice 12 dans la liste de retour.\n",
    "\n",
    "    Returns:\n",
    "    Une liste où chaque élément est une liste des indices des voisins pour chaque mot (l'indice dans la liste correspond à l'indice unique).\n",
    "    \"\"\"\n",
    "\n",
    "    # Initialisation de la liste\n",
    "    neighbors = [[] for _ in range(len(unique_idx))]\n",
    "    \n",
    "    word_pairs = index_pairs.tolist()\n",
    "    \n",
    "    for word1, word2 in word_pairs: # pour chaque paire word1/word2\n",
    "        idx1 = index_to_idx[word1]\n",
    "        idx2 = index_to_idx[word2]\n",
    "        \n",
    "        neighbors[idx1].append(idx1) # word1 est son propre voisin\n",
    "        neighbors[idx1].append(idx2) # word2 est voisin de word1\n",
    "        \n",
    "        neighbors[idx2].append(idx2) # word2 est son propre voisin\n",
    "        neighbors[idx2].append(idx1) # word1 est voisin de word2\n",
    "\n",
    "    return neighbors"
   ]
  },
  {
   "cell_type": "code",
   "execution_count": 23,
   "metadata": {
    "ExecuteTime": {
     "end_time": "2024-10-02T17:35:58.254935700Z",
     "start_time": "2024-10-02T17:35:58.209858100Z"
    }
   },
   "outputs": [
    {
     "name": "stdout",
     "output_type": "stream",
     "text": [
      "[[0, 2], [1, 4], [2, 0, 2, 3], [3, 2], [4, 1]]\n"
     ]
    }
   ],
   "source": [
    "# Exemple\n",
    "index_pairs = torch.tensor([[0, 12], [12, 31], [53, 4]])\n",
    "unique_idx = {0, 4, 12, 31, 53}\n",
    "index_to_idx = {0: 0, 4: 1, 12: 2, 31: 3, 53: 4}\n",
    "print(prepare_neighbors(index_pairs, unique_idx, index_to_idx))\n"
   ]
  },
  {
   "cell_type": "markdown",
   "metadata": {},
   "source": [
    "Réponse attendue\n",
    "\n",
    "`[[0, 2], [1, 4], [2, 0, 2, 3], [3, 2], [4, 1]]`"
   ]
  },
  {
   "cell_type": "markdown",
   "metadata": {},
   "source": [
    "##### 3.1.3 Implémentez la fonction `select_negatives` qui renvoit un dictionnaire qui associe à chaque élément son négatif. (4 points)\n",
    "\n",
    "Pour chaque élément du lot, on cherche le voisin le plus proche qui n'est pas le voisin de l'autre élément de la paire.\n",
    "\n",
    "Utilisez un masque pour cacher, dans la matrice de similarité, les voisins.\n",
    "\n",
    "La fonction utilise un paramètre `synonym` qui indique si on travaille sur un lot de synonymes ou d'antonymes. En cas de synonymes, on cherche le voisin le plus proche qui n'est pas un voisin de l'autre élément de la paire. En cas d'antonymes, on cherche le voisin le plus éloigné qui n'est pas un voisin de l'autre élément de la paire."
   ]
  },
  {
   "cell_type": "code",
   "execution_count": 24,
   "metadata": {
    "ExecuteTime": {
     "end_time": "2024-10-02T17:35:58.259160200Z",
     "start_time": "2024-10-02T17:35:58.217347500Z"
    }
   },
   "outputs": [],
   "source": [
    "def select_negatives(indices, similarity_matrix, neighbors, synonym=True):\n",
    "    \"\"\"\n",
    "    Sélectionne les exemples négatifs à partir de la matrice de similarité et des voisins.\n",
    "\n",
    "    Args : \n",
    "        indices             : torch.Tensor (vocab_size)\n",
    "        Indices des mots présents dans le vocabulaires\n",
    "        \n",
    "        similarity_matrix   : torch.Tensor (vocab_size, vocab_size)\n",
    "        Matrice de similarité entre tous les mots présents dans le vocabulaire.\n",
    "        \n",
    "        neighbors           : list of lists\n",
    "        Liste des voisins de chaque mot. Par exemple, le premier élément de la liste\n",
    "        contiendra tous les voisins du mot 0 dans le vocabulaire.\n",
    "\n",
    "        synonym             : bool, optional (default=True)\n",
    "        Indique si l'on cherche des négatifs pour les synonymes (True) ou pour les antonymes (False).\n",
    "\n",
    "    Returns:\n",
    "    Dictionnaire mappant les mots avec leurs indices de négatifs {mot_index: négatif_index}.\n",
    "    \"\"\"\n",
    "\n",
    "    # Masquage des voisins dans la matrice de similarité\n",
    "\n",
    "    # Attention : On considère pour le masquage que le mappage des valeurs dans neighbours correspond aux indices de la matrice de similarité\n",
    "    # (e.g la première liste de neigbours correspond aux voisins du mot représeenté par la première ligne de la matrice de similarité)\n",
    "    # C'est le cas si :\n",
    "    # -> index_to_idx utilisé dans prepare_neighbors est de la forme {x0: 0, x1: 1, ..., xn: n} \n",
    "    # -> {x0, x1, ..., xn} est la liste ordonnée des indices \"indices\" donné à cosine_similarity (soit similarity_matrix = cosine_similarity(model.embeddings(indices), model.embeddings(indices))\n",
    "    \n",
    "    mask_value = float('-inf') if synonym else float('+inf')\n",
    "\n",
    "    for index, neighbors_list in enumerate(neighbors):\n",
    "        for neighbour in neighbors_list:\n",
    "            similarity_matrix[index][neighbour] = mask_value\n",
    "\n",
    "\n",
    "    # Création du dictionnaire\n",
    "\n",
    "    # Attention : On considère pour le création du dictionnaire que l'ordre des valeurs dans indices correspond à l'ordre de la matrice de similarité\n",
    "    # (e.g le premier élément de indices a sa représentation dans la première ligne de la matrice de similarité)\n",
    "    # C'est le cas si :\n",
    "    # -> la liste indices \"indices\" est donnée à cosine_similarity (soit similarity_matrix = cosine_similarity(model.embeddings(indices), model.embeddings(indices))\n",
    "\n",
    "    result_dict = {\n",
    "        index : (similarity_matrix[i].argmax() if synonym else similarity_matrix[i].argmin()).item() # Association de chaque indice à l'indice du voisin le plus proche (synonyme) ou le plus éloigné (antonyme)\n",
    "        for i, index in enumerate(indices.tolist())\n",
    "    }\n",
    "\n",
    "    return result_dict"
   ]
  },
  {
   "cell_type": "code",
   "execution_count": 25,
   "metadata": {
    "ExecuteTime": {
     "end_time": "2024-10-02T17:35:58.259160200Z",
     "start_time": "2024-10-02T17:35:58.225614800Z"
    }
   },
   "outputs": [
    {
     "name": "stdout",
     "output_type": "stream",
     "text": [
      "{0: 1, 1: 3, 2: 4, 3: 1, 4: 2}\n"
     ]
    }
   ],
   "source": [
    "# Exemple\n",
    "indices = torch.tensor([0, 1, 2, 3, 4])\n",
    "neighbors = [[0, 2], [1, 4], [2, 0, 2, 3], [3, 2], [4, 1]]\n",
    "\n",
    "similarity_matrix = torch.tensor([\n",
    "    [ 1.0000, -0.4263, -0.7167, -0.9838, -0.5823],\n",
    "    [-0.4263,  1.0000, -0.1600,  0.5088, -0.3708],\n",
    "    [-0.7167, -0.1600,  1.0000,  0.7247,  0.5631],\n",
    "    [-0.9838,  0.5088,  0.7247,  1.0000,  0.4394],\n",
    "    [-0.5823, -0.3708,  0.5631,  0.4394,  1.0000]\n",
    "    ])\n",
    "\n",
    "print(select_negatives(indices, similarity_matrix, neighbors, synonym=True))"
   ]
  },
  {
   "cell_type": "markdown",
   "metadata": {},
   "source": [
    "Réponse attendue\n",
    "\n",
    "`{0: 1, 1: 3, 2: 4, 3: 1, 4: 2}`"
   ]
  },
  {
   "cell_type": "markdown",
   "metadata": {},
   "source": [
    "##### 3.1.4 Implémentez la fonction `run_negative_extraction` qui prépare les paires de synonymes et d'antonymes et appelle `prepare_neighbors` et `select_negatives`. (4 points)\n",
    "\n",
    "Préparez les indices uniques des mots du batch, calculez la similarité des mots, et appelez `prepare_neighbors` et `select_negatives`."
   ]
  },
  {
   "cell_type": "code",
   "execution_count": 49,
   "metadata": {
    "ExecuteTime": {
     "end_time": "2024-10-02T18:08:41.267744400Z",
     "start_time": "2024-10-02T18:08:41.251847400Z"
    }
   },
   "outputs": [],
   "source": [
    "def run_negative_extraction(model, index_pairs, synonym=True):\n",
    "    \"\"\"\n",
    "    Extrait les exemples négatifs pour un ensemble de paires de mots.\n",
    "\n",
    "    Args :\n",
    "        index_pairs : torch.Tensor de seconde dimension 2\n",
    "        Contient les indices des mots.\n",
    "\n",
    "        synonym     : bool, optional (default=True)\n",
    "        Indique si l'on cherche des négatifs pour les synonymes (True) ou pour les antonymes (False).\n",
    "\n",
    "    Returns:\n",
    "    Dictionnaire mappant les indices des mots avec leurs indices de négatifs {mot_index: négatif_index}.\n",
    "    \"\"\"\n",
    "    \n",
    "    device = model.device\n",
    "\n",
    "    # Move index_pairs to the correct device\n",
    "    index_pairs = index_pairs.to(device)\n",
    "    \n",
    "\n",
    "    # Préparation des paramètres de prepare_neighbors\n",
    "    unique_ids = set([idx.item() for row in index_pairs for idx in row]) # liste des indices uniques\n",
    "    index_to_ids = {idx: i for i, idx in enumerate(sorted(list(unique_ids)))} # dictionnaire de mappage vers les indices de la matrice de similarité (clés, qui correspondent aux ids des mots, triées par ordre croissant)\n",
    "\n",
    "\n",
    "    # Préparation des paramètres de select_negatives\n",
    "    indices = torch.tensor(sorted(list(unique_ids)), device = device) # liste d'indices (valeurs, qui correspondent aux ids des mots, triées par ordre croissant)\n",
    "    embeddings = model.embeddings(indices)\n",
    "    similarity_matrix = cosine_similarity(embeddings, embeddings) # matrice de similarité (les lignes et les colonnes donc triées par ordre croissant des ids des mots)\n",
    "\n",
    "    # Appels des deux fonctions\n",
    "    neighbors = prepare_neighbors(index_pairs, unique_ids, index_to_ids)\n",
    "    negatives = select_negatives(indices, similarity_matrix, neighbors, synonym)\n",
    "\n",
    "    return negatives"
   ]
  },
  {
   "cell_type": "markdown",
   "metadata": {},
   "source": [
    "#### 3.2 Fonctions de coût\n",
    "\n",
    "Pour chaque paire de synonymes $(x^l, x^r)$ *pour x left et x right* dans le lot $B_S$, nous trouvons un négatif $(t^l, t^r)$ ce qui constitue le lot $T_S$:\n",
    "- $ t^l $ est le mot dans le lot le plus proche de $ x^l $ mais qui n'est pas $ x^r $.\n",
    "- $ t^r $ est le mot dans le lot le plus proche de $ x^r $ mais qui n'est pas $ x^l $.\n",
    "\n",
    "De même, pour chaque paire d'antonymes $(x^l, x^r)$ dans le lot $B_A$, nous trouvons un négatif $(t^l, t^r)$ ce qui constitue le lot $T_A$:\n",
    "- $ t^l $ est le mot dans le lot le plus éloigné de $ x^l $ mais qui n'est pas $ x^r $.\n",
    "- $ t^r $ est le mot dans le lot le plus éloigné de $ x^r $ mais qui n'est pas $ x^l $.\n",
    "\n",
    "\n",
    "Comparer un mot à son synonyme (ou antonyme) et à son négatif permet d'entraîner le modèle sur des exemples difficiles qui forcent le modèle à apprendre des représentations plus robustes.\n",
    "\n",
    "Il y aura trois fonctions de coût :\n",
    "1. **Attraction** : Attire les synonymes plus proches les uns des autres.\n",
    "2. **Répulsion** : Repousse les antonymes plus loin les uns des autres.\n",
    "3. **Régularisation** : Évite que les plongements ne s'éloignent trop de ceux du modèle pré-entraîné.\n",
    "\n",
    "Les fonctions de coût sont définies comme suit, en sommant sur `i`, les paires de synonymes et d'antonymes dans les lots $B_S$ et $B_A$ :\n",
    "\n",
    "1. **Attraction** :\n",
    "$$ S(B_S, T_S) = \\sum_{i=1}^{|B_S|} \\left[ \\max \\left(0, \\delta_{syn} + x_i^l t_i^l - x_i^l x_i^r \\right) + \\max \\left( 0, \\delta_{syn} + x_i^r t_i^r - x_i^l x_i^r \\right) \\right] $$\n",
    "\n",
    "1. **Répulsion** :\n",
    "$$ A(B_A, T_A) = \\sum_{i=1}^{|B_A|} \\left[ \\max \\left(0, \\delta_{ant} + x_i^l x_i^r - x_i^l t_i^l \\right) + \\max \\left( 0, \\delta_{ant} + x_i^r x_i^l - x_i^r t_i^r \\right) \\right] $$\n",
    "\n",
    "1. **Régularisation** :\n",
    "$$ R(B_S, B_A) = \\sum_{x_i \\in V(B_S \\cup B_A)} \\lambda_{reg} \\| \\hat{x}_i - x_i \\|^2 $$\n",
    "\n",
    "La fonction de coût totale est la somme de ces trois termes :\n",
    "$$ C(B_S, T_S, B_A, T_A) = S(B_S, T_S) + A(B_A, T_A) + R(B_S, B_A) $$\n",
    "\n",
    "$\\delta_{syn}$, $\\delta_{ant}$ et $\\lambda_{reg}$ sont des hyperparamètres."
   ]
  },
  {
   "cell_type": "markdown",
   "metadata": {},
   "source": [
    "Avec l'exemple précédent, prenons\n",
    "> + $x_i^l$ : voiture\n",
    "> + $x_i^r$: véhicule\n",
    "> + $t_i^l$: plante\n",
    "> \n",
    "> On veut que voiture et véhicule aient un plus grand produit scalaire que voiture et plante, donc que $\\delta_{syn} + x_i^l t_i^l - x_i^l x_i^r <0$, et donc que $S$ soit minimisé. De même pour la deuxième partie de l'équation, symmétrique, avec le 2nd élément du couple."
   ]
  },
  {
   "cell_type": "markdown",
   "metadata": {},
   "source": [
    "##### 3.2.1 Implémentez la fonction `synonym_cost` qui calcule la fonction de coût d'attraction (sur les paires de synonymes). (5 points)\n",
    "\n",
    "$$ S(B_S, T_S) = \\sum_{i=1}^{|B_S|} \\left[ \\max \\left(0, \\delta_{syn} + x_i^l t_i^l - x_i^l x_i^r \\right) + \\max \\left( 0, \\delta_{syn} + x_i^r t_i^r - x_i^l x_i^r \\right) \\right] $$\n",
    "\n",
    "Le membre de gauche pénalise si le mot de gauche est plus éloigné de son négatif que de son synonyme. De même, le membre de droite pénalise si le mot de gauche est plus éloigné de son négatif que de son synonyme.\n"
   ]
  },
  {
   "cell_type": "code",
   "execution_count": 64,
   "metadata": {
    "ExecuteTime": {
     "end_time": "2024-10-02T18:20:24.350418Z",
     "start_time": "2024-10-02T18:20:24.348755300Z"
    }
   },
   "outputs": [],
   "source": [
    "def synonym_cost(model, synonym_pairs, synonym_negatives):\n",
    "    \"\"\"\n",
    "    Calcule le coût d'attraction pour les paires de synonymes.\n",
    "\n",
    "    synonym_pairs: liste de tuples d'indices de paires de synonymes\n",
    "    synonym_negatives: dictionnaire de mots avec leurs négatifs {mot_index: négatif_index}\n",
    "\n",
    "    Returns:\n",
    "    torch.Tensor, coût total pour les paires de synonymes\n",
    "    \"\"\"\n",
    "    \n",
    "    \n",
    "\n",
    "     # Initialisation du coût à zéro\n",
    "    cost = torch.tensor(0.0, device=model.device) \n",
    "    for pair in synonym_pairs :\n",
    "        x_l = model.embeddings(pair[0])\n",
    "        x_r = model.embeddings(pair[1])\n",
    "        t_l = model.embeddings(torch.tensor(synonym_negatives[pair[0].item()] , device= model.device))\n",
    "        t_r = model.embeddings(torch.tensor(synonym_negatives[pair[1].item()] , device= model.device))\n",
    "        \n",
    "        cost += torch.relu(torch.dot(x_l, t_l) - torch.dot(x_l,x_r) + model.margin_plus) + torch.relu(torch.dot(x_r, t_r) - torch.dot(x_l,x_r) + model.margin_plus)\n",
    "        \n",
    "    return cost "
   ]
  },
  {
   "cell_type": "markdown",
   "metadata": {},
   "source": [
    "##### 3.2.2 Implémentez la fonction `antonym_cost` qui calcule la fonction de coût de répulsion (sur les paires d'antonymes). (5 points)\n",
    "\n",
    "$$ A(B_A, T_A) = \\sum_{i=1}^{|B_A|} \\left[ \\max \\left(0, \\delta_{ant} + x_i^l x_i^r - x_i^l t_i^l \\right) + \\max \\left( 0, \\delta_{ant} + x_i^r x_i^l - x_i^r t_i^r \\right) \\right] $$\n",
    "\n",
    "Le membre de gauche pénalise si le mot de gauche est plus éloigné de son antonyme que de son négatif. De même, le membre de droite pénalise si le mot de gauche est plus éloigné de son antonyme que de son négatif."
   ]
  },
  {
   "cell_type": "code",
   "execution_count": 65,
   "metadata": {
    "ExecuteTime": {
     "end_time": "2024-10-02T18:20:26.587307Z",
     "start_time": "2024-10-02T18:20:26.578900700Z"
    }
   },
   "outputs": [],
   "source": [
    "def antonym_cost(model, antonym_pairs, antonym_negatives):\n",
    "    \"\"\"\n",
    "    Calcule le coût de répulsion pour les paires d'antonymes.\n",
    "\n",
    "    antonym_pairs: liste de tuples d'indices de paires d'antonymes\n",
    "    antonym_negatives: dictionnaire de mots avec leurs négatifs {mot_index: négatif_index}\n",
    "\n",
    "    Returns:\n",
    "    torch.Tensor, coût total pour les paires d'antonymes\n",
    "    \"\"\"\n",
    "\n",
    "    # Initialisation du cout à zéro\n",
    "    cost = torch.tensor(0.0, device=model.device) \n",
    "    for pair in antonym_pairs :\n",
    "        x_l = model.embeddings(pair[0])\n",
    "        x_r = model.embeddings(pair[1])\n",
    "        t_l = model.embeddings(torch.tensor(antonym_negatives[pair[0].item()] , device= model.device))\n",
    "        t_r = model.embeddings(torch.tensor(antonym_negatives[pair[1].item()] , device= model.device))\n",
    "        \n",
    "        cost += torch.relu(torch.dot(x_l,x_r) -torch.dot(x_l, t_l)+ model.margin_minus) + torch.relu(torch.dot(x_l,x_r)  -torch.dot(x_r, t_r) + model.margin_minus)\n",
    "        \n",
    "    return cost "
   ]
  },
  {
   "cell_type": "markdown",
   "metadata": {},
   "source": [
    "##### 3.2.3 Implémentez la fonction `regularization_cost` qui calcule la fonction de coût de régularisation. (4 points)\n",
    "\n",
    "$$ R(B_S, B_A) = \\sum_{x_i \\in V(B_S \\cup B_A)} \\lambda_{reg} \\| \\hat{x}_i - x_i \\|^2 $$"
   ]
  },
  {
   "cell_type": "code",
   "execution_count": 68,
   "metadata": {
    "ExecuteTime": {
     "end_time": "2024-10-02T18:21:20.502703200Z",
     "start_time": "2024-10-02T18:21:20.472005300Z"
    }
   },
   "outputs": [],
   "source": [
    "def regularization_cost(model, synonym_pairs, antonym_pairs):\n",
    "    \"\"\"\n",
    "    Calcule le coût de régularisation pour les paires de synonymes et antonymes.\n",
    "\n",
    "    synonym_pairs: liste de tuples d'indices de paires de synonymes\n",
    "    antonym_pairs: liste de tuples d'indices de paires d'antonymes\n",
    "\n",
    "    Returns:\n",
    "    torch.Tensor, coût total de régularisation\n",
    "    \"\"\"\n",
    "\n",
    "    # Initialisation du cout à zéro\n",
    "    cost = torch.tensor(0.0, device=model.device) \n",
    "    \n",
    "    # Récupérer l'ensemble des indices\n",
    "    indexes = set([syn_index for pair in synonym_pairs for syn_index in pair] + [ant_index for pair  in antonym_pairs for ant_index in pair])\n",
    "    for i in indexes :\n",
    "\n",
    "        # Calcul des paramètres\n",
    "        x_hat = model.original_embeddings(i)\n",
    "        x = model.embeddings(i)\n",
    "\n",
    "        # Application de la régularisation\n",
    "        cost += model.regularization * torch.norm(x_hat - x, p=2)**2\n",
    "    \n",
    "    return cost"
   ]
  },
  {
   "cell_type": "markdown",
   "metadata": {},
   "source": [
    "#### 3.3 Mise en place\n",
    "##### 3.3.1 Implémentez la fonction `forward` qui utilise les fonctions définies plus tôt pour calculer le coût total. (4 points)\n",
    "\n",
    "La fonction prend en entrée un lot de synonymes et un lot d'antonymes, c'est-à-dire des paires de synonymes et des paires d'antonymes.\n",
    "\n",
    "Vous devez trouver les négatifs de tous les mots des lots au moyen de votre fonction  run_negative_extraction puis calculer la fonction de coût totale."
   ]
  },
  {
   "cell_type": "code",
   "execution_count": 57,
   "metadata": {
    "ExecuteTime": {
     "end_time": "2024-10-02T18:15:51.640104300Z",
     "start_time": "2024-10-02T18:15:51.608724700Z"
    }
   },
   "outputs": [],
   "source": [
    "def forward(model, synonym_pairs, antonym_pairs):\n",
    "    \"\"\"\n",
    "    Fonction forward pour calculer le coût total.\n",
    "\n",
    "    Args : \n",
    "        synonym_pairs   : \n",
    "        Liste de tuples d'indices de paires de synonymes\n",
    "\n",
    "        antonym_pairs   : \n",
    "        Liste de tuples d'indices de paires d'antonymes\n",
    "\n",
    "    Returns:\n",
    "    Tenseur contenant le coût total (attraction, répulsion et régularisation)\n",
    "    \"\"\"\n",
    "\n",
    "    # Calcul de tous les négatifs\n",
    "    neg_syn_dict = run_negative_extraction(model, synonym_pairs)\n",
    "    neg_ant_dict = run_negative_extraction(model, antonym_pairs, synonym=False)\n",
    "\n",
    "    # Calcul du cout total\n",
    "    cost  = synonym_cost(model, synonym_pairs, neg_syn_dict) + antonym_cost(model, antonym_pairs, neg_ant_dict) + regularization_cost(model, synonym_pairs, antonym_pairs)\n",
    "    return cost"
   ]
  },
  {
   "cell_type": "markdown",
   "metadata": {},
   "source": [
    "#### 3.3.2 Évaluation (3 points)\n",
    "\n",
    "Utilisez la fonction `spearman_rank_correlation` pour compléter la fonction d'évaluation `evaluate` qui exécute le modèle sur le jeu d'évaluation et calcule la corrélation de Spearman entre les scores prédits et réels.\n",
    "\n",
    "Utilisez `torch.no_grad()` pour éviter de stocker les gradients."
   ]
  },
  {
   "cell_type": "code",
   "execution_count": 31,
   "metadata": {
    "ExecuteTime": {
     "end_time": "2024-10-02T17:35:58.337402200Z",
     "start_time": "2024-10-02T17:35:58.259676Z"
    }
   },
   "outputs": [],
   "source": [
    "def evaluate(model, eval_data, word_to_index):\n",
    "    \"\"\"\n",
    "    Calclue les prédictions du modèle sur le jeu d'évaluation puis la corrélation de Spearman entre les scores prédits et réels.\n",
    "\n",
    "    model: modèle de plongements de mots\n",
    "    eval_data: pd.DataFrame\n",
    "    word_to_index: dict\n",
    "\n",
    "    Returns:\n",
    "    float, la corrélation de Spearman entre les scores prédits par le modèle et réels.\n",
    "    \"\"\"\n",
    "    # Mettre le modèle en mode évaluation\n",
    "    model.eval()\n",
    "    device = model.device\n",
    "\n",
    "    # Obtenir les indices des paires de mots de eval_data\n",
    "    word_pairs = list(zip(eval_data['word 1'], eval_data['word 2']))\n",
    "    eval_indices = [(word_to_index[w1], word_to_index[w2]) for w1, w2 in word_pairs if w1 in word_to_index and w2 in word_to_index]\n",
    "\n",
    "    # Scores réels\n",
    "    real_scores = eval_data['score'].values\n",
    "\n",
    "    # Scores prédits\n",
    "    predicted_scores = []\n",
    "\n",
    "    with torch.no_grad():  \n",
    "        for id_word1, id_word2 in eval_indices:\n",
    "            word1_embedding = model.embeddings(torch.tensor(id_word1, device=device)) # Récupérer la représentation de word 1 issue du modèle\n",
    "            word2_embedding = model.embeddings(torch.tensor(id_word2, device=device)) # Récupérer la représentation de word 2 issue du modèle\n",
    "            cosine_sim = cosine_similarity(word1_embedding.unsqueeze(0), word2_embedding.unsqueeze(0)).item() # Calcul de la similarité cosinus entre les deux paires\n",
    "            predicted_scores.append(cosine_sim) # Stocker la similarité\n",
    "            \n",
    "    return spearman_rank_correlation(real_scores, predicted_scores) # Calculer la corrélation de Spearman"
   ]
  },
  {
   "cell_type": "code",
   "execution_count": 40,
   "metadata": {
    "ExecuteTime": {
     "end_time": "2024-10-02T17:52:41.209190Z",
     "start_time": "2024-10-02T17:52:40.433091300Z"
    }
   },
   "outputs": [
    {
     "data": {
      "text/plain": "0.29163879410472593"
     },
     "execution_count": 40,
     "metadata": {},
     "output_type": "execute_result"
    }
   ],
   "source": [
    "model = ContrastiveWordEmbeddingModel(glove_embeddings, device='cuda')\n",
    "evaluate(model, evaluation_simlex, glove_word_to_index)"
   ]
  },
  {
   "cell_type": "code",
   "execution_count": 41,
   "outputs": [
    {
     "data": {
      "text/plain": "'cuda'"
     },
     "execution_count": 41,
     "metadata": {},
     "output_type": "execute_result"
    }
   ],
   "source": [
    "model.device"
   ],
   "metadata": {
    "collapsed": false,
    "ExecuteTime": {
     "end_time": "2024-10-02T17:52:47.410419100Z",
     "start_time": "2024-10-02T17:52:47.394802800Z"
    }
   }
  },
  {
   "cell_type": "markdown",
   "metadata": {},
   "source": [
    "### 4. Entraînement de zéro (16 Points)\n",
    "\n",
    "Nous allons maintenant entraîner le modèle de zéro, sans utiliser les plongements GloVe pré-entraînés. Ensuite, dans la partie 5, nous entraînerons le modèle en l'initialisant avec les plongements GloVe pré-entraînés."
   ]
  },
  {
   "cell_type": "code",
   "execution_count": 58,
   "metadata": {
    "ExecuteTime": {
     "end_time": "2024-10-02T18:15:57.260642100Z",
     "start_time": "2024-10-02T18:15:56.706595400Z"
    }
   },
   "outputs": [
    {
     "name": "stdout",
     "output_type": "stream",
     "text": [
      "tensor([[ 9730, 14810],\n",
      "        [27410,  6684],\n",
      "        [ 5027,  3734],\n",
      "        ...,\n",
      "        [   61,  7257],\n",
      "        [22695,  7062],\n",
      "        [  799, 10038]])\n",
      "tensor([[29492, 22090],\n",
      "        [26217,  4303],\n",
      "        [12561,  1466],\n",
      "        ...,\n",
      "        [ 2120,  5228],\n",
      "        [ 6579, 16620],\n",
      "        [30950,   573]])\n"
     ]
    }
   ],
   "source": [
    "# Hyperparamètres, optimiseur et DataLoader\n",
    "\n",
    "BATCH_SIZE = 64\n",
    "NUM_EPOCHS = 20\n",
    "LEARNING_RATE = 5e-3\n",
    "\n",
    "device = 'cuda' if torch.cuda.is_available() else 'cpu'\n",
    "\n",
    "torch.cuda.empty_cache()\n",
    "gc.collect()\n",
    "\n",
    "train_syn_tensor = data_to_tensor(train_synonyms, glove_word_to_index)\n",
    "train_ant_tensor = data_to_tensor(train_antonyms, glove_word_to_index)\n",
    "\n",
    "print(train_syn_tensor)\n",
    "print(train_ant_tensor)\n",
    "\n",
    "\n",
    "syn_data_loader = DataLoader(train_syn_tensor, batch_size=BATCH_SIZE, shuffle=True, drop_last=True)\n",
    "ant_data_loader = DataLoader(train_ant_tensor, batch_size=BATCH_SIZE, shuffle=True, drop_last=True)\n",
    "\n",
    "#print(len(syn_data_loader))\n",
    "#print(len(ant_data_loader))"
   ]
  },
  {
   "cell_type": "code",
   "execution_count": null,
   "outputs": [],
   "source": [],
   "metadata": {
    "collapsed": false
   }
  },
  {
   "cell_type": "markdown",
   "metadata": {},
   "source": [
    "#### 4.1 Complétez la cellule suivante pour créer le modèle de zéro `model_zero`, à partir d'une matrice de plongements aléatoire. (1 point)"
   ]
  },
  {
   "cell_type": "code",
   "execution_count": 43,
   "metadata": {
    "ExecuteTime": {
     "end_time": "2024-10-02T17:53:15.391099700Z",
     "start_time": "2024-10-02T17:53:15.359515500Z"
    }
   },
   "outputs": [],
   "source": [
    "model_zero = None\n",
    "random_seed = 0\n",
    "random_generator = torch.Generator(device=device).manual_seed(random_seed)\n",
    "\n",
    "embeddings_size = glove_embeddings.size()\n",
    "random_init_embeddings = torch.randn(embeddings_size, generator=random_generator, device=device)\n",
    "\n",
    "model_zero = ContrastiveWordEmbeddingModel(random_init_embeddings, device='cuda')\n",
    "\n",
    "optimizer = optim.Adam(model_zero.parameters(), lr=LEARNING_RATE)"
   ]
  },
  {
   "cell_type": "code",
   "execution_count": 44,
   "outputs": [
    {
     "name": "stdout",
     "output_type": "stream",
     "text": [
      "Model is on GPU: True\n"
     ]
    }
   ],
   "source": [
    "is_on_gpu = next(model.parameters()).is_cuda\n",
    "print(f\"Model is on GPU: {is_on_gpu}\")\n"
   ],
   "metadata": {
    "collapsed": false,
    "ExecuteTime": {
     "end_time": "2024-10-02T17:54:21.395035700Z",
     "start_time": "2024-10-02T17:54:21.383025Z"
    }
   }
  },
  {
   "cell_type": "code",
   "execution_count": 45,
   "outputs": [
    {
     "name": "stdout",
     "output_type": "stream",
     "text": [
      "Model is using GPU: NVIDIA GeForce RTX 3070 Laptop GPU\n"
     ]
    }
   ],
   "source": [
    "if is_on_gpu:\n",
    "    current_device = torch.cuda.current_device()  # Get the current GPU device index\n",
    "    device_name = torch.cuda.get_device_name(current_device)  # Get the name of the GPU\n",
    "    print(f\"Model is using GPU: {device_name}\")"
   ],
   "metadata": {
    "collapsed": false,
    "ExecuteTime": {
     "end_time": "2024-10-02T17:54:36.381947300Z",
     "start_time": "2024-10-02T17:54:36.334575200Z"
    }
   }
  },
  {
   "cell_type": "markdown",
   "metadata": {},
   "source": [
    "#### 4.2 Entraînez le modèle sur le jeu des paires de synonymes et d'antonymes. (6 points)\n",
    "\n",
    "N'oubliez pas que l'entraînement se fait sur les synonymes et antonymes et que l'évaluation se fait sur SimLex-999.\n",
    "\n",
    "À défaut d'avoir un jeu de validation, on observe les résultats sur le corpus de test : SimLex-999. Ceci n’est fait qu’à titre illustratif pour voir l'évolution de l'apprentissage. Il ne faut pas faire de choix pour l’entrainement à partir des résultats sur le corpus de test.\n",
    "\n",
    "*Note : Les jeux de synonymes et d'antonymes n'ont pas la même taille. Une époque (epoch) correspond à une itération sur le jeu de données le plus petit.*"
   ]
  },
  {
   "cell_type": "code",
   "execution_count": null,
   "metadata": {
    "is_executing": true,
    "ExecuteTime": {
     "start_time": "2024-10-02T18:21:35.289979900Z"
    }
   },
   "outputs": [
    {
     "name": "stdout",
     "output_type": "stream",
     "text": [
      "Before training, Spearman Correlation: 0.0493\n"
     ]
    },
    {
     "name": "stderr",
     "output_type": "stream",
     "text": [
      "  0%|          | 0/20 [00:00<?, ?it/s]"
     ]
    },
    {
     "name": "stdout",
     "output_type": "stream",
     "text": [
      "batch number : 0\n",
      "batch number : 1\n",
      "batch number : 2\n",
      "batch number : 3\n",
      "batch number : 4\n",
      "batch number : 5\n",
      "batch number : 6\n",
      "batch number : 7\n",
      "batch number : 8\n",
      "batch number : 9\n",
      "batch number : 10\n",
      "batch number : 11\n",
      "batch number : 12\n",
      "batch number : 13\n",
      "batch number : 14\n",
      "batch number : 15\n",
      "batch number : 16\n",
      "batch number : 17\n",
      "batch number : 18\n",
      "batch number : 19\n",
      "batch number : 20\n",
      "batch number : 21\n",
      "batch number : 22\n",
      "batch number : 23\n",
      "batch number : 24\n",
      "batch number : 25\n",
      "batch number : 26\n",
      "batch number : 27\n",
      "batch number : 28\n",
      "batch number : 29\n",
      "batch number : 30\n",
      "batch number : 31\n",
      "batch number : 32\n",
      "batch number : 33\n",
      "batch number : 34\n",
      "batch number : 35\n",
      "batch number : 36\n",
      "batch number : 37\n",
      "batch number : 38\n",
      "batch number : 39\n",
      "batch number : 40\n",
      "batch number : 41\n",
      "batch number : 42\n",
      "batch number : 43\n",
      "batch number : 44\n",
      "batch number : 45\n",
      "batch number : 46\n",
      "batch number : 47\n",
      "batch number : 48\n",
      "batch number : 49\n",
      "batch number : 50\n",
      "batch number : 51\n",
      "batch number : 52\n",
      "batch number : 53\n",
      "batch number : 54\n",
      "batch number : 55\n",
      "batch number : 56\n",
      "batch number : 57\n",
      "batch number : 58\n",
      "batch number : 59\n",
      "batch number : 60\n",
      "batch number : 61\n",
      "batch number : 62\n",
      "batch number : 63\n",
      "batch number : 64\n",
      "batch number : 65\n",
      "batch number : 66\n",
      "batch number : 67\n",
      "batch number : 68\n",
      "batch number : 69\n",
      "batch number : 70\n",
      "batch number : 71\n",
      "batch number : 72\n",
      "batch number : 73\n",
      "batch number : 74\n",
      "batch number : 75\n",
      "batch number : 76\n",
      "batch number : 77\n",
      "batch number : 78\n",
      "batch number : 79\n",
      "batch number : 80\n",
      "batch number : 81\n",
      "batch number : 82\n",
      "batch number : 83\n",
      "batch number : 84\n",
      "batch number : 85\n",
      "batch number : 86\n",
      "batch number : 87\n",
      "batch number : 88\n",
      "batch number : 89\n",
      "batch number : 90\n",
      "batch number : 91\n",
      "batch number : 92\n",
      "batch number : 93\n",
      "batch number : 94\n",
      "batch number : 95\n",
      "batch number : 96\n",
      "batch number : 97\n",
      "batch number : 98\n",
      "batch number : 99\n",
      "batch number : 100\n",
      "batch number : 101\n",
      "batch number : 102\n",
      "batch number : 103\n",
      "batch number : 104\n",
      "batch number : 105\n",
      "batch number : 106\n",
      "batch number : 107\n",
      "batch number : 108\n",
      "batch number : 109\n",
      "batch number : 110\n",
      "batch number : 111\n",
      "batch number : 112\n",
      "batch number : 113\n",
      "batch number : 114\n",
      "batch number : 115\n",
      "batch number : 116\n",
      "batch number : 117\n",
      "batch number : 118\n",
      "batch number : 119\n",
      "batch number : 120\n",
      "batch number : 121\n",
      "batch number : 122\n",
      "batch number : 123\n",
      "batch number : 124\n",
      "batch number : 125\n",
      "batch number : 126\n",
      "batch number : 127\n",
      "batch number : 128\n",
      "batch number : 129\n",
      "batch number : 130\n",
      "batch number : 131\n",
      "batch number : 132\n",
      "batch number : 133\n",
      "batch number : 134\n",
      "batch number : 135\n",
      "batch number : 136\n",
      "batch number : 137\n",
      "batch number : 138\n",
      "batch number : 139\n",
      "batch number : 140\n",
      "batch number : 141\n",
      "batch number : 142\n",
      "batch number : 143\n",
      "batch number : 144\n",
      "batch number : 145\n",
      "batch number : 146\n",
      "batch number : 147\n",
      "batch number : 148\n",
      "batch number : 149\n",
      "batch number : 150\n",
      "batch number : 151\n",
      "batch number : 152\n",
      "batch number : 153\n",
      "batch number : 154\n",
      "batch number : 155\n",
      "batch number : 156\n",
      "batch number : 157\n",
      "batch number : 158\n",
      "batch number : 159\n",
      "batch number : 160\n",
      "batch number : 161\n",
      "batch number : 162\n",
      "batch number : 163\n",
      "batch number : 164\n",
      "batch number : 165\n",
      "batch number : 166\n",
      "batch number : 167\n",
      "batch number : 168\n",
      "batch number : 169\n",
      "batch number : 170\n",
      "batch number : 171\n",
      "batch number : 172\n",
      "batch number : 173\n",
      "batch number : 174\n",
      "batch number : 175\n",
      "batch number : 176\n",
      "batch number : 177\n",
      "batch number : 178\n",
      "batch number : 179\n",
      "batch number : 180\n",
      "batch number : 181\n",
      "batch number : 182\n",
      "batch number : 183\n",
      "batch number : 184\n",
      "batch number : 185\n",
      "Epoch 1/20, Loss: 457322.4590\n"
     ]
    },
    {
     "name": "stderr",
     "output_type": "stream",
     "text": [
      "  5%|▌         | 1/20 [01:28<28:10, 88.95s/it]"
     ]
    },
    {
     "name": "stdout",
     "output_type": "stream",
     "text": [
      "Epoch 1, Spearman Correlation: 0.0963\n",
      "batch number : 0\n",
      "batch number : 1\n",
      "batch number : 2\n",
      "batch number : 3\n",
      "batch number : 4\n",
      "batch number : 5\n",
      "batch number : 6\n",
      "batch number : 7\n",
      "batch number : 8\n",
      "batch number : 9\n",
      "batch number : 10\n",
      "batch number : 11\n",
      "batch number : 12\n",
      "batch number : 13\n",
      "batch number : 14\n",
      "batch number : 15\n",
      "batch number : 16\n",
      "batch number : 17\n",
      "batch number : 18\n",
      "batch number : 19\n",
      "batch number : 20\n",
      "batch number : 21\n",
      "batch number : 22\n",
      "batch number : 23\n",
      "batch number : 24\n",
      "batch number : 25\n",
      "batch number : 26\n",
      "batch number : 27\n",
      "batch number : 28\n",
      "batch number : 29\n",
      "batch number : 30\n",
      "batch number : 31\n",
      "batch number : 32\n",
      "batch number : 33\n",
      "batch number : 34\n",
      "batch number : 35\n",
      "batch number : 36\n",
      "batch number : 37\n",
      "batch number : 38\n",
      "batch number : 39\n",
      "batch number : 40\n",
      "batch number : 41\n",
      "batch number : 42\n",
      "batch number : 43\n",
      "batch number : 44\n",
      "batch number : 45\n",
      "batch number : 46\n",
      "batch number : 47\n",
      "batch number : 48\n",
      "batch number : 49\n",
      "batch number : 50\n",
      "batch number : 51\n",
      "batch number : 52\n",
      "batch number : 53\n",
      "batch number : 54\n",
      "batch number : 55\n",
      "batch number : 56\n",
      "batch number : 57\n",
      "batch number : 58\n",
      "batch number : 59\n",
      "batch number : 60\n",
      "batch number : 61\n",
      "batch number : 62\n",
      "batch number : 63\n",
      "batch number : 64\n",
      "batch number : 65\n",
      "batch number : 66\n",
      "batch number : 67\n",
      "batch number : 68\n",
      "batch number : 69\n",
      "batch number : 70\n",
      "batch number : 71\n",
      "batch number : 72\n",
      "batch number : 73\n",
      "batch number : 74\n",
      "batch number : 75\n",
      "batch number : 76\n",
      "batch number : 77\n",
      "batch number : 78\n",
      "batch number : 79\n",
      "batch number : 80\n",
      "batch number : 81\n",
      "batch number : 82\n",
      "batch number : 83\n",
      "batch number : 84\n",
      "batch number : 85\n",
      "batch number : 86\n",
      "batch number : 87\n",
      "batch number : 88\n",
      "batch number : 89\n",
      "batch number : 90\n",
      "batch number : 91\n",
      "batch number : 92\n",
      "batch number : 93\n",
      "batch number : 94\n",
      "batch number : 95\n",
      "batch number : 96\n",
      "batch number : 97\n",
      "batch number : 98\n",
      "batch number : 99\n",
      "batch number : 100\n",
      "batch number : 101\n",
      "batch number : 102\n",
      "batch number : 103\n",
      "batch number : 104\n",
      "batch number : 105\n",
      "batch number : 106\n",
      "batch number : 107\n",
      "batch number : 108\n",
      "batch number : 109\n",
      "batch number : 110\n",
      "batch number : 111\n",
      "batch number : 112\n",
      "batch number : 113\n",
      "batch number : 114\n",
      "batch number : 115\n",
      "batch number : 116\n",
      "batch number : 117\n",
      "batch number : 118\n",
      "batch number : 119\n",
      "batch number : 120\n",
      "batch number : 121\n",
      "batch number : 122\n",
      "batch number : 123\n",
      "batch number : 124\n",
      "batch number : 125\n",
      "batch number : 126\n",
      "batch number : 127\n",
      "batch number : 128\n",
      "batch number : 129\n",
      "batch number : 130\n",
      "batch number : 131\n",
      "batch number : 132\n",
      "batch number : 133\n",
      "batch number : 134\n",
      "batch number : 135\n",
      "batch number : 136\n",
      "batch number : 137\n",
      "batch number : 138\n",
      "batch number : 139\n",
      "batch number : 140\n",
      "batch number : 141\n",
      "batch number : 142\n",
      "batch number : 143\n",
      "batch number : 144\n",
      "batch number : 145\n",
      "batch number : 146\n",
      "batch number : 147\n",
      "batch number : 148\n",
      "batch number : 149\n",
      "batch number : 150\n",
      "batch number : 151\n",
      "batch number : 152\n",
      "batch number : 153\n",
      "batch number : 154\n",
      "batch number : 155\n",
      "batch number : 156\n",
      "batch number : 157\n",
      "batch number : 158\n",
      "batch number : 159\n",
      "batch number : 160\n",
      "batch number : 161\n",
      "batch number : 162\n",
      "batch number : 163\n",
      "batch number : 164\n",
      "batch number : 165\n",
      "batch number : 166\n",
      "batch number : 167\n",
      "batch number : 168\n",
      "batch number : 169\n",
      "batch number : 170\n",
      "batch number : 171\n",
      "batch number : 172\n",
      "batch number : 173\n",
      "batch number : 174\n",
      "batch number : 175\n",
      "batch number : 176\n",
      "batch number : 177\n",
      "batch number : 178\n",
      "batch number : 179\n",
      "batch number : 180\n",
      "batch number : 181\n",
      "batch number : 182\n",
      "batch number : 183\n",
      "batch number : 184\n",
      "batch number : 185\n",
      "Epoch 2/20, Loss: 323246.0240\n"
     ]
    },
    {
     "name": "stderr",
     "output_type": "stream",
     "text": [
      " 10%|█         | 2/20 [02:57<26:32, 88.50s/it]"
     ]
    },
    {
     "name": "stdout",
     "output_type": "stream",
     "text": [
      "Epoch 2, Spearman Correlation: 0.1251\n",
      "batch number : 0\n",
      "batch number : 1\n",
      "batch number : 2\n",
      "batch number : 3\n",
      "batch number : 4\n",
      "batch number : 5\n",
      "batch number : 6\n",
      "batch number : 7\n",
      "batch number : 8\n",
      "batch number : 9\n",
      "batch number : 10\n",
      "batch number : 11\n",
      "batch number : 12\n",
      "batch number : 13\n",
      "batch number : 14\n",
      "batch number : 15\n",
      "batch number : 16\n",
      "batch number : 17\n",
      "batch number : 18\n",
      "batch number : 19\n",
      "batch number : 20\n",
      "batch number : 21\n",
      "batch number : 22\n",
      "batch number : 23\n",
      "batch number : 24\n",
      "batch number : 25\n",
      "batch number : 26\n",
      "batch number : 27\n",
      "batch number : 28\n",
      "batch number : 29\n",
      "batch number : 30\n",
      "batch number : 31\n",
      "batch number : 32\n",
      "batch number : 33\n",
      "batch number : 34\n",
      "batch number : 35\n",
      "batch number : 36\n",
      "batch number : 37\n",
      "batch number : 38\n",
      "batch number : 39\n",
      "batch number : 40\n",
      "batch number : 41\n",
      "batch number : 42\n",
      "batch number : 43\n",
      "batch number : 44\n",
      "batch number : 45\n",
      "batch number : 46\n",
      "batch number : 47\n",
      "batch number : 48\n",
      "batch number : 49\n",
      "batch number : 50\n",
      "batch number : 51\n",
      "batch number : 52\n",
      "batch number : 53\n",
      "batch number : 54\n",
      "batch number : 55\n",
      "batch number : 56\n",
      "batch number : 57\n",
      "batch number : 58\n",
      "batch number : 59\n",
      "batch number : 60\n",
      "batch number : 61\n",
      "batch number : 62\n",
      "batch number : 63\n",
      "batch number : 64\n",
      "batch number : 65\n",
      "batch number : 66\n",
      "batch number : 67\n",
      "batch number : 68\n",
      "batch number : 69\n",
      "batch number : 70\n",
      "batch number : 71\n",
      "batch number : 72\n",
      "batch number : 73\n",
      "batch number : 74\n",
      "batch number : 75\n",
      "batch number : 76\n",
      "batch number : 77\n",
      "batch number : 78\n",
      "batch number : 79\n",
      "batch number : 80\n",
      "batch number : 81\n",
      "batch number : 82\n",
      "batch number : 83\n",
      "batch number : 84\n",
      "batch number : 85\n",
      "batch number : 86\n",
      "batch number : 87\n",
      "batch number : 88\n",
      "batch number : 89\n",
      "batch number : 90\n",
      "batch number : 91\n",
      "batch number : 92\n",
      "batch number : 93\n",
      "batch number : 94\n",
      "batch number : 95\n",
      "batch number : 96\n",
      "batch number : 97\n",
      "batch number : 98\n",
      "batch number : 99\n",
      "batch number : 100\n",
      "batch number : 101\n",
      "batch number : 102\n",
      "batch number : 103\n",
      "batch number : 104\n",
      "batch number : 105\n",
      "batch number : 106\n",
      "batch number : 107\n",
      "batch number : 108\n",
      "batch number : 109\n",
      "batch number : 110\n",
      "batch number : 111\n",
      "batch number : 112\n",
      "batch number : 113\n",
      "batch number : 114\n",
      "batch number : 115\n",
      "batch number : 116\n",
      "batch number : 117\n",
      "batch number : 118\n",
      "batch number : 119\n",
      "batch number : 120\n",
      "batch number : 121\n",
      "batch number : 122\n",
      "batch number : 123\n",
      "batch number : 124\n",
      "batch number : 125\n",
      "batch number : 126\n",
      "batch number : 127\n",
      "batch number : 128\n",
      "batch number : 129\n",
      "batch number : 130\n",
      "batch number : 131\n",
      "batch number : 132\n",
      "batch number : 133\n",
      "batch number : 134\n",
      "batch number : 135\n",
      "batch number : 136\n",
      "batch number : 137\n",
      "batch number : 138\n",
      "batch number : 139\n",
      "batch number : 140\n",
      "batch number : 141\n",
      "batch number : 142\n",
      "batch number : 143\n",
      "batch number : 144\n",
      "batch number : 145\n",
      "batch number : 146\n",
      "batch number : 147\n",
      "batch number : 148\n",
      "batch number : 149\n",
      "batch number : 150\n",
      "batch number : 151\n",
      "batch number : 152\n",
      "batch number : 153\n",
      "batch number : 154\n",
      "batch number : 155\n",
      "batch number : 156\n",
      "batch number : 157\n",
      "batch number : 158\n",
      "batch number : 159\n",
      "batch number : 160\n",
      "batch number : 161\n",
      "batch number : 162\n",
      "batch number : 163\n",
      "batch number : 164\n",
      "batch number : 165\n",
      "batch number : 166\n",
      "batch number : 167\n",
      "batch number : 168\n",
      "batch number : 169\n",
      "batch number : 170\n",
      "batch number : 171\n",
      "batch number : 172\n",
      "batch number : 173\n",
      "batch number : 174\n",
      "batch number : 175\n",
      "batch number : 176\n",
      "batch number : 177\n",
      "batch number : 178\n",
      "batch number : 179\n",
      "batch number : 180\n",
      "batch number : 181\n",
      "batch number : 182\n",
      "batch number : 183\n",
      "batch number : 184\n",
      "batch number : 185\n",
      "Epoch 3/20, Loss: 277641.6664\n"
     ]
    },
    {
     "name": "stderr",
     "output_type": "stream",
     "text": [
      " 15%|█▌        | 3/20 [04:25<25:04, 88.48s/it]"
     ]
    },
    {
     "name": "stdout",
     "output_type": "stream",
     "text": [
      "Epoch 3, Spearman Correlation: 0.1399\n",
      "batch number : 0\n",
      "batch number : 1\n",
      "batch number : 2\n",
      "batch number : 3\n",
      "batch number : 4\n",
      "batch number : 5\n",
      "batch number : 6\n",
      "batch number : 7\n",
      "batch number : 8\n",
      "batch number : 9\n",
      "batch number : 10\n",
      "batch number : 11\n",
      "batch number : 12\n",
      "batch number : 13\n",
      "batch number : 14\n",
      "batch number : 15\n",
      "batch number : 16\n",
      "batch number : 17\n",
      "batch number : 18\n",
      "batch number : 19\n",
      "batch number : 20\n",
      "batch number : 21\n",
      "batch number : 22\n",
      "batch number : 23\n",
      "batch number : 24\n",
      "batch number : 25\n",
      "batch number : 26\n",
      "batch number : 27\n",
      "batch number : 28\n",
      "batch number : 29\n",
      "batch number : 30\n",
      "batch number : 31\n",
      "batch number : 32\n",
      "batch number : 33\n",
      "batch number : 34\n",
      "batch number : 35\n",
      "batch number : 36\n",
      "batch number : 37\n",
      "batch number : 38\n",
      "batch number : 39\n",
      "batch number : 40\n",
      "batch number : 41\n",
      "batch number : 42\n",
      "batch number : 43\n",
      "batch number : 44\n",
      "batch number : 45\n",
      "batch number : 46\n",
      "batch number : 47\n",
      "batch number : 48\n",
      "batch number : 49\n",
      "batch number : 50\n",
      "batch number : 51\n",
      "batch number : 52\n",
      "batch number : 53\n",
      "batch number : 54\n",
      "batch number : 55\n",
      "batch number : 56\n",
      "batch number : 57\n",
      "batch number : 58\n",
      "batch number : 59\n",
      "batch number : 60\n",
      "batch number : 61\n",
      "batch number : 62\n",
      "batch number : 63\n",
      "batch number : 64\n",
      "batch number : 65\n",
      "batch number : 66\n",
      "batch number : 67\n",
      "batch number : 68\n",
      "batch number : 69\n",
      "batch number : 70\n",
      "batch number : 71\n",
      "batch number : 72\n",
      "batch number : 73\n",
      "batch number : 74\n",
      "batch number : 75\n",
      "batch number : 76\n",
      "batch number : 77\n",
      "batch number : 78\n",
      "batch number : 79\n",
      "batch number : 80\n",
      "batch number : 81\n",
      "batch number : 82\n",
      "batch number : 83\n",
      "batch number : 84\n",
      "batch number : 85\n",
      "batch number : 86\n",
      "batch number : 87\n",
      "batch number : 88\n",
      "batch number : 89\n",
      "batch number : 90\n",
      "batch number : 91\n",
      "batch number : 92\n",
      "batch number : 93\n",
      "batch number : 94\n",
      "batch number : 95\n",
      "batch number : 96\n",
      "batch number : 97\n",
      "batch number : 98\n",
      "batch number : 99\n",
      "batch number : 100\n",
      "batch number : 101\n",
      "batch number : 102\n",
      "batch number : 103\n",
      "batch number : 104\n",
      "batch number : 105\n",
      "batch number : 106\n",
      "batch number : 107\n",
      "batch number : 108\n",
      "batch number : 109\n",
      "batch number : 110\n",
      "batch number : 111\n",
      "batch number : 112\n",
      "batch number : 113\n",
      "batch number : 114\n",
      "batch number : 115\n",
      "batch number : 116\n",
      "batch number : 117\n",
      "batch number : 118\n",
      "batch number : 119\n",
      "batch number : 120\n",
      "batch number : 121\n",
      "batch number : 122\n",
      "batch number : 123\n",
      "batch number : 124\n",
      "batch number : 125\n",
      "batch number : 126\n",
      "batch number : 127\n",
      "batch number : 128\n",
      "batch number : 129\n",
      "batch number : 130\n",
      "batch number : 131\n",
      "batch number : 132\n",
      "batch number : 133\n",
      "batch number : 134\n",
      "batch number : 135\n",
      "batch number : 136\n",
      "batch number : 137\n",
      "batch number : 138\n",
      "batch number : 139\n",
      "batch number : 140\n",
      "batch number : 141\n",
      "batch number : 142\n",
      "batch number : 143\n",
      "batch number : 144\n",
      "batch number : 145\n",
      "batch number : 146\n",
      "batch number : 147\n",
      "batch number : 148\n",
      "batch number : 149\n",
      "batch number : 150\n",
      "batch number : 151\n",
      "batch number : 152\n",
      "batch number : 153\n",
      "batch number : 154\n",
      "batch number : 155\n",
      "batch number : 156\n",
      "batch number : 157\n",
      "batch number : 158\n",
      "batch number : 159\n",
      "batch number : 160\n",
      "batch number : 161\n"
     ]
    }
   ],
   "source": [
    "spearman_corr = evaluate(model_zero, evaluation_simlex, glove_word_to_index)\n",
    "print(f'Before training, Spearman Correlation: {spearman_corr:.4f}')\n",
    "\n",
    "for epoch in tqdm(range(NUM_EPOCHS)):\n",
    "    model_zero.train()\n",
    "    total_loss = 0.0\n",
    "\n",
    "    for i,(syn_batch, ant_batch) in enumerate(zip(syn_data_loader, ant_data_loader)):\n",
    "        print(f'batch number : {i}')\n",
    "        syn_batch = syn_batch.to(device)\n",
    "        ant_batch = ant_batch.to(device)\n",
    "\n",
    "        optimizer.zero_grad()\n",
    "        loss = forward(model_zero, syn_batch, ant_batch)\n",
    "        loss.backward()\n",
    "        optimizer.step()\n",
    "        total_loss += loss.item()\n",
    "\n",
    "    # Affichage de la perte totale de l'époque\n",
    "    print(f\"Epoch {epoch + 1}/{NUM_EPOCHS}, Loss: {total_loss:.4f}\")\n",
    "    \n",
    "    # Évaluation de la corrélation après chaque époque\n",
    "    spearman_corr = evaluate(model_zero, evaluation_simlex, glove_word_to_index)\n",
    "    print(f'Epoch {epoch + 1}, Spearman Correlation: {spearman_corr:.4f}')\n",
    "\n",
    "# Évaluation finale après l'entraînement\n",
    "spearman_corr = evaluate(model_zero, evaluation_simlex, glove_word_to_index)\n",
    "print(f'After training, Spearman Correlation: {spearman_corr:.4f}')"
   ]
  },
  {
   "cell_type": "markdown",
   "metadata": {},
   "source": [
    "#### 4.3 Courbes d'entraînement du modèle de zéro (4 points)\n",
    "\n",
    "Affichez la perte moyenne sur le jeu d'entraînement et la corrélation de Spearman sur le jeu de validation à chaque époque."
   ]
  },
  {
   "cell_type": "code",
   "execution_count": null,
   "metadata": {
    "ExecuteTime": {
     "start_time": "2024-10-02T17:47:36.652172600Z"
    }
   },
   "outputs": [],
   "source": [
    "# TODO\n",
    "# END TODO\n"
   ]
  },
  {
   "cell_type": "markdown",
   "metadata": {},
   "source": [
    "#### 4.4 Évaluation du modèle de zéro et comparaison avec GloVe (5 points)\n",
    "\n",
    "Comparez le modèle de zéro après l'entraînement à GloVe (résultat de la partie 2.4) en termes de corrélation de Spearman sur le jeu de validation. Quelle méthode est la plus performante ? Pourquoi ?\n"
   ]
  },
  {
   "cell_type": "markdown",
   "metadata": {},
   "source": [
    "### 5. Intérêt de GloVe (18 Points)\n",
    "\n",
    "Dans la section précédente, nous avons entraîné un modèle de zéro.\n",
    "\n",
    "Nous allons maintenant évaluer si initialiser le modèle avec les plongements de GloVe permet d'améliorer les performances."
   ]
  },
  {
   "cell_type": "markdown",
   "metadata": {},
   "source": [
    "#### 5.1 Initialisation avec GloVe (6 points)\n",
    "\n",
    "Entraînez le modèle `model_fine_tuned`, mais cette fois en ititialisant directement avec les plongements du modèle pré-entraîné GloVe.\n",
    "\n",
    "On utilisera Adam comme optimiseur."
   ]
  },
  {
   "cell_type": "code",
   "execution_count": null,
   "metadata": {
    "ExecuteTime": {
     "start_time": "2024-10-02T17:47:36.652172600Z"
    }
   },
   "outputs": [],
   "source": [
    "# TODO\n",
    "model_fine_tuned = None\n",
    "# END TODO"
   ]
  },
  {
   "cell_type": "code",
   "execution_count": null,
   "metadata": {
    "ExecuteTime": {
     "start_time": "2024-10-02T17:47:36.652172600Z"
    }
   },
   "outputs": [],
   "source": [
    "spearman_corr = evaluate(model_fine_tuned, evaluation_simlex, glove_word_to_index)\n",
    "print(f'Before training, Spearman Correlation: {spearman_corr:.4f}')\n",
    "\n",
    "# TODO\n",
    "# END TODO"
   ]
  },
  {
   "cell_type": "markdown",
   "metadata": {},
   "source": [
    "#### 5.2 Courbes d'entraînement (4 points)\n",
    "\n",
    "Affichez la perte moyenne sur le jeu d'entraînement et la corrélation de Spearman sur le jeu de validation à chaque époque."
   ]
  },
  {
   "cell_type": "code",
   "execution_count": null,
   "metadata": {
    "ExecuteTime": {
     "end_time": "2024-10-02T17:47:36.652172600Z",
     "start_time": "2024-10-02T17:47:36.652172600Z"
    }
   },
   "outputs": [],
   "source": [
    "# TODO\n",
    "# END TODO\n"
   ]
  },
  {
   "cell_type": "markdown",
   "metadata": {},
   "source": [
    "#### 5.3 Vérification sur un exemple (3 points)\n",
    "\n",
    "Avec le modèle `model_fine_tuned`, calculez la similarité cosinus entre 'fast' et 'slow' et entre 'fast' et 'rapid'. Commentez les résultats en les comparant avec ceux de la partie 1.4."
   ]
  },
  {
   "cell_type": "code",
   "execution_count": null,
   "metadata": {
    "ExecuteTime": {
     "start_time": "2024-10-02T17:47:36.652172600Z"
    }
   },
   "outputs": [],
   "source": [
    "# TODO\n",
    "# END TODO"
   ]
  },
  {
   "cell_type": "markdown",
   "metadata": {},
   "source": [
    "#### 5.4 Analyse, comparaison, conclusion (5 points)\n",
    "\n",
    "Comparez les performances des trois modèles (GloVe, zéro, fine-tuned). Quelle méthode est la plus performante ? Pourquoi ?\n"
   ]
  },
  {
   "cell_type": "markdown",
   "metadata": {},
   "source": [
    "## Livrables\n",
    "Vous devez remettre votre notebook sur Moodle et Gradescope en ipynb et pdf. Pour Gradescope vous devez associer les numéros de questions avec vos réponses dans le pdf grâce à l'outil que fournit Gradescope.\n",
    "\n",
    "\n",
    "## Évaluation \n",
    "Votre TP sera évalué selon les critères suivants :\n",
    "1. Exécution correcte du code et obtention des sorties attendues\n",
    "2. Réponses correctes aux questions d'analyse\n",
    "3. Qualité du code (noms significatifs, structure, performance, gestion d’exception, etc.)\n",
    "4. Commentaires clairs et informatifs"
   ]
  }
 ],
 "metadata": {
  "kernelspec": {
   "display_name": "Python 3 (ipykernel)",
   "language": "python",
   "name": "python3"
  },
  "language_info": {
   "codemirror_mode": {
    "name": "ipython",
    "version": 3
   },
   "file_extension": ".py",
   "mimetype": "text/x-python",
   "name": "python",
   "nbconvert_exporter": "python",
   "pygments_lexer": "ipython3",
   "version": "3.12.2"
  }
 },
 "nbformat": 4,
 "nbformat_minor": 4
}
