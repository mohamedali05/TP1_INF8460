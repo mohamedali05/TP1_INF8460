{
 "cells": [
  {
   "cell_type": "markdown",
   "metadata": {},
   "source": [
    "##### INF8460 – Traitement automatique de la langue naturelle - Automne 2024\n",
    "\n",
    "## TP2: Plongements de mots"
   ]
  },
  {
   "cell_type": "markdown",
   "metadata": {},
   "source": [
    "## Identification de l'équipe:\n",
    "\n",
    "### Groupe de laboratoire:\n",
    "\n",
    "### Equipe numéro :\n",
    "\n",
    "### Membres:\n",
    "\n",
    "- membre 1 (% de contribution, nature de la contribution)\n",
    "- membre 2 (% de contribution, nature de la contribution)\n",
    "- membre 3 (% de contribution, nature de la contribution)\n",
    "\n",
    "* nature de la contribution: Décrivez brièvement ce qui a été fait par chaque membre de l’équipe. Tous les membres sont censés contribuer au développement. Bien que chaque membre puisse effectuer différentes tâches, vous devez vous efforcer d’obtenir une répartition égale du travail. Soyez précis ! N'indiquez pas seulement : travail réparti équitablement"
   ]
  },
  {
   "cell_type": "markdown",
   "metadata": {},
   "source": [
    "### Objectif du TP\n",
    "\n",
    "L'objectif de ce TP est d'entraîner un modèle de plongements lexicaux qui intègre des notions de synonymie et d'antonymie en utilisant des réseaux de neurones. \n",
    "\n",
    "Contrairement aux plongements vus en cours comme GloVe ou Word2Vec, qui positionnent souvent les mots à proximité équivalente de leurs synonymes et antonymes, nous chercherons à faire distinguer à nos modèles les synonymes et antonymes, en rapprochant les mots de leurs synonymes et en les éloignant de leurs antonymes.\n",
    "\n",
    "### Jeux de données\n",
    "\n",
    "**Paires de synonymes et antonymes** (entraînement) : Les fichiers `train_synonyms.txt` et `train_antonymms.txt` contiennent les paires de synonymes et d'antonymes qui serviront à l'entraînement de nos modèles.\n",
    "- train_synonyms: ~640k paires de synonymes\n",
    "- train_antonyms: ~12k paires d'antonymes\n",
    "\n",
    "**SimLex-999** (test) : Le fichier `simlex_english.txt` contient 1000 paires de mots et leur similarité entre 0 et 10. Des antonymes auront une similarité de 0 et des mots proches auront une similarité plus élevée. Par exemples :\n",
    "\n",
    "- *nice* & *cruel* -> 0\n",
    "- *violent* & *angry* -> 5.9\n",
    "- *essential* & *necessary* -> 9.8\n",
    "\n",
    "### Développement du TP\n",
    "\n",
    "Le TP suivra les étapes suivantes:\n",
    "\n",
    "- Partie 1 : Familiarisation avec GloVe, modèle de plongements de mots pré-entraîné\n",
    "- Partie 2 : Évaluation de GloVe sur SimLex-999\n",
    "- Partie 3 : Mise en place de la méthode d'entraînement\n",
    "- Partie 4 : Entraînement de zéro (baseline)\n",
    "- Partie 5 : Entraînement utilisant GloVe pré-entraîné et conclusion\n",
    "\n",
    "Le TP est noté sur 89 points."
   ]
  },
  {
   "cell_type": "markdown",
   "metadata": {},
   "source": [
    "### Librairies autorisées\n",
    "\n",
    "+ numpy\n",
    "+ pandas\n",
    "+ torch\n",
    "+ matplotlib\n",
    "\n",
    "Si vous voulez utiliser une autre librairie, veuillez demander à votre chargé de lab.\n",
    "\n",
    "### Imports\n",
    "\n",
    "Les imports effectués dans la cellule suivante devraient être suffisants pour faire tout ce TP."
   ]
  },
  {
   "cell_type": "code",
   "execution_count": 1,
   "metadata": {
    "ExecuteTime": {
     "end_time": "2024-10-02T17:33:53.552257500Z",
     "start_time": "2024-10-02T17:33:50.963112500Z"
    }
   },
   "outputs": [],
   "source": [
    "from tqdm import tqdm\n",
    "import gc\n",
    "\n",
    "import numpy as np\n",
    "import pandas as pd\n",
    "import matplotlib.pyplot as plt\n",
    "\n",
    "import torch\n",
    "import torch.nn as nn\n",
    "import torch.nn.functional as F\n",
    "import torch.optim as optim\n",
    "from torch.utils.data import DataLoader"
   ]
  },
  {
   "cell_type": "markdown",
   "metadata": {},
   "source": [
    "### 1. GloVe (10 Points)"
   ]
  },
  {
   "cell_type": "markdown",
   "metadata": {},
   "source": [
    "Dans ce TP, nous allons utiliser le modèle pré-entraîné GloVe qui crée des plongements lexicaux de mots."
   ]
  },
  {
   "cell_type": "markdown",
   "metadata": {},
   "source": [
    "#### 1.1 Chargement du modèle\n",
    "\n",
    "La cellule suivante permet charger le modèle GloVe pré-entraîné. Le chargement du modèle peut prendre quelques minutes."
   ]
  },
  {
   "cell_type": "code",
   "execution_count": 2,
   "metadata": {
    "ExecuteTime": {
     "end_time": "2024-10-02T17:33:53.559881400Z",
     "start_time": "2024-10-02T17:33:53.555970700Z"
    }
   },
   "outputs": [],
   "source": [
    "# # Décommenter pour télécharger les GloVe embeddings à partir de https://nlp.stanford.edu/projects/glove/\n",
    "# !wget http://nlp.stanford.edu/data/glove.42B.300d.zip -P /content\n",
    "# !unzip /content/glove.42B.300d.zip -d /content"
   ]
  },
  {
   "cell_type": "code",
   "execution_count": 2,
   "metadata": {
    "ExecuteTime": {
     "end_time": "2024-10-02T17:33:53.560413600Z",
     "start_time": "2024-10-02T17:33:53.560413600Z"
    }
   },
   "outputs": [],
   "source": [
    "pretrained_model_path = 'glove.42B.300d.txt'\n",
    "\n",
    "data_root = 'data'\n",
    "\n",
    "train_synonyms_path = f\"{data_root}/train_synonyms.txt\"\n",
    "train_antonyms_path = f\"{data_root}/train_antonyms.txt\"\n",
    "\n",
    "eval_simlex = f'{data_root}/simlex_english.txt'"
   ]
  },
  {
   "cell_type": "code",
   "execution_count": 3,
   "metadata": {
    "ExecuteTime": {
     "end_time": "2024-10-02T17:33:53.565421100Z",
     "start_time": "2024-10-02T17:33:53.560413600Z"
    }
   },
   "outputs": [],
   "source": [
    "def load_word_vectors(filepath, vocab=None):\n",
    "    \"\"\"\n",
    "    Télécharge le modèle pré-entraîné de plongements de mots en pytorch\n",
    "    \"\"\"\n",
    "    word_to_index = {}\n",
    "    embeddings = []\n",
    "    index = 0\n",
    "\n",
    "    with open(filepath, 'r', encoding='utf-8') as f:\n",
    "        for line in f:\n",
    "            split_line = line.split()\n",
    "            word = split_line[0]\n",
    "            if vocab is None or word in vocab:\n",
    "                embedding = np.array(split_line[1:], dtype=np.float32)\n",
    "                word_to_index[word] = index\n",
    "                embeddings.append(embedding)\n",
    "                index += 1\n",
    "    \n",
    "    embeddings = np.stack(embeddings)\n",
    "    embeddings = torch.from_numpy(embeddings)\n",
    "    return word_to_index, embeddings"
   ]
  },
  {
   "cell_type": "code",
   "execution_count": 4,
   "metadata": {
    "ExecuteTime": {
     "end_time": "2024-10-02T17:35:29.954781400Z",
     "start_time": "2024-10-02T17:33:53.565421100Z"
    }
   },
   "outputs": [],
   "source": [
    "word_to_index, embeddings = load_word_vectors(pretrained_model_path)"
   ]
  },
  {
   "cell_type": "markdown",
   "metadata": {},
   "source": [
    "#### 1.2 Implémentez la fonction `cosine_similarity` avec pytorch et sans utiliser `torch.nn.CosineSimilarity` (2 points)"
   ]
  },
  {
   "cell_type": "code",
   "execution_count": 5,
   "metadata": {
    "ExecuteTime": {
     "end_time": "2024-10-02T17:35:30.114910500Z",
     "start_time": "2024-10-02T17:35:30.111370600Z"
    }
   },
   "outputs": [],
   "source": [
    "def cosine_similarity(a, b):\n",
    "    \"\"\"\n",
    "    Calcule la matrice de similarité cosinus entre deux matrices\n",
    "\n",
    "    Args : \n",
    "        a   : torch.Tensor, shape=(n, d)\n",
    "        b   : torch.Tensor, shape=(m, d)\n",
    "\n",
    "    Returns:\n",
    "    torch.Tensor, shape=(n, m)\n",
    "    \"\"\"\n",
    "\n",
    "    # Normalisation\n",
    "    a_norm = a / a.norm(dim=1, keepdim=True)\n",
    "    b_norm = b / b.norm(dim=1, keepdim=True)\n",
    "\n",
    "    return torch.mm(a_norm, b_norm.T) # Produit matriciel"
   ]
  },
  {
   "cell_type": "markdown",
   "metadata": {},
   "source": [
    "#### 1.3 Complétez la fonction `n_closest_vect` qui retourne les n mots les plus proches d'un mot donné. (5 points)\n",
    "\n",
    "`n_closest_vect` prendra en entrée la matrice des plongements `embeddings`, le dictionnaire de correspondance entre les mots et les indices `word_to_index`, le plongement d'un mot `word` et le nombre `n` de mots attendus. La fonction devra retourner la liste des mots dont les plongements sont les plus proches du vecteur de référence et leur similarité cosinus.\n",
    "\n",
    "C'est-à-dire les n mots avec lesquels le mot a la plus grande similarité cosinus. Utilisez la fonction `cosine_similarity` que vous venez d'implémenter."
   ]
  },
  {
   "cell_type": "code",
   "execution_count": 6,
   "metadata": {
    "ExecuteTime": {
     "end_time": "2024-10-02T17:35:30.127260600Z",
     "start_time": "2024-10-02T17:35:30.114910500Z"
    }
   },
   "outputs": [],
   "source": [
    "def n_closest_vect(embeddings, word_to_index, word, n=5):\n",
    "    \"\"\"\n",
    "    Trouve les n mots les plus proches du vecteur donné et leur similarité\n",
    "\n",
    "    Args : \n",
    "        embeddings      : torch.Tensor, shape=(vocab_size, embedding_dim)\n",
    "        Matrice de plongement de tous les mots\n",
    "\n",
    "        word_to_index   : dict\n",
    "        Dictionnaire qui relie un mot à son index dans le vocabulaire\n",
    "\n",
    "        word            : torch.Tensor, shape=(embedding_dim,)\n",
    "        Plongement du mot dont on cherche les n mots les plus proches\n",
    "\n",
    "        n               : int, number of closest words to return\n",
    "        Nombre de mots à retourner\n",
    "\n",
    "    Returns:\n",
    "    Liste de tuple contenant les n mots les plus similaires avec leur coefficient\n",
    "    de similarité\n",
    "    \"\"\"\n",
    "\n",
    "    # Calcul de la similarité entre word et tous les autres mots\n",
    "    similarities = cosine_similarity(word.unsqueeze(0), embeddings)\n",
    "\n",
    "    # Récupération des n similarités les plus grandes\n",
    "    top_n_similarities, top_n_indices = torch.topk(similarities.squeeze(0), n)\n",
    "\n",
    "    # Construction de la liste de tuples des n mots les plus similaires\n",
    "    closest_words = []\n",
    "    for i in range(n):\n",
    "        similar_word = list(word_to_index.keys())[top_n_indices[i].item()]\n",
    "        similarity = top_n_similarities[i].item()\n",
    "        closest_words.append((similar_word, similarity))\n",
    "\n",
    "    return closest_words"
   ]
  },
  {
   "cell_type": "code",
   "execution_count": 7,
   "metadata": {
    "ExecuteTime": {
     "end_time": "2024-10-02T17:35:32.050319600Z",
     "start_time": "2024-10-02T17:35:30.122249Z"
    }
   },
   "outputs": [
    {
     "name": "stdout",
     "output_type": "stream",
     "text": [
      "[('morning', 1.0), ('afternoon', 0.8665473461151123), ('evening', 0.7880070209503174), ('yesterday', 0.7614548206329346), ('sunday', 0.7548925876617432)]\n"
     ]
    }
   ],
   "source": [
    "# Exemple\n",
    "print(n_closest_vect(embeddings, word_to_index, embeddings[word_to_index['morning']]))"
   ]
  },
  {
   "cell_type": "markdown",
   "metadata": {},
   "source": [
    "Sortie attendue :\n",
    "```\n",
    "[('morning', 1.0), ('afternoon', 0.8665473461151123), ('evening', 0.7880070209503174), ('yesterday', 0.7614548206329346), ('sunday', 0.7548925876617432)]\n",
    "```"
   ]
  },
  {
   "cell_type": "markdown",
   "metadata": {},
   "source": [
    "#### 1.4 Quelle est la similarité cosinus entre 'fast' et 'slow' ? Entre 'fast' et 'rapid' ? Commentez les résultats et expliquez leur origine. (3 points)"
   ]
  },
  {
   "cell_type": "code",
   "execution_count": 8,
   "metadata": {
    "ExecuteTime": {
     "end_time": "2024-10-02T17:35:32.060065700Z",
     "start_time": "2024-10-02T17:35:32.050319600Z"
    }
   },
   "outputs": [
    {
     "name": "stdout",
     "output_type": "stream",
     "text": [
      "Similarité cosinus 'fast' / 'slow' :  0.7113726735115051\n",
      "Similarité cosinus 'fast' / 'rapid' :  0.6445333957672119\n"
     ]
    }
   ],
   "source": [
    "# Calcul de la similarité cosinus entre 'fast' et 'slow'\n",
    "similarity_fast_slow = cosine_similarity(\n",
    "    embeddings[word_to_index['fast']].unsqueeze(0), \n",
    "    embeddings[word_to_index['slow']].unsqueeze(0)\n",
    ").item()\n",
    "\n",
    "# Calcul de la similarité cosinus entre 'fast' et 'rapid'\n",
    "similarity_fast_rapid = cosine_similarity(\n",
    "    embeddings[word_to_index['fast']].unsqueeze(0), \n",
    "    embeddings[word_to_index['rapid']].unsqueeze(0)\n",
    ").item()\n",
    "\n",
    "# Affichage des résultats\n",
    "print(\"Similarité cosinus 'fast' / 'slow' : \", similarity_fast_slow)\n",
    "print(\"Similarité cosinus 'fast' / 'rapid' : \", similarity_fast_rapid)"
   ]
  },
  {
   "cell_type": "markdown",
   "metadata": {},
   "source": [
    "Comme la cellule précédente le montre, la similarité cosinus entre les termes `fast` et `slow` est de **0.7113727927207947** et la similarité sosinus entre `fast` et `rapid` est **0.6445335149765015**. Bien que ces résultats peuvent paraître contre intuitifs (on s'attendrait à ce que `fast` et `rapid` est une similarité plus grande car ils sont des synonymes contrairement à `fast` et `slow`qui sont des antonymes), celà peut s'expliquer par le fait que `fast` et `slow`ait un contexte partagé plus grand que `fast` et `rapid`. En effet, mmême s'ils sont des antonymes, `fast` et `slow`peuvent apparaître plus souvent dans des contextes similaires pour par exemple décrire une vitesse ou la durée d'une action. Le modèle GloVe se concentre sur le fait que les deux mots se rapportent au concept de vitesse, ce qui est donc la cause de leur plus grande similarité cosinus. En revanche, bien que `fast` et `rapid` soient des synonymes, ils peuvent ne pas souvent apparaître dans des contextes similaires, par exemple on dit `fast food` mais on ne dit pas `rapid food`, ce qui peut encore une fois expliquer une similarité cosinus plus basse pour ceux-ci."
   ]
  },
  {
   "cell_type": "markdown",
   "metadata": {},
   "source": [
    "### 2. Évaluation (12 Points)\n",
    "\n",
    "#### Données\n",
    "\n",
    "Les cellules qui suivent permettent de télécharger les données et de se restreindre au vocabulaire qui nous sera utile, pour éviter de charger des plongements inutiles.\n",
    "\n",
    "Comme décrit dans l'introduction, nous avons 3 fichiers de données:\n",
    "- Des paires de synonymes pour l'entraînement (`train_synonyms.txt`) \n",
    "- Des paires d'antonymes pour l'entraînement (`train_antonymms.txt`)\n",
    "- Des paires de mots avec leur similarité pour l'évaluation (`simlex_english.txt`)"
   ]
  },
  {
   "cell_type": "code",
   "execution_count": 9,
   "metadata": {
    "ExecuteTime": {
     "end_time": "2024-10-02T17:35:32.075455700Z",
     "start_time": "2024-10-02T17:35:32.060065700Z"
    }
   },
   "outputs": [],
   "source": [
    "def load_data(filepath):\n",
    "    \"\"\"\n",
    "    Télécharge les paires de synonymes et antonymes\n",
    "    \"\"\"\n",
    "    data = []\n",
    "    with open(filepath, 'r', encoding='utf-8') as f:\n",
    "        for line in f:\n",
    "            pair = line.strip().split()\n",
    "            assert pair[0].startswith('en_') and pair[1].startswith('en_')\n",
    "            data.append((pair[0][3:], pair[1][3:]))\n",
    "    return data\n",
    "\n",
    "def data_to_tensor(data, word_to_index):\n",
    "    indices = [word_to_index[word] for pair in data for word in pair if word in word_to_index]\n",
    "    return torch.tensor(indices).view(-1, 2)"
   ]
  },
  {
   "cell_type": "code",
   "execution_count": 10,
   "metadata": {
    "ExecuteTime": {
     "end_time": "2024-10-02T17:35:57.747142100Z",
     "start_time": "2024-10-02T17:35:32.068947400Z"
    }
   },
   "outputs": [],
   "source": [
    "# Données d'entraînement\n",
    "train_synonyms = load_data(train_synonyms_path)\n",
    "train_antonyms = load_data(train_antonyms_path)\n",
    "\n",
    "# Données d'évaluation\n",
    "evaluation_simlex = pd.read_csv(eval_simlex, sep='\\t') # pd dataframe with columns 'word 1', 'word 2', 'score'\n",
    "\n",
    "# On se restreint au vocabulaire qu'on va utiliser pour éviter de charger des embeddings inutiles\n",
    "vocab = set([word for pair in train_synonyms + train_antonyms for word in pair])\n",
    "eval_vocab = set(evaluation_simlex['word 1']).union(set(evaluation_simlex['word 2']))\n",
    "vocab.update(eval_vocab)\n",
    "\n",
    "glove_word_to_index, glove_embeddings = load_word_vectors(pretrained_model_path, vocab)"
   ]
  },
  {
   "cell_type": "markdown",
   "metadata": {},
   "source": [
    "#### 2.1 Observation du jeu de données SimLex-999. (2 points)\n",
    "\n",
    "Affichez l'histogramme de fréquence des scores de similarité dans le jeu de données SimLex-999. Utilisez `bins=40`. Votre axe des x doit représenter le score de similarité et votre axe des y doit représenter la fréquence. Comment interpréter un score de 0?"
   ]
  },
  {
   "cell_type": "code",
   "execution_count": 11,
   "metadata": {
    "ExecuteTime": {
     "end_time": "2024-10-02T17:35:58.076060300Z",
     "start_time": "2024-10-02T17:35:57.772446100Z"
    }
   },
   "outputs": [
    {
     "data": {
      "image/png": "[encoded data removed]",
      "text/plain": [
       "<Figure size 1000x600 with 1 Axes>"
      ]
     },
     "metadata": {},
     "output_type": "display_data"
    }
   ],
   "source": [
    "plt.figure(figsize=(10, 6))\n",
    "plt.hist(evaluation_simlex['score'], bins=40, color='blue', edgecolor='black')\n",
    "plt.title('Histogramme des scores de similarité dans SimLex-999')\n",
    "plt.xlabel('Score de similarité')\n",
    "plt.ylabel('Fréquence')\n",
    "plt.grid(axis='y')\n",
    "plt.show()"
   ]
  },
  {
   "cell_type": "markdown",
   "metadata": {},
   "source": [
    "Un score de 0 indique que les 2 mots sont totalements dissemblables du point de vue du modèle, c'est-à-dire qu'ils n'ont pas un sens sémantique proche ou qu'ils ne sont pas souvent utilisés dans des contextes similaires dans le corpus fournit au modèle."
   ]
  },
  {
   "cell_type": "markdown",
   "metadata": {},
   "source": [
    "#### 2.2 Corrélation de Spearman\n",
    "\n",
    "\n",
    "La corrélation de Spearman est une mesure de la relation monotone entre deux variables $x$ et $y$. Elle est comprise entre -1 et 1. Plutôt que de comparer les valeurs brutes des variables, elle compare leurs rangs. Elle est calculée comme suit :\n",
    "$$\\rho (x, y) = 1 - \\frac{6 \\sum_{i=1}^n (r_{x_i} - r_{y_i})^2}{n(n^2 - 1)}$$\n",
    "où $r_{x_i}$ est le rang de la i-ème valeur de la variable x, $r_{y_i}$ est le rang de la i-ème valeur de la variable y, $n$ est le nombre total de paires d'observations $(x, y)$.\n",
    "\n",
    "Les rangs sont attribués en ordonnant les valeurs de chaque variable du plus petit au plus grand. La plus petite valeur reçoit le rang 1, la suivante le rang 2, et ainsi de suite.\n",
    "\n",
    "##### Expliquez pourquoi on utilise la corrélation de Spearman plutôt que la corrélation entre les valeurs des variables. (3 points)\n"
   ]
  },
  {
   "cell_type": "markdown",
   "metadata": {},
   "source": [
    "La corrélation de Spearman est préférée à la corrélation entre les valeurs des variables car elle est plus robuste à la présence d'outliers. En effet, étant donné que cette corrélation se base sur le rang des valeurs plutôt que les valeurs elles-mêmes, elle permet de réduire l'influence de ces valeurs extrêmes. Par ailleurs, la corrélation de Spearman permet de mesurer la force et la direction d'une relation monotone (une relation ou à mesure qu'une variable augmente, l'autre augmente ou diminue de manière cohérente mais pas nécessairement de manière linéaire), ce qu'une simple corrélation ne permet pas de faire."
   ]
  },
  {
   "cell_type": "markdown",
   "metadata": {},
   "source": [
    "#### 2.3 Implémentation de la corrélation de Spearman (2 points)\n",
    "\n",
    "Complétez la fonction suivante pour calculer la corrélation de Spearman entre deux listes de valeurs."
   ]
  },
  {
   "cell_type": "code",
   "execution_count": 12,
   "metadata": {
    "ExecuteTime": {
     "end_time": "2024-10-02T17:35:58.076060300Z",
     "start_time": "2024-10-02T17:35:58.070259700Z"
    }
   },
   "outputs": [],
   "source": [
    "def spearman_rank_correlation(x, y):\n",
    "    \"\"\"\n",
    "    Calcule la corrélation de Spearman entre deux listes de valeurs.\n",
    "\n",
    "    Args:\n",
    "        x   : list of float\n",
    "        y   : list of float\n",
    "\n",
    "    Returns:\n",
    "    La corrélation de Spearman entre les deux listes (float). \n",
    "    \"\"\"\n",
    "\n",
    "    # Transformation de x en DataFrame\n",
    "    x_df = pd.DataFrame(x, columns=['value'])\n",
    "    x_df['rank'] = x_df['value'].rank() # Obtenir le rang\n",
    "   \n",
    "    # Transformation de y en DataFrame\n",
    "    y_df = pd.DataFrame(y, columns=['value'])\n",
    "    y_df['rank'] = y_df['value'].rank() # Obtenir le rang\n",
    "    \n",
    "    # Calcul de la somme des différences des rangs au carré\n",
    "    sum_diff_ranks = 0\n",
    "    n  = len(x_df)\n",
    "    for i in range(n) : \n",
    "        sum_diff_ranks += (x_df.iloc[i]['rank'] - y_df.iloc[i]['rank'])**2\n",
    "        \n",
    "    # Calcul de la corrélation de Spearman\n",
    "    spearman_corr = 1 - 6*(sum_diff_ranks)/(n * (n**2 -1))\n",
    "    \n",
    "    return spearman_corr"
   ]
  },
  {
   "cell_type": "markdown",
   "metadata": {},
   "source": [
    "#### 2.4 Évaluation du modèle GloVe (2 points)\n",
    "\n",
    "\n",
    "Retrouvez les plongements du modèle GloVe de tous les mots du jeu de données SimLex-999, puis calculez la similarité cosinus entre les paires.\n",
    "\n",
    "Calculez ensuite la corrélation de Spearman entre les scores de simlex et les similarités cosinus obtenues et affichez-la."
   ]
  },
  {
   "cell_type": "code",
   "execution_count": 13,
   "metadata": {
    "ExecuteTime": {
     "end_time": "2024-10-02T17:35:58.254935700Z",
     "start_time": "2024-10-02T17:35:58.084568300Z"
    }
   },
   "outputs": [
    {
     "name": "stdout",
     "output_type": "stream",
     "text": [
      "Correlation de Spearman: 0.29\n"
     ]
    }
   ],
   "source": [
    "pairs = evaluation_simlex[['word 1', 'word 2', 'score']].values.tolist()\n",
    "\n",
    "similarities = []\n",
    "simlex_scores = []\n",
    "\n",
    "for word1, word2, score in pairs: # Pour chaque paire de Simlex\n",
    "    if word1 in glove_word_to_index and word2 in glove_word_to_index:\n",
    "        embedding1 = glove_embeddings[glove_word_to_index[word1]] # Récupérer la représentation de word 1\n",
    "        embedding2 = glove_embeddings[glove_word_to_index[word2]] # Récupérer la représentation de word 2\n",
    "        \n",
    "        cosine_sim = cosine_similarity(embedding1.unsqueeze(0), embedding2.unsqueeze(0)).item() # Calcul de la similarité cosinus entre les deux paires\n",
    "        similarities.append(cosine_sim) # Stocker la similarité\n",
    "        simlex_scores.append(score) #Stocker le score\n",
    "\n",
    "\n",
    "spearman_corr = spearman_rank_correlation(similarities, simlex_scores) # Calcul de la corrélation de Spearman\n",
    "\n",
    "print(f\"Corrélation de Spearman: {spearman_corr:.2f}\")"
   ]
  },
  {
   "cell_type": "markdown",
   "metadata": {},
   "source": [
    "Résultat attendu: 0.29"
   ]
  },
  {
   "cell_type": "markdown",
   "metadata": {},
   "source": [
    "#### 2.5 Interprétation du résultat (3 points)\n",
    "\n",
    "Qu'est ce que ce nombre représente et que peut-on en conclure sur la qualité des plongements GloVe (2 conclusions) ?"
   ]
  },
  {
   "cell_type": "markdown",
   "metadata": {},
   "source": [
    "Ce nombre représente à quel point on peut représenter la corrélation entre la similarité cosinus de deux mots et leur score tel que défini par SimLex par une relation monotone. Dans ce cas ci, la valeur est proche de 0, ce qui suggère qu'il y a une faible relation monotone entre les 2 scores. On peut tirer les conclusions suivantes sur la qualité des plongements GloVe:\n",
    "\n",
    "1. Une corrélation de 0.29 montre que les plongements GloVe capturent en partie la similarité sémantique entre les mots, mais de manière imparfaite. Autrement dit, même si certaines paires de mots qui sont jugées similaires par SimLex-999 ont des similarités cosinus élevées dans GloVe, cela n’est pas systématique pour toutes les paires.\n",
    "\n",
    "2. Les plongements de GloVe, bien qu'utiles, ne réflètent pas certaines nuances sémantiques plus subtiles, notamment celles capturées par des évaluations humaines comme SimLex-999.GloVe repose sur des statistiques de co-occurrences de mots, ce qui peut mener à des associations sémantiques erronées, car des mots qui apparaissent souvent ensemble ne sont pas forcément similaires en terme de sens."
   ]
  },
  {
   "cell_type": "markdown",
   "metadata": {},
   "source": [
    "### 3. Description de la méthode contrastive (33 Points)\n",
    "\n",
    "Nous allons maintenant implémenter une méthode contrastive de plongements de mots. Elle vise à améliorer les plongements lexicaux de mots en tenant compte des synonymes et antonymes. \n",
    "\n",
    "Notre modèle se basera simplement sur une matrice de plongements de mots, qui associe à chaque mot un vecteur de plongement.\n",
    "\n",
    "L'idée est d'entraîner ce modèle à rapprocher les plongements de synonymes et d'éloigner ceux d'antonymes.\n",
    "\n",
    "La cellule suivante définit le modèle et ses attributs."
   ]
  },
  {
   "cell_type": "code",
   "execution_count": 14,
   "metadata": {
    "ExecuteTime": {
     "end_time": "2024-10-02T17:35:58.254935700Z",
     "start_time": "2024-10-02T17:35:58.196026600Z"
    }
   },
   "outputs": [],
   "source": [
    "class ContrastiveWordEmbeddingModel(nn.Module):\n",
    "    def __init__(self, embeddings, device='cpu', margin_plus=0.6, margin_minus=0., regularization=1e-9):\n",
    "        super(ContrastiveWordEmbeddingModel, self).__init__()\n",
    "        \n",
    "        self.device = device\n",
    "\n",
    "        # Hyperparamètres pour les fonctions de coût\n",
    "        self.margin_plus = margin_plus\n",
    "        self.margin_minus = margin_minus\n",
    "        self.regularization = regularization\n",
    "        \n",
    "        # Initialisation des plongements de mots\n",
    "        self.embeddings = nn.Embedding.from_pretrained(embeddings.detach().clone(), freeze=False).to(self.device)\n",
    "        self.original_embeddings = nn.Embedding.from_pretrained(embeddings.detach().clone(), freeze=True).to(self.device)\n"
   ]
  },
  {
   "cell_type": "markdown",
   "metadata": {},
   "source": [
    "#### 3.1 Création des négatifs\n",
    "\n",
    "Pendant l'entraînement, au lieu de traiter tout le jeu d'entraînement d'un coup, nous allons avoir des lots (batchs) de paires de synonymes $B_S$ et d'antonymes $B_A$.\n",
    "\n",
    "Dans un lot de synonymes, on définit le négatif d'un mot comme le mot du lot le plus proche qui n'est pas dans la même paire. Intuitivement, c'est le mot que le modèle devrait confondre le plus avec le synonyme. Similairement, dans un lot d'antonymes, on définit le négatif d'un mot comme le mot du lot le plus éloigné qui n'est pas dans la même paire.\n",
    "\n",
    "On répète ce processus pour chaque mot de chaque paire de synonymes et d'antonymes.\n",
    "\n",
    "*Attention, un mot peut apparaître plusieurs fois dans un lot avec des synonymes ou antonymes différents, et il ne peut être le négatif d'aucun de ses synonymes, ou antonymes.*\n",
    "\n",
    "##### 3.1.1 Exemple pour illustrer l'implémentation\n",
    "\n",
    "Prenons un exemple avec un lot $B_S$ de synonymes de taille 3. On veut construire le lot de négatifs $T_S$\n",
    "\n",
    "$B_S$:\n",
    "- (arbre, plante)\n",
    "- (voiture, véhicule)\n",
    "- (arbre, buisson)\n",
    "\n",
    "On a 5 mots uniques dans le lot: arbre, plante, voiture, véhicule, buisson. Supposons que la matrice de similarité cosinus soit la suivante :\n",
    "\n",
    "|       | arbre | plante | voiture | véhicule | buisson |\n",
    "|-------|-------|--------|--------|----------|---------|\n",
    "| arbre | 1     | 0.8    | 0.1    | 0.2      | 0.9     |\n",
    "| plante| 0.8   | 1      | 0.3    | 0.4      | 0.7     |\n",
    "| voiture| 0.1  | 0.3    | 1      | 0.9      | 0.2     |\n",
    "| véhicule| 0.2 | 0.4    | 0.9    | 1        | 0.3     |\n",
    "| buisson| 0.9  | 0.7    | 0.2    | 0.3      | 1       |\n",
    "\n",
    "\n",
    "On commence par calculer les voisins de chaque mot du lot $B_S$. Le voisin d'un mot $m$ est défini comme tout mot qui apparait dans au moins une paire avec $m$ dans $B_S$. Un mot est aussi considéré comme son propre voisin.\n",
    "\n",
    "- voisins de arbre : arbre, plante, buisson\n",
    "- voisins de plante : plante, arbre\n",
    "- voisins de voiture : voiture, véhicule\n",
    "- voisins de véhicule : véhicule, voiture\n",
    "- voisins de buisson : buisson, arbre\n",
    "\n",
    "Après avoir masqué les voisins, la matrice est :\n",
    "\n",
    "|       | arbre | plante | voiture | véhicule | buisson |\n",
    "|-------|-------|--------|--------|----------|---------|\n",
    "| arbre | -inf  | -inf   | 0.1    | 0.2      | -inf    |\n",
    "| plante| -inf  | -inf   | 0.3    | 0.4      | 0.7     |\n",
    "| voiture| 0.1  | 0.3    | -inf   | -inf     | 0.2     |\n",
    "| véhicule| 0.2 | 0.4    | -inf   | -inf     | 0.3     |\n",
    "| buisson| -inf | 0.7    | 0.2    | 0.3      | -inf    |\n",
    "\n",
    "Pour calculer les négatifs, on prend le maximum de chaque ligne (donc le mot le plus similaire qui n'est pas un voisin) :\n",
    "\n",
    "Ici,\n",
    "- le négatif d'arbre est véhicule\n",
    "- le négatif de plante est buisson\n",
    "- le négatif de voiture est plante\n",
    "- le négatif de véhicule est plante\n",
    "- le négatif de buisson est plante\n",
    "\n",
    "En reprenant le batch $B_S$:\n",
    "- (arbre, plante)\n",
    "- (voiture, véhicule)\n",
    "- (arbre, buisson)\n",
    "\n",
    "$T_S$ sera composé de paires composées du négatif de chaque élément de $B_S$ :\n",
    "\n",
    "$B_S$ -> $T_S$\n",
    "- (arbre, plante) $\\rightarrow$ (véhicule, buisson), car le négatif d'arbre est véhicule et le négatif de plante est buisson\n",
    "- (voiture, véhicule) $\\rightarrow$ (plante, plante), car le négatif de voiture est plante et le négatif de véhicule est plante\n",
    "- (arbre, buisson) $\\rightarrow$ (véhicule, plante), car le négatif d'arbre est véhicule et le négatif de buisson est plante\n",
    "\n",
    "$T_S$ sera donc : \n",
    "- (véhicule, buisson)\n",
    "- (plante, plante)\n",
    "- (véhicule, plante)"
   ]
  },
  {
   "cell_type": "markdown",
   "metadata": {},
   "source": [
    "##### 3.1.2 Implémentez la fonction `prepare_neighbors` qui renvoit la liste des voisins de chaque mot dans le lot. (4 points)\n",
    "\n",
    "Les voisins d'un mot $m$ sont tous les mots du lot qui apparaissent dans au moins une paire avec $m$. Utilisez les bons indices (indice dans la matrice d'embeddings et indice dans le lot). Le résultat est une liste de liste de voisins, où `neighbors[i]` est la liste des voisins du mot `i` dans le lot."
   ]
  },
  {
   "cell_type": "code",
   "execution_count": 15,
   "metadata": {
    "ExecuteTime": {
     "end_time": "2024-10-02T17:35:58.254935700Z",
     "start_time": "2024-10-02T17:35:58.201949600Z"
    }
   },
   "outputs": [],
   "source": [
    "def prepare_neighbors(index_pairs, unique_idx, index_to_idx):\n",
    "    \"\"\"\n",
    "    Prépare les voisins pour chaque mot dans les paires de mots.\n",
    "    \n",
    "    Args : \n",
    "        index_pairs     : torch.Tensor de seconde dimension 2\n",
    "        Tensor contenant les indices des embeddings des mots dans le vocabulaire. \n",
    "        Des indices qui sont reliés ensemble par une ligne dans ce tenseur ont \n",
    "        une relation sémantique entre eux (synonymes ou antonymes).\n",
    "\n",
    "        unique_idx      : set\n",
    "        Ensemble de tous les indices qui sont mentionnés dans la liste `index_pairs`.\n",
    "        \n",
    "        index_to_idx    : dict\n",
    "        Dictionnaire associant un indice mentionné dans `index_pairs` à son indice dans\n",
    "        la liste qui sera retournée. Par exemple, si dans ce dictionnaire, la clé 4 est\n",
    "        associée à la valeur 12, cela veut dire que les voisins du mot 4 dans le vocabulaire\n",
    "        seront retournés à l'indice 12 dans la liste de retour.\n",
    "\n",
    "    Returns:\n",
    "    Une liste où chaque élément est une liste des indices des voisins pour chaque mot (l'indice dans la liste correspond à l'indice unique).\n",
    "    \"\"\"\n",
    "\n",
    "    # Initialisation de la liste\n",
    "    neighbors = [[] for _ in range(len(unique_idx))]\n",
    "    \n",
    "    word_pairs = index_pairs.tolist()\n",
    "    \n",
    "    for word1, word2 in word_pairs: # pour chaque paire word1/word2\n",
    "        idx1 = index_to_idx[word1]\n",
    "        idx2 = index_to_idx[word2]\n",
    "        \n",
    "        neighbors[idx1].append(idx1) # word1 est son propre voisin\n",
    "        neighbors[idx1].append(idx2) # word2 est voisin de word1\n",
    "        \n",
    "        neighbors[idx2].append(idx2) # word2 est son propre voisin\n",
    "        neighbors[idx2].append(idx1) # word1 est voisin de word2\n",
    "\n",
    "    return neighbors"
   ]
  },
  {
   "cell_type": "code",
   "execution_count": 16,
   "metadata": {
    "ExecuteTime": {
     "end_time": "2024-10-02T17:35:58.254935700Z",
     "start_time": "2024-10-02T17:35:58.209858100Z"
    }
   },
   "outputs": [
    {
     "name": "stdout",
     "output_type": "stream",
     "text": [
      "[[0, 2], [1, 4], [2, 0, 2, 3], [3, 2], [4, 1]]\n"
     ]
    }
   ],
   "source": [
    "# Exemple\n",
    "index_pairs = torch.tensor([[0, 12], [12, 31], [53, 4]])\n",
    "unique_idx = {0, 4, 12, 31, 53}\n",
    "index_to_idx = {0: 0, 4: 1, 12: 2, 31: 3, 53: 4}\n",
    "print(prepare_neighbors(index_pairs, unique_idx, index_to_idx))\n"
   ]
  },
  {
   "cell_type": "markdown",
   "metadata": {},
   "source": [
    "Réponse attendue\n",
    "\n",
    "`[[0, 2], [1, 4], [2, 0, 2, 3], [3, 2], [4, 1]]`"
   ]
  },
  {
   "cell_type": "markdown",
   "metadata": {},
   "source": [
    "##### 3.1.3 Implémentez la fonction `select_negatives` qui renvoit un dictionnaire qui associe à chaque élément son négatif. (4 points)\n",
    "\n",
    "Pour chaque élément du lot, on cherche le voisin le plus proche qui n'est pas le voisin de l'autre élément de la paire.\n",
    "\n",
    "Utilisez un masque pour cacher, dans la matrice de similarité, les voisins.\n",
    "\n",
    "La fonction utilise un paramètre `synonym` qui indique si on travaille sur un lot de synonymes ou d'antonymes. En cas de synonymes, on cherche le voisin le plus proche qui n'est pas un voisin de l'autre élément de la paire. En cas d'antonymes, on cherche le voisin le plus éloigné qui n'est pas un voisin de l'autre élément de la paire."
   ]
  },
  {
   "cell_type": "code",
   "execution_count": 17,
   "metadata": {
    "ExecuteTime": {
     "end_time": "2024-10-02T17:35:58.259160200Z",
     "start_time": "2024-10-02T17:35:58.217347500Z"
    }
   },
   "outputs": [],
   "source": [
    "def select_negatives(indices, similarity_matrix, neighbors, synonym=True):\n",
    "    \"\"\"\n",
    "    Sélectionne les exemples négatifs à partir de la matrice de similarité et des voisins.\n",
    "\n",
    "    Args : \n",
    "        indices             : torch.Tensor (vocab_size)\n",
    "        Indices des mots présents dans le vocabulaires\n",
    "        \n",
    "        similarity_matrix   : torch.Tensor (vocab_size, vocab_size)\n",
    "        Matrice de similarité entre tous les mots présents dans le vocabulaire.\n",
    "        \n",
    "        neighbors           : list of lists\n",
    "        Liste des voisins de chaque mot. Par exemple, le premier élément de la liste\n",
    "        contiendra tous les voisins du mot 0 dans le vocabulaire.\n",
    "\n",
    "        synonym             : bool, optional (default=True)\n",
    "        Indique si l'on cherche des négatifs pour les synonymes (True) ou pour les antonymes (False).\n",
    "\n",
    "    Returns:\n",
    "    Dictionnaire mappant les mots avec leurs indices de négatifs {mot_index: négatif_index}.\n",
    "    \"\"\"\n",
    "\n",
    "    # Masquage des voisins dans la matrice de similarité\n",
    "\n",
    "    # Attention : On considère pour le masquage que le mappage des valeurs dans neighbours correspond aux indices de la matrice de similarité\n",
    "    # (e.g la première liste de neigbours correspond aux voisins du mot représeenté par la première ligne de la matrice de similarité)\n",
    "    # C'est le cas si :\n",
    "    # -> index_to_idx utilisé dans prepare_neighbors est de la forme {x0: 0, x1: 1, ..., xn: n} \n",
    "    # -> {x0, x1, ..., xn} est la liste ordonnée des indices \"indices\" donné à cosine_similarity (soit similarity_matrix = cosine_similarity(model.embeddings(indices), model.embeddings(indices))\n",
    "    \n",
    "    mask_value = float('-inf') if synonym else float('+inf')\n",
    "\n",
    "    for index, neighbors_list in enumerate(neighbors):\n",
    "        for neighbour in neighbors_list:\n",
    "            similarity_matrix[index][neighbour] = mask_value\n",
    "\n",
    "\n",
    "    # Création du dictionnaire\n",
    "\n",
    "    # Attention : On considère pour le création du dictionnaire que l'ordre des valeurs dans indices correspond à l'ordre de la matrice de similarité\n",
    "    # (e.g le premier élément de indices a sa représentation dans la première ligne de la matrice de similarité)\n",
    "    # C'est le cas si :\n",
    "    # -> la liste indices \"indices\" est donnée à cosine_similarity (soit similarity_matrix = cosine_similarity(model.embeddings(indices), model.embeddings(indices))\n",
    "\n",
    "    result_dict = {\n",
    "        index : (similarity_matrix[i].argmax() if synonym else similarity_matrix[i].argmin()).item() # Association de chaque indice à l'indice du voisin le plus proche (synonyme) ou le plus éloigné (antonyme)\n",
    "        for i, index in enumerate(indices.tolist())\n",
    "    }\n",
    "\n",
    "    return result_dict"
   ]
  },
  {
   "cell_type": "code",
   "execution_count": 18,
   "metadata": {
    "ExecuteTime": {
     "end_time": "2024-10-02T17:35:58.259160200Z",
     "start_time": "2024-10-02T17:35:58.225614800Z"
    }
   },
   "outputs": [
    {
     "name": "stdout",
     "output_type": "stream",
     "text": [
      "{0: 1, 1: 3, 2: 4, 3: 1, 4: 2}\n"
     ]
    }
   ],
   "source": [
    "# Exemple\n",
    "indices = torch.tensor([0, 1, 2, 3, 4])\n",
    "neighbors = [[0, 2], [1, 4], [2, 0, 2, 3], [3, 2], [4, 1]]\n",
    "\n",
    "similarity_matrix = torch.tensor([\n",
    "    [ 1.0000, -0.4263, -0.7167, -0.9838, -0.5823],\n",
    "    [-0.4263,  1.0000, -0.1600,  0.5088, -0.3708],\n",
    "    [-0.7167, -0.1600,  1.0000,  0.7247,  0.5631],\n",
    "    [-0.9838,  0.5088,  0.7247,  1.0000,  0.4394],\n",
    "    [-0.5823, -0.3708,  0.5631,  0.4394,  1.0000]\n",
    "    ])\n",
    "\n",
    "print(select_negatives(indices, similarity_matrix, neighbors, synonym=True))"
   ]
  },
  {
   "cell_type": "markdown",
   "metadata": {},
   "source": [
    "Réponse attendue\n",
    "\n",
    "`{0: 1, 1: 3, 2: 4, 3: 1, 4: 2}`"
   ]
  },
  {
   "cell_type": "markdown",
   "metadata": {},
   "source": [
    "##### 3.1.4 Implémentez la fonction `run_negative_extraction` qui prépare les paires de synonymes et d'antonymes et appelle `prepare_neighbors` et `select_negatives`. (4 points)\n",
    "\n",
    "Préparez les indices uniques des mots du batch, calculez la similarité des mots, et appelez `prepare_neighbors` et `select_negatives`."
   ]
  },
  {
   "cell_type": "code",
   "execution_count": 31,
   "metadata": {
    "ExecuteTime": {
     "end_time": "2024-10-02T18:08:41.267744400Z",
     "start_time": "2024-10-02T18:08:41.251847400Z"
    }
   },
   "outputs": [],
   "source": [
    "def run_negative_extraction(model, index_pairs, synonym=True):\n",
    "    \"\"\"\n",
    "    Extrait les exemples négatifs pour un ensemble de paires de mots.\n",
    "\n",
    "    Args :\n",
    "        index_pairs : torch.Tensor de seconde dimension 2\n",
    "        Contient les indices des mots.\n",
    "\n",
    "        synonym     : bool, optional (default=True)\n",
    "        Indique si l'on cherche des négatifs pour les synonymes (True) ou pour les antonymes (False).\n",
    "\n",
    "    Returns:\n",
    "    Dictionnaire mappant les indices des mots avec leurs indices de négatifs {mot_index: négatif_index}.\n",
    "    \"\"\"\n",
    "\n",
    "    # Préparation des paramètres de prepare_neighbors\n",
    "    unique_ids = set([idx.item() for row in index_pairs for idx in row]) # liste des indices uniques\n",
    "    index_to_ids = {idx: i for i, idx in enumerate(sorted(list(unique_ids)))} # dictionnaire de mappage vers les indices de la matrice de similarité (clés, qui correspondent aux ids des mots, triées par ordre croissant)\n",
    "\n",
    "\n",
    "    # Préparation des paramètres de select_negatives\n",
    "    indices = torch.tensor(sorted(list(unique_ids)), device = model.device) # liste d'indices (valeurs, qui correspondent aux ids des mots, triées par ordre croissant)\n",
    "    embeddings = model.embeddings(indices)\n",
    "    similarity_matrix = cosine_similarity(embeddings, embeddings) # matrice de similarité (les lignes et les colonnes donc triées par ordre croissant des ids des mots)\n",
    "\n",
    "    # Appels des deux fonctions\n",
    "    neighbors = prepare_neighbors(index_pairs, unique_ids, index_to_ids)\n",
    "    negatives = select_negatives(indices, similarity_matrix, neighbors, synonym)\n",
    "\n",
    "    return negatives"
   ]
  },
  {
   "cell_type": "markdown",
   "metadata": {},
   "source": [
    "#### 3.2 Fonctions de coût\n",
    "\n",
    "Pour chaque paire de synonymes $(x^l, x^r)$ *pour x left et x right* dans le lot $B_S$, nous trouvons un négatif $(t^l, t^r)$ ce qui constitue le lot $T_S$:\n",
    "- $ t^l $ est le mot dans le lot le plus proche de $ x^l $ mais qui n'est pas $ x^r $.\n",
    "- $ t^r $ est le mot dans le lot le plus proche de $ x^r $ mais qui n'est pas $ x^l $.\n",
    "\n",
    "De même, pour chaque paire d'antonymes $(x^l, x^r)$ dans le lot $B_A$, nous trouvons un négatif $(t^l, t^r)$ ce qui constitue le lot $T_A$:\n",
    "- $ t^l $ est le mot dans le lot le plus éloigné de $ x^l $ mais qui n'est pas $ x^r $.\n",
    "- $ t^r $ est le mot dans le lot le plus éloigné de $ x^r $ mais qui n'est pas $ x^l $.\n",
    "\n",
    "\n",
    "Comparer un mot à son synonyme (ou antonyme) et à son négatif permet d'entraîner le modèle sur des exemples difficiles qui forcent le modèle à apprendre des représentations plus robustes.\n",
    "\n",
    "Il y aura trois fonctions de coût :\n",
    "1. **Attraction** : Attire les synonymes plus proches les uns des autres.\n",
    "2. **Répulsion** : Repousse les antonymes plus loin les uns des autres.\n",
    "3. **Régularisation** : Évite que les plongements ne s'éloignent trop de ceux du modèle pré-entraîné.\n",
    "\n",
    "Les fonctions de coût sont définies comme suit, en sommant sur `i`, les paires de synonymes et d'antonymes dans les lots $B_S$ et $B_A$ :\n",
    "\n",
    "1. **Attraction** :\n",
    "$$ S(B_S, T_S) = \\sum_{i=1}^{|B_S|} \\left[ \\max \\left(0, \\delta_{syn} + x_i^l t_i^l - x_i^l x_i^r \\right) + \\max \\left( 0, \\delta_{syn} + x_i^r t_i^r - x_i^l x_i^r \\right) \\right] $$\n",
    "\n",
    "1. **Répulsion** :\n",
    "$$ A(B_A, T_A) = \\sum_{i=1}^{|B_A|} \\left[ \\max \\left(0, \\delta_{ant} + x_i^l x_i^r - x_i^l t_i^l \\right) + \\max \\left( 0, \\delta_{ant} + x_i^r x_i^l - x_i^r t_i^r \\right) \\right] $$\n",
    "\n",
    "1. **Régularisation** :\n",
    "$$ R(B_S, B_A) = \\sum_{x_i \\in V(B_S \\cup B_A)} \\lambda_{reg} \\| \\hat{x}_i - x_i \\|^2 $$\n",
    "\n",
    "La fonction de coût totale est la somme de ces trois termes :\n",
    "$$ C(B_S, T_S, B_A, T_A) = S(B_S, T_S) + A(B_A, T_A) + R(B_S, B_A) $$\n",
    "\n",
    "$\\delta_{syn}$, $\\delta_{ant}$ et $\\lambda_{reg}$ sont des hyperparamètres."
   ]
  },
  {
   "cell_type": "markdown",
   "metadata": {},
   "source": [
    "Avec l'exemple précédent, prenons\n",
    "> + $x_i^l$ : voiture\n",
    "> + $x_i^r$: véhicule\n",
    "> + $t_i^l$: plante\n",
    "> \n",
    "> On veut que voiture et véhicule aient un plus grand produit scalaire que voiture et plante, donc que $\\delta_{syn} + x_i^l t_i^l - x_i^l x_i^r <0$, et donc que $S$ soit minimisé. De même pour la deuxième partie de l'équation, symmétrique, avec le 2nd élément du couple."
   ]
  },
  {
   "cell_type": "markdown",
   "metadata": {},
   "source": [
    "##### 3.2.1 Implémentez la fonction `synonym_cost` qui calcule la fonction de coût d'attraction (sur les paires de synonymes). (5 points)\n",
    "\n",
    "$$ S(B_S, T_S) = \\sum_{i=1}^{|B_S|} \\left[ \\max \\left(0, \\delta_{syn} + x_i^l t_i^l - x_i^l x_i^r \\right) + \\max \\left( 0, \\delta_{syn} + x_i^r t_i^r - x_i^l x_i^r \\right) \\right] $$\n",
    "\n",
    "Le membre de gauche pénalise si le mot de gauche est plus éloigné de son négatif que de son synonyme. De même, le membre de droite pénalise si le mot de gauche est plus éloigné de son négatif que de son synonyme.\n"
   ]
  },
  {
   "cell_type": "code",
   "execution_count": 84,
   "metadata": {
    "ExecuteTime": {
     "end_time": "2024-10-02T18:20:24.350418Z",
     "start_time": "2024-10-02T18:20:24.348755300Z"
    }
   },
   "outputs": [],
   "source": [
    "def synonym_cost(model, synonym_pairs, synonym_negatives):\n",
    "    \"\"\"\n",
    "    Calcule le coût d'attraction pour les paires de synonymes.\n",
    "\n",
    "    synonym_pairs: liste de tuples d'indices de paires de synonymes\n",
    "    synonym_negatives: dictionnaire de mots avec leurs négatifs {mot_index: négatif_index}\n",
    "\n",
    "    Returns:\n",
    "    torch.Tensor, coût total pour les paires de synonymes\n",
    "    \"\"\"\n",
    "\n",
    "    # Indices des synonymes et leurs négatifs\n",
    "    indices_left = torch.tensor([pair[0] for pair in synonym_pairs], device=model.device)\n",
    "    indices_right = torch.tensor([pair[1] for pair in synonym_pairs], device=model.device)\n",
    "    indices_negatives_left = torch.tensor([synonym_negatives[pair[0].item()] for pair in synonym_pairs], device=model.device)\n",
    "    indices_negatives_right = torch.tensor([synonym_negatives[pair[1].item()] for pair in synonym_pairs], device=model.device)\n",
    "\n",
    "    # Embeddings (de dimension (batch_size, embedding_dim))\n",
    "    x_l = model.embeddings(indices_left)\n",
    "    x_r = model.embeddings(indices_right)\n",
    "    t_l = model.embeddings(indices_negatives_left)\n",
    "    t_r = model.embeddings(indices_negatives_right)\n",
    "\n",
    "    # Calcul du coût\n",
    "    x_l_t_l = torch.sum(x_l * t_l, dim=1) # dot product entre chaque ligne\n",
    "    x_l_x_r = torch.sum(x_l * x_r, dim=1) # dot product entre chaque ligne\n",
    "    x_r_t_r = torch.sum(x_r * t_r, dim=1) # dot product entre chaque ligne\n",
    "\n",
    "   \n",
    "    cost_1 = torch.relu(x_l_t_l - x_l_x_r + model.margin_plus) # max pour chaque ligne\n",
    "    cost_2 = torch.relu(x_r_t_r - x_l_x_r + model.margin_plus) # max pour chaque ligne\n",
    "    total_cost = cost_1 + cost_2 # Tensor de dimension (batch_size, 1)\n",
    "\n",
    "    synonym_cost = torch.sum(total_cost) # Somme sur i\n",
    "    \n",
    "    return synonym_cost"
   ]
  },
  {
   "cell_type": "markdown",
   "metadata": {},
   "source": [
    "##### 3.2.2 Implémentez la fonction `antonym_cost` qui calcule la fonction de coût de répulsion (sur les paires d'antonymes). (5 points)\n",
    "\n",
    "$$ A(B_A, T_A) = \\sum_{i=1}^{|B_A|} \\left[ \\max \\left(0, \\delta_{ant} + x_i^l x_i^r - x_i^l t_i^l \\right) + \\max \\left( 0, \\delta_{ant} + x_i^r x_i^l - x_i^r t_i^r \\right) \\right] $$\n",
    "\n",
    "Le membre de gauche pénalise si le mot de gauche est plus éloigné de son antonyme que de son négatif. De même, le membre de droite pénalise si le mot de gauche est plus éloigné de son antonyme que de son négatif."
   ]
  },
  {
   "cell_type": "code",
   "execution_count": 85,
   "metadata": {
    "ExecuteTime": {
     "end_time": "2024-10-02T18:20:26.587307Z",
     "start_time": "2024-10-02T18:20:26.578900700Z"
    }
   },
   "outputs": [],
   "source": [
    "def antonym_cost(model, antonym_pairs, antonym_negatives):\n",
    "    \"\"\"\n",
    "    Calcule le coût de répulsion pour les paires d'antonymes.\n",
    "\n",
    "    antonym_pairs: liste de tuples d'indices de paires d'antonymes\n",
    "    antonym_negatives: dictionnaire de mots avec leurs négatifs {mot_index: négatif_index}\n",
    "\n",
    "    Returns:\n",
    "    torch.Tensor, coût total pour les paires d'antonymes\n",
    "    \"\"\"\n",
    "\n",
    "    # Indices des antonymes et leurs négatifs\n",
    "    indices_left = torch.tensor([pair[0] for pair in antonym_pairs], device=model.device)\n",
    "    indices_right = torch.tensor([pair[1] for pair in antonym_pairs], device=model.device)\n",
    "    indices_negatives_left = torch.tensor([antonym_negatives[pair[0].item()] for pair in antonym_pairs], device=model.device)\n",
    "    indices_negatives_right = torch.tensor([antonym_negatives[pair[1].item()] for pair in antonym_pairs], device=model.device)\n",
    "\n",
    "    # Embeddings (de dimension (batch_size, embedding_dim))\n",
    "    x_l = model.embeddings(indices_left)\n",
    "    x_r = model.embeddings(indices_right)\n",
    "    t_l = model.embeddings(indices_negatives_left)\n",
    "    t_r = model.embeddings(indices_negatives_right)\n",
    "\n",
    "    # Calcul du coût\n",
    "    x_l_x_r = torch.sum(x_l * x_r, dim=1)  # dot product entre chaque ligne\n",
    "    x_l_t_l = torch.sum(x_l * t_l, dim=1)  # dot product entre chaque ligne\n",
    "    x_r_t_r = torch.sum(x_r * t_r, dim=1)  # dot product entre chaque ligne\n",
    "\n",
    "    cost_1 = torch.relu(x_l_x_r - x_l_t_l + model.margin_minus) # max pour chaque ligne\n",
    "    cost_2 = torch.relu(x_l_x_r - x_r_t_r + model.margin_minus) # max pour chaque ligne\n",
    "    total_cost = cost_1 + cost_2 # Tensor de dimension (batch_size, 1)\n",
    "\n",
    "    antonym_cost = torch.sum(total_cost) # Somme sur i\n",
    "    \n",
    "    return antonym_cost"
   ]
  },
  {
   "cell_type": "markdown",
   "metadata": {},
   "source": [
    "##### 3.2.3 Implémentez la fonction `regularization_cost` qui calcule la fonction de coût de régularisation. (4 points)\n",
    "\n",
    "$$ R(B_S, B_A) = \\sum_{x_i \\in V(B_S \\cup B_A)} \\lambda_{reg} \\| \\hat{x}_i - x_i \\|^2 $$"
   ]
  },
  {
   "cell_type": "code",
   "execution_count": 86,
   "metadata": {
    "ExecuteTime": {
     "end_time": "2024-10-02T18:21:20.502703200Z",
     "start_time": "2024-10-02T18:21:20.472005300Z"
    }
   },
   "outputs": [],
   "source": [
    "def regularization_cost(model, synonym_pairs, antonym_pairs):\n",
    "    \"\"\"\n",
    "    Calcule le coût de régularisation pour les paires de synonymes et antonymes.\n",
    "\n",
    "    synonym_pairs: liste de tuples d'indices de paires de synonymes\n",
    "    antonym_pairs: liste de tuples d'indices de paires d'antonymes\n",
    "\n",
    "    Returns:\n",
    "    torch.Tensor, coût total de régularisation\n",
    "    \"\"\"\n",
    "\n",
    "    # Ensemble des indices\n",
    "    indexes = set([syn_index for pair in synonym_pairs for syn_index in pair] + \n",
    "                   [ant_index for pair in antonym_pairs for ant_index in pair])\n",
    "    index_tensor = torch.tensor(list(indexes), device=model.device)\n",
    "\n",
    "    # Embeddings\n",
    "    x_hat = model.original_embeddings(index_tensor)\n",
    "    x = model.embeddings(index_tensor)\n",
    "\n",
    "    # Calcul du coût\n",
    "    regularization_cost = model.regularization * torch.sum(torch.norm(x_hat - x, p=2, dim=1)**2)\n",
    "    \n",
    "    return regularization_cost"
   ]
  },
  {
   "cell_type": "markdown",
   "metadata": {},
   "source": [
    "#### 3.3 Mise en place\n",
    "##### 3.3.1 Implémentez la fonction `forward` qui utilise les fonctions définies plus tôt pour calculer le coût total. (4 points)\n",
    "\n",
    "La fonction prend en entrée un lot de synonymes et un lot d'antonymes, c'est-à-dire des paires de synonymes et des paires d'antonymes.\n",
    "\n",
    "Vous devez trouver les négatifs de tous les mots des lots au moyen de votre fonction  run_negative_extraction puis calculer la fonction de coût totale."
   ]
  },
  {
   "cell_type": "code",
   "execution_count": 87,
   "metadata": {
    "ExecuteTime": {
     "end_time": "2024-10-02T18:15:51.640104300Z",
     "start_time": "2024-10-02T18:15:51.608724700Z"
    }
   },
   "outputs": [],
   "source": [
    "def forward(model, synonym_pairs, antonym_pairs):\n",
    "    \"\"\"\n",
    "    Fonction forward pour calculer le coût total.\n",
    "\n",
    "    Args : \n",
    "        synonym_pairs   : \n",
    "        Liste de tuples d'indices de paires de synonymes\n",
    "\n",
    "        antonym_pairs   : \n",
    "        Liste de tuples d'indices de paires d'antonymes\n",
    "\n",
    "    Returns:\n",
    "    Tenseur contenant le coût total (attraction, répulsion et régularisation)\n",
    "    \"\"\"\n",
    "\n",
    "    # Calcul de tous les négatifs\n",
    "    neg_syn_dict = run_negative_extraction(model, synonym_pairs)\n",
    "    neg_ant_dict = run_negative_extraction(model, antonym_pairs, synonym=False)\n",
    "\n",
    "    # Calcul du cout total\n",
    "    cost  = synonym_cost(model, synonym_pairs, neg_syn_dict) + antonym_cost(model, antonym_pairs, neg_ant_dict) + regularization_cost(model, synonym_pairs, antonym_pairs)\n",
    "    return cost"
   ]
  },
  {
   "cell_type": "markdown",
   "metadata": {},
   "source": [
    "#### 3.3.2 Évaluation (3 points)\n",
    "\n",
    "Utilisez la fonction `spearman_rank_correlation` pour compléter la fonction d'évaluation `evaluate` qui exécute le modèle sur le jeu d'évaluation et calcule la corrélation de Spearman entre les scores prédits et réels.\n",
    "\n",
    "Utilisez `torch.no_grad()` pour éviter de stocker les gradients."
   ]
  },
  {
   "cell_type": "code",
   "execution_count": 88,
   "metadata": {
    "ExecuteTime": {
     "end_time": "2024-10-02T17:35:58.337402200Z",
     "start_time": "2024-10-02T17:35:58.259676Z"
    }
   },
   "outputs": [],
   "source": [
    "def evaluate(model, eval_data, word_to_index):\n",
    "    \"\"\"\n",
    "    Calclue les prédictions du modèle sur le jeu d'évaluation puis la corrélation de Spearman entre les scores prédits et réels.\n",
    "\n",
    "    model: modèle de plongements de mots\n",
    "    eval_data: pd.DataFrame\n",
    "    word_to_index: dict\n",
    "\n",
    "    Returns:\n",
    "    float, la corrélation de Spearman entre les scores prédits par le modèle et réels.\n",
    "    \"\"\"\n",
    "    # Mettre le modèle en mode évaluation\n",
    "    model.eval()\n",
    "    device = model.device\n",
    "\n",
    "    # Obtenir les indices des paires de mots de eval_data\n",
    "    word_pairs = list(zip(eval_data['word 1'], eval_data['word 2']))\n",
    "    eval_indices = [(word_to_index[w1], word_to_index[w2]) for w1, w2 in word_pairs if w1 in word_to_index and w2 in word_to_index]\n",
    "\n",
    "    # Scores réels\n",
    "    real_scores = eval_data['score'].values\n",
    "\n",
    "    # Scores prédits\n",
    "    predicted_scores = []\n",
    "\n",
    "    with torch.no_grad():  \n",
    "        for id_word1, id_word2 in eval_indices:\n",
    "            word1_embedding = model.embeddings(torch.tensor(id_word1, device=device)) # Récupérer la représentation de word 1 issue du modèle\n",
    "            word2_embedding = model.embeddings(torch.tensor(id_word2, device=device)) # Récupérer la représentation de word 2 issue du modèle\n",
    "            cosine_sim = cosine_similarity(word1_embedding.unsqueeze(0), word2_embedding.unsqueeze(0)).item() # Calcul de la similarité cosinus entre les deux paires\n",
    "            predicted_scores.append(cosine_sim) # Stocker la similarité\n",
    "            \n",
    "    return spearman_rank_correlation(real_scores, predicted_scores) # Calculer la corrélation de Spearman"
   ]
  },
  {
   "cell_type": "markdown",
   "metadata": {},
   "source": [
    "### 4. Entraînement de zéro (16 Points)\n",
    "\n",
    "Nous allons maintenant entraîner le modèle de zéro, sans utiliser les plongements GloVe pré-entraînés. Ensuite, dans la partie 5, nous entraînerons le modèle en l'initialisant avec les plongements GloVe pré-entraînés."
   ]
  },
  {
   "cell_type": "code",
   "execution_count": 89,
   "metadata": {
    "ExecuteTime": {
     "end_time": "2024-10-02T18:15:57.260642100Z",
     "start_time": "2024-10-02T18:15:56.706595400Z"
    }
   },
   "outputs": [],
   "source": [
    "# Hyperparamètres, optimiseur et DataLoader\n",
    "\n",
    "BATCH_SIZE = 64\n",
    "NUM_EPOCHS = 20\n",
    "LEARNING_RATE = 5e-3\n",
    "\n",
    "device = 'cuda' if torch.cuda.is_available() else 'cpu'\n",
    "\n",
    "torch.cuda.empty_cache()\n",
    "gc.collect()\n",
    "\n",
    "train_syn_tensor = data_to_tensor(train_synonyms, glove_word_to_index)\n",
    "train_ant_tensor = data_to_tensor(train_antonyms, glove_word_to_index)\n",
    "\n",
    "syn_data_loader = DataLoader(train_syn_tensor, batch_size=BATCH_SIZE, shuffle=True, drop_last=True)\n",
    "ant_data_loader = DataLoader(train_ant_tensor, batch_size=BATCH_SIZE, shuffle=True, drop_last=True)"
   ]
  },
  {
   "cell_type": "markdown",
   "metadata": {},
   "source": [
    "#### 4.1 Complétez la cellule suivante pour créer le modèle de zéro `model_zero`, à partir d'une matrice de plongements aléatoire. (1 point)"
   ]
  },
  {
   "cell_type": "code",
   "execution_count": 97,
   "metadata": {
    "ExecuteTime": {
     "end_time": "2024-10-02T17:53:15.391099700Z",
     "start_time": "2024-10-02T17:53:15.359515500Z"
    }
   },
   "outputs": [],
   "source": [
    "model_zero = None\n",
    "random_seed = 0\n",
    "random_generator = torch.Generator(device=device).manual_seed(random_seed)\n",
    "\n",
    "embeddings_size = glove_embeddings.size()\n",
    "random_init_embeddings = torch.randn(embeddings_size, generator=random_generator, device=device)\n",
    "\n",
    "model_zero = ContrastiveWordEmbeddingModel(random_init_embeddings, device=device)\n",
    "\n",
    "optimizer = optim.Adam(model_zero.parameters(), lr=LEARNING_RATE)"
   ]
  },
  {
   "cell_type": "markdown",
   "metadata": {},
   "source": [
    "#### 4.2 Entraînez le modèle sur le jeu des paires de synonymes et d'antonymes. (6 points)\n",
    "\n",
    "N'oubliez pas que l'entraînement se fait sur les synonymes et antonymes et que l'évaluation se fait sur SimLex-999.\n",
    "\n",
    "À défaut d'avoir un jeu de validation, on observe les résultats sur le corpus de test : SimLex-999. Ceci n’est fait qu’à titre illustratif pour voir l'évolution de l'apprentissage. Il ne faut pas faire de choix pour l’entrainement à partir des résultats sur le corpus de test.\n",
    "\n",
    "*Note : Les jeux de synonymes et d'antonymes n'ont pas la même taille. Une époque (epoch) correspond à une itération sur le jeu de données le plus petit.*"
   ]
  },
  {
   "cell_type": "code",
   "execution_count": 98,
   "metadata": {
    "ExecuteTime": {
     "start_time": "2024-10-02T18:21:35.289979900Z"
    },
    "is_executing": true
   },
   "outputs": [
    {
     "name": "stdout",
     "output_type": "stream",
     "text": [
      "Before training, Spearman Correlation: -0.0256\n"
     ]
    },
    {
     "name": "stderr",
     "output_type": "stream",
     "text": [
      "  0%|          | 0/20 [00:00<?, ?it/s]"
     ]
    },
    {
     "name": "stdout",
     "output_type": "stream",
     "text": [
      "Epoch 1/20, Total Loss: 464674.1747, Average Loss: 2498.2483\n"
     ]
    },
    {
     "name": "stderr",
     "output_type": "stream",
     "text": [
      "  5%|▌         | 1/20 [00:10<03:28, 10.99s/it]"
     ]
    },
    {
     "name": "stdout",
     "output_type": "stream",
     "text": [
      "Epoch 1, Spearman Correlation: 0.0122\n",
      "Epoch 2/20, Total Loss: 325929.9333, Average Loss: 1752.3115\n"
     ]
    },
    {
     "name": "stderr",
     "output_type": "stream",
     "text": [
      " 10%|█         | 2/20 [00:23<03:35, 11.99s/it]"
     ]
    },
    {
     "name": "stdout",
     "output_type": "stream",
     "text": [
      "Epoch 2, Spearman Correlation: 0.0398\n",
      "Epoch 3/20, Total Loss: 282177.8497, Average Loss: 1517.0852\n"
     ]
    },
    {
     "name": "stderr",
     "output_type": "stream",
     "text": [
      " 15%|█▌        | 3/20 [00:37<03:36, 12.72s/it]"
     ]
    },
    {
     "name": "stdout",
     "output_type": "stream",
     "text": [
      "Epoch 3, Spearman Correlation: 0.0580\n",
      "Epoch 4/20, Total Loss: 256658.2078, Average Loss: 1379.8828\n"
     ]
    },
    {
     "name": "stderr",
     "output_type": "stream",
     "text": [
      " 20%|██        | 4/20 [00:49<03:23, 12.72s/it]"
     ]
    },
    {
     "name": "stdout",
     "output_type": "stream",
     "text": [
      "Epoch 4, Spearman Correlation: 0.0671\n",
      "Epoch 5/20, Total Loss: 239509.7254, Average Loss: 1287.6867\n"
     ]
    },
    {
     "name": "stderr",
     "output_type": "stream",
     "text": [
      " 25%|██▌       | 5/20 [01:01<03:05, 12.38s/it]"
     ]
    },
    {
     "name": "stdout",
     "output_type": "stream",
     "text": [
      "Epoch 5, Spearman Correlation: 0.0812\n",
      "Epoch 6/20, Total Loss: 224688.1909, Average Loss: 1208.0010\n"
     ]
    },
    {
     "name": "stderr",
     "output_type": "stream",
     "text": [
      " 30%|███       | 6/20 [01:13<02:49, 12.13s/it]"
     ]
    },
    {
     "name": "stdout",
     "output_type": "stream",
     "text": [
      "Epoch 6, Spearman Correlation: 0.0867\n",
      "Epoch 7/20, Total Loss: 211741.2958, Average Loss: 1138.3941\n"
     ]
    },
    {
     "name": "stderr",
     "output_type": "stream",
     "text": [
      " 35%|███▌      | 7/20 [01:25<02:37, 12.15s/it]"
     ]
    },
    {
     "name": "stdout",
     "output_type": "stream",
     "text": [
      "Epoch 7, Spearman Correlation: 0.0913\n",
      "Epoch 8/20, Total Loss: 194744.0225, Average Loss: 1047.0109\n"
     ]
    },
    {
     "name": "stderr",
     "output_type": "stream",
     "text": [
      " 40%|████      | 8/20 [01:38<02:27, 12.33s/it]"
     ]
    },
    {
     "name": "stdout",
     "output_type": "stream",
     "text": [
      "Epoch 8, Spearman Correlation: 0.0991\n",
      "Epoch 9/20, Total Loss: 181575.0491, Average Loss: 976.2099\n"
     ]
    },
    {
     "name": "stderr",
     "output_type": "stream",
     "text": [
      " 45%|████▌     | 9/20 [01:51<02:17, 12.51s/it]"
     ]
    },
    {
     "name": "stdout",
     "output_type": "stream",
     "text": [
      "Epoch 9, Spearman Correlation: 0.1083\n",
      "Epoch 10/20, Total Loss: 162228.1488, Average Loss: 872.1943\n"
     ]
    },
    {
     "name": "stderr",
     "output_type": "stream",
     "text": [
      " 50%|█████     | 10/20 [02:03<02:05, 12.55s/it]"
     ]
    },
    {
     "name": "stdout",
     "output_type": "stream",
     "text": [
      "Epoch 10, Spearman Correlation: 0.1200\n",
      "Epoch 11/20, Total Loss: 147995.5013, Average Loss: 795.6747\n"
     ]
    },
    {
     "name": "stderr",
     "output_type": "stream",
     "text": [
      " 55%|█████▌    | 11/20 [02:16<01:51, 12.43s/it]"
     ]
    },
    {
     "name": "stdout",
     "output_type": "stream",
     "text": [
      "Epoch 11, Spearman Correlation: 0.1234\n",
      "Epoch 12/20, Total Loss: 129604.4897, Average Loss: 696.7983\n"
     ]
    },
    {
     "name": "stderr",
     "output_type": "stream",
     "text": [
      " 60%|██████    | 12/20 [02:32<01:50, 13.75s/it]"
     ]
    },
    {
     "name": "stdout",
     "output_type": "stream",
     "text": [
      "Epoch 12, Spearman Correlation: 0.1314\n",
      "Epoch 13/20, Total Loss: 120445.9542, Average Loss: 647.5589\n"
     ]
    },
    {
     "name": "stderr",
     "output_type": "stream",
     "text": [
      " 65%|██████▌   | 13/20 [02:45<01:33, 13.34s/it]"
     ]
    },
    {
     "name": "stdout",
     "output_type": "stream",
     "text": [
      "Epoch 13, Spearman Correlation: 0.1382\n",
      "Epoch 14/20, Total Loss: 103424.7589, Average Loss: 556.0471\n"
     ]
    },
    {
     "name": "stderr",
     "output_type": "stream",
     "text": [
      " 70%|███████   | 14/20 [02:56<01:17, 12.86s/it]"
     ]
    },
    {
     "name": "stdout",
     "output_type": "stream",
     "text": [
      "Epoch 14, Spearman Correlation: 0.1428\n",
      "Epoch 15/20, Total Loss: 94283.1557, Average Loss: 506.8987\n"
     ]
    },
    {
     "name": "stderr",
     "output_type": "stream",
     "text": [
      " 75%|███████▌  | 15/20 [03:08<01:02, 12.52s/it]"
     ]
    },
    {
     "name": "stdout",
     "output_type": "stream",
     "text": [
      "Epoch 15, Spearman Correlation: 0.1478\n",
      "Epoch 16/20, Total Loss: 86408.1632, Average Loss: 464.5600\n"
     ]
    },
    {
     "name": "stderr",
     "output_type": "stream",
     "text": [
      " 80%|████████  | 16/20 [03:20<00:49, 12.37s/it]"
     ]
    },
    {
     "name": "stdout",
     "output_type": "stream",
     "text": [
      "Epoch 16, Spearman Correlation: 0.1542\n",
      "Epoch 17/20, Total Loss: 76061.9737, Average Loss: 408.9353\n"
     ]
    },
    {
     "name": "stderr",
     "output_type": "stream",
     "text": [
      " 85%|████████▌ | 17/20 [03:32<00:36, 12.30s/it]"
     ]
    },
    {
     "name": "stdout",
     "output_type": "stream",
     "text": [
      "Epoch 17, Spearman Correlation: 0.1622\n",
      "Epoch 18/20, Total Loss: 69063.9828, Average Loss: 371.3117\n"
     ]
    },
    {
     "name": "stderr",
     "output_type": "stream",
     "text": [
      " 90%|█████████ | 18/20 [03:44<00:24, 12.24s/it]"
     ]
    },
    {
     "name": "stdout",
     "output_type": "stream",
     "text": [
      "Epoch 18, Spearman Correlation: 0.1667\n",
      "Epoch 19/20, Total Loss: 60888.6505, Average Loss: 327.3583\n"
     ]
    },
    {
     "name": "stderr",
     "output_type": "stream",
     "text": [
      " 95%|█████████▌| 19/20 [03:57<00:12, 12.31s/it]"
     ]
    },
    {
     "name": "stdout",
     "output_type": "stream",
     "text": [
      "Epoch 19, Spearman Correlation: 0.1739\n",
      "Epoch 20/20, Total Loss: 54897.8191, Average Loss: 295.1496\n"
     ]
    },
    {
     "name": "stderr",
     "output_type": "stream",
     "text": [
      "100%|██████████| 20/20 [04:10<00:00, 12.51s/it]"
     ]
    },
    {
     "name": "stdout",
     "output_type": "stream",
     "text": [
      "Epoch 20, Spearman Correlation: 0.1797\n"
     ]
    },
    {
     "name": "stderr",
     "output_type": "stream",
     "text": [
      "\n"
     ]
    },
    {
     "name": "stdout",
     "output_type": "stream",
     "text": [
      "After training, Spearman Correlation: 0.1797\n"
     ]
    }
   ],
   "source": [
    "spearman_corr = evaluate(model_zero, evaluation_simlex, glove_word_to_index)\n",
    "print(f'Before training, Spearman Correlation: {spearman_corr:.4f}')\n",
    "\n",
    "losses = []  # Perte moyenne à chaque epoch\n",
    "spearman_correlations = []  # Corrélation de Spearman à chaque epoch\n",
    "\n",
    "for epoch in tqdm(range(NUM_EPOCHS)):\n",
    "    model_zero.train() # Mettre le modèle en mode entrainement\n",
    "    total_loss = 0.0\n",
    "    num_batches = 0\n",
    "\n",
    "    for syn_batch, ant_batch in zip(syn_data_loader, ant_data_loader):\n",
    "        syn_batch = syn_batch.to(device)\n",
    "        ant_batch = ant_batch.to(device)\n",
    "\n",
    "        optimizer.zero_grad() # Réinitialisation des gradients\n",
    "        loss = forward(model_zero, syn_batch, ant_batch) # Appel de forward\n",
    "        loss.backward() # Calcul des gradients\n",
    "        optimizer.step()\n",
    "        total_loss += loss.item()\n",
    "        num_batches += 1\n",
    "\n",
    "    # Perte moyenne pour cet epoch\n",
    "    average_loss = total_loss / num_batches\n",
    "    losses.append(average_loss) \n",
    "    print(f\"Epoch {epoch + 1}/{NUM_EPOCHS}, Total Loss: {total_loss:.4f}, Average Loss: {average_loss:.4f}\")\n",
    "    \n",
    "    # Corrélation pour cet epoch\n",
    "    spearman_corr = evaluate(model_zero, evaluation_simlex, glove_word_to_index)\n",
    "    spearman_correlations.append(spearman_corr)\n",
    "    print(f'Epoch {epoch + 1}, Spearman Correlation: {spearman_corr:.4f}')\n",
    "\n",
    "spearman_corr = evaluate(model_zero, evaluation_simlex, glove_word_to_index)\n",
    "print(f'After training, Spearman Correlation: {spearman_corr:.4f}')"
   ]
  },
  {
   "cell_type": "markdown",
   "metadata": {},
   "source": [
    "#### 4.3 Courbes d'entraînement du modèle de zéro (4 points)\n",
    "\n",
    "Affichez la perte moyenne sur le jeu d'entraînement et la corrélation de Spearman sur le jeu de validation à chaque époque."
   ]
  },
  {
   "cell_type": "code",
   "execution_count": 110,
   "metadata": {
    "ExecuteTime": {
     "start_time": "2024-10-02T17:47:36.652172600Z"
    }
   },
   "outputs": [
    {
     "data": {
      "image/png": "[encoded data removed]",
      "text/plain": [
       "<Figure size 1200x600 with 2 Axes>"
      ]
     },
     "metadata": {},
     "output_type": "display_data"
    }
   ],
   "source": [
    "# Affichage des courbes d'entraînement\n",
    "plt.figure(figsize=(12, 6))\n",
    "plt.suptitle('Courbes d\\'entraînement du modèle initialisé de zéro', fontsize=16)\n",
    "\n",
    "# Courbe pour la perte moyenne\n",
    "plt.subplot(1, 2, 1)\n",
    "plt.plot(range(1, NUM_EPOCHS + 1), losses, marker='o', color='blue', label='Perte moyenne')\n",
    "plt.title('Perte moyenne au cours des Epochs')\n",
    "plt.xlabel('Epochs')\n",
    "plt.ylabel('Loss')\n",
    "plt.grid()\n",
    "plt.legend()\n",
    "\n",
    "# Courbe pour la corrélation de Spearman\n",
    "plt.subplot(1, 2, 2)\n",
    "plt.plot(range(1, NUM_EPOCHS + 1), spearman_correlations, marker='o', color='green', label='Corrélation de Spearman')\n",
    "plt.title('Corrélation de Spearman au cours des Epochs')\n",
    "plt.xlabel('Epochs')\n",
    "plt.ylabel('Corrélation de Spearman')\n",
    "plt.grid()\n",
    "plt.legend()\n",
    "\n",
    "plt.tight_layout()\n",
    "plt.show()"
   ]
  },
  {
   "cell_type": "markdown",
   "metadata": {},
   "source": [
    "#### 4.4 Évaluation du modèle de zéro et comparaison avec GloVe (5 points)\n",
    "\n",
    "Comparez le modèle de zéro après l'entraînement à GloVe (résultat de la partie 2.4) en termes de corrélation de Spearman sur le jeu de validation. Quelle méthode est la plus performante ? Pourquoi ?\n"
   ]
  },
  {
   "cell_type": "markdown",
   "metadata": {},
   "source": [
    "La corrélation de Spearman après l'entraînement à GloVe s'élevait à 0.29 tandis qu'elle s'élève à 0.1688 après l'entraînement du modèle de zéro. On peut en conclure que selon cette métrique, GloVe est la plus performante des méthodes parce qu'elle a une valeur plus grande de la corrélation de Sperman, et donc permet potentiellement de mieux représenter la relation entre le score SimLex d'une paire et la similarité cosinus des mots de la paire avec une relation monotone. Le fait que GloVe ait une plus grande corrélation de Spearman plus élevée permert de conclure que ce modèle est meilleur le sens sémantique qu'ils donnent aux mots est plus proche de la réalité que le modèle à zéro.\n",
    "\n",
    "Vu que le modèle à zéro commence sans informations préalables et présente des performances assez basses, on peut conclure que les informations contenues dans les co-occurences initiales sont assez cruciales pour parvenir à capturer la similarité entre des mots. On observerait donc probalement de meilleures performances en utilisant les plongements de mots obtenus avec GloVe qu'en partant de 0."
   ]
  },
  {
   "cell_type": "markdown",
   "metadata": {},
   "source": [
    "### 5. Intérêt de GloVe (18 Points)\n",
    "\n",
    "Dans la section précédente, nous avons entraîné un modèle de zéro.\n",
    "\n",
    "Nous allons maintenant évaluer si initialiser le modèle avec les plongements de GloVe permet d'améliorer les performances."
   ]
  },
  {
   "cell_type": "markdown",
   "metadata": {},
   "source": [
    "#### 5.1 Initialisation avec GloVe (6 points)\n",
    "\n",
    "Entraînez le modèle `model_fine_tuned`, mais cette fois en ititialisant directement avec les plongements du modèle pré-entraîné GloVe.\n",
    "\n",
    "On utilisera Adam comme optimiseur."
   ]
  },
  {
   "cell_type": "code",
   "execution_count": 100,
   "metadata": {
    "ExecuteTime": {
     "start_time": "2024-10-02T17:47:36.652172600Z"
    }
   },
   "outputs": [],
   "source": [
    "model_fine_tuned = None\n",
    "\n",
    "model_fine_tuned = ContrastiveWordEmbeddingModel(glove_embeddings, device=device) # Initialisation avec Glove\n",
    "optimizer = optim.Adam(model_fine_tuned.parameters(), lr=LEARNING_RATE)"
   ]
  },
  {
   "cell_type": "code",
   "execution_count": 101,
   "metadata": {
    "ExecuteTime": {
     "start_time": "2024-10-02T17:47:36.652172600Z"
    }
   },
   "outputs": [
    {
     "name": "stdout",
     "output_type": "stream",
     "text": [
      "Before training, Spearman Correlation: 0.2916\n"
     ]
    },
    {
     "name": "stderr",
     "output_type": "stream",
     "text": [
      "  0%|          | 0/20 [00:00<?, ?it/s]"
     ]
    },
    {
     "name": "stdout",
     "output_type": "stream",
     "text": [
      "Epoch 1/20, Total Loss: 147460.3706, Average Loss: 792.7977\n"
     ]
    },
    {
     "name": "stderr",
     "output_type": "stream",
     "text": [
      "  5%|▌         | 1/20 [00:11<03:46, 11.94s/it]"
     ]
    },
    {
     "name": "stdout",
     "output_type": "stream",
     "text": [
      "Epoch 1, Spearman Correlation: 0.3442\n",
      "Epoch 2/20, Total Loss: 40925.5716, Average Loss: 220.0300\n"
     ]
    },
    {
     "name": "stderr",
     "output_type": "stream",
     "text": [
      " 10%|█         | 2/20 [00:24<03:43, 12.42s/it]"
     ]
    },
    {
     "name": "stdout",
     "output_type": "stream",
     "text": [
      "Epoch 2, Spearman Correlation: 0.3635\n",
      "Epoch 3/20, Total Loss: 17578.4635, Average Loss: 94.5079\n"
     ]
    },
    {
     "name": "stderr",
     "output_type": "stream",
     "text": [
      " 15%|█▌        | 3/20 [00:36<03:29, 12.32s/it]"
     ]
    },
    {
     "name": "stdout",
     "output_type": "stream",
     "text": [
      "Epoch 3, Spearman Correlation: 0.3710\n",
      "Epoch 4/20, Total Loss: 10635.4265, Average Loss: 57.1797\n"
     ]
    },
    {
     "name": "stderr",
     "output_type": "stream",
     "text": [
      " 20%|██        | 4/20 [00:49<03:16, 12.28s/it]"
     ]
    },
    {
     "name": "stdout",
     "output_type": "stream",
     "text": [
      "Epoch 4, Spearman Correlation: 0.3828\n",
      "Epoch 5/20, Total Loss: 7186.0152, Average Loss: 38.6345\n"
     ]
    },
    {
     "name": "stderr",
     "output_type": "stream",
     "text": [
      " 25%|██▌       | 5/20 [01:01<03:04, 12.30s/it]"
     ]
    },
    {
     "name": "stdout",
     "output_type": "stream",
     "text": [
      "Epoch 5, Spearman Correlation: 0.3899\n",
      "Epoch 6/20, Total Loss: 5639.4634, Average Loss: 30.3197\n"
     ]
    },
    {
     "name": "stderr",
     "output_type": "stream",
     "text": [
      " 30%|███       | 6/20 [01:14<02:53, 12.41s/it]"
     ]
    },
    {
     "name": "stdout",
     "output_type": "stream",
     "text": [
      "Epoch 6, Spearman Correlation: 0.3938\n",
      "Epoch 7/20, Total Loss: 4848.9835, Average Loss: 26.0698\n"
     ]
    },
    {
     "name": "stderr",
     "output_type": "stream",
     "text": [
      " 35%|███▌      | 7/20 [01:27<02:44, 12.62s/it]"
     ]
    },
    {
     "name": "stdout",
     "output_type": "stream",
     "text": [
      "Epoch 7, Spearman Correlation: 0.4011\n",
      "Epoch 8/20, Total Loss: 4049.2482, Average Loss: 21.7702\n"
     ]
    },
    {
     "name": "stderr",
     "output_type": "stream",
     "text": [
      " 40%|████      | 8/20 [01:39<02:31, 12.61s/it]"
     ]
    },
    {
     "name": "stdout",
     "output_type": "stream",
     "text": [
      "Epoch 8, Spearman Correlation: 0.4043\n",
      "Epoch 9/20, Total Loss: 2983.4818, Average Loss: 16.0402\n"
     ]
    },
    {
     "name": "stderr",
     "output_type": "stream",
     "text": [
      " 45%|████▌     | 9/20 [01:52<02:18, 12.56s/it]"
     ]
    },
    {
     "name": "stdout",
     "output_type": "stream",
     "text": [
      "Epoch 9, Spearman Correlation: 0.4036\n",
      "Epoch 10/20, Total Loss: 2893.1934, Average Loss: 15.5548\n"
     ]
    },
    {
     "name": "stderr",
     "output_type": "stream",
     "text": [
      " 50%|█████     | 10/20 [02:04<02:05, 12.53s/it]"
     ]
    },
    {
     "name": "stdout",
     "output_type": "stream",
     "text": [
      "Epoch 10, Spearman Correlation: 0.4048\n",
      "Epoch 11/20, Total Loss: 2553.9425, Average Loss: 13.7309\n"
     ]
    },
    {
     "name": "stderr",
     "output_type": "stream",
     "text": [
      " 55%|█████▌    | 11/20 [02:16<01:52, 12.46s/it]"
     ]
    },
    {
     "name": "stdout",
     "output_type": "stream",
     "text": [
      "Epoch 11, Spearman Correlation: 0.4153\n",
      "Epoch 12/20, Total Loss: 2498.8094, Average Loss: 13.4345\n"
     ]
    },
    {
     "name": "stderr",
     "output_type": "stream",
     "text": [
      " 60%|██████    | 12/20 [02:29<01:39, 12.43s/it]"
     ]
    },
    {
     "name": "stdout",
     "output_type": "stream",
     "text": [
      "Epoch 12, Spearman Correlation: 0.4214\n",
      "Epoch 13/20, Total Loss: 2227.0940, Average Loss: 11.9736\n"
     ]
    },
    {
     "name": "stderr",
     "output_type": "stream",
     "text": [
      " 65%|██████▌   | 13/20 [02:41<01:26, 12.35s/it]"
     ]
    },
    {
     "name": "stdout",
     "output_type": "stream",
     "text": [
      "Epoch 13, Spearman Correlation: 0.4207\n",
      "Epoch 14/20, Total Loss: 2104.1938, Average Loss: 11.3129\n"
     ]
    },
    {
     "name": "stderr",
     "output_type": "stream",
     "text": [
      " 70%|███████   | 14/20 [02:53<01:13, 12.33s/it]"
     ]
    },
    {
     "name": "stdout",
     "output_type": "stream",
     "text": [
      "Epoch 14, Spearman Correlation: 0.4216\n",
      "Epoch 15/20, Total Loss: 1719.9325, Average Loss: 9.2469\n"
     ]
    },
    {
     "name": "stderr",
     "output_type": "stream",
     "text": [
      " 75%|███████▌  | 15/20 [03:06<01:01, 12.32s/it]"
     ]
    },
    {
     "name": "stdout",
     "output_type": "stream",
     "text": [
      "Epoch 15, Spearman Correlation: 0.4255\n",
      "Epoch 16/20, Total Loss: 1807.1827, Average Loss: 9.7160\n"
     ]
    },
    {
     "name": "stderr",
     "output_type": "stream",
     "text": [
      " 80%|████████  | 16/20 [03:18<00:49, 12.30s/it]"
     ]
    },
    {
     "name": "stdout",
     "output_type": "stream",
     "text": [
      "Epoch 16, Spearman Correlation: 0.4326\n",
      "Epoch 17/20, Total Loss: 1791.8592, Average Loss: 9.6337\n"
     ]
    },
    {
     "name": "stderr",
     "output_type": "stream",
     "text": [
      " 85%|████████▌ | 17/20 [03:30<00:37, 12.36s/it]"
     ]
    },
    {
     "name": "stdout",
     "output_type": "stream",
     "text": [
      "Epoch 17, Spearman Correlation: 0.4416\n",
      "Epoch 18/20, Total Loss: 1697.7525, Average Loss: 9.1277\n"
     ]
    },
    {
     "name": "stderr",
     "output_type": "stream",
     "text": [
      " 90%|█████████ | 18/20 [03:43<00:24, 12.41s/it]"
     ]
    },
    {
     "name": "stdout",
     "output_type": "stream",
     "text": [
      "Epoch 18, Spearman Correlation: 0.4494\n",
      "Epoch 19/20, Total Loss: 1696.6773, Average Loss: 9.1219\n"
     ]
    },
    {
     "name": "stderr",
     "output_type": "stream",
     "text": [
      " 95%|█████████▌| 19/20 [03:55<00:12, 12.41s/it]"
     ]
    },
    {
     "name": "stdout",
     "output_type": "stream",
     "text": [
      "Epoch 19, Spearman Correlation: 0.4539\n",
      "Epoch 20/20, Total Loss: 1492.9449, Average Loss: 8.0266\n"
     ]
    },
    {
     "name": "stderr",
     "output_type": "stream",
     "text": [
      "100%|██████████| 20/20 [04:09<00:00, 12.46s/it]"
     ]
    },
    {
     "name": "stdout",
     "output_type": "stream",
     "text": [
      "Epoch 20, Spearman Correlation: 0.4549\n"
     ]
    },
    {
     "name": "stderr",
     "output_type": "stream",
     "text": [
      "\n"
     ]
    },
    {
     "name": "stdout",
     "output_type": "stream",
     "text": [
      "After training, Spearman Correlation: 0.4549\n"
     ]
    }
   ],
   "source": [
    "spearman_corr = evaluate(model_fine_tuned, evaluation_simlex, glove_word_to_index)\n",
    "print(f'Before training, Spearman Correlation: {spearman_corr:.4f}')\n",
    "\n",
    "losses_glove = []  # Perte moyenne à chaque epoch\n",
    "spearman_correlations_glove = []  # Corrélation de Spearman à chaque epoch\n",
    "\n",
    "for epoch in tqdm(range(NUM_EPOCHS)):\n",
    "    model_zero.train() # Mettre le modèle en mode entrainement\n",
    "    total_loss = 0.0\n",
    "    num_batches = 0\n",
    "\n",
    "    for syn_batch, ant_batch in zip(syn_data_loader, ant_data_loader):\n",
    "        syn_batch = syn_batch.to(device)\n",
    "        ant_batch = ant_batch.to(device)\n",
    "\n",
    "        optimizer.zero_grad() # Réinitialisation des gradients\n",
    "        loss = forward(model_fine_tuned, syn_batch, ant_batch) # Appel de forward\n",
    "        loss.backward() # Calcul des gradients\n",
    "        optimizer.step()\n",
    "        total_loss += loss.item()\n",
    "        num_batches += 1\n",
    "\n",
    "    # Perte moyenne pour cet epoch\n",
    "    average_loss = total_loss / num_batches\n",
    "    losses_glove.append(average_loss) \n",
    "    print(f\"Epoch {epoch + 1}/{NUM_EPOCHS}, Total Loss: {total_loss:.4f}, Average Loss: {average_loss:.4f}\")\n",
    "    \n",
    "    # Corrélation pour cet epoch\n",
    "    spearman_corr = evaluate(model_fine_tuned, evaluation_simlex, glove_word_to_index)\n",
    "    spearman_correlations_glove.append(spearman_corr)\n",
    "    print(f'Epoch {epoch + 1}, Spearman Correlation: {spearman_corr:.4f}')\n",
    "\n",
    "spearman_corr = evaluate(model_fine_tuned, evaluation_simlex, glove_word_to_index)\n",
    "print(f'After training, Spearman Correlation: {spearman_corr:.4f}')"
   ]
  },
  {
   "cell_type": "markdown",
   "metadata": {},
   "source": [
    "#### 5.2 Courbes d'entraînement (4 points)\n",
    "\n",
    "Affichez la perte moyenne sur le jeu d'entraînement et la corrélation de Spearman sur le jeu de validation à chaque époque."
   ]
  },
  {
   "cell_type": "code",
   "execution_count": 112,
   "metadata": {
    "ExecuteTime": {
     "end_time": "2024-10-02T17:47:36.652172600Z",
     "start_time": "2024-10-02T17:47:36.652172600Z"
    }
   },
   "outputs": [
    {
     "data": {
      "image/png": "[encoded data removed]",
      "text/plain": [
       "<Figure size 1200x600 with 2 Axes>"
      ]
     },
     "metadata": {},
     "output_type": "display_data"
    }
   ],
   "source": [
    "# Affichage des courbes d'entraînement\n",
    "plt.figure(figsize=(12, 6))\n",
    "plt.suptitle('Courbes d\\'entraînement du modèle initialisé avec Glove (fine-tuned)', fontsize=16)\n",
    "\n",
    "# Courbe pour la perte moyenne\n",
    "plt.subplot(1, 2, 1)\n",
    "plt.plot(range(1, NUM_EPOCHS + 1), losses_glove, marker='o', color='blue', label='Perte moyenne')\n",
    "plt.title('Perte moyenne au cours des Epochs')\n",
    "plt.xlabel('Epochs')\n",
    "plt.ylabel('Loss')\n",
    "plt.grid()\n",
    "plt.legend()\n",
    "\n",
    "# Courbe pour la corrélation de Spearman\n",
    "plt.subplot(1, 2, 2)\n",
    "plt.plot(range(1, NUM_EPOCHS + 1), spearman_correlations_glove, marker='o', color='green', label='Corrélation de Spearman')\n",
    "plt.title('Corrélation de Spearman au cours des Epochs')\n",
    "plt.xlabel('Epochs')\n",
    "plt.ylabel('Corrélation de Spearman')\n",
    "plt.grid()\n",
    "plt.legend()\n",
    "\n",
    "plt.tight_layout()\n",
    "plt.show()"
   ]
  },
  {
   "cell_type": "markdown",
   "metadata": {},
   "source": [
    "#### 5.3 Vérification sur un exemple (3 points)\n",
    "\n",
    "Avec le modèle `model_fine_tuned`, calculez la similarité cosinus entre 'fast' et 'slow' et entre 'fast' et 'rapid'. Commentez les résultats en les comparant avec ceux de la partie 1.4."
   ]
  },
  {
   "cell_type": "code",
   "execution_count": 105,
   "metadata": {
    "ExecuteTime": {
     "start_time": "2024-10-02T17:47:36.652172600Z"
    }
   },
   "outputs": [
    {
     "name": "stdout",
     "output_type": "stream",
     "text": [
      "Similarité cosinus 'fast' / 'slow' :  0.3538550138473511\n",
      "Similarité cosinus 'fast' / 'rapid' :  0.6099787354469299\n"
     ]
    }
   ],
   "source": [
    "words = ['fast', 'slow', 'rapid']\n",
    "\n",
    "embeddings = []\n",
    "for word in words:\n",
    "    embedding = model_fine_tuned.embeddings(torch.tensor(glove_word_to_index[word]).to(device))  # Obtenir l'embedding à partir du modèle\n",
    "    embeddings.append(embedding)\n",
    "\n",
    "# Calculer la similarité cosinus entre 'fast' et 'slow'\n",
    "similarity_fast_slow = cosine_similarity(\n",
    "    embeddings[0].unsqueeze(0), \n",
    "    embeddings[1].unsqueeze(0)\n",
    ").item()\n",
    "\n",
    "# Calculer la similarité cosinus entre 'fast' et 'rapid'\n",
    "similarity_fast_rapid = cosine_similarity(\n",
    "    embeddings[0].unsqueeze(0), \n",
    "    embeddings[2].unsqueeze(0)\n",
    ").item()\n",
    "\n",
    "# Affichage des résultats\n",
    "print(\"Similarité cosinus 'fast' / 'slow' : \", similarity_fast_slow)\n",
    "print(\"Similarité cosinus 'fast' / 'rapid' : \", similarity_fast_rapid)"
   ]
  },
  {
   "cell_type": "markdown",
   "metadata": {},
   "source": [
    "Avec GloVe sans fine-tuning. la similarité cosinus entre `fast/slow` était supérieure à la similarité cosinus entre `fast/rapid`, ce qui est contre-intuitif mais peut se justifier par le fait que les mots `fast/slow` sont plus co-occurents que les mots `fast/rapid`. Avec le fine-tuning, on a désormais une similarité entre `fast/rapid` qui est plus grande que celle entre `fast/slow`, ce qui fait plus de sens car `fast/rapid` sont des synonymes. Ce qui a permi d'obtenir ce résultat est le fait qu'avec le nouveau modèle, on prend en compte que les mots peuvent avoir des synonymes et des antonymes, au lieu de se baser uniquement sur la co-occurence qu'il y a entre eux. Puisque dans ce modèle on rapproche les synonymes et on éloigne les antonymes, il est plus aisé de déceler des similitudes entre les mots qui se ressemblent et des différences entre des mots antonymes."
   ]
  },
  {
   "cell_type": "markdown",
   "metadata": {},
   "source": [
    "#### 5.4 Analyse, comparaison, conclusion (5 points)\n",
    "\n",
    "Comparez les performances des trois modèles (GloVe, zéro, fine-tuned). Quelle méthode est la plus performante ? Pourquoi ?\n"
   ]
  },
  {
   "cell_type": "markdown",
   "metadata": {},
   "source": [
    "* GloVe : En se basant sur les co-occurences des termes dans un large corpus, GloVe permet d'avoir des plongements de mots initiaux assez solide qui permet de rapprocher des mots qui apparaissent dans le même contexte et éloigner les mots qui apparaissent dans des contextes différents. Cependant, puisqu'il n'intègre pas le fait que les mots que les mots ont des synonymes/antonymes, il ne parvient pas à capturer certaines subtilités sémantiques et peut alors éloigner à tort 2 mots qui ont un sens proche (comme nous avons pu le voir avec `fast/rapid` qui avaient une similarité cosinus plus petite que `fast/slow`). On a pu voir aussi plus globalement que la similarité de Searman du modèle GloVe était de 0.29, ce qui est assez bas certains mots qui sont jugés similaires par SimLex-999 n'ont pas des similarités cosinus élevées dans GloVe.\n",
    "\n",
    "* Modèle initialisé à zéro : Ce modèle, bien qu'il prenne en compte les aspects de synonymie et d'antonymie et a donc potentiellement de meilleures chances de rapprocher des mots similaires, performe moins bien à cause du fait qu'il ne tienne pas en compte la co-occurence des termes. Même si des termes qui co-occurent ne sont pas forcément similaires, des mots qui apparaissent souvent ensemble devraient avoir une certaine affiliation, ce que ce modèle ne représente pas. Et justement, la corrélation de Spearman avec ce modèle sans fine-tuning s'élève à seulement 0.1688, résultat plus bas que celui de GloVe. On peut en conclure que les informations contenues dans les co-occurrences initiales sont cruciales pour capturer la similarité.\n",
    "\n",
    "* Modèle fine-tuned : Ce modèle, initialisé avec les plongements de mots de GloVe permet de combler ses lacunes en s'ajustant à des données spécifiques (synonymes/antonymes). On a pu remarquer qu'on obtient une meilleure corrélation de Searman avec ce modèle (0.4282), résultat plus élevé que ceux qu'on a observé avec les 2 modèles précédents. Par ailleurs, comme il intègre la notion de synonymie et antonymie, il rapproches les mots `fast/rapid` et éloigne les mots `fast/slow`, ce qui est conceptuellement plus correct. On note également que le loss est pratiquement de 0 après 20 epochs et que la corrélation de Searman est de plus en plus élevée avec le nombre d'epochs. Ces résultats permettent de dire que ce modèle est le meilleur des 3.\n",
    "\n",
    "En conclusion, le modèle ajusté (fine-tuned) est le plus performant car il combine la robustesse des plongements pré-entraînés avec un ajustement spécifique qui améliore la capture des nuances sémantiques."
   ]
  },
  {
   "cell_type": "markdown",
   "metadata": {},
   "source": [
    "## Livrables\n",
    "Vous devez remettre votre notebook sur Moodle et Gradescope en ipynb et pdf. Pour Gradescope vous devez associer les numéros de questions avec vos réponses dans le pdf grâce à l'outil que fournit Gradescope.\n",
    "\n",
    "\n",
    "## Évaluation \n",
    "Votre TP sera évalué selon les critères suivants :\n",
    "1. Exécution correcte du code et obtention des sorties attendues\n",
    "2. Réponses correctes aux questions d'analyse\n",
    "3. Qualité du code (noms significatifs, structure, performance, gestion d’exception, etc.)\n",
    "4. Commentaires clairs et informatifs"
   ]
  }
 ],
 "metadata": {
  "kernelspec": {
   "display_name": "Python 3 (ipykernel)",
   "language": "python",
   "name": "python3"
  },
  "language_info": {
   "codemirror_mode": {
    "name": "ipython",
    "version": 3
   },
   "file_extension": ".py",
   "mimetype": "text/x-python",
   "name": "python",
   "nbconvert_exporter": "python",
   "pygments_lexer": "ipython3",
   "version": "3.12.3"
  }
 },
 "nbformat": 4,
 "nbformat_minor": 4
}
