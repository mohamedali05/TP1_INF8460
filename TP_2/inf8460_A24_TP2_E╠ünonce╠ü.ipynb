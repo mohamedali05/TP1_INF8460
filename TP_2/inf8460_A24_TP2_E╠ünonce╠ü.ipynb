{
 "cells": [
  {
   "cell_type": "markdown",
   "metadata": {},
   "source": [
    "##### INF8460 – Traitement automatique de la langue naturelle - Automne 2024\n",
    "\n",
    "## TP2: Plongements de mots"
   ]
  },
  {
   "cell_type": "markdown",
   "metadata": {},
   "source": [
    "## Identification de l'équipe:\n",
    "\n",
    "### Groupe de laboratoire:\n",
    "\n",
    "### Equipe numéro :\n",
    "\n",
    "### Membres:\n",
    "\n",
    "- membre 1 (% de contribution, nature de la contribution)\n",
    "- membre 2 (% de contribution, nature de la contribution)\n",
    "- membre 3 (% de contribution, nature de la contribution)\n",
    "\n",
    "* nature de la contribution: Décrivez brièvement ce qui a été fait par chaque membre de l’équipe. Tous les membres sont censés contribuer au développement. Bien que chaque membre puisse effectuer différentes tâches, vous devez vous efforcer d’obtenir une répartition égale du travail. Soyez précis ! N'indiquez pas seulement : travail réparti équitablement"
   ]
  },
  {
   "cell_type": "markdown",
   "metadata": {},
   "source": [
    "### Objectif du TP\n",
    "\n",
    "L'objectif de ce TP est d'entraîner un modèle de plongements lexicaux qui intègre des notions de synonymie et d'antonymie en utilisant des réseaux de neurones. \n",
    "\n",
    "Contrairement aux plongements vus en cours comme GloVe ou Word2Vec, qui positionnent souvent les mots à proximité équivalente de leurs synonymes et antonymes, nous chercherons à faire distinguer à nos modèles les synonymes et antonymes, en rapprochant les mots de leurs synonymes et en les éloignant de leurs antonymes.\n",
    "\n",
    "### Jeux de données\n",
    "\n",
    "**Paires de synonymes et antonymes** (entraînement) : Les fichiers `train_synonyms.txt` et `train_antonymms.txt` contiennent les paires de synonymes et d'antonymes qui serviront à l'entraînement de nos modèles.\n",
    "- train_synonyms: ~640k paires de synonymes\n",
    "- train_antonyms: ~12k paires d'antonymes\n",
    "\n",
    "**SimLex-999** (test) : Le fichier `simlex_english.txt` contient 1000 paires de mots et leur similarité entre 0 et 10. Des antonymes auront une similarité de 0 et des mots proches auront une similarité plus élevée. Par exemples :\n",
    "\n",
    "- *nice* & *cruel* -> 0\n",
    "- *violent* & *angry* -> 5.9\n",
    "- *essential* & *necessary* -> 9.8\n",
    "\n",
    "### Développement du TP\n",
    "\n",
    "Le TP suivra les étapes suivantes:\n",
    "\n",
    "- Partie 1 : Familiarisation avec GloVe, modèle de plongements de mots pré-entraîné\n",
    "- Partie 2 : Évaluation de GloVe sur SimLex-999\n",
    "- Partie 3 : Mise en place de la méthode d'entraînement\n",
    "- Partie 4 : Entraînement de zéro (baseline)\n",
    "- Partie 5 : Entraînement utilisant GloVe pré-entraîné et conclusion\n",
    "\n",
    "Le TP est noté sur 89 points."
   ]
  },
  {
   "cell_type": "markdown",
   "metadata": {},
   "source": [
    "### Librairies autorisées\n",
    "\n",
    "+ numpy\n",
    "+ pandas\n",
    "+ torch\n",
    "+ matplotlib\n",
    "\n",
    "Si vous voulez utiliser une autre librairie, veuillez demander à votre chargé de lab.\n",
    "\n",
    "### Imports\n",
    "\n",
    "Les imports effectués dans la cellule suivante devraient être suffisants pour faire tout ce TP."
   ]
  },
  {
   "cell_type": "code",
   "execution_count": 2,
   "metadata": {
    "ExecuteTime": {
     "end_time": "2024-09-26T21:44:53.892275900Z",
     "start_time": "2024-09-26T21:44:50.424469Z"
    }
   },
   "outputs": [],
   "source": [
    "from tqdm import tqdm\n",
    "import gc\n",
    "\n",
    "import numpy as np\n",
    "import pandas as pd\n",
    "import matplotlib.pyplot as plt\n",
    "\n",
    "import torch\n",
    "import torch.nn as nn\n",
    "import torch.nn.functional as F\n",
    "import torch.optim as optim\n",
    "from torch.utils.data import DataLoader"
   ]
  },
  {
   "cell_type": "markdown",
   "metadata": {},
   "source": [
    "### 1. GloVe (10 Points)"
   ]
  },
  {
   "cell_type": "markdown",
   "metadata": {},
   "source": [
    "Dans ce TP, nous allons utiliser le modèle pré-entraîné GloVe qui crée des plongements lexicaux de mots."
   ]
  },
  {
   "cell_type": "markdown",
   "metadata": {},
   "source": [
    "#### 1.1 Chargement du modèle\n",
    "\n",
    "La cellule suivante permet charger le modèle GloVe pré-entraîné. Le chargement du modèle peut prendre quelques minutes."
   ]
  },
  {
   "cell_type": "code",
   "execution_count": 3,
   "metadata": {
    "ExecuteTime": {
     "end_time": "2024-09-26T12:42:21.840934100Z",
     "start_time": "2024-09-26T12:42:21.761905600Z"
    }
   },
   "outputs": [
    {
     "name": "stderr",
     "output_type": "stream",
     "text": [
      "'wget' n'est pas reconnu en tant que commande interne\n",
      "ou externe, un programme ex‚cutable ou un fichier de commandes.\n",
      "'unzip' n'est pas reconnu en tant que commande interne\n",
      "ou externe, un programme ex‚cutable ou un fichier de commandes.\n"
     ]
    }
   ],
   "source": [
    "# # Décommenter pour télécharger les GloVe embeddings à partir de https://nlp.stanford.edu/projects/glove/\n",
    "!wget http://nlp.stanford.edu/data/glove.42B.300d.zip -P /content\n",
    "!unzip /content/glove.42B.300d.zip -d /content"
   ]
  },
  {
   "cell_type": "code",
   "execution_count": 3,
   "metadata": {
    "ExecuteTime": {
     "end_time": "2024-09-26T21:44:58.459149200Z",
     "start_time": "2024-09-26T21:44:58.442191900Z"
    }
   },
   "outputs": [],
   "source": [
    "pretrained_model_path = 'glove.42B.300d.txt'\n",
    "\n",
    "data_root = 'data'\n",
    "\n",
    "train_synonyms_path = f\"{data_root}/train_synonyms.txt\"\n",
    "train_antonyms_path = f\"{data_root}/train_antonyms.txt\"\n",
    "\n",
    "eval_simlex = f'{data_root}/simlex_english.txt'"
   ]
  },
  {
   "cell_type": "code",
   "execution_count": 4,
   "metadata": {
    "ExecuteTime": {
     "end_time": "2024-09-26T21:44:59.336345600Z",
     "start_time": "2024-09-26T21:44:59.330576500Z"
    }
   },
   "outputs": [],
   "source": [
    "def load_word_vectors(filepath, vocab=None):\n",
    "    \"\"\"\n",
    "    Télécharge le modèle pré-entraîné de plongements de mots en pytorch\n",
    "    \"\"\"\n",
    "    word_to_index = {}\n",
    "    embeddings = []\n",
    "    index = 0\n",
    "    index_to_world = { }\n",
    "\n",
    "    with open(filepath, 'r', encoding='utf-8') as f:\n",
    "        for line in f:\n",
    "            split_line = line.split()\n",
    "            word = split_line[0]\n",
    "            if vocab is None or word in vocab:\n",
    "                embedding = np.array(split_line[1:], dtype=np.float32)\n",
    "                word_to_index[word] = index\n",
    "                embeddings.append(embedding)\n",
    "                index += 1\n",
    "    \n",
    "    embeddings = np.stack(embeddings)\n",
    "    embeddings = torch.from_numpy(embeddings)\n",
    "    return word_to_index, embeddings"
   ]
  },
  {
   "cell_type": "code",
   "execution_count": 5,
   "metadata": {
    "ExecuteTime": {
     "end_time": "2024-09-26T21:46:32.967419300Z",
     "start_time": "2024-09-26T21:45:00.398682800Z"
    }
   },
   "outputs": [],
   "source": [
    "word_to_index, embeddings = load_word_vectors(pretrained_model_path)"
   ]
  },
  {
   "cell_type": "markdown",
   "metadata": {},
   "source": [
    "#### 1.2 Implémentez la fonction `cosine_similarity` avec pytorch et sans utiliser `torch.nn.CosineSimilarity` (2 points)"
   ]
  },
  {
   "cell_type": "code",
   "execution_count": 127,
   "metadata": {
    "ExecuteTime": {
     "end_time": "2024-09-27T01:26:15.828920900Z",
     "start_time": "2024-09-27T01:26:15.800027900Z"
    }
   },
   "outputs": [],
   "source": [
    "def cosine_similarity(a, b):\n",
    "    \"\"\"\n",
    "    Calcule la matrice de similarité cosinus entre deux matrices\n",
    "\n",
    "    Args : \n",
    "        a   : torch.Tensor, shape=(n, d)\n",
    "        b   : torch.Tensor, shape=(m, d)\n",
    "\n",
    "    Returns:\n",
    "    torch.Tensor, shape=(n, m)\n",
    "    \"\"\"\n",
    "\n",
    "    a_norm = a / a.norm(dim=1, keepdim=True)\n",
    "    b_norm = b / b.norm(dim=1, keepdim=True)\n",
    "    \n",
    "    \n",
    "    return torch.mm(a_norm, b_norm.T)\n",
    "            \n",
    "            \n",
    "    \n",
    "    # TODO\n",
    "    # END TODO"
   ]
  },
  {
   "cell_type": "markdown",
   "metadata": {},
   "source": [
    "#### 1.3 Complétez la fonction `n_closest_vect` qui retourne les n mots les plus proches d'un mot donné. (5 points)\n",
    "\n",
    "`n_closest_vect` prendra en entrée la matrice des plongements `embeddings`, le dictionnaire de correspondance entre les mots et les indices `word_to_index`, le plongement d'un mot `word` et le nombre `n` de mots attendus. La fonction devra retourner la liste des mots dont les plongements sont les plus proches du vecteur de référence et leur similarité cosinus.\n",
    "\n",
    "C'est-à-dire les n mots avec lesquels le mot a la plus grande similarité cosinus. Utilisez la fonction `cosine_similarity` que vous venez d'implémenter."
   ]
  },
  {
   "cell_type": "code",
   "execution_count": 7,
   "metadata": {
    "ExecuteTime": {
     "end_time": "2024-09-26T21:51:20.676107Z",
     "start_time": "2024-09-26T21:51:20.664231200Z"
    }
   },
   "outputs": [],
   "source": [
    "def n_closest_vect(embeddings, word_to_index, word, n=5):\n",
    "    \"\"\"\n",
    "    Trouve les n mots les plus proches du vecteur donné et leur similarité\n",
    "\n",
    "    Args : \n",
    "        embeddings      : torch.Tensor, shape=(vocab_size, embedding_dim)\n",
    "        Matrice de plongement de tous les mots\n",
    "\n",
    "        word_to_index   : dict\n",
    "        Dictionnaire qui relie un mot à son index dans le vocabulaire\n",
    "\n",
    "        word            : torch.Tensor, shape=(embedding_dim,)\n",
    "        Plongement du mot dont on cherche les n mots les plus proches\n",
    "\n",
    "        n               : int, number of closest words to return\n",
    "        Nombre de mots à retourner\n",
    "\n",
    "    Returns:\n",
    "    Liste de tuple contenant les n mots les plus similaires avec leur coefficient\n",
    "    de similarité\n",
    "    \"\"\"\n",
    "    # TODO\n",
    "    similarities = cosine_similarity(word.unsqueeze(0), embeddings)\n",
    "    top_n_similarities, top_n_indices = torch.topk(similarities.squeeze(0), n)\n",
    "\n",
    "    closest_words = []\n",
    "    for i in range(n):\n",
    "        similar_word = list(word_to_index.keys())[top_n_indices[i].item()]\n",
    "        similarity = top_n_similarities[i].item()\n",
    "        closest_words.append((similar_word, similarity))\n",
    "\n",
    "    return closest_words\n",
    "    # END TODO\n",
    "    # END TODO"
   ]
  },
  {
   "cell_type": "code",
   "execution_count": 8,
   "metadata": {
    "ExecuteTime": {
     "end_time": "2024-09-26T21:51:22.593392200Z",
     "start_time": "2024-09-26T21:51:21.418424300Z"
    }
   },
   "outputs": [
    {
     "name": "stdout",
     "output_type": "stream",
     "text": [
      "[('morning', 0.9999999403953552), ('afternoon', 0.8665475249290466), ('evening', 0.7880069613456726), ('yesterday', 0.7614548802375793), ('sunday', 0.7548925280570984)]\n"
     ]
    }
   ],
   "source": [
    "# Exemple\n",
    "\n",
    "print(n_closest_vect(embeddings, word_to_index, embeddings[word_to_index['morning']]))"
   ]
  },
  {
   "cell_type": "markdown",
   "metadata": {},
   "source": [
    "Sortie attendue :\n",
    "```\n",
    "[('morning', 1.0), ('afternoon', 0.8665473461151123), ('evening', 0.7880070209503174), ('yesterday', 0.7614548206329346), ('sunday', 0.7548925876617432)]\n",
    "```"
   ]
  },
  {
   "cell_type": "markdown",
   "metadata": {},
   "source": [
    "#### 1.4 Quelle est la similarité cosinus entre 'fast' et 'slow' ? Entre 'fast' et 'rapid' ? Commentez les résultats et expliquez leur origine. (3 points)"
   ]
  },
  {
   "cell_type": "code",
   "execution_count": 9,
   "metadata": {
    "ExecuteTime": {
     "end_time": "2024-09-26T21:51:29.905017Z",
     "start_time": "2024-09-26T21:51:29.863821400Z"
    }
   },
   "outputs": [
    {
     "data": {
      "text/plain": "tensor([[0.6445]])"
     },
     "execution_count": 9,
     "metadata": {},
     "output_type": "execute_result"
    }
   ],
   "source": [
    "# TODO\n",
    "cosine_similarity(embeddings[word_to_index['fast']].unsqueeze(0) , embeddings[word_to_index['slow']].unsqueeze(0))\n",
    "\n",
    "cosine_similarity(embeddings[word_to_index['fast']].unsqueeze(0) , embeddings[word_to_index['rapid']].unsqueeze(0)) \n",
    "# END TODO"
   ]
  },
  {
   "cell_type": "markdown",
   "metadata": {},
   "source": [
    "### 2. Évaluation (12 Points)\n",
    "\n",
    "#### Données\n",
    "\n",
    "Les cellules qui suivent permettent de télécharger les données et de se restreindre au vocabulaire qui nous sera utile, pour éviter de charger des plongements inutiles.\n",
    "\n",
    "Comme décrit dans l'introduction, nous avons 3 fichiers de données:\n",
    "- Des paires de synonymes pour l'entraînement (`train_synonyms.txt`) \n",
    "- Des paires d'antonymes pour l'entraînement (`train_antonymms.txt`)\n",
    "- Des paires de mots avec leur similarité pour l'évaluation (`simlex_english.txt`)"
   ]
  },
  {
   "cell_type": "code",
   "execution_count": 10,
   "metadata": {
    "ExecuteTime": {
     "end_time": "2024-09-26T21:51:34.945220300Z",
     "start_time": "2024-09-26T21:51:34.934124800Z"
    }
   },
   "outputs": [],
   "source": [
    "def load_data(filepath):\n",
    "    \"\"\"\n",
    "    Télécharge les paires de synonymes et antonymes\n",
    "    \"\"\"\n",
    "    data = []\n",
    "    with open(filepath, 'r', encoding='utf-8') as f:\n",
    "        for line in f:\n",
    "            pair = line.strip().split()\n",
    "            assert pair[0].startswith('en_') and pair[1].startswith('en_')\n",
    "            data.append((pair[0][3:], pair[1][3:]))\n",
    "    return data\n",
    "\n",
    "def data_to_tensor(data, word_to_index):\n",
    "    indices = [word_to_index[word] for pair in data for word in pair if word in word_to_index]\n",
    "    return torch.tensor(indices).view(-1, 2)"
   ]
  },
  {
   "cell_type": "code",
   "execution_count": 11,
   "metadata": {
    "ExecuteTime": {
     "end_time": "2024-09-26T21:52:06.471111400Z",
     "start_time": "2024-09-26T21:51:39.413637800Z"
    }
   },
   "outputs": [],
   "source": [
    "# Données d'entraînement\n",
    "train_synonyms = load_data(train_synonyms_path)\n",
    "train_antonyms = load_data(train_antonyms_path)\n",
    "\n",
    "# Données d'évaluation\n",
    "evaluation_simlex = pd.read_csv(eval_simlex, sep='\\t') # pd dataframe with columns 'word 1', 'word 2', 'score'\n",
    "\n",
    "# On se restreint au vocabulaire qu'on va utiliser pour éviter de charger des embeddings inutiles\n",
    "vocab = set([word for pair in train_synonyms + train_antonyms for word in pair])\n",
    "eval_vocab = set(evaluation_simlex['word 1']).union(set(evaluation_simlex['word 2']))\n",
    "vocab.update(eval_vocab)\n",
    "\n",
    "glove_word_to_index, glove_embeddings = load_word_vectors(pretrained_model_path, vocab)"
   ]
  },
  {
   "cell_type": "markdown",
   "metadata": {},
   "source": [
    "#### 2.1 Observation du jeu de données SimLex-999. (2 points)\n",
    "\n",
    "Affichez l'histogramme de fréquence des scores de similarité dans le jeu de données SimLex-999. Utilisez `bins=40`. Votre axe des x doit représenter le score de similarité et votre axe des y doit représenter la fréquence. Comment interpréter un score de 0?"
   ]
  },
  {
   "cell_type": "code",
   "execution_count": 125,
   "metadata": {
    "ExecuteTime": {
     "end_time": "2024-09-27T01:24:57.061876600Z",
     "start_time": "2024-09-27T01:24:56.919294800Z"
    }
   },
   "outputs": [
    {
     "data": {
      "text/plain": "<Figure size 800x600 with 1 Axes>",
      "image/png": "[encoded data removed]"
     },
     "metadata": {},
     "output_type": "display_data"
    }
   ],
   "source": [
    "# TODO\n",
    "\n",
    "plt.figure(figsize=(8,6))\n",
    "plt.hist(evaluation_simlex['score'], bins=40, edgecolor='black')\n",
    "plt.xlabel('score')\n",
    "plt.ylabel('frequence')\n",
    "plt.title('fréquence des scores de similarité dans le jeu de données SimLex-999')\n",
    "plt.show()\n",
    "\n",
    "\n",
    "# END TODO"
   ]
  },
  {
   "cell_type": "markdown",
   "metadata": {},
   "source": [
    "#### 2.2 Corrélation de Spearman\n",
    "\n",
    "\n",
    "La corrélation de Spearman est une mesure de la relation monotone entre deux variables $x$ et $y$. Elle est comprise entre -1 et 1. Plutôt que de comparer les valeurs brutes des variables, elle compare leurs rangs. Elle est calculée comme suit :\n",
    "$$\\rho (x, y) = 1 - \\frac{6 \\sum_{i=1}^n (r_{x_i} - r_{y_i})^2}{n(n^2 - 1)}$$\n",
    "où $r_{x_i}$ est le rang de la i-ème valeur de la variable x, $r_{y_i}$ est le rang de la i-ème valeur de la variable y, $n$ est le nombre total de paires d'observations $(x, y)$.\n",
    "\n",
    "Les rangs sont attribués en ordonnant les valeurs de chaque variable du plus petit au plus grand. La plus petite valeur reçoit le rang 1, la suivante le rang 2, et ainsi de suite.\n",
    "\n",
    "##### Expliquez pourquoi on utilise la corrélation de Spearman plutôt que la corrélation entre les valeurs des variables. (3 points)\n"
   ]
  },
  {
   "cell_type": "markdown",
   "source": [
    "Ici on s'intéresse au rang des variables. La relation de Spearson s'intéresse à la relation linéaire entre les valeurs et non pas au rang. Ici nos données ne sont pas linéaires."
   ],
   "metadata": {
    "collapsed": false
   }
  },
  {
   "cell_type": "markdown",
   "metadata": {},
   "source": [
    "#### 2.3 Implémentation de la corrélation de Spearman (2 points)\n",
    "\n",
    "Complétez la fonction suivante pour calculer la corrélation de Spearman entre deux listes de valeurs."
   ]
  },
  {
   "cell_type": "code",
   "execution_count": 13,
   "metadata": {
    "ExecuteTime": {
     "end_time": "2024-09-26T21:52:06.880884900Z",
     "start_time": "2024-09-26T21:52:06.878371Z"
    }
   },
   "outputs": [],
   "source": [
    "def spearman_rank_correlation(x, y):\n",
    "    \"\"\"\n",
    "    Calcule la corrélation de Spearman entre deux listes de valeurs.\n",
    "\n",
    "    Args:\n",
    "        x   : list of float\n",
    "        y   : list of float\n",
    "\n",
    "    Returns:\n",
    "    La corrélation de Spearman entre les deux listes (float). \n",
    "    \"\"\"\n",
    "    \n",
    "    # TODO\n",
    "    x_df = pd.DataFrame(x, columns=['value'])\n",
    "    x_df['rank'] = x_df['value'].rank()\n",
    "   \n",
    "    \n",
    "    y_df = pd.DataFrame(y, columns=['value'])\n",
    "    y_df['rank'] = y_df['value'].rank()\n",
    "    \n",
    "    sum = 0\n",
    "    n  = len(x_df)\n",
    "    for i in range(n) : \n",
    "        sum += (x_df.iloc[i]['rank'] - y_df.iloc[i]['rank'])**2\n",
    "        \n",
    "    P = 1 - 6*(sum)/(n * (n**2 -1))\n",
    "    \n",
    "    return P\n",
    "        \n",
    "        \n",
    "    \n",
    "\n",
    "    # END TODO\n"
   ]
  },
  {
   "cell_type": "markdown",
   "metadata": {},
   "source": [
    "#### 2.4 Évaluation du modèle GloVe (2 points)\n",
    "\n",
    "\n",
    "Retrouvez les plongements du modèle GloVe de tous les mots du jeu de données SimLex-999, puis calculez la similarité cosinus entre les paires.\n",
    "\n",
    "Calculez ensuite la corrélation de Spearman entre les scores de simlex et les similarités cosinus obtenues et affichez-la."
   ]
  },
  {
   "cell_type": "code",
   "execution_count": 14,
   "metadata": {
    "ExecuteTime": {
     "end_time": "2024-09-26T21:52:33.881634200Z",
     "start_time": "2024-09-26T21:52:06.881886700Z"
    }
   },
   "outputs": [],
   "source": [
    "# TODO\n",
    "glove_word_to_index_simlex, glove_embeddings_simlex = load_word_vectors(pretrained_model_path, eval_vocab)\n",
    "\n",
    "# END TODO"
   ]
  },
  {
   "cell_type": "code",
   "execution_count": 15,
   "outputs": [],
   "source": [
    "dist_bet_pairs = cosine_similarity(glove_embeddings_simlex , glove_embeddings_simlex)"
   ],
   "metadata": {
    "collapsed": false,
    "ExecuteTime": {
     "end_time": "2024-09-26T21:52:33.897104700Z",
     "start_time": "2024-09-26T21:52:33.885279600Z"
    }
   }
  },
  {
   "cell_type": "code",
   "execution_count": 195,
   "outputs": [
    {
     "data": {
      "text/plain": "0.2916424109480221"
     },
     "execution_count": 195,
     "metadata": {},
     "output_type": "execute_result"
    }
   ],
   "source": [
    "\n",
    "\n",
    "l = []\n",
    "for row in evaluation_simlex.iterrows() : \n",
    "    #print(row[1]['word 1'])\n",
    "    index_1 = glove_word_to_index_simlex[row[1]['word 1']]\n",
    "    index_2 = glove_word_to_index_simlex[row[1]['word 2']]\n",
    "    l.append(dist_bet_pairs[index_1][index_2])\n",
    "    \n",
    "    \n",
    "l = [t.item() for t in l]\n",
    "\n",
    "    \n",
    "\n",
    "    \n",
    "spearman_rank_correlation(evaluation_simlex['score'].tolist() , l)\n",
    "    \n",
    "#dist_bet_pairs"
   ],
   "metadata": {
    "collapsed": false,
    "ExecuteTime": {
     "end_time": "2024-09-27T17:05:19.209019400Z",
     "start_time": "2024-09-27T17:05:19.001965200Z"
    }
   }
  },
  {
   "cell_type": "markdown",
   "metadata": {},
   "source": [
    "Résultat attendu: 0.29"
   ]
  },
  {
   "cell_type": "markdown",
   "metadata": {},
   "source": [
    "#### 2.5 Interprétation du résultat (3 points)\n",
    "\n",
    "Qu'est ce que ce nombre représente et que peut-on en conclure sur la qualité des plongements GloVe (2 conclusions) ?"
   ]
  },
  {
   "cell_type": "markdown",
   "source": [
    "Ce nombre représente le niveau de similarité entre Glove et Simlex mais que au niveau des rangs. Les plongements de Glove et de Simlex donnent des résultats différents."
   ],
   "metadata": {
    "collapsed": false
   }
  },
  {
   "cell_type": "markdown",
   "metadata": {},
   "source": [
    "### 3. Description de la méthode contrastive (33 Points)\n",
    "\n",
    "Nous allons maintenant implémenter une méthode contrastive de plongements de mots. Elle vise à améliorer les plongements lexicaux de mots en tenant compte des synonymes et antonymes. \n",
    "\n",
    "Notre modèle se basera simplement sur une matrice de plongements de mots, qui associe à chaque mot un vecteur de plongement.\n",
    "\n",
    "L'idée est d'entraîner ce modèle à rapprocher les plongements de synonymes et d'éloigner ceux d'antonymes.\n",
    "\n",
    "La cellule suivante définit le modèle et ses attributs."
   ]
  },
  {
   "cell_type": "code",
   "execution_count": 17,
   "metadata": {
    "ExecuteTime": {
     "end_time": "2024-09-26T21:52:34.045470600Z",
     "start_time": "2024-09-26T21:52:34.044796Z"
    }
   },
   "outputs": [],
   "source": [
    "class ContrastiveWordEmbeddingModel(nn.Module):\n",
    "    def __init__(self, embeddings, device='cpu', margin_plus=0.6, margin_minus=0., regularization=1e-9):\n",
    "        super(ContrastiveWordEmbeddingModel, self).__init__()\n",
    "        \n",
    "        self.device = device\n",
    "\n",
    "        # Hyperparamètres pour les fonctions de coût\n",
    "        self.margin_plus = margin_plus\n",
    "        self.margin_minus = margin_minus\n",
    "        self.regularization = regularization\n",
    "        \n",
    "        # Initialisation des plongements de mots\n",
    "        self.embeddings = nn.Embedding.from_pretrained(embeddings.detach().clone(), freeze=False).to(self.device)\n",
    "        self.original_embeddings = nn.Embedding.from_pretrained(embeddings.detach().clone(), freeze=True).to(self.device)\n"
   ]
  },
  {
   "cell_type": "markdown",
   "metadata": {},
   "source": [
    "#### 3.1 Création des négatifs\n",
    "\n",
    "Pendant l'entraînement, au lieu de traiter tout le jeu d'entraînement d'un coup, nous allons avoir des lots (batchs) de paires de synonymes $B_S$ et d'antonymes $B_A$.\n",
    "\n",
    "Dans un lot de synonymes, on définit le négatif d'un mot comme le mot du lot le plus proche qui n'est pas dans la même paire. Intuitivement, c'est le mot que le modèle devrait confondre le plus avec le synonyme. Similairement, dans un lot d'antonymes, on définit le négatif d'un mot comme le mot du lot le plus éloigné qui n'est pas dans la même paire.\n",
    "\n",
    "On répète ce processus pour chaque mot de chaque paire de synonymes et d'antonymes.\n",
    "\n",
    "*Attention, un mot peut apparaître plusieurs fois dans un lot avec des synonymes ou antonymes différents, et il ne peut être le négatif d'aucun de ses synonymes, ou antonymes.*\n",
    "\n",
    "##### 3.1.1 Exemple pour illustrer l'implémentation\n",
    "\n",
    "Prenons un exemple avec un lot $B_S$ de synonymes de taille 3. On veut construire le lot de négatifs $T_S$\n",
    "\n",
    "$B_S$:\n",
    "- (arbre, plante)\n",
    "- (voiture, véhicule)\n",
    "- (arbre, buisson)\n",
    "\n",
    "On a 5 mots uniques dans le lot: arbre, plante, voiture, véhicule, buisson. Supposons que la matrice de similarité cosinus soit la suivante :\n",
    "\n",
    "|       | arbre | plante | voiture | véhicule | buisson |\n",
    "|-------|-------|--------|--------|----------|---------|\n",
    "| arbre | 1     | 0.8    | 0.1    | 0.2      | 0.9     |\n",
    "| plante| 0.8   | 1      | 0.3    | 0.4      | 0.7     |\n",
    "| voiture| 0.1  | 0.3    | 1      | 0.9      | 0.2     |\n",
    "| véhicule| 0.2 | 0.4    | 0.9    | 1        | 0.3     |\n",
    "| buisson| 0.9  | 0.7    | 0.2    | 0.3      | 1       |\n",
    "\n",
    "\n",
    "On commence par calculer les voisins de chaque mot du lot $B_S$. Le voisin d'un mot $m$ est défini comme tout mot qui apparait dans au moins une paire avec $m$ dans $B_S$. Un mot est aussi considéré comme son propre voisin.\n",
    "\n",
    "- voisins de arbre : arbre, plante, buisson\n",
    "- voisins de plante : plante, arbre\n",
    "- voisins de voiture : voiture, véhicule\n",
    "- voisins de véhicule : véhicule, voiture\n",
    "- voisins de buisson : buisson, arbre\n",
    "\n",
    "Après avoir masqué les voisins, la matrice est :\n",
    "\n",
    "|       | arbre | plante | voiture | véhicule | buisson |\n",
    "|-------|-------|--------|--------|----------|---------|\n",
    "| arbre | -inf  | -inf   | 0.1    | 0.2      | -inf    |\n",
    "| plante| -inf  | -inf   | 0.3    | 0.4      | 0.7     |\n",
    "| voiture| 0.1  | 0.3    | -inf   | -inf     | 0.2     |\n",
    "| véhicule| 0.2 | 0.4    | -inf   | -inf     | 0.3     |\n",
    "| buisson| -inf | 0.7    | 0.2    | 0.3      | -inf    |\n",
    "\n",
    "Pour calculer les négatifs, on prend le maximum de chaque ligne (donc le mot le plus similaire qui n'est pas un voisin) :\n",
    "\n",
    "Ici,\n",
    "- le négatif d'arbre est véhicule\n",
    "- le négatif de plante est buisson\n",
    "- le négatif de voiture est plante\n",
    "- le négatif de véhicule est plante\n",
    "- le négatif de buisson est plante\n",
    "\n",
    "En reprenant le batch $B_S$:\n",
    "- (arbre, plante)\n",
    "- (voiture, véhicule)\n",
    "- (arbre, buisson)\n",
    "\n",
    "$T_S$ sera composé de paires composées du négatif de chaque élément de $B_S$ :\n",
    "\n",
    "$B_S$ -> $T_S$\n",
    "- (arbre, plante) $\\rightarrow$ (véhicule, buisson), car le négatif d'arbre est véhicule et le négatif de plante est buisson\n",
    "- (voiture, véhicule) $\\rightarrow$ (plante, plante), car le négatif de voiture est plante et le négatif de véhicule est plante\n",
    "- (arbre, buisson) $\\rightarrow$ (véhicule, plante), car le négatif d'arbre est véhicule et le négatif de buisson est plante\n",
    "\n",
    "$T_S$ sera donc : \n",
    "- (véhicule, buisson)\n",
    "- (plante, plante)\n",
    "- (véhicule, plante)"
   ]
  },
  {
   "cell_type": "markdown",
   "metadata": {},
   "source": [
    "##### 3.1.2 Implémentez la fonction `prepare_neighbors` qui renvoit la liste des voisins de chaque mot dans le lot. (4 points)\n",
    "\n",
    "Les voisins d'un mot $m$ sont tous les mots du lot qui apparaissent dans au moins une paire avec $m$. Utilisez les bons indices (indice dans la matrice d'embeddings et indice dans le lot). Le résultat est une liste de liste de voisins, où `neighbors[i]` est la liste des voisins du mot `i` dans le lot."
   ]
  },
  {
   "cell_type": "code",
   "execution_count": 309,
   "metadata": {
    "ExecuteTime": {
     "end_time": "2024-09-27T19:56:27.167656500Z",
     "start_time": "2024-09-27T19:56:27.014972200Z"
    }
   },
   "outputs": [],
   "source": [
    "def prepare_neighbors(index_pairs, unique_idx, index_to_idx):\n",
    "    \"\"\"\n",
    "    Prépare les voisins pour chaque mot dans les paires de mots.\n",
    "    \n",
    "    Args : \n",
    "        index_pairs     : torch.Tensor de seconde dimension 2\n",
    "        Tensor contenant les indices des embeddings des mots dans le vocabulaire. \n",
    "        Des indices qui sont reliés ensemble par une ligne dans ce tenseur ont \n",
    "        une relation sémantique entre eux (synonymes ou antonymes).\n",
    "\n",
    "        unique_idx      : set\n",
    "        Ensemble de tous les indices qui sont mentionnés dans la liste `index_pairs`.\n",
    "        \n",
    "        index_to_idx    : dict\n",
    "        Dictionnaire associant un indice mentionné dans `index_pairs` à son indice dans\n",
    "        la liste qui sera retournée. Par exemple, si dans ce dictionnaire, la clé 4 est\n",
    "        associée à la valeur 12, cela veut dire que les voisins du mot 4 dans le vocabulaire\n",
    "        seront retournés à l'indice 12 dans la liste de retour.\n",
    "\n",
    "    Returns:\n",
    "    Une liste où chaque élément est une liste des indices des voisins pour chaque mot (l'indice dans la liste correspond à l'indice unique).\n",
    "    \"\"\"\n",
    "    # TODO\n",
    "    neighbors = [[] for _ in range(max(index_to_idx.values()) + 1)]\n",
    "    \n",
    "    word_pairs = index_pairs.tolist()\n",
    "    #print(word_pairs)\n",
    "    for word1, word2 in word_pairs:\n",
    "        idx1 = index_to_idx[word1]\n",
    "        idx2 = index_to_idx[word2]\n",
    "        \n",
    "        \n",
    "        neighbors[idx1].append(idx1)\n",
    "        neighbors[idx1].append(idx2)\n",
    "        \n",
    "        neighbors[idx2].append(idx2)\n",
    "        neighbors[idx2].append(idx1)\n",
    "\n",
    "   \n",
    "\n",
    "    return neighbors\n",
    "    \n",
    "    # END TODO"
   ]
  },
  {
   "cell_type": "code",
   "execution_count": 199,
   "metadata": {
    "ExecuteTime": {
     "end_time": "2024-09-27T17:07:15.722820Z",
     "start_time": "2024-09-27T17:07:15.704625200Z"
    }
   },
   "outputs": [
    {
     "name": "stdout",
     "output_type": "stream",
     "text": [
      "{0, 4, 53, 12, 31}\n",
      "5\n",
      "0\n",
      "2\n",
      "2\n",
      "3\n",
      "4\n",
      "1\n",
      "[[0, 2], [1, 4], [2, 0, 2, 3], [3, 2], [4, 1]]\n"
     ]
    }
   ],
   "source": [
    "# Exemple\n",
    "\n",
    "index_pairs = torch.tensor([[0, 12], [12, 31], [53, 4]])\n",
    "unique_idx = {0, 4, 12, 31, 53}\n",
    "index_to_idx = {0: 0, 4: 1, 12: 2, 31: 3, 53: 4}\n",
    "print(prepare_neighbors(index_pairs, unique_idx, index_to_idx))\n"
   ]
  },
  {
   "cell_type": "code",
   "execution_count": 167,
   "outputs": [
    {
     "data": {
      "text/plain": "{'do': 0,\n 'new': 1,\n 'get': 2,\n 'people': 3,\n 'make': 4,\n 'home': 5,\n 'know': 6,\n 'day': 7,\n 'great': 8,\n 'way': 9,\n 'year': 10,\n 'think': 11,\n 'go': 12,\n 'find': 13,\n 'world': 14,\n 'information': 15,\n 'want': 16,\n 'right': 17,\n 'take': 18,\n 'business': 19,\n 'game': 20,\n 'read': 21,\n 'long': 22,\n 'school': 23,\n 'state': 24,\n 'news': 25,\n 'say': 26,\n 'top': 27,\n 'page': 28,\n 'please': 29,\n 'come': 30,\n 'big': 31,\n 'music': 32,\n 'company': 33,\n 'book': 34,\n 'old': 35,\n 'house': 36,\n 'man': 37,\n 'different': 38,\n 'week': 39,\n 'sure': 40,\n 'give': 41,\n 'car': 42,\n 'area': 43,\n 'buy': 44,\n 'money': 45,\n 'water': 46,\n 'keep': 47,\n 'put': 48,\n 'might': 49,\n 'order': 50,\n 'second': 51,\n 'night': 52,\n 'room': 53,\n 'god': 54,\n 'add': 55,\n 'hotel': 56,\n 'job': 57,\n 'date': 58,\n 'course': 59,\n 'hard': 60,\n 'try': 61,\n 'side': 62,\n 'body': 63,\n 'easy': 64,\n 'story': 65,\n 'large': 66,\n 'person': 67,\n 'men': 68,\n 'important': 69,\n 'size': 70,\n 'air': 71,\n 'south': 72,\n 'nice': 73,\n 'management': 74,\n 'party': 75,\n 'north': 76,\n 'law': 77,\n 'bad': 78,\n 'head': 79,\n 'fun': 80,\n 'movie': 81,\n 'young': 82,\n 'season': 83,\n 'article': 84,\n 'hand': 85,\n 'fact': 86,\n 'become': 87,\n 'believe': 88,\n 'street': 89,\n 'west': 90,\n 'code': 91,\n 'college': 92,\n 'class': 93,\n 'card': 94,\n 'august': 95,\n 'value': 96,\n 'beautiful': 97,\n 'song': 98,\n 'film': 99,\n 'learn': 100,\n 'happy': 101,\n 'short': 102,\n 'create': 103,\n 'computer': 104,\n 'heart': 105,\n 'girl': 106,\n 'image': 107,\n 'child': 108,\n 'month': 109,\n 'president': 110,\n 'save': 111,\n 'idea': 112,\n 'style': 113,\n 'action': 114,\n 'age': 115,\n 'club': 116,\n 'box': 117,\n 'baby': 118,\n 'church': 119,\n 'industry': 120,\n 'key': 121,\n 'enjoy': 122,\n 'simple': 123,\n 'ask': 124,\n 'friend': 125,\n 'send': 126,\n 'word': 127,\n 'leave': 128,\n 'beach': 129,\n 'oil': 130,\n 'woman': 131,\n 'summer': 132,\n 'win': 133,\n 'paper': 134,\n 'meet': 135,\n 'understand': 136,\n 'death': 137,\n 'bring': 138,\n 'guy': 139,\n 'morning': 140,\n 'science': 141,\n 'couple': 142,\n 'recent': 143,\n 'sun': 144,\n 'dog': 145,\n 'tax': 146,\n 'interest': 147,\n 'cheap': 148,\n 'fast': 149,\n 'choose': 150,\n 'band': 151,\n 'author': 152,\n 'text': 153,\n 'join': 154,\n 'student': 155,\n 'choice': 156,\n 'strong': 157,\n 'mother': 158,\n 'bar': 159,\n 'hear': 160,\n 'king': 161,\n 'door': 162,\n 'certain': 163,\n 'safety': 164,\n 'wall': 165,\n 'bed': 166,\n 'language': 167,\n 'build': 168,\n 'sense': 169,\n 'lake': 170,\n 'huge': 171,\n 'society': 172,\n 'son': 173,\n 'engine': 174,\n 'wide': 175,\n 'manager': 176,\n 'allow': 177,\n 'blood': 178,\n 'modern': 179,\n 'island': 180,\n 'river': 181,\n 'seem': 182,\n 'quick': 183,\n 'father': 184,\n 'machine': 185,\n 'wife': 186,\n 'receive': 187,\n 'camera': 188,\n 'weather': 189,\n 'football': 190,\n 'apple': 191,\n 'wonderful': 192,\n 'cell': 193,\n 'agree': 194,\n 'weekend': 195,\n 'glass': 196,\n 'floor': 197,\n 'boy': 198,\n 'trip': 199,\n 'garden': 200,\n 'ball': 201,\n 'construction': 202,\n 'pain': 203,\n 'sell': 204,\n 'cancer': 205,\n 'fashion': 206,\n 'attention': 207,\n 'eye': 208,\n 'cup': 209,\n 'kitchen': 210,\n 'ability': 211,\n 'difficult': 212,\n 'funny': 213,\n 'metal': 214,\n 'region': 215,\n 'fresh': 216,\n 'activity': 217,\n 'bag': 218,\n 'necessary': 219,\n 'sea': 220,\n 'happen': 221,\n 'window': 222,\n 'hospital': 223,\n 'topic': 224,\n 'beauty': 225,\n 'valley': 226,\n 'normal': 227,\n 'vehicle': 228,\n 'wood': 229,\n 'goal': 230,\n 'hall': 231,\n 'wine': 232,\n 'adult': 233,\n 'winter': 234,\n 'hill': 235,\n 'ice': 236,\n 'tree': 237,\n 'enter': 238,\n 'situation': 239,\n 'bottom': 240,\n 'discussion': 241,\n 'journal': 242,\n 'spend': 243,\n 'coffee': 244,\n 'letter': 245,\n 'recommend': 246,\n 'airport': 247,\n 'condition': 248,\n 'disease': 249,\n 'doctor': 250,\n 'begin': 251,\n 'mountain': 252,\n 'self': 253,\n 'century': 254,\n 'driver': 255,\n 'peace': 256,\n 'button': 257,\n 'capital': 258,\n 'income': 259,\n 'chapter': 260,\n 'birthday': 261,\n 'daughter': 262,\n 'listen': 263,\n 'cat': 264,\n 'husband': 265,\n 'opinion': 266,\n 'administration': 267,\n 'guitar': 268,\n 'lose': 269,\n 'heavy': 270,\n 'require': 271,\n 'avoid': 272,\n 'evening': 273,\n 'effort': 274,\n 'speak': 275,\n 'breakfast': 276,\n 'animal': 277,\n 'communication': 278,\n 'lady': 279,\n 'theme': 280,\n 'leader': 281,\n 'dinner': 282,\n 'friendly': 283,\n 'furniture': 284,\n 'spirit': 285,\n 'movement': 286,\n 'brother': 287,\n 'chief': 288,\n 'grow': 289,\n 'population': 290,\n 'guest': 291,\n 'teacher': 292,\n 'target': 293,\n 'battle': 294,\n 'television': 295,\n 'minute': 296,\n 'reality': 297,\n 'diet': 298,\n 'army': 299,\n 'flight': 300,\n 'menu': 301,\n 'tea': 302,\n 'compare': 303,\n 'protect': 304,\n 'pet': 305,\n 'foot': 306,\n 'coast': 307,\n 'agreement': 308,\n 'camp': 309,\n 'payment': 310,\n 'carry': 311,\n 'forget': 312,\n 'brain': 313,\n 'appear': 314,\n 'crazy': 315,\n 'reduce': 316,\n 'kill': 317,\n 'smart': 318,\n 'justice': 319,\n 'trial': 320,\n 'bedroom': 321,\n 'log': 322,\n 'bush': 323,\n 'glad': 324,\n 'medium': 325,\n 'kid': 326,\n 'partner': 327,\n 'motor': 328,\n 'horse': 329,\n 'chicken': 330,\n 'chocolate': 331,\n 'snow': 332,\n 'bus': 333,\n 'corner': 334,\n 'essential': 335,\n 'bridge': 336,\n 'apartment': 337,\n 'boat': 338,\n 'inn': 339,\n 'pair': 340,\n 'zone': 341,\n 'theory': 342,\n 'imagine': 343,\n 'strength': 344,\n 'accept': 345,\n 'vision': 346,\n 'concept': 347,\n 'surgery': 348,\n 'emergency': 349,\n 'sugar': 350,\n 'discuss': 351,\n 'basketball': 352,\n 'soul': 353,\n 'gun': 354,\n 'chair': 355,\n 'plenty': 356,\n 'bowl': 357,\n 'mouth': 358,\n 'comfort': 359,\n 'grade': 360,\n 'bath': 361,\n 'luck': 362,\n 'remain': 363,\n 'decide': 364,\n 'proper': 365,\n 'fee': 366,\n 'bible': 367,\n 'diamond': 368,\n 'iron': 369,\n 'rain': 370,\n 'inch': 371,\n 'baseball': 372,\n 'lunch': 373,\n 'crime': 374,\n 'determine': 375,\n 'minister': 376,\n 'salt': 377,\n 'corporation': 378,\n 'writer': 379,\n 'attorney': 380,\n 'professor': 381,\n 'queen': 382,\n 'bathroom': 383,\n 'beer': 384,\n 'proud': 385,\n 'definition': 386,\n 'task': 387,\n 'reader': 388,\n 'explain': 389,\n 'dad': 390,\n 'realize': 391,\n 'rare': 392,\n 'sky': 393,\n 'journey': 394,\n 'milk': 395,\n 'winner': 396,\n 'tough': 397,\n 'telephone': 398,\n 'plate': 399,\n 'clothes': 400,\n 'ocean': 401,\n 'sad': 402,\n 'cheese': 403,\n 'achieve': 404,\n 'stupid': 405,\n 'moon': 406,\n 'fox': 407,\n 'arm': 408,\n 'discover': 409,\n 'presence': 410,\n 'alcohol': 411,\n 'flower': 412,\n 'hole': 413,\n 'calendar': 414,\n 'fabric': 415,\n 'bottle': 416,\n 'crystal': 417,\n 'bird': 418,\n 'deliver': 419,\n 'planet': 420,\n 'wire': 421,\n 'employee': 422,\n 'sick': 423,\n 'ancient': 424,\n 'manner': 425,\n 'explore': 426,\n 'cotton': 427,\n 'replace': 428,\n 'fantasy': 429,\n 'meat': 430,\n 'rice': 431,\n 'neck': 432,\n 'parent': 433,\n 'hat': 434,\n 'accident': 435,\n 'secretary': 436,\n 'factory': 437,\n 'victory': 438,\n 'dollar': 439,\n 'conversation': 440,\n 'joy': 441,\n 'tiny': 442,\n 'obvious': 443,\n 'carbon': 444,\n 'confidence': 445,\n 'disc': 446,\n 'lawyer': 447,\n 'attend': 448,\n 'cloud': 449,\n 'stream': 450,\n 'leg': 451,\n 'strange': 452,\n 'highway': 453,\n 'storm': 454,\n 'honest': 455,\n 'ray': 456,\n 'newspaper': 457,\n 'mouse': 458,\n 'noise': 459,\n 'border': 460,\n 'candidate': 461,\n 'bread': 462,\n 'fail': 463,\n 'argument': 464,\n 'lens': 465,\n 'era': 466,\n 'belt': 467,\n 'crowd': 468,\n 'meal': 469,\n 'intelligence': 470,\n 'bunch': 471,\n 'muscle': 472,\n 'obtain': 473,\n 'prove': 474,\n 'proof': 475,\n 'bell': 476,\n 'dirty': 477,\n 'tower': 478,\n 'illegal': 479,\n 'passion': 480,\n 'fiction': 481,\n 'roof': 482,\n 'palm': 483,\n 'saint': 484,\n 'literature': 485,\n 'earn': 486,\n 'hero': 487,\n 'butter': 488,\n 'encourage': 489,\n 'sauce': 490,\n 'depth': 491,\n 'teeth': 492,\n 'turkey': 493,\n 'jacket': 494,\n 'participate': 495,\n 'captain': 496,\n 'yard': 497,\n 'mad': 498,\n 'shoulder': 499,\n 'threat': 500,\n 'navy': 501,\n 'universe': 502,\n 'weird': 503,\n 'awareness': 504,\n 'root': 505,\n 'afraid': 506,\n 'actor': 507,\n 'prince': 508,\n 'plane': 509,\n 'cent': 510,\n 'occur': 511,\n 'monster': 512,\n 'coat': 513,\n 'deck': 514,\n 'atmosphere': 515,\n 'maker': 516,\n 'oak': 517,\n 'gate': 518,\n 'assume': 519,\n 'formula': 520,\n 'chest': 521,\n 'scheme': 522,\n 'bone': 523,\n 'skill': 524,\n 'flexible': 525,\n 'hang': 526,\n 'juice': 527,\n 'pot': 528,\n 'sharp': 529,\n 'pride': 530,\n 'champion': 531,\n 'singer': 532,\n 'candy': 533,\n 'wealth': 534,\n 'hip': 535,\n 'expand': 536,\n 'broad': 537,\n 'grass': 538,\n 'carpet': 539,\n 'salary': 540,\n 'collect': 541,\n 'costume': 542,\n 'princess': 543,\n 'seed': 544,\n 'nose': 545,\n 'attitude': 546,\n 'mayor': 547,\n 'pilot': 548,\n 'finger': 549,\n 'ignore': 550,\n 'exit': 551,\n 'aluminum': 552,\n 'decade': 553,\n 'terrible': 554,\n 'logic': 555,\n 'celebration': 556,\n 'honey': 557,\n 'dictionary': 558,\n 'nurse': 559,\n 'angle': 560,\n 'ceremony': 561,\n 'pearl': 562,\n 'loop': 563,\n 'angry': 564,\n 'formal': 565,\n 'engagement': 566,\n 'arrive': 567,\n 'appointment': 568,\n 'salad': 569,\n 'infection': 570,\n 'guilty': 571,\n 'drum': 572,\n 'odd': 573,\n 'pray': 574,\n 'rail': 575,\n 'narrow': 576,\n 'mood': 577,\n 'rod': 578,\n 'beef': 579,\n 'soup': 580,\n 'belief': 581,\n 'pipe': 582,\n 'wisdom': 583,\n 'knife': 584,\n 'globe': 585,\n 'instrument': 586,\n 'ceiling': 587,\n 'vitamin': 588,\n 'rapid': 589,\n 'rough': 590,\n 'jet': 591,\n 'quit': 592,\n 'quest': 593,\n 'classroom': 594,\n 'basket': 595,\n 'danger': 596,\n 'blade': 597,\n 'pie': 598,\n 'insight': 599,\n 'happiness': 600,\n 'essay': 601,\n 'fraud': 602,\n 'confident': 603,\n 'psychology': 604,\n 'shame': 605,\n 'fame': 606,\n 'intelligent': 607,\n 'employer': 608,\n 'knee': 609,\n 'bench': 610,\n 'tail': 611,\n 'shore': 612,\n 'lemon': 613,\n 'trick': 614,\n 'engage': 615,\n 'dirt': 616,\n 'illness': 617,\n 'devil': 618,\n 'container': 619,\n 'deserve': 620,\n 'communicate': 621,\n 'nail': 622,\n 'destroy': 623,\n 'actress': 624,\n 'dawn': 625,\n 'worker': 626,\n 'poverty': 627,\n 'announce': 628,\n 'creator': 629,\n 'stomach': 630,\n 'biography': 631,\n 'difficulty': 632,\n 'jail': 633,\n 'cloth': 634,\n 'symbol': 635,\n 'bold': 636,\n 'biology': 637,\n 'physician': 638,\n 'chemistry': 639,\n 'harm': 640,\n 'impression': 641,\n 'restore': 642,\n 'argue': 643,\n 'locate': 644,\n 'crucial': 645,\n 'buddy': 646,\n 'destruction': 647,\n 'tongue': 648,\n 'bride': 649,\n 'bull': 650,\n 'bishop': 651,\n 'lion': 652,\n 'cottage': 653,\n 'lover': 654,\n 'uncle': 655,\n 'anger': 656,\n 'coal': 657,\n 'phrase': 658,\n 'sunset': 659,\n 'defend': 660,\n 'theft': 661,\n 'parade': 662,\n 'violent': 663,\n 'flour': 664,\n 'instructor': 665,\n 'hurricane': 666,\n 'gather': 667,\n 'canyon': 668,\n 'soldier': 669,\n 'absence': 670,\n 'cord': 671,\n 'succeed': 672,\n 'squad': 673,\n 'liver': 674,\n 'criticism': 675,\n 'dumb': 676,\n 'orchestra': 677,\n 'brick': 678,\n 'overcome': 679,\n 'apparent': 680,\n 'bicycle': 681,\n 'throat': 682,\n 'bubble': 683,\n 'steal': 684,\n 'belly': 685,\n 'shelter': 686,\n 'cabin': 687,\n 'fence': 688,\n 'guardian': 689,\n 'paragraph': 690,\n 'wheat': 691,\n 'acquire': 692,\n 'maple': 693,\n 'evaluate': 694,\n 'awful': 695,\n 'flu': 696,\n 'examine': 697,\n 'meter': 698,\n 'remind': 699,\n 'lip': 700,\n 'curve': 701,\n 'aviation': 702,\n 'capability': 703,\n 'bean': 704,\n 'sunshine': 705,\n 'beast': 706,\n 'inform': 707,\n 'warrior': 708,\n 'flesh': 709,\n 'gauge': 710,\n 'tobacco': 711,\n 'assignment': 712,\n 'sheep': 713,\n 'exotic': 714,\n 'potato': 715,\n 'tear': 716,\n 'bacon': 717,\n 'booth': 718,\n 'toe': 719,\n 'marijuana': 720,\n 'pursue': 721,\n 'generous': 722,\n 'accomplish': 723,\n 'fever': 724,\n 'investigate': 725,\n 'advise': 726,\n 'priest': 727,\n 'bee': 728,\n 'tooth': 729,\n 'reflection': 730,\n 'profession': 731,\n 'chapel': 732,\n 'pollution': 733,\n 'violation': 734,\n 'confusion': 735,\n 'cocktail': 736,\n 'arrange': 737,\n 'closet': 738,\n 'sheriff': 739,\n 'companion': 740,\n 'arrow': 741,\n 'sandwich': 742,\n 'clever': 743,\n 'chaos': 744,\n 'opponent': 745,\n 'organize': 746,\n 'notify': 747,\n 'cage': 748,\n 'scientist': 749,\n 'waist': 750,\n 'thumb': 751,\n 'vessel': 752,\n 'rhythm': 753,\n 'cousin': 754,\n 'barn': 755,\n 'verify': 756,\n 'taxi': 757,\n 'perception': 758,\n 'rabbit': 759,\n 'deny': 760,\n 'hose': 761,\n 'cow': 762,\n 'couch': 763,\n 'cab': 764,\n 'retain': 765,\n 'sofa': 766,\n 'jar': 767,\n 'cliff': 768,\n 'anchor': 769,\n 'satisfy': 770,\n 'clue': 771,\n 'insane': 772,\n 'organ': 773,\n 'complain': 774,\n 'dentist': 775,\n 'lung': 776,\n 'tin': 777,\n 'lamb': 778,\n 'blanket': 779,\n 'victor': 780,\n 'balloon': 781,\n 'horn': 782,\n 'marry': 783,\n 'rat': 784,\n 'mud': 785,\n 'possess': 786,\n 'cigarette': 787,\n 'harsh': 788,\n 'terrific': 789,\n 'inexpensive': 790,\n 'purse': 791,\n 'emotion': 792,\n 'steak': 793,\n 'cop': 794,\n 'nerve': 795,\n 'wrist': 796,\n 'cattle': 797,\n 'tragedy': 798,\n 'analyze': 799,\n 'bulb': 800,\n 'kidney': 801,\n 'polyester': 802,\n 'cathedral': 803,\n 'beverage': 804,\n 'stud': 805,\n 'acknowledge': 806,\n 'spine': 807,\n 'unnecessary': 808,\n 'ankle': 809,\n 'aunt': 810,\n 'breathe': 811,\n 'fur': 812,\n 'motel': 813,\n 'bias': 814,\n 'divide': 815,\n 'composer': 816,\n 'choir': 817,\n 'fog': 818,\n 'predict': 819,\n 'differ': 820,\n 'attach': 821,\n 'forgive': 822,\n 'gossip': 823,\n 'justify': 824,\n 'modest': 825,\n 'bizarre': 826,\n 'equation': 827,\n 'sweater': 828,\n 'decoration': 829,\n 'champagne': 830,\n 'appliance': 831,\n 'drawer': 832,\n 'delightful': 833,\n 'curtain': 834,\n 'linen': 835,\n 'spoon': 836,\n 'pretend': 837,\n 'ignorance': 838,\n 'construct': 839,\n 'moss': 840,\n 'reject': 841,\n 'frustration': 842,\n 'violin': 843,\n 'herb': 844,\n 'sunrise': 845,\n 'wagon': 846,\n 'gentleman': 847,\n 'timber': 848,\n 'elevator': 849,\n 'goat': 850,\n 'melody': 851,\n 'grief': 852,\n 'glove': 853,\n 'declare': 854,\n 'boundary': 855,\n 'reef': 856,\n 'mechanic': 857,\n 'demon': 858,\n 'anatomy': 859,\n 'disappear': 860,\n 'denial': 861,\n 'abundance': 862,\n 'hawk': 863,\n 'alley': 864,\n 'triumph': 865,\n 'elbow': 866,\n 'dull': 867,\n 'laden': 868,\n 'conclude': 869,\n 'owe': 870,\n 'vinegar': 871,\n 'cannon': 872,\n 'maid': 873,\n 'elastic': 874,\n 'borrow': 875,\n 'cruel': 876,\n 'liquor': 877,\n 'burial': 878,\n 'elegance': 879,\n 'mob': 880,\n 'illusion': 881,\n 'straw': 882,\n 'anxious': 883,\n 'gut': 884,\n 'clarify': 885,\n 'politician': 886,\n 'jaw': 887,\n 'dense': 888,\n 'crib': 889,\n 'groom': 890,\n 'magnitude': 891,\n 'entertain': 892,\n 'unhappy': 893,\n 'cone': 894,\n 'lend': 895,\n 'verdict': 896,\n 'cigar': 897,\n 'colonel': 898,\n 'charcoal': 899,\n 'violet': 900,\n 'dominate': 901,\n 'cereal': 902,\n 'prey': 903,\n 'mustard': 904,\n 'cardboard': 905,\n 'absorb': 906,\n 'shrink': 907,\n 'atom': 908,\n 'endurance': 909,\n 'carriage': 910,\n 'elect': 911,\n 'behave': 912,\n 'rabbi': 913,\n 'withdraw': 914,\n 'cheek': 915,\n 'fragile': 916,\n 'mist': 917,\n 'hut': 918,\n 'polite': 919,\n 'legion': 920,\n 'fury': 921,\n 'ashamed': 922,\n 'corridor': 923,\n 'foolish': 924,\n 'banker': 925,\n 'monk': 926,\n 'sailor': 927,\n 'sickness': 928,\n 'vein': 929,\n 'insect': 930,\n 'ant': 931,\n 'supper': 932,\n 'noticeable': 933,\n 'obey': 934,\n 'beg': 935,\n 'sorrow': 936,\n 'prestige': 937,\n 'despair': 938,\n 'nephew': 939,\n 'misery': 940,\n 'greet': 941,\n 'whiskey': 942,\n 'cradle': 943,\n 'mare': 944,\n 'calf': 945,\n 'confession': 946,\n 'inspect': 947,\n 'helper': 948,\n 'aggression': 949,\n 'hallway': 950,\n 'colt': 951,\n 'inquire': 952,\n 'wander': 953,\n 'competence': 954,\n 'comprehend': 955,\n 'aisle': 956,\n 'swamp': 957,\n 'cheerful': 958,\n 'hen': 959,\n 'archbishop': 960,\n 'circumstance': 961,\n 'cellar': 962,\n 'molecule': 963,\n 'brandy': 964,\n 'limb': 965,\n 'cooperate': 966,\n 'persuade': 967,\n 'choke': 968,\n 'multiply': 969,\n 'conquest': 970,\n 'appoint': 971,\n 'restless': 972,\n 'scarce': 973,\n 'temper': 974,\n 'haze': 975,\n 'gin': 976,\n 'marrow': 977,\n 'abdomen': 978,\n 'intuition': 979,\n 'ballad': 980,\n 'cherish': 981,\n 'dusk': 982,\n 'pupil': 983,\n 'heroine': 984,\n 'portray': 985,\n 'hound': 986,\n 'doorway': 987,\n 'brow': 988,\n 'agony': 989,\n 'childish': 990,\n 'catastrophe': 991,\n 'hymn': 992,\n 'pact': 993,\n 'discourage': 994,\n 'fraternity': 995,\n 'anarchy': 996,\n 'ledge': 997,\n 'contemplate': 998,\n 'immoral': 999,\n ...}"
     },
     "execution_count": 167,
     "metadata": {},
     "output_type": "execute_result"
    }
   ],
   "source": [
    "glove_word_to_index_simlex"
   ],
   "metadata": {
    "collapsed": false,
    "ExecuteTime": {
     "end_time": "2024-09-27T16:43:37.462451500Z",
     "start_time": "2024-09-27T16:43:37.430791800Z"
    }
   }
  },
  {
   "cell_type": "code",
   "execution_count": 168,
   "outputs": [
    {
     "data": {
      "text/plain": "13863"
     },
     "execution_count": 168,
     "metadata": {},
     "output_type": "execute_result"
    }
   ],
   "source": [],
   "metadata": {
    "collapsed": false,
    "ExecuteTime": {
     "end_time": "2024-09-27T16:43:52.136287400Z",
     "start_time": "2024-09-27T16:43:52.089473100Z"
    }
   }
  },
  {
   "cell_type": "markdown",
   "metadata": {},
   "source": [
    "Réponse attendue\n",
    "\n",
    "`[[0, 2], [1, 4], [2, 0, 2, 3], [3, 2], [4, 1]]`"
   ]
  },
  {
   "cell_type": "markdown",
   "metadata": {},
   "source": [
    "##### 3.1.3 Implémentez la fonction `select_negatives` qui renvoit un dictionnaire qui associe à chaque élément son négatif. (4 points)\n",
    "\n",
    "Pour chaque élément du lot, on cherche le voisin le plus proche qui n'est pas le voisin de l'autre élément de la paire.\n",
    "\n",
    "Utilisez un masque pour cacher, dans la matrice de similarité, les voisins.\n",
    "\n",
    "La fonction utilise un paramètre `synonym` qui indique si on travaille sur un lot de synonymes ou d'antonymes. En cas de synonymes, on cherche le voisin le plus proche qui n'est pas un voisin de l'autre élément de la paire. En cas d'antonymes, on cherche le voisin le plus éloigné qui n'est pas un voisin de l'autre élément de la paire."
   ]
  },
  {
   "cell_type": "code",
   "execution_count": 275,
   "metadata": {
    "ExecuteTime": {
     "end_time": "2024-09-27T18:07:23.716867500Z",
     "start_time": "2024-09-27T18:07:23.698673Z"
    }
   },
   "outputs": [],
   "source": [
    "def select_negatives(indices, similarity_matrix, neighbors, synonym=True):\n",
    "    \"\"\"\n",
    "    Sélectionne les exemples négatifs à partir de la matrice de similarité et des voisins.\n",
    "\n",
    "    Args : \n",
    "        indices             : torch.Tensor (vocab_size)\n",
    "        Indices des mots présents dans le vocabulaires\n",
    "        \n",
    "        similarity_matrix   : torch.Tensor (vocab_size, vocab_size)\n",
    "        Matrice de similarité entre tous les mots présents dans le vocabulaire.\n",
    "        \n",
    "        neighbors           : list of lists\n",
    "        Liste des voisins de chaque mot. Par exemple, le premier élément de la liste\n",
    "        contiendra tous les voisins du mot 0 dans le vocabulaire.\n",
    "\n",
    "        synonym             : bool, optional (default=True)\n",
    "        Indique si l'on cherche des négatifs pour les synonymes (True) ou pour les antonymes (False).\n",
    "\n",
    "    Returns:\n",
    "    Dictionnaire mappant les mots avec leurs indices de négatifs {mot_index: négatif_index}.\n",
    "    \"\"\"\n",
    "    # TODO HINT: Utilisez un mask pour ignorer les voisins\n",
    "    negatives = {}\n",
    "    for i , row in enumerate(similarity_matrix) : \n",
    "        neighbor = neighbors[i]\n",
    "        \n",
    "        longest_dist = float('-inf')\n",
    "        shortest_dist = float('+inf')\n",
    "        for j,val in enumerate(row) : \n",
    "            if  indices[j] not in neighbors[indices[i]] and similarity_matrix[i][j] > longest_dist and synonym : \n",
    "                negatif = indices[j].item()\n",
    "                longest_dist = similarity_matrix[i][j]\n",
    "            elif  indices[j] not in neighbors[indices[i]] and similarity_matrix[i][j] < shortest_dist and not synonym : \n",
    "                negatif = indices[j].item()\n",
    "                shortest_dist = similarity_matrix[i][j]\n",
    "        negatives[indices[i].item()] = negatif\n",
    "        \n",
    "    return negatives\n",
    "        \n",
    "    \n",
    "    # END TODO"
   ]
  },
  {
   "cell_type": "code",
   "execution_count": 307,
   "metadata": {
    "ExecuteTime": {
     "end_time": "2024-09-27T19:55:36.071031500Z",
     "start_time": "2024-09-27T19:55:34.717095800Z"
    }
   },
   "outputs": [
    {
     "name": "stdout",
     "output_type": "stream",
     "text": [
      "{0: 1, 1: 3, 2: 4, 3: 1, 4: 2}\n"
     ]
    }
   ],
   "source": [
    "# Exemple\n",
    "\n",
    "indices = torch.tensor([0, 1, 2, 3, 4])\n",
    "neighbors = [[0, 2], [1, 4], [2, 0, 2, 3], [3, 2], [4, 1]]\n",
    "\n",
    "similarity_matrix = torch.tensor([\n",
    "    [ 1.0000, -0.4263, -0.7167, -0.9838, -0.5823],\n",
    "    [-0.4263,  1.0000, -0.1600,  0.5088, -0.3708],\n",
    "    [-0.7167, -0.1600,  1.0000,  0.7247,  0.5631],\n",
    "    [-0.9838,  0.5088,  0.7247,  1.0000,  0.4394],\n",
    "    [-0.5823, -0.3708,  0.5631,  0.4394,  1.0000]\n",
    "    ])\n",
    "\n",
    "print(select_negatives(indices, similarity_matrix, neighbors, synonym=True))"
   ]
  },
  {
   "cell_type": "markdown",
   "metadata": {},
   "source": [
    "Réponse attendue\n",
    "\n",
    "`{0: 1, 1: 3, 2: 4, 3: 1, 4: 2}`"
   ]
  },
  {
   "cell_type": "markdown",
   "metadata": {},
   "source": [
    "##### 3.1.4 Implémentez la fonction `run_negative_extraction` qui prépare les paires de synonymes et d'antonymes et appelle `prepare_neighbors` et `select_negatives`. (4 points)\n",
    "\n",
    "Préparez les indices uniques des mots du batch, calculez la similarité des mots, et appelez `prepare_neighbors` et `select_negatives`."
   ]
  },
  {
   "cell_type": "code",
   "execution_count": 319,
   "metadata": {
    "ExecuteTime": {
     "end_time": "2024-09-27T19:59:38.896807900Z",
     "start_time": "2024-09-27T19:59:38.877481Z"
    }
   },
   "outputs": [],
   "source": [
    "\n",
    "def run_negative_extraction(model, index_pairs , synonym=True):\n",
    "    \"\"\"\n",
    "    Extrait les exemples négatifs pour un ensemble de paires de mots.\n",
    "\n",
    "    Args :\n",
    "        index_pairs : torch.Tensor de seconde dimension 2\n",
    "        Contient les indices des mots.\n",
    "\n",
    "        synonym     : bool, optional (default=True)\n",
    "        Indique si l'on cherche des négatifs pour les synonymes (True) ou pour les antonymes (False).\n",
    "\n",
    "    Returns:\n",
    "    Dictionnaire mappant les indices des mots avec leurs indices de négatifs {mot_index: négatif_index}.  \n",
    "    \n",
    "    \"\"\"\n",
    "    # TODO\n",
    "    unique_idx = set([v.item() for row in index_pairs for v in row])\n",
    "    dict = {idx : idx for idx in unique_idx}\n",
    "    #print(index_pairs)\n",
    "    \n",
    "    \n",
    "    neighbors = prepare_neighbors(torch.tensor(index_pairs) , unique_idx , dict)\n",
    "    \n",
    "    #print(neighbors)\n",
    "    \n",
    "    unique_idx_list = sorted([idx for idx in unique_idx])\n",
    "    unique_idx_tensor = torch.tensor(unique_idx_list, dtype=torch.long)\n",
    "    \n",
    "    embeddings = model.embeddings(unique_idx_tensor)\n",
    "    \n",
    "    #print(embeddings.shape)\n",
    "    \n",
    "    similarity_matrix = cosine_similarity(embeddings , embeddings)\n",
    "    #print(similarity_matrix.shape)\n",
    "    \n",
    "\n",
    "    # Sélectionner les exemples négatifs en fonction du type (synonymes ou antonymes)\n",
    "    negatives = select_negatives(unique_idx_tensor, similarity_matrix, neighbors, synonym)\n",
    "\n",
    "    return negatives\n",
    "    # END TODO"
   ]
  },
  {
   "cell_type": "code",
   "execution_count": 245,
   "outputs": [
    {
     "data": {
      "text/plain": "1028"
     },
     "execution_count": 245,
     "metadata": {},
     "output_type": "execute_result"
    }
   ],
   "source": [
    "len(glove_word_to_index_simlex)"
   ],
   "metadata": {
    "collapsed": false,
    "ExecuteTime": {
     "end_time": "2024-09-27T17:47:27.804361800Z",
     "start_time": "2024-09-27T17:47:27.799410400Z"
    }
   }
  },
  {
   "cell_type": "code",
   "execution_count": 159,
   "outputs": [
    {
     "data": {
      "text/plain": "33651"
     },
     "execution_count": 159,
     "metadata": {},
     "output_type": "execute_result"
    }
   ],
   "source": [
    "len(glove_word_to_index)"
   ],
   "metadata": {
    "collapsed": false,
    "ExecuteTime": {
     "end_time": "2024-09-27T16:25:43.494336200Z",
     "start_time": "2024-09-27T16:25:43.462844Z"
    }
   }
  },
  {
   "cell_type": "code",
   "execution_count": 283,
   "outputs": [
    {
     "name": "stdout",
     "output_type": "stream",
     "text": [
      "tensor([ 0,  2,  3,  4, 12, 31, 53])\n"
     ]
    },
    {
     "name": "stderr",
     "output_type": "stream",
     "text": [
      "C:\\Users\\dalil\\AppData\\Local\\Temp\\ipykernel_32916\\2460534782.py:22: UserWarning: To copy construct from a tensor, it is recommended to use sourceTensor.clone().detach() or sourceTensor.clone().detach().requires_grad_(True), rather than torch.tensor(sourceTensor).\n",
      "  neighbors = prepare_neighbors(torch.tensor(index_pairs) , unique_idx , dict)\n"
     ]
    },
    {
     "data": {
      "text/plain": "{0: 3, 2: 31, 3: 0, 4: 0, 12: 4, 31: 2, 53: 31}"
     },
     "execution_count": 283,
     "metadata": {},
     "output_type": "execute_result"
    }
   ],
   "source": [
    "index_pairs = torch.tensor([[0, 12], [12, 31], [53, 4] , [3,2]])\n",
    "#unique_idx = set([v.item() for row in index_pairs for v in row])\n",
    "#dict = {idx : idx for idx in unique_idx}\n",
    "\n",
    "model = ContrastiveWordEmbeddingModel(glove_embeddings)\n",
    "run_negative_extraction(model , index_pairs)"
   ],
   "metadata": {
    "collapsed": false,
    "ExecuteTime": {
     "end_time": "2024-09-27T18:26:26.386276400Z",
     "start_time": "2024-09-27T18:26:26.256304400Z"
    }
   }
  },
  {
   "cell_type": "markdown",
   "metadata": {},
   "source": [
    "#### 3.2 Fonctions de coût\n",
    "\n",
    "Pour chaque paire de synonymes $(x^l, x^r)$ *pour x left et x right* dans le lot $B_S$, nous trouvons un négatif $(t^l, t^r)$ ce qui constitue le lot $T_S$:\n",
    "- $ t^l $ est le mot dans le lot le plus proche de $ x^l $ mais qui n'est pas $ x^r $.\n",
    "- $ t^r $ est le mot dans le lot le plus proche de $ x^r $ mais qui n'est pas $ x^l $.\n",
    "\n",
    "De même, pour chaque paire d'antonymes $(x^l, x^r)$ dans le lot $B_A$, nous trouvons un négatif $(t^l, t^r)$ ce qui constitue le lot $T_A$:\n",
    "- $ t^l $ est le mot dans le lot le plus éloigné de $ x^l $ mais qui n'est pas $ x^r $.\n",
    "- $ t^r $ est le mot dans le lot le plus éloigné de $ x^r $ mais qui n'est pas $ x^l $.\n",
    "\n",
    "\n",
    "Comparer un mot à son synonyme (ou antonyme) et à son négatif permet d'entraîner le modèle sur des exemples difficiles qui forcent le modèle à apprendre des représentations plus robustes.\n",
    "\n",
    "Il y aura trois fonctions de coût :\n",
    "1. **Attraction** : Attire les synonymes plus proches les uns des autres.\n",
    "2. **Répulsion** : Repousse les antonymes plus loin les uns des autres.\n",
    "3. **Régularisation** : Évite que les plongements ne s'éloignent trop de ceux du modèle pré-entraîné.\n",
    "\n",
    "Les fonctions de coût sont définies comme suit, en sommant sur `i`, les paires de synonymes et d'antonymes dans les lots $B_S$ et $B_A$ :\n",
    "\n",
    "1. **Attraction** :\n",
    "$$ S(B_S, T_S) = \\sum_{i=1}^{|B_S|} \\left[ \\max \\left(0, \\delta_{syn} + x_i^l t_i^l - x_i^l x_i^r \\right) + \\max \\left( 0, \\delta_{syn} + x_i^r t_i^r - x_i^l x_i^r \\right) \\right] $$\n",
    "\n",
    "1. **Répulsion** :\n",
    "$$ A(B_A, T_A) = \\sum_{i=1}^{|B_A|} \\left[ \\max \\left(0, \\delta_{ant} + x_i^l x_i^r - x_i^l t_i^l \\right) + \\max \\left( 0, \\delta_{ant} + x_i^r x_i^l - x_i^r t_i^r \\right) \\right] $$\n",
    "\n",
    "1. **Régularisation** :\n",
    "$$ R(B_S, B_A) = \\sum_{x_i \\in V(B_S \\cup B_A)} \\lambda_{reg} \\| \\hat{x}_i - x_i \\|^2 $$\n",
    "\n",
    "La fonction de coût totale est la somme de ces trois termes :\n",
    "$$ C(B_S, T_S, B_A, T_A) = S(B_S, T_S) + A(B_A, T_A) + R(B_S, B_A) $$\n",
    "\n",
    "$\\delta_{syn}$, $\\delta_{ant}$ et $\\lambda_{reg}$ sont des hyperparamètres."
   ]
  },
  {
   "cell_type": "markdown",
   "metadata": {},
   "source": [
    "\n",
    "Avec l'exemple précédent, prenons\n",
    "> + $x_i^l$ : voiture\n",
    "> + $x_i^r$: véhicule\n",
    "> + $t_i^l$: plante\n",
    "> \n",
    "> On veut que voiture et véhicule aient un plus grand produit scalaire que voiture et plante, donc que $\\delta_{syn} + x_i^l t_i^l - x_i^l x_i^r <0$, et donc que $S$ soit minimisé. De même pour la deuxième partie de l'équation, symmétrique, avec le 2nd élément du couple."
   ]
  },
  {
   "cell_type": "markdown",
   "metadata": {},
   "source": [
    "##### 3.2.1 Implémentez la fonction `synonym_cost` qui calcule la fonction de coût d'attraction (sur les paires de synonymes). (5 points)\n",
    "\n",
    "$$ S(B_S, T_S) = \\sum_{i=1}^{|B_S|} \\left[ \\max \\left(0, \\delta_{syn} + x_i^l t_i^l - x_i^l x_i^r \\right) + \\max \\left( 0, \\delta_{syn} + x_i^r t_i^r - x_i^l x_i^r \\right) \\right] $$\n",
    "\n",
    "Le membre de gauche pénalise si le mot de gauche est plus éloigné de son négatif que de son synonyme. De même, le membre de droite pénalise si le mot de gauche est plus éloigné de son négatif que de son synonyme.\n"
   ]
  },
  {
   "cell_type": "code",
   "execution_count": 321,
   "metadata": {
    "ExecuteTime": {
     "end_time": "2024-09-27T20:00:16.513293300Z",
     "start_time": "2024-09-27T20:00:16.432869600Z"
    }
   },
   "outputs": [],
   "source": [
    "def synonym_cost(model, synonym_pairs, synonym_negatives):\n",
    "    \"\"\"\n",
    "    Calcule le coût d'attraction pour les paires de synonymes.\n",
    "\n",
    "    synonym_pairs: liste de tuples d'indices de paires de synonymes\n",
    "    synonym_negatives: dictionnaire de mots avec leurs négatifs {mot_index: négatif_index}\n",
    "\n",
    "    Returns:\n",
    "    torch.Tensor, coût total pour les paires de synonymes\n",
    "    \"\"\"\n",
    "    \n",
    "    cost = torch.tensor(0.0, device=model.device) \n",
    "    for pair in synonym_pairs :\n",
    "        x_l = model.embeddings(pair[0])\n",
    "        x_r = model.embeddings(pair[1])\n",
    "        t_l = model.embeddings(torch.tensor(synonym_negatives[pair[0].item()]))\n",
    "        t_r = model.embeddings(torch.tensor(synonym_negatives[pair[1].item()]))\n",
    "        \n",
    "        cost += torch.relu(torch.dot(x_l, t_l) - torch.dot(x_l,x_r) + model.margin_plus) + torch.relu(torch.dot(x_r, t_r) - torch.dot(x_l,x_r) + model.margin_plus)\n",
    "        \n",
    "    return cost \n",
    "                    \n",
    "    # HINT: Utiliser torch.relu pour max(0, x)\n",
    "    # TODO\n",
    "    # END TODO"
   ]
  },
  {
   "cell_type": "code",
   "execution_count": 43,
   "outputs": [],
   "source": [
    "model = ContrastiveWordEmbeddingModel(glove_embeddings)\n"
   ],
   "metadata": {
    "collapsed": false,
    "ExecuteTime": {
     "end_time": "2024-09-26T23:15:04.114517300Z",
     "start_time": "2024-09-26T23:15:04.058778400Z"
    }
   }
  },
  {
   "cell_type": "code",
   "execution_count": 62,
   "outputs": [
    {
     "data": {
      "text/plain": "tensor(33.3989, grad_fn=<DotBackward0>)"
     },
     "execution_count": 62,
     "metadata": {},
     "output_type": "execute_result"
    }
   ],
   "source": [
    "torch.dot(model.embeddings(torch.tensor(0)) , model.embeddings(torch.tensor(1)))"
   ],
   "metadata": {
    "collapsed": false,
    "ExecuteTime": {
     "end_time": "2024-09-26T23:37:46.425875200Z",
     "start_time": "2024-09-26T23:37:46.380730600Z"
    }
   }
  },
  {
   "cell_type": "markdown",
   "source": [],
   "metadata": {
    "collapsed": false
   }
  },
  {
   "cell_type": "markdown",
   "metadata": {},
   "source": [
    "##### 3.2.2 Implémentez la fonction `antonym_cost` qui calcule la fonction de coût de répulsion (sur les paires d'antonymes). (5 points)\n",
    "\n",
    "$$ A(B_A, T_A) = \\sum_{i=1}^{|B_A|} \\left[ \\max \\left(0, \\delta_{ant} + x_i^l x_i^r - x_i^l t_i^l \\right) + \\max \\left( 0, \\delta_{ant} + x_i^r x_i^l - x_i^r t_i^r \\right) \\right] $$\n",
    "\n",
    "Le membre de gauche pénalise si le mot de gauche est plus éloigné de son antonyme que de son négatif. De même, le membre de droite pénalise si le mot de gauche est plus éloigné de son antonyme que de son négatif."
   ]
  },
  {
   "cell_type": "code",
   "execution_count": 322,
   "metadata": {
    "ExecuteTime": {
     "end_time": "2024-09-27T20:00:32.229556500Z",
     "start_time": "2024-09-27T20:00:32.175797100Z"
    }
   },
   "outputs": [],
   "source": [
    "def antonym_cost(model, antonym_pairs, antonym_negatives):\n",
    "    \"\"\"\n",
    "    Calcule le coût de répulsion pour les paires d'antonymes.\n",
    "\n",
    "    antonym_pairs: liste de tuples d'indices de paires d'antonymes\n",
    "    antonym_negatives: dictionnaire de mots avec leurs négatifs {mot_index: négatif_index}\n",
    "\n",
    "    Returns:\n",
    "    torch.Tensor, coût total pour les paires d'antonymes\n",
    "    \"\"\"\n",
    "    # HINT: Utiliser torch.relu pour max(0, x)\n",
    "    # TODO\n",
    "    \n",
    "    cost = torch.tensor(0.0, device=model.device) \n",
    "    for pair in antonym_pairs :\n",
    "        x_l = model.embeddings(pair[0])\n",
    "        x_r = model.embeddings(pair[1])\n",
    "        t_l = model.embeddings(torch.tensor(antonym_negatives[pair[0].item()]))\n",
    "        t_r = model.embeddings(torch.tensor(antonym_negatives[pair[1].item()]))\n",
    "        \n",
    "        cost += torch.relu(torch.dot(x_l,x_r) -torch.dot(x_l, t_l)+ model.margin_minus) + torch.relu(torch.dot(x_l,x_r)  -torch.dot(x_r, t_r) + model.margin_minus)\n",
    "        \n",
    "    return cost \n",
    "                    \n",
    "    # END TODO"
   ]
  },
  {
   "cell_type": "markdown",
   "metadata": {},
   "source": [
    "##### 3.2.3 Implémentez la fonction `regularization_cost` qui calcule la fonction de coût de régularisation. (4 points)\n",
    "\n",
    "$$ R(B_S, B_A) = \\sum_{x_i \\in V(B_S \\cup B_A)} \\lambda_{reg} \\| \\hat{x}_i - x_i \\|^2 $$"
   ]
  },
  {
   "cell_type": "code",
   "execution_count": 323,
   "metadata": {
    "ExecuteTime": {
     "end_time": "2024-09-27T20:00:42.896177Z",
     "start_time": "2024-09-27T20:00:42.801127400Z"
    }
   },
   "outputs": [],
   "source": [
    "def regularization_cost(model, synonym_pairs, antonym_pairs):\n",
    "    \"\"\"\n",
    "    Calcule le coût de régularisation pour les paires de synonymes et antonymes.\n",
    "\n",
    "    synonym_pairs: liste de tuples d'indices de paires de synonymes\n",
    "    antonym_pairs: liste de tuples d'indices de paires d'antonymes\n",
    "\n",
    "    Returns:\n",
    "    torch.Tensor, coût total de régularisation\n",
    "    \"\"\"\n",
    "    # TODO\n",
    "    \n",
    "    cost = torch.tensor(0.0, device=model.device) \n",
    "    V = set([syn_index for pair  in synonym_pairs for syn_index in pair] + [ant_index for pair  in antonym_pairs for ant_index in pair])\n",
    "    for i in V : \n",
    "        x_hat = model.original_embeddings(i)\n",
    "        x = model.embeddings(i)\n",
    "        cost += model.regularization * (np.linalg.norm(x_hat.detach().numpy()-x.detach().numpy()))**2\n",
    "    \n",
    "    return cost\n",
    "    # END TODO"
   ]
  },
  {
   "cell_type": "markdown",
   "metadata": {},
   "source": [
    "#### 3.3 Mise en place\n",
    "##### 3.3.1 Implémentez la fonction `forward` qui utilise les fonctions définies plus tôt pour calculer le coût total. (4 points)\n",
    "\n",
    "La fonction prend en entrée un lot de synonymes et un lot d'antonymes, c'est-à-dire des paires de synonymes et des paires d'antonymes.\n",
    "\n",
    "Vous devez trouver les négatifs de tous les mots des lots au moyen de votre fonction  run_negative_extraction puis calculer la fonction de coût totale."
   ]
  },
  {
   "cell_type": "code",
   "execution_count": 324,
   "metadata": {
    "ExecuteTime": {
     "end_time": "2024-09-27T20:00:52.354046600Z",
     "start_time": "2024-09-27T20:00:52.322226300Z"
    }
   },
   "outputs": [],
   "source": [
    "def forward(model, synonym_pairs, antonym_pairs):\n",
    "    \"\"\"\n",
    "    Fonction forward pour calculer le coût total.\n",
    "\n",
    "    Args : \n",
    "        synonym_pairs   : \n",
    "        Liste de tuples d'indices de paires de synonymes\n",
    "\n",
    "        antonym_pairs   : \n",
    "        Liste de tuples d'indices de paires d'antonymes\n",
    "\n",
    "    Returns:\n",
    "    Tenseur contenant le coût total (attraction, répulsion et régularisation)\n",
    "    \"\"\"\n",
    "    \n",
    "    # TODO\n",
    "    neg_syn = run_negative_extraction(model, synonym_pairs )\n",
    "    neg_ant =  run_negative_extraction(model, antonym_pairs , synonym=False)\n",
    "    cost  = synonym_cost(model , synonym_pairs , neg_syn ) + antonym_cost(model , antonym_pairs , neg_ant ) + regularization_cost(model , synonym_pairs , antonym_pairs)\n",
    "    return cost\n",
    "    # END TODO"
   ]
  },
  {
   "cell_type": "markdown",
   "metadata": {},
   "source": [
    "#### 3.3.2 Évaluation (3 points)\n",
    "\n",
    "Utilisez la fonction `spearman_rank_correlation` pour compléter la fonction d'évaluation `evaluate` qui exécute le modèle sur le jeu d'évaluation et calcule la corrélation de Spearman entre les scores prédits et réels.\n",
    "\n",
    "Utilisez `torch.no_grad()` pour éviter de stocker les gradients."
   ]
  },
  {
   "cell_type": "code",
   "execution_count": 325,
   "metadata": {
    "ExecuteTime": {
     "end_time": "2024-09-27T20:00:57.036324100Z",
     "start_time": "2024-09-27T20:00:57.001057800Z"
    }
   },
   "outputs": [],
   "source": [
    "def evaluate(model, eval_data, word_to_index):\n",
    "    \"\"\"\n",
    "    Calcule les prédictions du modèle sur le jeu d'évaluation puis la corrélation de Spearman entre les scores prédits et réels.\n",
    "\n",
    "    model: modèle de plongements de mots\n",
    "    eval_data: pd.DataFrame\n",
    "    word_to_index: dict\n",
    "\n",
    "    Returns:\n",
    "    float, la corrélation de Spearman entre les scores prédits par le modèle et réels.\n",
    "    \"\"\"\n",
    "    model.eval()\n",
    "    device = model.device\n",
    "    #print(eval_data['word 1'])\n",
    "    \n",
    "    #print(list(zip(eval_data['word 1'], eval_data['word 2'])))\n",
    "    word_pairs = []\n",
    "    for (w1 , w2 ) in zip(eval_data['word 1'], eval_data['word 2']) : \n",
    "        word_pairs.append((w1, w2))\n",
    "    \n",
    "    #print(word_pairs)\n",
    "    eval_indices = [(word_to_index[w1], word_to_index[w2]) for w1, w2 in word_pairs if w1 in word_to_index and w2 in word_to_index]\n",
    "    real_scores =eval_data['score'].values\n",
    "    \n",
    "    predicted_scores = []\n",
    "    with torch.no_grad():  \n",
    "        for idx1, idx2 in eval_indices:\n",
    "            \n",
    "            embedding_1 = model.embeddings(torch.tensor(idx1, device=device))\n",
    "            embedding_2 = model.embeddings(torch.tensor(idx2, device=device))\n",
    "            \n",
    "            similarity = cosine_similarity(embedding_1.unsqueeze(0), embedding_2.unsqueeze(0))\n",
    "            predicted_scores.append(similarity.item())\n",
    "            \n",
    "    return spearman_rank_correlation(real_scores , predicted_scores)\n",
    "\n",
    "            \n",
    "    \n",
    "    \n",
    "    # TODO\n",
    "    # END TODO\n"
   ]
  },
  {
   "cell_type": "markdown",
   "metadata": {},
   "source": [
    "### 4. Entraînement de zéro (16 Points)\n",
    "\n",
    "Nous allons maintenant entraîner le modèle de zéro, sans utiliser les plongements GloVe pré-entraînés. Ensuite, dans la partie 5, nous entraînerons le modèle en l'initialisant avec les plongements GloVe pré-entraînés."
   ]
  },
  {
   "cell_type": "code",
   "execution_count": 326,
   "metadata": {
    "ExecuteTime": {
     "end_time": "2024-09-27T20:01:00.541425700Z",
     "start_time": "2024-09-27T20:00:59.414416700Z"
    }
   },
   "outputs": [],
   "source": [
    "# Hyperparamètres, optimiseur et DataLoader\n",
    "\n",
    "BATCH_SIZE = 64\n",
    "NUM_EPOCHS = 20\n",
    "LEARNING_RATE = 5e-3\n",
    "\n",
    "device = 'cuda' if torch.cuda.is_available() else 'cpu'\n",
    "\n",
    "torch.cuda.empty_cache()\n",
    "gc.collect()\n",
    "\n",
    "train_syn_tensor = data_to_tensor(train_synonyms, glove_word_to_index)\n",
    "train_ant_tensor = data_to_tensor(train_antonyms, glove_word_to_index)\n",
    "\n",
    "syn_data_loader = DataLoader(train_syn_tensor, batch_size=BATCH_SIZE, shuffle=True, drop_last=True)\n",
    "ant_data_loader = DataLoader(train_ant_tensor, batch_size=BATCH_SIZE, shuffle=True, drop_last=True)"
   ]
  },
  {
   "cell_type": "markdown",
   "metadata": {},
   "source": [
    "#### 4.1 Complétez la cellule suivante pour créer le modèle de zéro `model_zero`, à partir d'une matrice de plongements aléatoire. (1 point)"
   ]
  },
  {
   "cell_type": "code",
   "execution_count": 328,
   "metadata": {
    "ExecuteTime": {
     "end_time": "2024-09-27T20:01:17.455033500Z",
     "start_time": "2024-09-27T20:01:17.302935Z"
    }
   },
   "outputs": [],
   "source": [
    "model_zero = None\n",
    "random_seed = 0\n",
    "random_generator = torch.Generator(device=device).manual_seed(random_seed)\n",
    "\n",
    "embeddings_size = glove_embeddings.size()\n",
    "random_init_embeddings = torch.randn(embeddings_size, generator=random_generator, device=device)\n",
    "\n",
    "# TODO\n",
    "model_zero = ContrastiveWordEmbeddingModel(random_init_embeddings)\n",
    "# END TODO\n",
    "\n",
    "optimizer = optim.Adam(model_zero.parameters(), lr=LEARNING_RATE)"
   ]
  },
  {
   "cell_type": "markdown",
   "source": [],
   "metadata": {
    "collapsed": false
   }
  },
  {
   "cell_type": "markdown",
   "metadata": {},
   "source": [
    "#### 4.2 Entraînez le modèle sur le jeu des paires de synonymes et d'antonymes. (6 points)\n",
    "\n",
    "N'oubliez pas que l'entraînement se fait sur les synonymes et antonymes et que l'évaluation se fait sur SimLex-999.\n",
    "\n",
    "À défaut d'avoir un jeu de validation, on observe les résultats sur le corpus de test : SimLex-999. Ceci n’est fait qu’à titre illustratif pour voir l'évolution de l'apprentissage. Il ne faut pas faire de choix pour l’entrainement à partir des résultats sur le corpus de test.\n",
    "\n",
    "*Note : Les jeux de synonymes et d'antonymes n'ont pas la même taille. Une époque (epoch) correspond à une itération sur le jeu de données le plus petit.*"
   ]
  },
  {
   "cell_type": "code",
   "execution_count": null,
   "metadata": {
    "is_executing": true,
    "ExecuteTime": {
     "start_time": "2024-09-27T20:11:32.335236600Z"
    }
   },
   "outputs": [
    {
     "name": "stdout",
     "output_type": "stream",
     "text": [
      "Before training, Spearman Correlation: 0.0017\n",
      "Loss: 9768.9570\n",
      "Loss: 10618.2305\n",
      "Loss: 11012.0674\n",
      "Loss: 9524.5645\n",
      "Loss: 9766.8096\n",
      "Loss: 11283.5527\n",
      "Loss: 8892.0205\n",
      "Loss: 10043.5059\n",
      "Loss: 10613.9766\n",
      "Loss: 10819.4795\n",
      "Loss: 10002.3369\n",
      "Loss: 9729.4512\n",
      "Loss: 10138.8770\n",
      "Loss: 10057.2969\n",
      "Loss: 10012.9727\n",
      "Loss: 10126.4609\n",
      "Loss: 9631.3584\n",
      "Loss: 11009.0254\n",
      "Loss: 10227.2031\n",
      "Loss: 10557.5801\n",
      "Loss: 9211.6758\n",
      "Loss: 9597.5664\n",
      "Loss: 10852.0703\n",
      "Loss: 10032.2891\n",
      "Loss: 9125.2891\n",
      "Loss: 9612.5332\n",
      "Loss: 10418.3896\n",
      "Loss: 9795.1953\n",
      "Loss: 10510.2637\n",
      "Loss: 9824.6914\n",
      "Loss: 9886.3633\n",
      "Loss: 9376.7656\n",
      "Loss: 10770.6602\n",
      "Loss: 9640.5947\n",
      "Loss: 10417.4912\n",
      "Loss: 9689.7480\n",
      "Loss: 11188.5293\n",
      "Loss: 9929.8633\n",
      "Loss: 9945.5732\n",
      "Loss: 9433.5312\n",
      "Loss: 10495.6416\n",
      "Loss: 8787.5137\n",
      "Loss: 10765.0908\n",
      "Loss: 9549.4863\n",
      "Loss: 10209.5176\n",
      "Loss: 11639.5576\n",
      "Loss: 11143.9160\n",
      "Loss: 10433.1025\n",
      "Loss: 9329.3330\n",
      "Loss: 9728.2598\n",
      "Loss: 9396.3477\n",
      "Loss: 9330.6445\n",
      "Loss: 10215.4297\n",
      "Loss: 10485.6338\n",
      "Loss: 10233.9844\n",
      "Loss: 9233.0742\n",
      "Loss: 10443.1895\n",
      "Loss: 9348.7861\n",
      "Loss: 9898.5098\n",
      "Loss: 8388.2363\n",
      "Loss: 9725.1055\n",
      "Loss: 10415.2910\n",
      "Loss: 10678.9336\n",
      "Loss: 10537.1738\n",
      "Loss: 9798.7080\n",
      "Loss: 9676.7754\n",
      "Loss: 9561.6826\n",
      "Loss: 10226.4951\n",
      "Loss: 9138.7500\n",
      "Loss: 9764.7188\n",
      "Loss: 9720.6016\n",
      "Loss: 10338.9805\n",
      "Loss: 9240.1387\n",
      "Loss: 8938.1006\n",
      "Loss: 10300.7354\n",
      "Loss: 9632.8379\n",
      "Loss: 9348.1748\n",
      "Loss: 9486.2373\n",
      "Loss: 10504.1084\n",
      "Loss: 10821.3965\n",
      "Loss: 8565.1895\n",
      "Loss: 10106.6738\n",
      "Loss: 9201.5918\n",
      "Loss: 9033.6748\n",
      "Loss: 9205.2988\n",
      "Loss: 8843.7676\n",
      "Loss: 9632.2676\n",
      "Loss: 9749.9062\n",
      "Loss: 10092.9385\n",
      "Loss: 9887.1836\n",
      "Loss: 9907.1006\n",
      "Loss: 9813.0215\n",
      "Loss: 8772.6152\n",
      "Loss: 8962.1406\n",
      "Loss: 8421.3594\n",
      "Loss: 9446.1689\n",
      "Loss: 8389.8135\n",
      "Loss: 9812.4824\n",
      "Loss: 9202.5361\n",
      "Loss: 9666.0264\n",
      "Loss: 9514.9541\n",
      "Loss: 10114.6289\n",
      "Loss: 9810.6992\n",
      "Loss: 8824.2725\n",
      "Loss: 9628.5186\n",
      "Loss: 8584.3320\n",
      "Loss: 9967.7051\n",
      "Loss: 9532.4453\n",
      "Loss: 8915.8457\n",
      "Loss: 8444.4355\n",
      "Loss: 9980.3203\n",
      "Loss: 9044.3213\n",
      "Loss: 9348.5127\n",
      "Loss: 8857.1289\n",
      "Loss: 8668.9561\n",
      "Loss: 9532.7520\n",
      "Loss: 9037.9570\n",
      "Loss: 8592.9434\n",
      "Loss: 9226.5801\n",
      "Loss: 8669.1924\n",
      "Loss: 9084.0254\n",
      "Loss: 9384.9160\n",
      "Loss: 8609.5762\n",
      "Loss: 9470.5859\n",
      "Loss: 9040.5244\n",
      "Loss: 9090.8145\n",
      "Loss: 8485.1143\n",
      "Loss: 10051.6621\n",
      "Loss: 8576.1562\n",
      "Loss: 8991.2363\n",
      "Loss: 9353.6934\n",
      "Loss: 8652.0801\n",
      "Loss: 9230.5820\n",
      "Loss: 9126.4229\n",
      "Loss: 9134.9473\n",
      "Loss: 8771.0293\n",
      "Loss: 8375.3867\n",
      "Loss: 8720.3779\n",
      "Loss: 7657.9976\n",
      "Loss: 8370.8291\n",
      "Loss: 9018.4785\n",
      "Loss: 9171.5371\n",
      "Loss: 10238.7393\n",
      "Loss: 8982.1904\n",
      "Loss: 9559.7100\n",
      "Loss: 9199.4570\n",
      "Loss: 9244.4512\n",
      "Loss: 9041.2793\n",
      "Loss: 9249.7559\n",
      "Loss: 9661.2432\n",
      "Loss: 9039.7363\n",
      "Loss: 9026.8057\n",
      "Loss: 8796.9170\n",
      "Loss: 9192.6201\n",
      "Loss: 9793.3818\n",
      "Loss: 9199.6660\n",
      "Loss: 8657.4961\n",
      "Loss: 8283.3496\n",
      "Loss: 8762.6182\n",
      "Loss: 9472.9492\n",
      "Loss: 8817.5273\n",
      "Loss: 9409.8223\n",
      "Loss: 8052.7285\n",
      "Loss: 8860.3584\n",
      "Loss: 8977.3213\n",
      "Loss: 8962.9082\n",
      "Loss: 8675.6719\n",
      "Loss: 8633.7051\n",
      "Loss: 9256.9854\n",
      "Loss: 8465.5586\n",
      "Loss: 9784.6797\n",
      "Loss: 9439.7119\n",
      "Loss: 9002.5039\n",
      "Loss: 8913.5234\n",
      "Loss: 8259.3516\n",
      "Loss: 9230.0576\n",
      "Loss: 8434.8867\n",
      "Loss: 8213.6875\n",
      "Loss: 9436.6104\n",
      "Loss: 8764.8779\n",
      "Loss: 8352.8643\n",
      "Loss: 8017.6104\n",
      "Loss: 8404.6660\n",
      "Loss: 8810.6826\n",
      "Loss: 8483.3721\n",
      "Loss: 7588.8135\n",
      "Epoch 1/20, Loss: 1760034.0942\n",
      "Epoch 1, Spearman Correlation: 0.0493\n",
      "Loss: 8311.2520\n",
      "Loss: 7499.6094\n",
      "Loss: 7892.8857\n",
      "Loss: 8621.5176\n",
      "Loss: 7454.6250\n",
      "Loss: 7589.6973\n",
      "Loss: 7650.9663\n",
      "Loss: 7400.6260\n",
      "Loss: 8202.4980\n",
      "Loss: 7412.9375\n",
      "Loss: 7093.9790\n",
      "Loss: 7709.0439\n",
      "Loss: 7719.2949\n",
      "Loss: 7737.8867\n",
      "Loss: 7541.8105\n",
      "Loss: 6980.3486\n",
      "Loss: 7214.1182\n",
      "Loss: 7648.2969\n",
      "Loss: 8870.6758\n",
      "Loss: 7901.7021\n",
      "Loss: 7216.3784\n",
      "Loss: 7474.7471\n",
      "Loss: 7138.6943\n",
      "Loss: 6864.1479\n",
      "Loss: 7272.1318\n",
      "Loss: 7070.2910\n",
      "Loss: 7992.6157\n",
      "Loss: 7744.0845\n",
      "Loss: 7272.5044\n",
      "Loss: 8001.7212\n",
      "Loss: 6716.6489\n",
      "Loss: 7127.1094\n",
      "Loss: 8658.5850\n",
      "Loss: 6926.8433\n",
      "Loss: 7334.8281\n",
      "Loss: 6831.4780\n",
      "Loss: 7422.1299\n",
      "Loss: 7917.5342\n",
      "Loss: 7555.2812\n",
      "Loss: 6906.9761\n",
      "Loss: 7760.7729\n",
      "Loss: 7065.5830\n",
      "Loss: 7120.7349\n",
      "Loss: 8215.9980\n",
      "Loss: 7009.1865\n",
      "Loss: 7746.5693\n",
      "Loss: 7034.8828\n",
      "Loss: 7575.8413\n",
      "Loss: 7659.2622\n",
      "Loss: 8005.6846\n",
      "Loss: 8213.6475\n",
      "Loss: 7856.7334\n",
      "Loss: 7227.7158\n",
      "Loss: 7450.6577\n",
      "Loss: 8773.0488\n",
      "Loss: 6582.9185\n",
      "Loss: 8452.1523\n",
      "Loss: 7771.0879\n",
      "Loss: 7716.1050\n",
      "Loss: 7844.7783\n",
      "Loss: 6773.6523\n",
      "Loss: 7572.3794\n",
      "Loss: 8184.0581\n",
      "Loss: 7919.2295\n",
      "Loss: 7065.7480\n",
      "Loss: 7493.3726\n",
      "Loss: 7168.9092\n",
      "Loss: 6843.4355\n",
      "Loss: 7740.2334\n",
      "Loss: 6695.7793\n",
      "Loss: 7622.3540\n",
      "Loss: 7086.3516\n",
      "Loss: 7151.1504\n",
      "Loss: 8344.4648\n",
      "Loss: 7114.9746\n",
      "Loss: 7739.9858\n",
      "Loss: 6954.9097\n",
      "Loss: 7877.1914\n",
      "Loss: 7251.1738\n",
      "Loss: 9202.8555\n",
      "Loss: 7357.0615\n",
      "Loss: 7397.2451\n",
      "Loss: 8072.7666\n",
      "Loss: 7579.9658\n",
      "Loss: 7157.6831\n",
      "Loss: 6830.7314\n",
      "Loss: 6800.7612\n",
      "Loss: 7079.6504\n",
      "Loss: 6781.0977\n",
      "Loss: 7887.9131\n",
      "Loss: 7352.5737\n",
      "Loss: 6721.3506\n",
      "Loss: 7147.0459\n",
      "Loss: 7011.4258\n",
      "Loss: 8331.3604\n",
      "Loss: 6859.6973\n",
      "Loss: 7516.8418\n",
      "Loss: 7411.6797\n",
      "Loss: 7475.1558\n",
      "Loss: 6388.6230\n",
      "Loss: 7205.7114\n",
      "Loss: 7473.6611\n",
      "Loss: 7820.7432\n",
      "Loss: 7634.5454\n",
      "Loss: 7250.5234\n",
      "Loss: 6738.5059\n",
      "Loss: 7909.9268\n",
      "Loss: 7299.1143\n",
      "Loss: 7594.5225\n",
      "Loss: 6276.7935\n",
      "Loss: 7060.4443\n",
      "Loss: 6917.2744\n",
      "Loss: 6932.8652\n",
      "Loss: 7688.9106\n",
      "Loss: 8148.5039\n",
      "Loss: 6154.8682\n",
      "Loss: 6814.3647\n",
      "Loss: 6951.4092\n",
      "Loss: 6565.5015\n",
      "Loss: 7099.2749\n",
      "Loss: 7070.8291\n",
      "Loss: 7308.7012\n",
      "Loss: 7195.4912\n",
      "Loss: 6426.9609\n",
      "Loss: 7217.0854\n",
      "Loss: 7388.3164\n",
      "Loss: 6426.7905\n",
      "Loss: 6854.3213\n",
      "Loss: 6625.7495\n",
      "Loss: 6515.8843\n",
      "Loss: 6668.7383\n",
      "Loss: 6746.2739\n",
      "Loss: 6433.7417\n",
      "Loss: 8498.9932\n",
      "Loss: 6692.6143\n",
      "Loss: 7283.1172\n",
      "Loss: 7521.8428\n",
      "Loss: 5921.6758\n",
      "Loss: 7036.8857\n",
      "Loss: 7636.2236\n",
      "Loss: 6878.6025\n",
      "Loss: 7310.0083\n",
      "Loss: 6751.3330\n",
      "Loss: 6559.4121\n",
      "Loss: 6883.3330\n",
      "Loss: 7897.7334\n",
      "Loss: 6648.7251\n",
      "Loss: 6752.1553\n",
      "Loss: 7041.8730\n",
      "Loss: 7774.8491\n",
      "Loss: 7616.3003\n",
      "Loss: 7086.5527\n",
      "Loss: 6823.1797\n",
      "Loss: 7640.9868\n",
      "Loss: 6577.9424\n",
      "Loss: 6907.1431\n",
      "Loss: 6715.9497\n",
      "Loss: 6335.4917\n",
      "Loss: 5860.2144\n",
      "Loss: 6845.4517\n",
      "Loss: 6947.0503\n",
      "Loss: 6314.0640\n",
      "Loss: 7112.7056\n",
      "Loss: 6813.5356\n",
      "Loss: 6803.7871\n",
      "Loss: 6350.6294\n",
      "Loss: 7490.2212\n",
      "Loss: 6868.1230\n",
      "Loss: 6499.4106\n",
      "Loss: 6408.5425\n",
      "Loss: 6850.4624\n",
      "Loss: 7017.9707\n",
      "Loss: 7636.2168\n",
      "Loss: 6226.3750\n",
      "Loss: 6997.0889\n",
      "Loss: 7004.4688\n",
      "Loss: 6514.7852\n",
      "Loss: 6685.0796\n",
      "Loss: 7333.5186\n",
      "Loss: 6464.8555\n",
      "Loss: 7040.4331\n",
      "Loss: 6697.3965\n",
      "Loss: 6121.6030\n",
      "Loss: 6142.4814\n",
      "Loss: 7643.2656\n",
      "Loss: 6504.0923\n",
      "Epoch 2/20, Loss: 1348347.8022\n",
      "Epoch 2, Spearman Correlation: 0.0812\n",
      "Loss: 6062.9443\n",
      "Loss: 5803.6797\n",
      "Loss: 6396.6265\n",
      "Loss: 6171.0317\n",
      "Loss: 6147.7588\n",
      "Loss: 6132.3184\n",
      "Loss: 5762.3262\n",
      "Loss: 5981.1753\n",
      "Loss: 5824.4824\n",
      "Loss: 6037.9727\n",
      "Loss: 6687.5234\n",
      "Loss: 6749.3086\n",
      "Loss: 5875.8901\n",
      "Loss: 5521.0225\n",
      "Loss: 6114.5933\n",
      "Loss: 5318.0117\n",
      "Loss: 6251.9878\n",
      "Loss: 5785.6831\n",
      "Loss: 5942.1855\n",
      "Loss: 6224.2974\n",
      "Loss: 6365.7539\n",
      "Loss: 5694.0874\n",
      "Loss: 5925.0093\n",
      "Loss: 5583.7090\n",
      "Loss: 6853.4004\n",
      "Loss: 6352.2881\n",
      "Loss: 5972.5552\n",
      "Loss: 6574.1895\n"
     ]
    }
   ],
   "source": [
    "spearman_corr = evaluate(model_zero, evaluation_simlex, glove_word_to_index)\n",
    "print(f'Before training, Spearman Correlation: {spearman_corr:.4f}')\n",
    "\n",
    "\n",
    "for epoch in range(NUM_EPOCHS):\n",
    "    model_zero.train()  # Set the model to training mode\n",
    "    total_loss = 0.0\n",
    "\n",
    "    # Zip the synonym and antonym data loaders so we can iterate over them in parallel\n",
    "    for syn_batch, ant_batch in zip(syn_data_loader, ant_data_loader):\n",
    "        # Clear gradients\n",
    "        optimizer.zero_grad()\n",
    "        #print(syn_batch)\n",
    "        \n",
    "        # Extract word pairs (synonym and antonym)\n",
    "        syn_pairs = [(pair[0], pair[1]) for pair in syn_batch]\n",
    "        ant_pairs = [(pair[0], pair[1]) for pair in ant_batch]\n",
    "        \n",
    "        \n",
    "        \n",
    "        loss = forward(model_zero, syn_pairs, ant_pairs)\n",
    "\n",
    "        # Backpropagation\n",
    "        loss.backward()\n",
    "\n",
    "        # Update model parameters\n",
    "        optimizer.step()\n",
    "\n",
    "        # Accumulate loss\n",
    "        total_loss += loss.item()\n",
    "        print(f\"Loss: {loss.item():.4f}\")\n",
    "        \n",
    "        # Print the loss for this epoch\n",
    "    print(f\"Epoch {epoch + 1}/{NUM_EPOCHS}, Loss: {total_loss:.4f}\")\n",
    "\n",
    "    # Optional: Evaluate the model on SimLex-999 after each epoch\n",
    "    spearman_corr = evaluate(model_zero, evaluation_simlex, glove_word_to_index)\n",
    "    print(f'Epoch {epoch + 1}, Spearman Correlation: {spearman_corr:.4f}')\n",
    "\n",
    "\n",
    "# TODO\n",
    "# END TODO"
   ]
  },
  {
   "cell_type": "markdown",
   "metadata": {},
   "source": [
    "#### 4.3 Courbes d'entraînement du modèle de zéro (4 points)\n",
    "\n",
    "Affichez la perte moyenne sur le jeu d'entraînement et la corrélation de Spearman sur le jeu de validation à chaque époque."
   ]
  },
  {
   "cell_type": "code",
   "execution_count": null,
   "metadata": {},
   "outputs": [],
   "source": [
    "# TODO\n",
    "# END TODO\n"
   ]
  },
  {
   "cell_type": "markdown",
   "metadata": {},
   "source": [
    "#### 4.4 Évaluation du modèle de zéro et comparaison avec GloVe (5 points)\n",
    "\n",
    "Comparez le modèle de zéro après l'entraînement à GloVe (résultat de la partie 2.4) en termes de corrélation de Spearman sur le jeu de validation. Quelle méthode est la plus performante ? Pourquoi ?\n"
   ]
  },
  {
   "cell_type": "markdown",
   "metadata": {},
   "source": [
    "### 5. Intérêt de GloVe (18 Points)\n",
    "\n",
    "Dans la section précédente, nous avons entraîné un modèle de zéro.\n",
    "\n",
    "Nous allons maintenant évaluer si initialiser le modèle avec les plongements de GloVe permet d'améliorer les performances."
   ]
  },
  {
   "cell_type": "markdown",
   "metadata": {},
   "source": [
    "#### 5.1 Initialisation avec GloVe (6 points)\n",
    "\n",
    "Entraînez le modèle `model_fine_tuned`, mais cette fois en ititialisant directement avec les plongements du modèle pré-entraîné GloVe.\n",
    "\n",
    "On utilisera Adam comme optimiseur."
   ]
  },
  {
   "cell_type": "code",
   "execution_count": 32,
   "metadata": {},
   "outputs": [],
   "source": [
    "# TODO\n",
    "model_fine_tuned = None\n",
    "# END TODO"
   ]
  },
  {
   "cell_type": "code",
   "execution_count": null,
   "metadata": {},
   "outputs": [],
   "source": [
    "spearman_corr = evaluate(model_fine_tuned, evaluation_simlex, glove_word_to_index)\n",
    "print(f'Before training, Spearman Correlation: {spearman_corr:.4f}')\n",
    "\n",
    "# TODO\n",
    "# END TODO"
   ]
  },
  {
   "cell_type": "markdown",
   "metadata": {},
   "source": [
    "#### 5.2 Courbes d'entraînement (4 points)\n",
    "\n",
    "Affichez la perte moyenne sur le jeu d'entraînement et la corrélation de Spearman sur le jeu de validation à chaque époque."
   ]
  },
  {
   "cell_type": "code",
   "execution_count": null,
   "metadata": {},
   "outputs": [],
   "source": [
    "# TODO\n",
    "# END TODO\n"
   ]
  },
  {
   "cell_type": "markdown",
   "metadata": {},
   "source": [
    "#### 5.3 Vérification sur un exemple (3 points)\n",
    "\n",
    "Avec le modèle `model_fine_tuned`, calculez la similarité cosinus entre 'fast' et 'slow' et entre 'fast' et 'rapid'. Commentez les résultats en les comparant avec ceux de la partie 1.4."
   ]
  },
  {
   "cell_type": "code",
   "execution_count": null,
   "metadata": {},
   "outputs": [],
   "source": [
    "# TODO\n",
    "# END TODO"
   ]
  },
  {
   "cell_type": "markdown",
   "metadata": {},
   "source": [
    "#### 5.4 Analyse, comparaison, conclusion (5 points)\n",
    "\n",
    "Comparez les performances des trois modèles (GloVe, zéro, fine-tuned). Quelle méthode est la plus performante ? Pourquoi ?\n"
   ]
  },
  {
   "cell_type": "markdown",
   "metadata": {},
   "source": [
    "## Livrables\n",
    "Vous devez remettre votre notebook sur Moodle et Gradescope en ipynb et pdf. Pour Gradescope vous devez associer les numéros de questions avec vos réponses dans le pdf grâce à l'outil que fournit Gradescope.\n",
    "\n",
    "\n",
    "## Évaluation \n",
    "Votre TP sera évalué selon les critères suivants :\n",
    "1. Exécution correcte du code et obtention des sorties attendues\n",
    "2. Réponses correctes aux questions d'analyse\n",
    "3. Qualité du code (noms significatifs, structure, performance, gestion d’exception, etc.)\n",
    "4. Commentaires clairs et informatifs"
   ]
  }
 ],
 "metadata": {
  "kernelspec": {
   "display_name": "Python 3 (ipykernel)",
   "language": "python",
   "name": "python3"
  },
  "language_info": {
   "codemirror_mode": {
    "name": "ipython",
    "version": 3
   },
   "file_extension": ".py",
   "mimetype": "text/x-python",
   "name": "python",
   "nbconvert_exporter": "python",
   "pygments_lexer": "ipython3",
   "version": "3.11.4"
  }
 },
 "nbformat": 4,
 "nbformat_minor": 4
}
