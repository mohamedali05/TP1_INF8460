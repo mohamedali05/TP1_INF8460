{
 "cells": [
  {
   "cell_type": "markdown",
   "metadata": {
    "id": "znlt8jyJKg-5"
   },
   "source": [
    "##### INF8460 – Traitement automatique de la langue naturelle - Automne 2024\n",
    "### TP1 - Recherche de documents avec une métrique de similarité\n"
   ]
  },
  {
   "cell_type": "markdown",
   "metadata": {},
   "source": [
    "## Identification de l'équipe:\n",
    "\n",
    "### Groupe de laboratoire:\n",
    "\n",
    "### Equipe numéro :\n",
    "\n",
    "### Membres:\n",
    "\n",
    "- membre 1 (% de contribution, nature de la contribution)\n",
    "- membre 2 (% de contribution, nature de la contribution)\n",
    "- membre 3 (% de contribution, nature de la contribution)\n",
    "\n",
    "* nature de la contribution: Décrivez brièvement ce qui a été fait par chaque membre de l’équipe. Tous les membres sont censés contribuer au développement. Bien que chaque membre puisse effectuer différentes tâches, vous devez vous efforcer d’obtenir une répartition égale du travail. Soyez précis ! N'indiquez pas seulement : travail réparti équitablement"
   ]
  },
  {
   "cell_type": "markdown",
   "metadata": {},
   "source": [
    "## Mise en place"
   ]
  },
  {
   "cell_type": "markdown",
   "metadata": {},
   "source": [
    "### Objectif du TP\n",
    "\n",
    "La recherche d'information est le processus d'accès aux données, généralement des documents ou d'autres données non structurées, à partir d'une requête. Dans ce TP, vous aurez en entrée une requête textuelle sous forme d'affirmation. Il faudra retrouver dans un corpus de littérature scientifique les documents pertinents qui justifient ou infirment la véracité de cette affirmation. Vous utiliserez des modèles vectoriels et des métriques de similarité pour cette tâche."
   ]
  },
  {
   "cell_type": "markdown",
   "metadata": {},
   "source": [
    "### Jeux de données\n",
    "\n",
    "Dans ce TP, vous utiliserez le jeu de données dans le répertoire _data_. Il s'agit d'un ensemble de données comprenant 809 affirmations rédigées par des experts et 5183 documents de références pour ces affirmations. Ces documents contiennent des phrases qui confirment ou infirment (contredisent) les affirmations. L'objectif est donc de trouver un document pertinent, c'est-à-dire contenant la ou les phrases qui permettent d'évaluer une affirmation donnée en entrée en utilisant une similarité sémantique. \n",
    "\n",
    "Le jeu de données comprend :\n",
    "\n",
    "1. Un corpus (_corpus.jsonl_) qui contient des documents décrits avec les informations suivantes :\n",
    "    - 'doc_id' : permet d'identifier le document en entrée\n",
    "    - 'title' : donne le titre du document\n",
    "    - 'abstract': est le résumé du document\n",
    "    - 'structured': indique si le document est structuré ou pas\n",
    "\n",
    "2. Un ensemble d'affirmations (_claims.jsonl_) qui contient des documents décrits avec les informations suivantes :\n",
    "    - 'id' : identifie l'affirmation.\n",
    "    - 'claim' : est l'affirmation en tant que telle.\n",
    "    - 'evidence' : précise quelles phrases du document sont pertinentes pour l'affirmation. Chaque phrase est accompagnée d'une étiquette de véracité (confirm/contradict) pour indiquer si la phrase confirme ou contredit l'affirmation.  \n",
    "    - 'cited_doc_ids' : indique les identifiants des documents cités.\n",
    "\n",
    "\n",
    "\n",
    "Dans _claims.jsonl_, seuls les identifiants des documents sont renseignés. Pour avoir les détails d'un document tel que le titre (\"title\") et le résumé (\"abstract\"), il faudra consulter le fichier _corpus.jsonl_. \n",
    "\n",
    "Voici un exemple :\n",
    "\n",
    "- **Affirmation (claim)** : Consumption of whole fruits increases the risk of type 2 diabetes.\n",
    "- **Cited document(s) ID(s)** : 1974176\n",
    "- **Evidence (sentence in the document containing the proof)** : [{'sentences': [11], 'label': 'CONTRADICT'}]\n",
    "\n",
    "  Ici [11] constitue le numéro de la phrase qui contredit l'affirmation.\n",
    "\n",
    "- **Cited document(s) title(s)** : Fruit consumption and risk of type 2 diabetes: results from three prospective longitudinal cohort studies\n",
    "- **Cited document(s) abstract(s) (list of sentences)** : \n",
    "    - [0] 'OBJECTIVE To determine whether individual fruits are differentially associated with risk of type 2 diabetes.\\n'\n",
    "    - [1] 'DESIGN Prospective longitudinal cohort study.'\n",
    "    - ...\n",
    "    - [10] 'CONCLUSION Our findings suggest the presence of heterogeneity in the associations between individual fruit consumption and risk of type 2 diabetes.'\n",
    "    - [11] 'Greater consumption of specific whole fruits, particularly blueberries, grapes, and apples, is significantly associated with a lower risk of type 2 diabetes, whereas greater consumption of fruit juice is associated with a higher risk.'\n",
    "\n",
    "Le champ \"evidence\" indique la phrase au niveau du résumé du document qui confirme ou infirme l'affirmation, d'où le numéro de la phrase et le label qui y sont renseignés. Dans le cas particulier de l'exemple ci-dessus, on voit bien que la onzième phrase du résumé du document est la plus pertinente pour l'affirmation et qu'elle la contredit, ce qui explique le label \"CONTRADICT\" dans \"evidence\". Cependant, dans le cadre de ce TP, on ne s'intéresse qu'à la présence de cette phrase pertinente dans le document, donc on ne considérera pas cette colonne \"evidence\" dans la suite du TP."
   ]
  },
  {
   "cell_type": "markdown",
   "metadata": {
    "id": "26Qe_-7z25EE"
   },
   "source": [
    "### Librairies permises\n",
    "- Jupyter notebook\n",
    "- NLTK\n",
    "- Numpy \n",
    "- Pandas\n",
    "- Sklearn\n",
    "- PowerLaw\n",
    "- Matplotlib\n",
    "- TQDM\n",
    "- BM25\n",
    "- Pour toute autre librairie, demandez à votre chargé de laboratoire"
   ]
  },
  {
   "cell_type": "markdown",
   "metadata": {
    "id": "zupXN9tr3oEa"
   },
   "source": [
    "## Étapes du TP\n",
    "A partir du notebook _INF8460_A24_TP1_ qui est distribué, vous devez réaliser les étapes suivantes. (Notez que les cellules dans le squelette sont là à titre informatif - il est fort probable que vous rajoutiez des sections au fur et à mesure de votre TP)."
   ]
  },
  {
   "cell_type": "code",
   "execution_count": 10,
   "metadata": {},
   "outputs": [],
   "source": [
    "# Lien vers les fichiers à utiliser\n",
    "# Ne pas modifier\n",
    "\n",
    "PATH = 'data/ai2_data/'"
   ]
  },
  {
   "cell_type": "code",
   "execution_count": null,
   "metadata": {},
   "outputs": [],
   "source": [
    "# !pip install rank_bm25 \n",
    "# !pip install powerlaw"
   ]
  },
  {
   "cell_type": "code",
   "execution_count": 6,
   "metadata": {},
   "outputs": [],
   "source": [
    "# Import des librairies\n",
    "\n",
    "import numpy as np\n",
    "import pandas as pd\n",
    "import powerlaw\n",
    "from collections import defaultdict, Counter\n",
    "from tqdm import tqdm\n",
    "import matplotlib.pyplot as plt\n",
    "from typing import List, Dict\n",
    "\n",
    "import nltk\n",
    "from nltk.tokenize import word_tokenize, sent_tokenize\n",
    "from nltk.stem.porter import PorterStemmer\n",
    "from nltk.corpus import stopwords\n",
    "from string import punctuation\n",
    "\n",
    "import sklearn\n",
    "from sklearn.feature_extraction.text import TfidfVectorizer\n",
    "from sklearn.metrics.pairwise import cosine_similarity\n",
    "\n",
    "from rank_bm25 import BM25Okapi"
   ]
  },
  {
   "cell_type": "code",
   "execution_count": 7,
   "metadata": {},
   "outputs": [
    {
     "name": "stderr",
     "output_type": "stream",
     "text": [
      "[nltk_data] Downloading package punkt to\n",
      "[nltk_data]     C:\\Users\\teefr\\AppData\\Roaming\\nltk_data...\n",
      "[nltk_data]   Package punkt is already up-to-date!\n",
      "[nltk_data] Downloading package stopwords to\n",
      "[nltk_data]     C:\\Users\\teefr\\AppData\\Roaming\\nltk_data...\n",
      "[nltk_data]   Package stopwords is already up-to-date!\n"
     ]
    }
   ],
   "source": [
    "nltk.download('punkt')\n",
    "nltk.download('stopwords')\n",
    "stop_words = stopwords.words('english')"
   ]
  },
  {
   "cell_type": "markdown",
   "metadata": {},
   "source": [
    "### 1. Traitement des données (15 points)\n",
    "Vous allez effectuer une analyse afin d'avoir une idée claire des données que vous aurez à manipuler."
   ]
  },
  {
   "cell_type": "markdown",
   "metadata": {},
   "source": [
    "#### 1.1 Chargement des données (2 points)"
   ]
  },
  {
   "cell_type": "markdown",
   "metadata": {},
   "source": [
    "##### 1.1.1 Chargement et affichage des données (1 point)\n",
    "\n",
    "Chargez les données '_claims.jsonl_' et '_corpus.jsonl_' puis affichez-les dans des dataframes en utilisant panda."
   ]
  },
  {
   "cell_type": "code",
   "execution_count": 11,
   "metadata": {},
   "outputs": [],
   "source": [
    "df_claims = pd.read_json(PATH+'/claims.jsonl', lines=True)\n",
    "df_corpus = pd.read_json(PATH+'/corpus.jsonl', lines=True)"
   ]
  },
  {
   "cell_type": "code",
   "execution_count": 53,
   "metadata": {},
   "outputs": [
    {
     "data": {
      "text/html": [
       "<div>\n",
       "<style scoped>\n",
       "    .dataframe tbody tr th:only-of-type {\n",
       "        vertical-align: middle;\n",
       "    }\n",
       "\n",
       "    .dataframe tbody tr th {\n",
       "        vertical-align: top;\n",
       "    }\n",
       "\n",
       "    .dataframe thead th {\n",
       "        text-align: right;\n",
       "    }\n",
       "</style>\n",
       "<table border=\"1\" class=\"dataframe\">\n",
       "  <thead>\n",
       "    <tr style=\"text-align: right;\">\n",
       "      <th></th>\n",
       "      <th>id</th>\n",
       "      <th>claim</th>\n",
       "      <th>evidence</th>\n",
       "      <th>cited_doc_ids</th>\n",
       "      <th>claim_length</th>\n",
       "      <th>num_cited_doc</th>\n",
       "      <th>claims_preprocessed</th>\n",
       "    </tr>\n",
       "  </thead>\n",
       "  <tbody>\n",
       "    <tr>\n",
       "      <th>0</th>\n",
       "      <td>0</td>\n",
       "      <td>0-dimensional biomaterials lack inductive prop...</td>\n",
       "      <td>{}</td>\n",
       "      <td>[31715818]</td>\n",
       "      <td>5</td>\n",
       "      <td>1</td>\n",
       "      <td>[0-dimension, biomateri, lack, induct, properti]</td>\n",
       "    </tr>\n",
       "    <tr>\n",
       "      <th>1</th>\n",
       "      <td>2</td>\n",
       "      <td>1 in 5 million in UK have abnormal PrP positiv...</td>\n",
       "      <td>{'13734012': [{'sentences': [4], 'label': 'CON...</td>\n",
       "      <td>[13734012]</td>\n",
       "      <td>10</td>\n",
       "      <td>1</td>\n",
       "      <td>[1, 5, million, uk, abnorm, prp, posit]</td>\n",
       "    </tr>\n",
       "    <tr>\n",
       "      <th>2</th>\n",
       "      <td>4</td>\n",
       "      <td>1-1% of colorectal cancer patients are diagnos...</td>\n",
       "      <td>{}</td>\n",
       "      <td>[22942787]</td>\n",
       "      <td>12</td>\n",
       "      <td>1</td>\n",
       "      <td>[1-1, colorect, cancer, patient, diagnos, regi...</td>\n",
       "    </tr>\n",
       "    <tr>\n",
       "      <th>3</th>\n",
       "      <td>6</td>\n",
       "      <td>10% of sudden infant death syndrome (SIDS) dea...</td>\n",
       "      <td>{}</td>\n",
       "      <td>[2613775]</td>\n",
       "      <td>16</td>\n",
       "      <td>1</td>\n",
       "      <td>[10, sudden, infant, death, syndrom, sid, deat...</td>\n",
       "    </tr>\n",
       "    <tr>\n",
       "      <th>4</th>\n",
       "      <td>9</td>\n",
       "      <td>32% of liver transplantation programs required...</td>\n",
       "      <td>{'44265107': [{'sentences': [15], 'label': 'SU...</td>\n",
       "      <td>[44265107]</td>\n",
       "      <td>13</td>\n",
       "      <td>1</td>\n",
       "      <td>[32, liver, transplant, program, requir, patie...</td>\n",
       "    </tr>\n",
       "    <tr>\n",
       "      <th>...</th>\n",
       "      <td>...</td>\n",
       "      <td>...</td>\n",
       "      <td>...</td>\n",
       "      <td>...</td>\n",
       "      <td>...</td>\n",
       "      <td>...</td>\n",
       "      <td>...</td>\n",
       "    </tr>\n",
       "    <tr>\n",
       "      <th>804</th>\n",
       "      <td>1403</td>\n",
       "      <td>siRNA knockdown of A20 accelerates tumor progr...</td>\n",
       "      <td>{'33370': [{'sentences': [6], 'label': 'CONTRA...</td>\n",
       "      <td>[33370, 38355793]</td>\n",
       "      <td>14</td>\n",
       "      <td>2</td>\n",
       "      <td>[sirna, knockdown, a20, acceler, tumor, progre...</td>\n",
       "    </tr>\n",
       "    <tr>\n",
       "      <th>805</th>\n",
       "      <td>1404</td>\n",
       "      <td>siRNA knockdown of A20 slows tumor progression...</td>\n",
       "      <td>{'33370': [{'sentences': [6], 'label': 'SUPPOR...</td>\n",
       "      <td>[33370, 38355793]</td>\n",
       "      <td>14</td>\n",
       "      <td>2</td>\n",
       "      <td>[sirna, knockdown, a20, slow, tumor, progress,...</td>\n",
       "    </tr>\n",
       "    <tr>\n",
       "      <th>806</th>\n",
       "      <td>1405</td>\n",
       "      <td>taa1 tar1 tar2 triple mutants in Arabidopsis d...</td>\n",
       "      <td>{}</td>\n",
       "      <td>[10504681]</td>\n",
       "      <td>14</td>\n",
       "      <td>1</td>\n",
       "      <td>[taa1, tar1, tar2, tripl, mutant, arabidopsi, ...</td>\n",
       "    </tr>\n",
       "    <tr>\n",
       "      <th>807</th>\n",
       "      <td>1406</td>\n",
       "      <td>β-sheet opening occurs during pleurotolysin po...</td>\n",
       "      <td>{'2617858': [{'sentences': [4], 'label': 'SUPP...</td>\n",
       "      <td>[2617858]</td>\n",
       "      <td>7</td>\n",
       "      <td>1</td>\n",
       "      <td>[β-sheet, open, occur, pleurotolysin, pore, fo...</td>\n",
       "    </tr>\n",
       "    <tr>\n",
       "      <th>808</th>\n",
       "      <td>1407</td>\n",
       "      <td>β1/Ketel is able to bind microtubules.</td>\n",
       "      <td>{}</td>\n",
       "      <td>[8087082, 29863668]</td>\n",
       "      <td>6</td>\n",
       "      <td>2</td>\n",
       "      <td>[β1/ketel, abl, bind, microtubul]</td>\n",
       "    </tr>\n",
       "  </tbody>\n",
       "</table>\n",
       "<p>809 rows × 7 columns</p>\n",
       "</div>"
      ],
      "text/plain": [
       "       id                                              claim  \\\n",
       "0       0  0-dimensional biomaterials lack inductive prop...   \n",
       "1       2  1 in 5 million in UK have abnormal PrP positiv...   \n",
       "2       4  1-1% of colorectal cancer patients are diagnos...   \n",
       "3       6  10% of sudden infant death syndrome (SIDS) dea...   \n",
       "4       9  32% of liver transplantation programs required...   \n",
       "..    ...                                                ...   \n",
       "804  1403  siRNA knockdown of A20 accelerates tumor progr...   \n",
       "805  1404  siRNA knockdown of A20 slows tumor progression...   \n",
       "806  1405  taa1 tar1 tar2 triple mutants in Arabidopsis d...   \n",
       "807  1406  β-sheet opening occurs during pleurotolysin po...   \n",
       "808  1407             β1/Ketel is able to bind microtubules.   \n",
       "\n",
       "                                              evidence        cited_doc_ids  \\\n",
       "0                                                   {}           [31715818]   \n",
       "1    {'13734012': [{'sentences': [4], 'label': 'CON...           [13734012]   \n",
       "2                                                   {}           [22942787]   \n",
       "3                                                   {}            [2613775]   \n",
       "4    {'44265107': [{'sentences': [15], 'label': 'SU...           [44265107]   \n",
       "..                                                 ...                  ...   \n",
       "804  {'33370': [{'sentences': [6], 'label': 'CONTRA...    [33370, 38355793]   \n",
       "805  {'33370': [{'sentences': [6], 'label': 'SUPPOR...    [33370, 38355793]   \n",
       "806                                                 {}           [10504681]   \n",
       "807  {'2617858': [{'sentences': [4], 'label': 'SUPP...            [2617858]   \n",
       "808                                                 {}  [8087082, 29863668]   \n",
       "\n",
       "     claim_length  num_cited_doc  \\\n",
       "0               5              1   \n",
       "1              10              1   \n",
       "2              12              1   \n",
       "3              16              1   \n",
       "4              13              1   \n",
       "..            ...            ...   \n",
       "804            14              2   \n",
       "805            14              2   \n",
       "806            14              1   \n",
       "807             7              1   \n",
       "808             6              2   \n",
       "\n",
       "                                   claims_preprocessed  \n",
       "0     [0-dimension, biomateri, lack, induct, properti]  \n",
       "1              [1, 5, million, uk, abnorm, prp, posit]  \n",
       "2    [1-1, colorect, cancer, patient, diagnos, regi...  \n",
       "3    [10, sudden, infant, death, syndrom, sid, deat...  \n",
       "4    [32, liver, transplant, program, requir, patie...  \n",
       "..                                                 ...  \n",
       "804  [sirna, knockdown, a20, acceler, tumor, progre...  \n",
       "805  [sirna, knockdown, a20, slow, tumor, progress,...  \n",
       "806  [taa1, tar1, tar2, tripl, mutant, arabidopsi, ...  \n",
       "807  [β-sheet, open, occur, pleurotolysin, pore, fo...  \n",
       "808                  [β1/ketel, abl, bind, microtubul]  \n",
       "\n",
       "[809 rows x 7 columns]"
      ]
     },
     "execution_count": 53,
     "metadata": {},
     "output_type": "execute_result"
    }
   ],
   "source": [
    "df_claims"
   ]
  },
  {
   "cell_type": "code",
   "execution_count": 7,
   "metadata": {},
   "outputs": [
    {
     "data": {
      "text/html": [
       "<div>\n",
       "<style scoped>\n",
       "    .dataframe tbody tr th:only-of-type {\n",
       "        vertical-align: middle;\n",
       "    }\n",
       "\n",
       "    .dataframe tbody tr th {\n",
       "        vertical-align: top;\n",
       "    }\n",
       "\n",
       "    .dataframe thead th {\n",
       "        text-align: right;\n",
       "    }\n",
       "</style>\n",
       "<table border=\"1\" class=\"dataframe\">\n",
       "  <thead>\n",
       "    <tr style=\"text-align: right;\">\n",
       "      <th></th>\n",
       "      <th>doc_id</th>\n",
       "      <th>title</th>\n",
       "      <th>abstract</th>\n",
       "      <th>structured</th>\n",
       "    </tr>\n",
       "  </thead>\n",
       "  <tbody>\n",
       "    <tr>\n",
       "      <th>0</th>\n",
       "      <td>4983</td>\n",
       "      <td>Microstructural development of human newborn c...</td>\n",
       "      <td>[Alterations of the architecture of cerebral w...</td>\n",
       "      <td>False</td>\n",
       "    </tr>\n",
       "    <tr>\n",
       "      <th>1</th>\n",
       "      <td>5836</td>\n",
       "      <td>Induction of myelodysplasia by myeloid-derived...</td>\n",
       "      <td>[Myelodysplastic syndromes (MDS) are age-depen...</td>\n",
       "      <td>False</td>\n",
       "    </tr>\n",
       "    <tr>\n",
       "      <th>2</th>\n",
       "      <td>7912</td>\n",
       "      <td>BC1 RNA, the transcript from a master gene for...</td>\n",
       "      <td>[ID elements are short interspersed elements (...</td>\n",
       "      <td>False</td>\n",
       "    </tr>\n",
       "    <tr>\n",
       "      <th>3</th>\n",
       "      <td>18670</td>\n",
       "      <td>The DNA Methylome of Human Peripheral Blood Mo...</td>\n",
       "      <td>[DNA methylation plays an important role in bi...</td>\n",
       "      <td>False</td>\n",
       "    </tr>\n",
       "    <tr>\n",
       "      <th>4</th>\n",
       "      <td>19238</td>\n",
       "      <td>The human myelin basic protein gene is include...</td>\n",
       "      <td>[Two human Golli (for gene expressed in the ol...</td>\n",
       "      <td>False</td>\n",
       "    </tr>\n",
       "    <tr>\n",
       "      <th>...</th>\n",
       "      <td>...</td>\n",
       "      <td>...</td>\n",
       "      <td>...</td>\n",
       "      <td>...</td>\n",
       "    </tr>\n",
       "    <tr>\n",
       "      <th>5178</th>\n",
       "      <td>195689316</td>\n",
       "      <td>Body-mass index and cause-specific mortality i...</td>\n",
       "      <td>[BACKGROUND The main associations of body-mass...</td>\n",
       "      <td>True</td>\n",
       "    </tr>\n",
       "    <tr>\n",
       "      <th>5179</th>\n",
       "      <td>195689757</td>\n",
       "      <td>Targeting metabolic remodeling in glioblastoma...</td>\n",
       "      <td>[A key aberrant biological difference between ...</td>\n",
       "      <td>False</td>\n",
       "    </tr>\n",
       "    <tr>\n",
       "      <th>5180</th>\n",
       "      <td>196664003</td>\n",
       "      <td>Signaling architectures that transmit unidirec...</td>\n",
       "      <td>[A signaling pathway transmits information fro...</td>\n",
       "      <td>False</td>\n",
       "    </tr>\n",
       "    <tr>\n",
       "      <th>5181</th>\n",
       "      <td>198133135</td>\n",
       "      <td>Association between pre-diabetes, type 2 diabe...</td>\n",
       "      <td>[AIMS Trabecular bone score (TBS) is a surroga...</td>\n",
       "      <td>True</td>\n",
       "    </tr>\n",
       "    <tr>\n",
       "      <th>5182</th>\n",
       "      <td>198309074</td>\n",
       "      <td>Adhesion molecules and chemokines: relation to...</td>\n",
       "      <td>[Introduction: Among the inflammatory mediator...</td>\n",
       "      <td>False</td>\n",
       "    </tr>\n",
       "  </tbody>\n",
       "</table>\n",
       "<p>5183 rows × 4 columns</p>\n",
       "</div>"
      ],
      "text/plain": [
       "         doc_id                                              title  \\\n",
       "0          4983  Microstructural development of human newborn c...   \n",
       "1          5836  Induction of myelodysplasia by myeloid-derived...   \n",
       "2          7912  BC1 RNA, the transcript from a master gene for...   \n",
       "3         18670  The DNA Methylome of Human Peripheral Blood Mo...   \n",
       "4         19238  The human myelin basic protein gene is include...   \n",
       "...         ...                                                ...   \n",
       "5178  195689316  Body-mass index and cause-specific mortality i...   \n",
       "5179  195689757  Targeting metabolic remodeling in glioblastoma...   \n",
       "5180  196664003  Signaling architectures that transmit unidirec...   \n",
       "5181  198133135  Association between pre-diabetes, type 2 diabe...   \n",
       "5182  198309074  Adhesion molecules and chemokines: relation to...   \n",
       "\n",
       "                                               abstract  structured  \n",
       "0     [Alterations of the architecture of cerebral w...       False  \n",
       "1     [Myelodysplastic syndromes (MDS) are age-depen...       False  \n",
       "2     [ID elements are short interspersed elements (...       False  \n",
       "3     [DNA methylation plays an important role in bi...       False  \n",
       "4     [Two human Golli (for gene expressed in the ol...       False  \n",
       "...                                                 ...         ...  \n",
       "5178  [BACKGROUND The main associations of body-mass...        True  \n",
       "5179  [A key aberrant biological difference between ...       False  \n",
       "5180  [A signaling pathway transmits information fro...       False  \n",
       "5181  [AIMS Trabecular bone score (TBS) is a surroga...        True  \n",
       "5182  [Introduction: Among the inflammatory mediator...       False  \n",
       "\n",
       "[5183 rows x 4 columns]"
      ]
     },
     "execution_count": 7,
     "metadata": {},
     "output_type": "execute_result"
    }
   ],
   "source": [
    "df_corpus"
   ]
  },
  {
   "cell_type": "markdown",
   "metadata": {},
   "source": [
    "##### 1.1.2 Statistique sur les évidences (1 point)\n",
    "\n",
    "Calculez les pourcentages d'apparition de chaque label des évidences dans \"_df_claims_\" (CONTRADICT ou SUPPORT). Pour rappel les évidences sont les extraits pertinents des résumés qui supportent ou contredisent les affirmations. "
   ]
  },
  {
   "cell_type": "code",
   "execution_count": 54,
   "metadata": {},
   "outputs": [
    {
     "name": "stdout",
     "output_type": "stream",
     "text": [
      "CONTRADICT: 35.63%\n",
      "SUPPORT: 64.37%\n"
     ]
    }
   ],
   "source": [
    "# On calcule les pourcentages des labels present dans evidence\n",
    "\n",
    "contradict_count = 0\n",
    "support_count = 0\n",
    "\n",
    "for id, claim in df_claims.iterrows(): # for each claim\n",
    "    for doc_id, list_sentences in claim['evidence'].items(): #for each cited document\n",
    "        for sentences in list_sentences: # for each sentences\n",
    "            if sentences['label'] == 'CONTRADICT': \n",
    "                contradict_count += 1\n",
    "            elif sentences['label'] == 'SUPPORT':\n",
    "                support_count += 1\n",
    "\n",
    "total_labels = contradict_count + support_count\n",
    "\n",
    "contradict_percentage = (contradict_count / total_labels) * 100\n",
    "support_percentage = (support_count / total_labels) * 100\n",
    "\n",
    "print(f\"CONTRADICT: {contradict_percentage:.2f}%\")\n",
    "print(f\"SUPPORT: {support_percentage:.2f}%\")"
   ]
  },
  {
   "cell_type": "markdown",
   "metadata": {},
   "source": [
    "> Réponse attendue:\n",
    "> \n",
    "> CONTRADICT: 35.63%\n",
    "> \n",
    "> SUPPORT: 64.37%"
   ]
  },
  {
   "cell_type": "markdown",
   "metadata": {},
   "source": [
    "#### 1.2 Analyse statistique des données (7 points)\n",
    "\n",
    "Nous allons faire une suite de transformations sur les données pour les rendre plus faciles à manipuler."
   ]
  },
  {
   "cell_type": "markdown",
   "metadata": {},
   "source": [
    "##### 1.2.1 Implémentation de la fonction \"_list_to_string_\" \n",
    "\n",
    "Nous mettons à votre disposition la fonction \"_list_to_string_\" qui transforme une liste de phrases en un texte en les concaténant et enlèvant tous les caractères de nouvelle ligne (`\\n`) pour s'assurer que nous avons un texte complet. "
   ]
  },
  {
   "cell_type": "code",
   "execution_count": 13,
   "metadata": {},
   "outputs": [],
   "source": [
    "# On transforme la liste de phrases en un texte\n",
    "def list_to_string(x):\n",
    "    if isinstance(x, list):\n",
    "        return ' '.join(str(i).replace(\"\\n\",\"\").replace(\"  \",\" \") for i in x)  # Enlève les caractère de retour à la ligne et convertit les éléments de la liste en chaînes et les joint\n",
    "    return str(x)"
   ]
  },
  {
   "cell_type": "markdown",
   "metadata": {},
   "source": [
    "##### 1.2.2 Utilisation de la fonction \"_list_to_string_\" \n",
    "\n",
    "Appliquons cette fonction \"_list_to_string_\" aux colonnes \"_title_\" et \"abstract\" du dataframe \"_df_corpus_\"."
   ]
  },
  {
   "cell_type": "code",
   "execution_count": 14,
   "metadata": {},
   "outputs": [],
   "source": [
    "# On applique la fonction aux colonnes \"title\" et \"abstract\"\n",
    "df_corpus['title']    = df_corpus['title'].apply(list_to_string)\n",
    "df_corpus['abstract'] = df_corpus['abstract'].apply(list_to_string)\n"
   ]
  },
  {
   "cell_type": "markdown",
   "metadata": {},
   "source": [
    "##### 1.2.3 Ajout de la colonne \"_text_\" dans \"df_corpus\"\n",
    "\n",
    "\n",
    "Ajoutons maintenant une colonne \"_text_\" qui est la concaténation du titre (\"_title_\") et du résumé (\"_abstract_\") au niveau du dataframe \"df_corpus\"."
   ]
  },
  {
   "cell_type": "code",
   "execution_count": 15,
   "metadata": {},
   "outputs": [],
   "source": [
    "# On concatene les textes dans \"title\" et \"abstract\" pour ajouter la colonne text\n",
    "df_corpus['text'] = df_corpus['title'] + \" \" + df_corpus['abstract']"
   ]
  },
  {
   "cell_type": "code",
   "execution_count": null,
   "metadata": {},
   "outputs": [],
   "source": [
    "df_corpus"
   ]
  },
  {
   "cell_type": "markdown",
   "metadata": {},
   "source": [
    "##### 1.2.4 Ajout de colonnes dans \"_df_claims_\" (1 point)\n",
    "\n",
    "Ajoutez les colonnes \"_claim_length_\" et \"_num_cited_doc_\" qui donnent, pour chaque affirmation, le nombre de mots dans la colonne \"_claim_\" et le nombre de documents cités au niveau de la colonne \"_cited_doc_ids_\" pour le dataframe \"_df_claims_\". Vous pouvez considérer que des mots sont simplement une séquence de caractères séparés par un espace."
   ]
  },
  {
   "cell_type": "code",
   "execution_count": 58,
   "metadata": {},
   "outputs": [],
   "source": [
    "# On ajoute les colonnes claim_length et num_cited_doc\n",
    "\n",
    "df_claims['claim_length'] = df_claims['claim'].apply(lambda x: len(x.split()))\n",
    "df_claims['num_cited_doc'] = df_claims['cited_doc_ids'].apply(lambda x: len(x))"
   ]
  },
  {
   "cell_type": "markdown",
   "metadata": {},
   "source": [
    "##### 1.2.5 Ajout des colonnes de mesures de longeurs de textes (documents) (1 point)\n",
    "\n",
    "Ajoutez les colonnes \"_title_length_\", \"_abstract_length_\" et \"_text_length_\" qui donnent le nombre de mots dans les colonnes \"_title_\", \"_abstract_\" et \"_text_\" du dataframe \"_df_corpus_\". Pour le reste du TP, nous définirons la longueur du \"_title_\", \"_abstract_\" et du \"_text_\" comme étant le nombre de mots dans les chaînes de caractères respectives. Encore une fois, vous pouvez considérer que des mots sont simplement une séquence de caractères séparés par un espace."
   ]
  },
  {
   "cell_type": "code",
   "execution_count": 59,
   "metadata": {},
   "outputs": [],
   "source": [
    "# On ajoute les colonnes title_length, abstract_length et text_length\n",
    "\n",
    "df_corpus['title_length'] = df_corpus['title'].apply(lambda x: len(x.split()))\n",
    "df_corpus['abstract_length'] = df_corpus['abstract'].apply(lambda x: len(x.split()))\n",
    "df_corpus['text_length'] = df_corpus['text'].apply(lambda x: len(x.split()))"
   ]
  },
  {
   "cell_type": "markdown",
   "metadata": {},
   "source": [
    "##### 1.2.6 Analyse statistique (1.5 point)\n",
    "\n",
    "Faites l'analyse statistique des données en affichant le \"_min_\", le \"_max_\" et la \"_moyenne_\" pour les deux colonnes \"_claim_length_\" et \"_num_cited_doc_\" que vous venez de créer."
   ]
  },
  {
   "cell_type": "code",
   "execution_count": 60,
   "metadata": {},
   "outputs": [
    {
     "name": "stdout",
     "output_type": "stream",
     "text": [
      "Colonne claim_length -> Min: 3, Max: 39, Moyenne: 12.33\n",
      "Colonne num_cited_doc -> Min: 1, Max: 5, Moyenne: 1.14\n"
     ]
    }
   ],
   "source": [
    "# On calcule les statisiques de la colonne claim_length\n",
    "\n",
    "min_claim_length = df_claims['claim_length'].min()\n",
    "max_claim_length = df_claims['claim_length'].max()\n",
    "mean_claim_length = df_claims['claim_length'].mean()\n",
    "\n",
    "print(f\"Colonne claim_length -> Min: {min_claim_length}, Max: {max_claim_length}, Moyenne: {mean_claim_length:.2f}\")\n",
    "\n",
    "# On calcule les statisiques de la colonne num_cited_doc\n",
    "\n",
    "min_num_cited_doc = df_claims['num_cited_doc'].min()\n",
    "max_num_cited_doc = df_claims['num_cited_doc'].max()\n",
    "mean_num_cited_doc = df_claims['num_cited_doc'].mean()\n",
    "\n",
    "print(f\"Colonne num_cited_doc -> Min: {min_num_cited_doc}, Max: {max_num_cited_doc}, Moyenne: {mean_num_cited_doc:.2f}\")"
   ]
  },
  {
   "cell_type": "markdown",
   "metadata": {},
   "source": [
    "##### 1.2.7 Histogrammes (2 points)\n",
    "\n",
    "En considérant le dataframe du corpus de résumés (\"_df_corpus_\"), affichez dans 3 histogrammes les distributions suivantes:\n",
    "\n",
    "- Fréquence des titres ('_title_') en fonction de leur longueur\n",
    "- Fréquence des résumés ('_abstract_') en fonction de leur longueur\n",
    "- Fréquence des textes ('_text_') en fonction de leur longueur\n",
    "\n",
    "Utilisez la valeur de 30 pour le paramètre \"_bins_\""
   ]
  },
  {
   "cell_type": "code",
   "execution_count": null,
   "metadata": {},
   "outputs": [],
   "source": [
    "# On affiche les histogrammes des distributions de fréquences en fonction des longueurs\n",
    "plt.figure(figsize=(15, 5))\n",
    "\n",
    "# Plot pour title_length\n",
    "plt.subplot(1, 3, 1)\n",
    "plt.hist(df_corpus['title_length'], bins=30, color='blue', edgecolor='black')\n",
    "plt.title('Title Length Distribution')\n",
    "plt.xlabel('Length')\n",
    "plt.ylabel('Frequency')\n",
    "\n",
    "# Plot pour abstract_length\n",
    "plt.subplot(1, 3, 2)\n",
    "plt.hist(df_corpus['abstract_length'], bins=30, color='green', edgecolor='black')\n",
    "plt.title('Abstract Length Distribution')\n",
    "plt.xlabel('Length')\n",
    "plt.ylabel('Frequency')\n",
    "\n",
    "# Plot pour text_length\n",
    "plt.subplot(1, 3, 3)\n",
    "plt.hist(df_corpus['text_length'], bins=30, color='red', edgecolor='black')\n",
    "plt.title('Text Length Distribution')\n",
    "plt.xlabel('Length')\n",
    "plt.ylabel('Frequency')"
   ]
  },
  {
   "cell_type": "markdown",
   "metadata": {},
   "source": [
    "##### 1.2.8 Quelles remarques faites-vous sur les affirmations (claims) et les documents ? (1.5 points) \n",
    "\n",
    "En observant les maximums, les minimums et les moyennes, que remarquez-vous à propos des affirmations ('_claims_') ? À l'aide des graphiques générés, comparez également les documents."
   ]
  },
  {
   "cell_type": "code",
   "execution_count": 20,
   "metadata": {},
   "outputs": [
    {
     "data": {
      "text/plain": [
       "\"\\nEn observant les statistiques, on peut remarquer que :\\n-Il y a des affirmations très courtes et d'autres assez longues.\\n-En moyenne, un seul document est cité pour justifier une affirmation, ce qui n'est pas beaucoup.\\n\\nEn observant les histogrammes, on peut remarquer que :\\n-La colonne title n'a pas l'air d'ajouter beaucoup d'information sur la colonne text car les distributions de text et d'abstract sont quasiment identiques.\\n\""
      ]
     },
     "execution_count": 20,
     "metadata": {},
     "output_type": "execute_result"
    }
   ],
   "source": [
    "'''\n",
    "En observant les statistiques, on peut remarquer que :\n",
    "-Il y a des affirmations très courtes et d'autres assez longues.\n",
    "-En moyenne, un seul document est cité pour justifier une affirmation, ce qui n'est pas beaucoup.\n",
    "\n",
    "En observant les histogrammes, on peut remarquer que :\n",
    "-La colonne title n'a pas l'air d'ajouter beaucoup d'information sur la colonne text car les distributions de text et d'abstract sont quasiment identiques.\n",
    "'''"
   ]
  },
  {
   "cell_type": "markdown",
   "metadata": {},
   "source": [
    "#### 1.3 Pré-traitement (6 points)\n",
    "Les affirmations et résumés de texte de votre ensemble de données doivent d’abord être représentés et indexés pour ensuite pouvoir effectuer une recherche de document (pouvant être \"_title_\", \"_abstract_\" ou la fusion des deux représentée par \"_text_\") qui justifie/contredit une affirmation. Vous devez donc implémenter une étape de pré-traitement des données."
   ]
  },
  {
   "cell_type": "markdown",
   "metadata": {},
   "source": [
    "##### 1.3.1 Implémentation de la fonction \"_tokenize_sentence_\" (1 point)\n",
    "\n",
    "Implémentez la fonction \"_tokenize_sentence_\" pour la segmentation d'une phrase en une liste de jetons. Utilisez la librarie `nltk`."
   ]
  },
  {
   "cell_type": "code",
   "execution_count": 57,
   "metadata": {},
   "outputs": [],
   "source": [
    "def tokenize_sentence(sentence):\n",
    "    tokens = word_tokenize(sentence)\n",
    "    return tokens"
   ]
  },
  {
   "cell_type": "markdown",
   "metadata": {},
   "source": [
    "##### 1.3.2 Implémentation de la fonction \"_tokenize_text_\" (1 point)\n",
    "Implémentez la fonction \"_tokenize_text_\" qui utilise \"_tokenize_sentence_\" pour faire la segmentation d'un texte (liste de phrases)."
   ]
  },
  {
   "cell_type": "code",
   "execution_count": 61,
   "metadata": {},
   "outputs": [],
   "source": [
    "def tokenize_text(text):\n",
    "    return [tokenize_sentence(sentence) for sentence in text]"
   ]
  },
  {
   "cell_type": "markdown",
   "metadata": {},
   "source": [
    "##### 1.3.3 Implémentation de la fonction \"_stem_tokens_\" (1 point)\n",
    "\n",
    "Implémentez la fonction \"_stem_tokens_\" qui prend une liste de jetons (tokens) en entrée et retourne une liste contenant leur forme racinisée (stems) en utilisant l'algorithme de racinisation PorterStemmer de la bibliothèque nltk."
   ]
  },
  {
   "cell_type": "code",
   "execution_count": 62,
   "metadata": {},
   "outputs": [],
   "source": [
    "def stem_tokens(tokens):\n",
    "    stemmer = PorterStemmer() \n",
    "    stem_list = [] \n",
    "    for word in tokens:\n",
    "        stem_token = stemmer.stem(word) # on prend la forme racinisée du mot\n",
    "        stem_list.append(stem_token) \n",
    "    return stem_list"
   ]
  },
  {
   "cell_type": "markdown",
   "metadata": {},
   "source": [
    "##### 1.3.4 Pré-traitement (2 points)\n",
    "\n",
    "En utilisant vos précédentes fonctions, faites maintenant le pré-traitement des champs \"_text_\", \"_title_\" et \"_abstract_\" du dataframe \"_df_corpus_\" et \"_claim_\" du dataframe \"_df_claims_\" en suivant les étapes suivantes:\n",
    "- conversion en minuscules\n",
    "- segmentation (tokenization) des passages\n",
    "- suppression des stop-words et ponctuation\n",
    "- racinisation (stemming) des jetons\n",
    "\n",
    "Nommez la liste des affirmations pré-traitées par \"_claims_preprocessed_\". Pour le corpus de documents considérez les ensembles de titres \"_title_\", de résumés \"abstract\" et la fusion des deux \"_text_\" et nommez les listes correspondantes par \"_titles_preprocessed_\", \"_abstracts_preprocessed_\" et \"_texts_preprocessed_\" respectivement."
   ]
  },
  {
   "cell_type": "code",
   "execution_count": 63,
   "metadata": {},
   "outputs": [],
   "source": [
    "def preprocess_text(text):\n",
    "    # Conversion en minuscule\n",
    "    text = text.lower()\n",
    "    # Tokenization\n",
    "    tokens = tokenize_sentence(text)\n",
    "    # Suppression des stop-words et ponctuation\n",
    "    tokens = [word for word in tokens if word not in stop_words and word not in punctuation]\n",
    "    # Racinisation\n",
    "    tokens = stem_tokens(tokens)\n",
    "    \n",
    "    return tokens\n",
    "\n",
    "df_corpus['texts_preprocessed'] = df_corpus['text'].apply(preprocess_text)\n",
    "df_corpus['abstracts_preprocessed'] = df_corpus['abstract'].apply(preprocess_text)\n",
    "df_corpus['titles_preprocessed'] = df_corpus['title'].apply(preprocess_text)\n",
    "\n",
    "df_claims['claims_preprocessed'] = df_claims['claim'].apply(preprocess_text)\n"
   ]
  },
  {
   "cell_type": "markdown",
   "metadata": {},
   "source": [
    "##### 1.3.5 Jetons uniques (types) (1 point)\n",
    "\n",
    "Affichez maintenant le nombre total de jetons dans tous les textes (_text_) et affirmations (_claim_) (en les considérant comme un seul corpus) après le pré-traitement. Puis, affichez le nombre de jetons uniques (types) dans les textes (_text_) et les affirmations (_claim_). "
   ]
  },
  {
   "cell_type": "code",
   "execution_count": 64,
   "metadata": {},
   "outputs": [
    {
     "name": "stdout",
     "output_type": "stream",
     "text": [
      "Nombre total de jetons: 742202\n",
      "\n",
      "Nombre totale de types: 45195\n",
      "\n"
     ]
    }
   ],
   "source": [
    "texts_and_claims_corpus = pd.concat([df_corpus['texts_preprocessed'], df_claims['claims_preprocessed']])\n",
    "tokens = [token for text_or_claim in texts_and_claims_corpus for token in text_or_claim]\n",
    "types = set(tokens) # On transforme en set pour ne conserver que les jetons uniques\n",
    "\n",
    "print(f\"Nombre total de jetons: {len(tokens)}\\n\")\n",
    "print(f\"Nombre totale de types: {len(types)}\\n\")"
   ]
  },
  {
   "cell_type": "markdown",
   "metadata": {
    "id": "3qH8-QAw8BEV"
   },
   "source": [
    "### 2. Représentation des affirmations et des documents  (45 points)"
   ]
  },
  {
   "cell_type": "markdown",
   "metadata": {},
   "source": [
    "#### 2.1  Vocabulaire (15 points)"
   ]
  },
  {
   "cell_type": "markdown",
   "metadata": {},
   "source": [
    "##### 2.1.1 Implémentation de la fonction \"_get_vocab_\" (3 points)\n",
    "\n",
    "Implémentez la fonction \"_get_vocab_\" qui prend une liste de textes composés chacun d'une liste de jetons et retourne un dictionnaire dont les clés sont les jetons uniques et les valeurs sont leur fréquence dans l'ensemble des textes."
   ]
  },
  {
   "cell_type": "code",
   "execution_count": 65,
   "metadata": {},
   "outputs": [],
   "source": [
    "def get_vocab(texts_list):\n",
    "    all_tokens = [token for text in texts_list for token in text]\n",
    "    vocab = dict(Counter(all_tokens)) # On génère le dictionnaire avec Counter\n",
    "    return vocab"
   ]
  },
  {
   "cell_type": "markdown",
   "metadata": {},
   "source": [
    "##### 2.1.2 Implémentez la fonction \"_show_top_N_types_\" (3 points)\n",
    "\n",
    "Implémentez la fonction \"show_top_N_types\" qui affiche les N jetons les plus fréquents à partir d'un dictionnaire comme celui retourné par la fonction \"_get_vocab_\".\n",
    "\n",
    "La fonction prend deux arguments: le dictionnaire \"_dictionary_\" et le paramètre \"_N_\". "
   ]
  },
  {
   "cell_type": "code",
   "execution_count": 66,
   "metadata": {},
   "outputs": [],
   "source": [
    "def show_top_N_types(dictionary, N):\n",
    "    sorted_vocab = sorted(dictionary.items(), key=lambda item: item[1], reverse=True) # On trie le dictionnaire en fonction de la fréquence des jetons\n",
    "    top_n_types = sorted_vocab[:N] # On garde seulement les N premiers\n",
    "    print(f\"Les {N} types les plus fréquents:\")\n",
    "    for type in top_n_types:\n",
    "        print(type)"
   ]
  },
  {
   "cell_type": "markdown",
   "metadata": {},
   "source": [
    "##### 2.1.3 Construction du vocabulaire (1 point)\n",
    "\n",
    "Construisez maintenant le vocabulaire pour les affirmations et le corpus de documents à partir des listes \"texts_preprocessed\" et \"claims_preprocessed\". \n",
    "\n",
    "Ensuite affichez les 15 jetons les plus fréquents ainsi que leur fréquence."
   ]
  },
  {
   "cell_type": "code",
   "execution_count": 67,
   "metadata": {},
   "outputs": [
    {
     "name": "stdout",
     "output_type": "stream",
     "text": [
      "Les 15 types les plus fréquents:\n",
      "('cell', 10464)\n",
      "('patient', 4175)\n",
      "('activ', 4145)\n",
      "('studi', 4014)\n",
      "('use', 3799)\n",
      "('express', 3626)\n",
      "('result', 3213)\n",
      "('protein', 3083)\n",
      "('gene', 3004)\n",
      "('cancer', 2945)\n",
      "('increas', 2794)\n",
      "('associ', 2659)\n",
      "('effect', 2567)\n",
      "('function', 2515)\n",
      "('human', 2464)\n"
     ]
    }
   ],
   "source": [
    "vocab = get_vocab(pd.concat([df_corpus['texts_preprocessed'], df_claims['claims_preprocessed']])) # Construction du vocabulaire\n",
    "show_top_N_types(vocab, 15) # Affichage des 15 types les plus fréquents et leur fréquence respective"
   ]
  },
  {
   "cell_type": "markdown",
   "metadata": {},
   "source": [
    "Sortie attendue:\n",
    "\n",
    "```Nombre de types composant le vocabulaire: 45195\n",
    "Les 15 types les plus fréquents:\n",
    "('cell', 10464)\n",
    "('patient', 4175)\n",
    "('activ', 4145)\n",
    "('studi', 4014)\n",
    "('use', 3799)\n",
    "('express', 3626)\n",
    "('result', 3213)\n",
    "('protein', 3083)\n",
    "('gene', 3004)\n",
    "('cancer', 2945)\n",
    "('increas', 2794)\n",
    "('associ', 2659)\n",
    "('effect', 2567)\n",
    "('function', 2515)\n",
    "('human', 2464)"
   ]
  },
  {
   "cell_type": "markdown",
   "metadata": {},
   "source": [
    "##### 2.1.4 Implémentation de la fonction \"_show_distribution_\" (4 points)\n",
    "\n",
    "Implémentez la fonction \"__show_distribution__\" qui permet de visualiser la distribution des fréquences des jetons à partir d'un dictionnaire comme celui retourné par la fonction \"_get_vocab_\", en utilisant un graphique où l'axe des abscisses représente le rang d'un type (après un tri par ordre de fréquence décroissante) et l'axe des ordonnées représente sa fréquence sur une échelle logarithmique.  \n",
    "\n",
    "Par exemple, le point (10000, 10) voudrait dire que le 10000ème mot le plus fréquent a une fréquence à peu prés egale à 10 dans le vocabulaire."
   ]
  },
  {
   "cell_type": "code",
   "execution_count": 68,
   "metadata": {},
   "outputs": [
    {
     "data": {
      "image/png": "[encoded data removed]",
      "text/plain": [
       "<Figure size 1000x500 with 1 Axes>"
      ]
     },
     "metadata": {},
     "output_type": "display_data"
    }
   ],
   "source": [
    "def show_distribution(vocab):\n",
    "    # Trier les types par fréquence décroissante\n",
    "    sorted_vocab = sorted(vocab.values(), reverse=True)\n",
    "    \n",
    "    # Obtenir les rangs et les fréquences\n",
    "    ranks = np.arange(1, len(sorted_vocab) + 1)\n",
    "    frequencies = np.array(sorted_vocab)\n",
    "    \n",
    "    # Afficher le graphique\n",
    "    plt.figure(figsize=(10, 5))\n",
    "    plt.plot(ranks, frequencies, marker='.', linestyle='-')\n",
    "    plt.yscale('log')\n",
    "    plt.xlabel('Rang des types')\n",
    "    plt.ylabel('Fréquence (échelle logarithmique)')\n",
    "    plt.title('Distribution des fréquences des jetons')\n",
    "    plt.grid(True, which='both', linestyle='--', linewidth=0.5)\n",
    "\n",
    "show_distribution(vocab)"
   ]
  },
  {
   "cell_type": "markdown",
   "metadata": {},
   "source": [
    "##### 2.1.5 Vérification de la loi de Zipf (4 points)\n",
    "\n",
    "Afin de vérifier la loi de Zipf, donnez une estimation de la valeur de la constante k de cette loi définie comme suit: \n",
    "\n",
    "$$ f \\approx \\frac{k}{r^\\alpha} $$ \n",
    "\n",
    "où $ f $ est la fréquence d'un mot, $ r $ est le rang de ce mot dans la liste triée par fréquence décroissante, et $ k $ est une constante. Etant données les fluctuations sur les valeurs de fréquence, vous pouvez utiliser la librairie ['powerlaw'](https://pypi.org/project/powerlaw/) conçue pour analyser et ajuster des distributions de loi de puissance aux données et qui peut être utile dans l'estimation de $ \\alpha $.\n",
    "\n",
    "Affichez la constante $ k $ trouvée, les fréquences réelles des mots avec celles qui sont prédites par la loi de Zipf."
   ]
  },
  {
   "cell_type": "code",
   "execution_count": 69,
   "metadata": {},
   "outputs": [
    {
     "name": "stdout",
     "output_type": "stream",
     "text": [
      "Calculating best minimal value for power law fit\n",
      "Constante K : 12131.745923002101\n"
     ]
    },
    {
     "data": {
      "image/png": "[encoded data removed]",
      "text/plain": [
       "<Figure size 1000x500 with 1 Axes>"
      ]
     },
     "metadata": {},
     "output_type": "display_data"
    }
   ],
   "source": [
    "frequencies = sorted(vocab.values() , reverse=True)\n",
    "\n",
    "data = powerlaw.Fit(frequencies) # On utilise powerlaw pour estimer alpha\n",
    "\n",
    "r = np.arange(1, len(frequencies) + 1) # On calcule les rangs\n",
    "r = r **(-data.power_law.alpha)\n",
    "\n",
    "slope = np.polyfit(r, frequencies, 1)[0] # On récupère la pente qui correspond à K avec une regression linéaire\n",
    "\n",
    "print(f'Constante K : {slope}')\n",
    "\n",
    "predicted_freqs = [slope / ((i+1)**(data.power_law.alpha)) for i in range(len(frequencies))] # On calcule les fréquences prédites à partir de K\n",
    "\n",
    "# Affichage du graphique\n",
    "plt.figure(figsize=(10, 5))\n",
    "plt.loglog(frequencies, label='Fréquences réelles', marker='.', linestyle='-')\n",
    "plt.loglog(predicted_freqs, label='Fréquences prédites par Zipf', marker='x', linestyle='--')\n",
    "plt.xlabel('Rang des mots')\n",
    "plt.ylabel('Fréquence des mots')\n",
    "plt.title('Comparaison des fréquences réelles et prédites par la loi de Zipf')\n",
    "plt.legend()\n",
    "plt.show()"
   ]
  },
  {
   "cell_type": "markdown",
   "metadata": {
    "id": "pdxcQdRJ818T"
   },
   "source": [
    "#### 2.2  Création d’un modèle sac de mots (10 points)"
   ]
  },
  {
   "cell_type": "markdown",
   "metadata": {},
   "source": [
    "##### 2.2.1 Répresentation de texte (5 points)\n",
    "\n",
    "En utilisant sklearn et à partir de vos données pré-traitées (\"_claims_preprocessed_\", \"_titles_preprocessed_\", \"_abstracts_preprocessed_\" et \"_texts_preprocessed_\"), représentez chaque affirmation (_claim_) et document avec le vocabulaire créé 'précédemment dans la variables \"_claims_preprocessed_joined\", \"_titles_preprocessed_joined_\", \"_abstract_preprocessed_joined_\" et \"_texts_preprocessed_joined_\". Cela veut dire que tout jeton qui n'est pas dans le vocabulaire doit être enlevé dans le document et l'affirmation. Faites cela pour les trois possibilités de représentation de document: \"_title_\", \"_abstract_\" et \"_text_\"."
   ]
  },
  {
   "cell_type": "code",
   "execution_count": 31,
   "metadata": {
    "id": "NKJxoJSwBovJ"
   },
   "outputs": [],
   "source": [
    "def exclude_tokens(all_tokens, vocab):\n",
    "    return [[token for token in list_of_tokens if token in vocab.keys()] for list_of_tokens in all_tokens] # On ne garde que les tokens du vocabulaire\n",
    "\n",
    "# On filtre les jetons avec le vocabulaire\n",
    "claims_preprocessed_filtered = exclude_tokens(df_claims['claims_preprocessed'], vocab) \n",
    "titles_preprocessed_filtered = exclude_tokens(df_corpus['titles_preprocessed'], vocab)\n",
    "abstracts_preprocessed_filtered = exclude_tokens(df_corpus['abstracts_preprocessed'], vocab)\n",
    "texts_preprocessed_filtered = exclude_tokens(df_corpus['texts_preprocessed'], vocab)\n",
    "\n",
    "claims_preprocessed_joined = [' '.join(tokens) for tokens in claims_preprocessed_filtered] # On utilise join pour obtenir une liste d'affirmations prétraitées\n",
    "\n",
    "titles_preprocessed_joined = [' '.join(tokens) for tokens in titles_preprocessed_filtered] # On utilise join pour obtenir une liste de documents titles prétraités\n",
    "\n",
    "abstracts_preprocessed_joined = [' '.join(tokens) for tokens in abstracts_preprocessed_filtered] # On utilise join pour obtenir une liste de documents abstracts prétraités\n",
    "\n",
    "texts_preprocessed_joined = [' '.join(tokens) for tokens in texts_preprocessed_filtered] # On utilise join pour obtenir une liste de documents texts prétraités"
   ]
  },
  {
   "cell_type": "markdown",
   "metadata": {},
   "source": [
    "##### 2.2.2 Pondération (4 points)\n",
    "\n",
    "En utilisant un modèle sac de mots basé sur des unigrammes et des bigrammes, créez une représentation vectorielle de vos documents (titles, abstracts, texts) et de vos affirmations (claims) avec TF-IDF en utilisant le TfidfVectorizer de sklearn. "
   ]
  },
  {
   "cell_type": "code",
   "execution_count": 32,
   "metadata": {},
   "outputs": [],
   "source": [
    "# Initilisation de TfidfVectorizer\n",
    "vectorizer = TfidfVectorizer(ngram_range=(1, 2))\n",
    "\n",
    "# Construction du vocabulaire avec les affirmations et les textes\n",
    "vectorizer.fit(claims_preprocessed_joined + texts_preprocessed_joined) \n",
    "\n",
    "# Obtention des représentation vectorielles des affirmations et des documents\n",
    "claims_tfidf = vectorizer.transform(claims_preprocessed_joined) \n",
    "titles_tfidf = vectorizer.transform(titles_preprocessed_joined)\n",
    "abstracts_tfidf = vectorizer.transform(abstracts_preprocessed_joined)\n",
    "texts_tfidf = vectorizer.transform(texts_preprocessed_joined)\n",
    "\n"
   ]
  },
  {
   "cell_type": "markdown",
   "metadata": {},
   "source": [
    "##### 2.2.3 Affichage (1 point)\n",
    "\n",
    "Affichez les dimensions (shape) de vos corpus (claims, text, title, abstract) après vectorisation"
   ]
  },
  {
   "cell_type": "code",
   "execution_count": 33,
   "metadata": {},
   "outputs": [
    {
     "name": "stdout",
     "output_type": "stream",
     "text": [
      "(809, 473643)\n"
     ]
    }
   ],
   "source": [
    "# Affichage des dimensions de la matrice TF-IDF pour les affirmations\n",
    "print(claims_tfidf.shape)"
   ]
  },
  {
   "cell_type": "markdown",
   "metadata": {},
   "source": [
    "Sortie attendue pour \"_claims_\"\n",
    "```\n",
    "(809, 473643)\n",
    "```"
   ]
  },
  {
   "cell_type": "code",
   "execution_count": 34,
   "metadata": {},
   "outputs": [
    {
     "name": "stdout",
     "output_type": "stream",
     "text": [
      "(5183, 473643)\n"
     ]
    }
   ],
   "source": [
    "# Affichage des dimensions de la matrice TF-IDF pour les documents texts\n",
    "print(texts_tfidf.shape)"
   ]
  },
  {
   "cell_type": "markdown",
   "metadata": {},
   "source": [
    "Sortie attendue pour \"_texts_\"\n",
    "```\n",
    "(5183, 473643)\n",
    "```"
   ]
  },
  {
   "cell_type": "code",
   "execution_count": 35,
   "metadata": {},
   "outputs": [
    {
     "name": "stdout",
     "output_type": "stream",
     "text": [
      "(5183, 473643)\n"
     ]
    }
   ],
   "source": [
    "# Affichage des dimensions de la matrice TF-IDF pour les documents titles\n",
    "print(titles_tfidf.shape)"
   ]
  },
  {
   "cell_type": "markdown",
   "metadata": {},
   "source": [
    "Sortie attendue pour \"_titles_\"\n",
    "```\n",
    "(5183, 473643)\n",
    "```"
   ]
  },
  {
   "cell_type": "code",
   "execution_count": 36,
   "metadata": {},
   "outputs": [
    {
     "name": "stdout",
     "output_type": "stream",
     "text": [
      "(5183, 473643)\n"
     ]
    }
   ],
   "source": [
    "# Affichage des dimensions de la matrice TF-IDF pour les documents abstracts\n",
    "print(abstracts_tfidf.shape)"
   ]
  },
  {
   "cell_type": "markdown",
   "metadata": {},
   "source": [
    "Sortie attendue pour abstracts\n",
    "```\n",
    "(5183, 473643)"
   ]
  },
  {
   "cell_type": "markdown",
   "metadata": {
    "id": "sMrNWcxL9QNF"
   },
   "source": [
    "#### 2.3 Pertinence d'un document (20 points)"
   ]
  },
  {
   "cell_type": "markdown",
   "metadata": {},
   "source": [
    "Maintenant que vous avez une représentation de vos affirmations \"_claims_\" et documents (\"_texts_\", \"_titles_\", \"_abstracts_\"), il faut être capable de déterminer quel document sera le plus pertinent pour une affirmation donnée."
   ]
  },
  {
   "cell_type": "markdown",
   "metadata": {
    "id": "3AsiWH2O9XKD"
   },
   "source": [
    "##### 2.3.1 Implémentation de \"_eval_similarity_\" (3 points)\n",
    "\n",
    "Implémentez la fonction \"_eval_similarity_\" pour évaluer la similarité cosinus entre la représentation de l'affirmation et celle de chaque document. La fonction prend une liste d'affirmations et une liste de documents et retourne une matrice où chaque ligne représente une affirmation et chaque colonne représente un document (\"title\", \"abstract\" ou \"text\") et les valeurs sont les similarités cosinus entre une affirmation et un document."
   ]
  },
  {
   "cell_type": "code",
   "execution_count": 74,
   "metadata": {},
   "outputs": [],
   "source": [
    "def eval_similarity(claims_tfidf, docs_tfidf):\n",
    "    return cosine_similarity(claims_tfidf, docs_tfidf) # On retourne la matrice de similarité"
   ]
  },
  {
   "cell_type": "markdown",
   "metadata": {
    "id": "5_gDSgTv9fCu"
   },
   "source": [
    "##### 2.3.2 Implémentation de la fonction \"_rank_texts_\" (2 points)\n",
    "\n",
    "Implémentez la fonction \"_rank_texts_\", qui, au moyen de la précédente (_eval_similarity_), retourne le top-N (N=1,3,5) des documents pertinents pour une affirmation donnée (N est un paramètre). Ces documents devront être ordonnés du plus pertinent au moins pertinent. Idéalement, le document à la position 1 sera celui qui contient la preuve (ou justification) de l'affirmation. Il faudra retourner non pas les indices des documents dans le dataframe mais plutôt leur identifiants au niveau de la colonne \"_doc_id_\"."
   ]
  },
  {
   "cell_type": "code",
   "execution_count": 75,
   "metadata": {},
   "outputs": [],
   "source": [
    "def rank_texts(claims_tfidf, docs_tfidf, N=5):\n",
    "    \n",
    "    # Calcul de la matrice de similarité entre les affirmations et les documents\n",
    "    similarity_matrix = eval_similarity(claims_tfidf, docs_tfidf)\n",
    "    \n",
    "    top_n_docs = []\n",
    "\n",
    "    for i, similarities in enumerate(similarity_matrix): # pour chaque ligne (donc pour chaque affirmation)\n",
    "        \n",
    "        # Indices des N documents les plus similaires, triés par pertinence décroissante\n",
    "        top_n_indices = similarities.argsort()[::-1][:N]\n",
    "        \n",
    "        # Identifiants des documents correspondants à ces indices\n",
    "        top_n_doc_ids = [df_corpus.iloc[id]['doc_id'] for id in top_n_indices]\n",
    "        \n",
    "        top_n_docs.append(top_n_doc_ids)\n",
    "    \n",
    "    return top_n_docs"
   ]
  },
  {
   "cell_type": "markdown",
   "metadata": {},
   "source": [
    "##### 2.3.3 Préparation des dataframes de réponses (1 point) \n",
    "\n",
    "Vous allez écrire la fonction \"prepare_results_df\" qui crée les dataframes qui vont contenir les résultats de la recherche de documents pertinents pour les affirmations.\n",
    "\n",
    "La fonction \"prepare_results_df\" prend les arguments suivants:\n",
    "\n",
    "- '_df_': le dataframe original nommé '_df_claims_' à partir duquel on crée les autres, \n",
    "- '_columns_to_drop_': les colonnes à supprimer \n",
    "- '_column_to_rename_': le nom de la colonne de référence dans le dataframe original qui sera renommée \"gold standard passage\"\n",
    "\n",
    "et effectue les opérations suivantes:\n",
    "\n",
    "1. Créer un nouveau dataframe à partir de \"_df_claims_\" en supprimant toutes les colonnes sauf \"cited_doc_ids\".\n",
    "2. Renommer la colonne \"cited_doc_ids\" en \"gold standard passage\".\n",
    "3. Ajouter les colonnes \"top_1\", \"top_3\", et \"top_5\" au dataframe, \n",
    "en les initialisant avec des chaînes de zéros séparés par des points-\n",
    "virgules, correspondant respectivement à des configurations de 1, 3, et \n",
    "5 zéros pour toutes les lignes.\n",
    "\n",
    "Vous utiliserez ensuite cette fonction pour créer les dataframes \"results_titles_df\", \"results_abstracts_df\" et \"results_texts_df\", qui seront destinés à contenir les résultats de recherche de documents pour \"title\", \"abstract\" et \"text\" respectivement."
   ]
  },
  {
   "cell_type": "code",
   "execution_count": 76,
   "metadata": {},
   "outputs": [],
   "source": [
    "def prepare_results_df(df, columns_to_drop, column_to_rename):\n",
    "\n",
    "    # Supprimer les colonnes columns_to_drop\n",
    "    df_results = df.drop(columns=columns_to_drop).copy()\n",
    "\n",
    "    # Renommer la colonne column_to_rename\n",
    "    df_results.rename(columns={column_to_rename: 'gold standard passage'}, inplace=True)\n",
    "    \n",
    "    # Ajouter les colonnes top_1, top_3 et top_5\n",
    "    df_results['top_1'] = '0'\n",
    "    df_results['top_3'] = '0;0;0'\n",
    "    df_results['top_5'] = '0;0;0;0;0'\n",
    "    \n",
    "    return df_results"
   ]
  },
  {
   "cell_type": "markdown",
   "metadata": {},
   "source": [
    "> Sortie attendue pour chaque dataframe préparé\n",
    "<div>\n",
    "<style scoped>\n",
    "    .dataframe tbody tr th:only-of-type {\n",
    "        vertical-align: middle;\n",
    "    }\n",
    "\n",
    "    .dataframe tbody tr th {\n",
    "        vertical-align: top;\n",
    "    }\n",
    "\n",
    "    .dataframe thead th {\n",
    "        text-align: right;\n",
    "    }\n",
    "</style>\n",
    "<table border=\"1\" class=\"dataframe\">\n",
    "  <thead>\n",
    "    <tr style=\"text-align: right;\">\n",
    "      <th></th>\n",
    "      <th>id</th>\n",
    "      <th>gold standard passage</th>\n",
    "      <th>top_1</th>\n",
    "      <th>top_3</th>\n",
    "      <th>top_5</th>\n",
    "    </tr>\n",
    "  </thead>\n",
    "  <tbody>\n",
    "    <tr>\n",
    "      <th>0</th>\n",
    "      <td>0</td>\n",
    "      <td>[31715818]</td>\n",
    "      <td>0</td>\n",
    "      <td>0;0;0</td>\n",
    "      <td>0;0;0;0;0</td>\n",
    "    </tr>\n",
    "    <tr>\n",
    "      <th>1</th>\n",
    "      <td>2</td>\n",
    "      <td>[13734012]</td>\n",
    "      <td>0</td>\n",
    "      <td>0;0;0</td>\n",
    "      <td>0;0;0;0;0</td>\n",
    "    </tr>\n",
    "    <tr>\n",
    "      <th>2</th>\n",
    "      <td>4</td>\n",
    "      <td>[22942787]</td>\n",
    "      <td>0</td>\n",
    "      <td>0;0;0</td>\n",
    "      <td>0;0;0;0;0</td>\n",
    "    </tr>\n",
    "  </tbody>\n",
    "</table>\n",
    "</div>"
   ]
  },
  {
   "cell_type": "markdown",
   "metadata": {},
   "source": [
    "##### 2.3.4 Implémentation de la fonction \"_fill_results_\" (2 points)\n",
    "\n",
    "Vous devez maintenant implémenter la fonction \"_fill_results_\" qui remplit les dataframes préparés dans l'étape précédente en utilisant les resultats de recherche de document.\n",
    "Cette fonction prend les arguments suivant: \n",
    "- \"_results_\" : matrice contenant les valeurs de similarite des affirmations et des documents\n",
    "- \"_results_texts_df_\" : Dataframe contenant les affirmations ainsi que les colonnes \"top_1\", \"top_3\", \"top_5\" où doivent être mis les top-n documents les plus pertinents.\n",
    "\n",
    "Les deux arguments contiennent le même nombre d'éléments et pour le même indice, font référence à la même affirmation."
   ]
  },
  {
   "cell_type": "code",
   "execution_count": 77,
   "metadata": {},
   "outputs": [],
   "source": [
    "def fill_results(results, results_texts_df):\n",
    "    for i, top_n_doc_ids in enumerate(results):  # On itère sur chaque ligne (donc chaque affirmation)\n",
    "\n",
    "        top_n_doc_ids_str = [str(doc_id) for doc_id in top_n_doc_ids] # Conversion en string\n",
    "\n",
    "        # Remplissage des colonnes top_1, top_3, et top_5\n",
    "        results_texts_df.at[i, 'top_1'] = top_n_doc_ids_str[0]\n",
    "        results_texts_df.at[i, 'top_3'] = ';'.join(top_n_doc_ids_str[:3])\n",
    "        results_texts_df.at[i, 'top_5'] = ';'.join(top_n_doc_ids_str[:5])\n",
    "    return results_texts_df"
   ]
  },
  {
   "cell_type": "markdown",
   "metadata": {
    "id": "EqRUGA9D9xoI"
   },
   "source": [
    "##### 2.3.5 Exécution des fonctions \"_rank_texts_\" et fill_results(2 points)\n",
    "\n",
    "Exécutez maintenant votre fonction \"_rank_texts_\" sur toutes les affirmations (claims) et toutes les représentations de documents (title, abstract, text) en mettant les résultats dans les variables \"results_texts\", \"results_titles\" et \"results_abstracts\". Ensuite appelez la fonction \"_fill_results_\" qui remplit les dataframes \"_results_titles_df_\", \"_results_abstracts_df_\", et \"_results_texts_df_\" contenant les résultats de recheche de documents."
   ]
  },
  {
   "cell_type": "code",
   "execution_count": 78,
   "metadata": {},
   "outputs": [
    {
     "data": {
      "text/html": [
       "<div>\n",
       "<style scoped>\n",
       "    .dataframe tbody tr th:only-of-type {\n",
       "        vertical-align: middle;\n",
       "    }\n",
       "\n",
       "    .dataframe tbody tr th {\n",
       "        vertical-align: top;\n",
       "    }\n",
       "\n",
       "    .dataframe thead th {\n",
       "        text-align: right;\n",
       "    }\n",
       "</style>\n",
       "<table border=\"1\" class=\"dataframe\">\n",
       "  <thead>\n",
       "    <tr style=\"text-align: right;\">\n",
       "      <th></th>\n",
       "      <th>id</th>\n",
       "      <th>gold standard passage</th>\n",
       "      <th>top_1</th>\n",
       "      <th>top_3</th>\n",
       "      <th>top_5</th>\n",
       "    </tr>\n",
       "  </thead>\n",
       "  <tbody>\n",
       "    <tr>\n",
       "      <th>0</th>\n",
       "      <td>0</td>\n",
       "      <td>[31715818]</td>\n",
       "      <td>10608397</td>\n",
       "      <td>10608397;10607877;21257564</td>\n",
       "      <td>10608397;10607877;21257564;994800;14827874</td>\n",
       "    </tr>\n",
       "    <tr>\n",
       "      <th>1</th>\n",
       "      <td>2</td>\n",
       "      <td>[13734012]</td>\n",
       "      <td>13734012</td>\n",
       "      <td>13734012;17333231;13770184</td>\n",
       "      <td>13734012;17333231;13770184;42240424;3716075</td>\n",
       "    </tr>\n",
       "    <tr>\n",
       "      <th>2</th>\n",
       "      <td>4</td>\n",
       "      <td>[22942787]</td>\n",
       "      <td>7165938</td>\n",
       "      <td>7165938;1387104;52188256</td>\n",
       "      <td>7165938;1387104;52188256;520579;43334921</td>\n",
       "    </tr>\n",
       "    <tr>\n",
       "      <th>3</th>\n",
       "      <td>6</td>\n",
       "      <td>[2613775]</td>\n",
       "      <td>23117378</td>\n",
       "      <td>23117378;21050357;2613775</td>\n",
       "      <td>23117378;21050357;2613775;20240998;35521287</td>\n",
       "    </tr>\n",
       "    <tr>\n",
       "      <th>4</th>\n",
       "      <td>9</td>\n",
       "      <td>[44265107]</td>\n",
       "      <td>44265107</td>\n",
       "      <td>44265107;24700152;14647747</td>\n",
       "      <td>44265107;24700152;14647747;25182647;32787042</td>\n",
       "    </tr>\n",
       "    <tr>\n",
       "      <th>...</th>\n",
       "      <td>...</td>\n",
       "      <td>...</td>\n",
       "      <td>...</td>\n",
       "      <td>...</td>\n",
       "      <td>...</td>\n",
       "    </tr>\n",
       "    <tr>\n",
       "      <th>804</th>\n",
       "      <td>1403</td>\n",
       "      <td>[33370, 38355793]</td>\n",
       "      <td>33370</td>\n",
       "      <td>33370;38355793;7986878</td>\n",
       "      <td>33370;38355793;7986878;40412980;45764440</td>\n",
       "    </tr>\n",
       "    <tr>\n",
       "      <th>805</th>\n",
       "      <td>1404</td>\n",
       "      <td>[33370, 38355793]</td>\n",
       "      <td>38355793</td>\n",
       "      <td>38355793;33370;7986878</td>\n",
       "      <td>38355793;33370;7986878;40412980;45764440</td>\n",
       "    </tr>\n",
       "    <tr>\n",
       "      <th>806</th>\n",
       "      <td>1405</td>\n",
       "      <td>[10504681]</td>\n",
       "      <td>20402596</td>\n",
       "      <td>20402596;38675228;10504681</td>\n",
       "      <td>20402596;38675228;10504681;5849439;19950357</td>\n",
       "    </tr>\n",
       "    <tr>\n",
       "      <th>807</th>\n",
       "      <td>1406</td>\n",
       "      <td>[2617858]</td>\n",
       "      <td>2617858</td>\n",
       "      <td>2617858;4465762;4857085</td>\n",
       "      <td>2617858;4465762;4857085;13963620;10577574</td>\n",
       "    </tr>\n",
       "    <tr>\n",
       "      <th>808</th>\n",
       "      <td>1407</td>\n",
       "      <td>[8087082, 29863668]</td>\n",
       "      <td>3801693</td>\n",
       "      <td>3801693;16090672;4820792</td>\n",
       "      <td>3801693;16090672;4820792;30224907;7549811</td>\n",
       "    </tr>\n",
       "  </tbody>\n",
       "</table>\n",
       "<p>809 rows × 5 columns</p>\n",
       "</div>"
      ],
      "text/plain": [
       "       id gold standard passage     top_1                       top_3  \\\n",
       "0       0            [31715818]  10608397  10608397;10607877;21257564   \n",
       "1       2            [13734012]  13734012  13734012;17333231;13770184   \n",
       "2       4            [22942787]   7165938    7165938;1387104;52188256   \n",
       "3       6             [2613775]  23117378   23117378;21050357;2613775   \n",
       "4       9            [44265107]  44265107  44265107;24700152;14647747   \n",
       "..    ...                   ...       ...                         ...   \n",
       "804  1403     [33370, 38355793]     33370      33370;38355793;7986878   \n",
       "805  1404     [33370, 38355793]  38355793      38355793;33370;7986878   \n",
       "806  1405            [10504681]  20402596  20402596;38675228;10504681   \n",
       "807  1406             [2617858]   2617858     2617858;4465762;4857085   \n",
       "808  1407   [8087082, 29863668]   3801693    3801693;16090672;4820792   \n",
       "\n",
       "                                            top_5  \n",
       "0      10608397;10607877;21257564;994800;14827874  \n",
       "1     13734012;17333231;13770184;42240424;3716075  \n",
       "2        7165938;1387104;52188256;520579;43334921  \n",
       "3     23117378;21050357;2613775;20240998;35521287  \n",
       "4    44265107;24700152;14647747;25182647;32787042  \n",
       "..                                            ...  \n",
       "804      33370;38355793;7986878;40412980;45764440  \n",
       "805      38355793;33370;7986878;40412980;45764440  \n",
       "806   20402596;38675228;10504681;5849439;19950357  \n",
       "807     2617858;4465762;4857085;13963620;10577574  \n",
       "808     3801693;16090672;4820792;30224907;7549811  \n",
       "\n",
       "[809 rows x 5 columns]"
      ]
     },
     "execution_count": 78,
     "metadata": {},
     "output_type": "execute_result"
    }
   ],
   "source": [
    "# Préparation des DataFrames résultats avec appels de la fonction prepare_results_df\n",
    "results_titles_df = prepare_results_df(df_claims, ['claim', 'evidence', 'claim_length', 'num_cited_doc', 'claims_preprocessed'], 'cited_doc_ids')\n",
    "results_abstracts_df = prepare_results_df(df_claims, ['claim', 'evidence', 'claim_length', 'num_cited_doc', 'claims_preprocessed'], 'cited_doc_ids')\n",
    "results_texts_df = prepare_results_df(df_claims, ['claim', 'evidence', 'claim_length', 'num_cited_doc', 'claims_preprocessed'], 'cited_doc_ids')\n",
    "\n",
    "# Appel de la fonction rank_texts\n",
    "results_texts = rank_texts(claims_tfidf, texts_tfidf)\n",
    "results_titles = rank_texts(claims_tfidf, titles_tfidf)\n",
    "results_abstracts = rank_texts(claims_tfidf, abstracts_tfidf)\n",
    "\n",
    "# Remplissage des DataFrames résultats avec appel de la fonction fill_results\n",
    "fill_results(results_texts, results_texts_df)\n",
    "fill_results(results_titles, results_titles_df)\n",
    "fill_results(results_abstracts, results_abstracts_df)"
   ]
  },
  {
   "cell_type": "markdown",
   "metadata": {},
   "source": [
    "##### 2.3.6 Enregistrement des dataframes \n",
    "\n",
    "On enregistre les dataframes dans des fichiers .csv."
   ]
  },
  {
   "cell_type": "code",
   "execution_count": 79,
   "metadata": {},
   "outputs": [],
   "source": [
    "#Enregistrement des DataFrames\n",
    "\n",
    "results_texts_df.to_csv('results_texts.csv', index=False, sep='\\t')\n",
    "results_titles_df.to_csv('results_titles.csv', index=False, sep='\\t')\n",
    "results_abstracts_df.to_csv('results_abstracts.csv', index=False, sep='\\t')"
   ]
  },
  {
   "cell_type": "markdown",
   "metadata": {
    "id": "4qWHRy8oZvOt"
   },
   "source": [
    "##### 2.3.7 Implémentation de la fonction \"_show_top_n_passages_\" (3 points)\n",
    "\n",
    "Vous devez maintenant implémenter une fonction \"_show_top_n_passages_\" qui affiche le top-n ainsi que le texte (document) attendu pour une affirmation donnée. Ici on considère que document est representé par \"_text_\" donc la fusion du titre (\"_title_\") et du résumé (\"_abstract_\")"
   ]
  },
  {
   "cell_type": "code",
   "execution_count": 80,
   "metadata": {
    "id": "-l9sKrgC-Sq7"
   },
   "outputs": [],
   "source": [
    "def show_top_n_passages(claim_id, N):\n",
    "    # Trouver l'indice de l'affirmation dans df_claims\n",
    "    claim_index = df_claims.index[df_claims['id'] == claim_id].tolist()\n",
    "    \n",
    "    if not claim_index:\n",
    "        print(f\"Aucun ID d'affirmation trouvé pour {claim_id}.\")\n",
    "        return\n",
    "    \n",
    "    claim_index = claim_index[0]\n",
    "    \n",
    "    # Accéder à la ligne correspondante dans results_texts_df\n",
    "    top_n_doc_ids = results_texts_df.at[claim_index, f'top_{N}'].split(';')\n",
    "    \n",
    "    # Afficher les top-N documents\n",
    "    print(f\"Top-{N} documents pour l'affirmation ID {claim_id}:\")\n",
    "    \n",
    "    for rank, doc_id in enumerate(top_n_doc_ids, start=1):\n",
    "        print(f\"Rang {rank}: Document ID {doc_id}\")"
   ]
  },
  {
   "cell_type": "markdown",
   "metadata": {},
   "source": [
    "##### 2.3.8 Affichage (1 point)\n",
    "\n",
    "Appliquez cette fonction sur l'affirmation ayant pour identifiant 211 et affichez le top-5 des documents les plus pertinents retrouvés."
   ]
  },
  {
   "cell_type": "code",
   "execution_count": 81,
   "metadata": {},
   "outputs": [
    {
     "name": "stdout",
     "output_type": "stream",
     "text": [
      "Top-5 documents pour l'affirmation ID 211:\n",
      "Rang 1: Document ID 14019636\n",
      "Rang 2: Document ID 44737533\n",
      "Rang 3: Document ID 6290112\n",
      "Rang 4: Document ID 20261352\n",
      "Rang 5: Document ID 5137019\n"
     ]
    }
   ],
   "source": [
    "show_top_n_passages(211, 5)"
   ]
  },
  {
   "cell_type": "markdown",
   "metadata": {},
   "source": [
    "##### 2.3.9 Évaluation (3 points)\n",
    "\n",
    "Vous devez maintenant implémenter la fonction \"_evaluate_\" qui, à partir des colonnes *Gold standard passage* et de vos top-N respectifs, calcule la précision top-N (N=1,3,5) sur l’ensemble de données en paramètre et l’affiche. \n",
    "\n",
    "Cette précision connue sous le nom \"precision at k (precision@k)\" se calcule de la manière suivante:\n",
    "\n",
    "\n",
    "$$\n",
    "\\text{precision@k} = \\frac{\\text{nombre d'éléments corrects}}{\\text{nombre total d'éléments k retrouvés}}\n",
    "$$\n",
    "\n",
    "\n",
    "Veillez à ce que la fonction soit générique. "
   ]
  },
  {
   "cell_type": "code",
   "execution_count": 83,
   "metadata": {},
   "outputs": [],
   "source": [
    "def evaluate(results_df, gold_standard_col_name='gold standard passage', top_n_cols_names=None):\n",
    "\n",
    "    if top_n_cols_names is None:\n",
    "        top_n_cols_names = ['top_1', 'top_3', 'top_5']\n",
    "\n",
    "    # Initialiser les compteurs pour les précisions\n",
    "    precision_at_1 = 0\n",
    "    precision_at_3 = 0\n",
    "    precision_at_5 = 0\n",
    "\n",
    "    # Nombre total de documents pour le calcul de la précision\n",
    "    total_count = len(results_df)\n",
    "    \n",
    "    for _, row in results_df.iterrows():\n",
    "        # Récupérer les listes de documents pertinents et les résultats des top-N\n",
    "        gold_standard_passage = set(map(str, row[gold_standard_col_name]))\n",
    "        top_1_docs = set(row[top_n_cols_names[0]].split(';'))\n",
    "        top_3_docs = set(row[top_n_cols_names[1]].split(';'))\n",
    "        top_5_docs = set(row[top_n_cols_names[2]].split(';'))\n",
    "\n",
    "        # Calculer le nombre de documents corrects en faisant une intersection des top-N avec les documents cités\n",
    "        correct_at_1 = len(gold_standard_passage.intersection(top_1_docs))\n",
    "        correct_at_3 = len(gold_standard_passage.intersection(top_3_docs))\n",
    "        correct_at_5 = len(gold_standard_passage.intersection(top_5_docs))\n",
    "\n",
    "        precision_at_1 += correct_at_1\n",
    "        precision_at_3 += correct_at_3\n",
    "        precision_at_5 += correct_at_5\n",
    "\n",
    "    # Calculer la précision\n",
    "    precision_at_1 = precision_at_1 / total_count\n",
    "    precision_at_3 = precision_at_3 / (3*total_count)\n",
    "    precision_at_5 = precision_at_5 / (5*total_count)\n",
    "\n",
    "    # Afficher les résultats\n",
    "    print(f\"Précision @1: {precision_at_1:.4f}\")\n",
    "    print(f\"Précision @3: {precision_at_3:.4f}\")\n",
    "    print(f\"Précision @5: {precision_at_5:.4f}\")\n",
    "\n",
    "    return precision_at_1, precision_at_3, precision_at_5"
   ]
  },
  {
   "cell_type": "markdown",
   "metadata": {},
   "source": [
    "##### 2.3.10 Affichage (1 point)\n",
    "\n",
    "Appliquez cette fonction pour calculer la précision des documents retrouvés en utilisant les titres (\"_title_\"), les résumés (\"_abstract_\") et la fusion des deux (\"_text_\")."
   ]
  },
  {
   "cell_type": "code",
   "execution_count": 84,
   "metadata": {},
   "outputs": [
    {
     "name": "stdout",
     "output_type": "stream",
     "text": [
      "Précision using titles:\n",
      "Précision @1: 0.3226\n",
      "Précision @3: 0.1636\n",
      "Précision @5: 0.1117\n",
      "Précision using abstracts:\n",
      "Précision @1: 0.4660\n",
      "Précision @3: 0.2167\n",
      "Précision @5: 0.1439\n",
      "Précision using texts:\n",
      "Précision @1: 0.4870\n",
      "Précision @3: 0.2254\n",
      "Précision @5: 0.1520\n"
     ]
    }
   ],
   "source": [
    "print(f\"Précision using titles:\")\n",
    "precisions_titles = evaluate(results_titles_df)\n",
    "\n",
    "print(f\"Précision using abstracts:\")\n",
    "precisions_abstracts = evaluate(results_abstracts_df)\n",
    "\n",
    "print(f\"Précision using texts:\")\n",
    "precisions_texts = evaluate(results_texts_df)"
   ]
  },
  {
   "cell_type": "markdown",
   "metadata": {},
   "source": [
    "##### 2.3.11 Graphique (2 points)\n",
    "\n",
    "Tracez un graphique des valeurs de précisions des documents retrouvés (\"__title__\", \"__abstract__\", \"__text__\") pour différents N (1,3,5)."
   ]
  },
  {
   "cell_type": "code",
   "execution_count": 85,
   "metadata": {},
   "outputs": [
    {
     "data": {
      "image/png": "[encoded data removed]",
      "text/plain": [
       "<Figure size 1000x600 with 1 Axes>"
      ]
     },
     "metadata": {},
     "output_type": "display_data"
    }
   ],
   "source": [
    "documents_types = ['titles', 'abstracts', 'texts']\n",
    "N_values = [1, 3, 5]\n",
    "\n",
    "precisions = {\n",
    "    'titles': precisions_titles,\n",
    "    'abstracts': precisions_abstracts,\n",
    "    'texts': precisions_texts\n",
    "}\n",
    "\n",
    "# Afficher le graphique\n",
    "plt.figure(figsize=(10, 6))\n",
    "\n",
    "for document_type in documents_types:\n",
    "    plt.plot(N_values, precisions[document_type], marker='o', label=document_type)\n",
    "\n",
    "plt.title('Précision des documents retrouvés pour différents N')\n",
    "plt.xlabel('Top-N')\n",
    "plt.ylabel('Précision')\n",
    "plt.xticks(N_values)\n",
    "plt.legend()\n",
    "plt.grid(True)"
   ]
  },
  {
   "cell_type": "markdown",
   "metadata": {
    "id": "vI_2JXRxAygz"
   },
   "source": [
    "### 3 Amélioration avec BM25 (20 points)"
   ]
  },
  {
   "cell_type": "markdown",
   "metadata": {},
   "source": [
    "BM25 (Best Matching 25) est un algorithme de recherche utilisé pour évaluer la pertinence des documents par rapport à une requête. Basé sur le modèle de récupération d'informations probabilistes, BM25 calcule un score de pertinence en tenant compte de la fréquence des termes de la requête dans chaque document et dans le corpus global mais aussi de la longueur des documents. \n",
    "\n",
    "BM25 est pertinent pour la recherche d'information car il offre un bon équilibre entre précision et rappel, il gère efficacement de grandes collections de documents et permet des ajustements pour différents types de corpus. Il est largement utilisé dans les moteurs de recherche et les systèmes de recommandation.\n",
    "\n",
    "Dans cette partie on vous demande de la tester au moyen de la librairie rank_bm25 pour cette tâche de recherche de texte qui justifie ou contredit une affirmation donnée. Vous allez utiliser le corpus et les affirmations et procéder comme indiqué dans la suite."
   ]
  },
  {
   "cell_type": "markdown",
   "metadata": {},
   "source": [
    "##### 3.1 Initialisation du modèle BM25 (3 points)\n",
    "Réutilisez les variables \"claims_preprocessed_joined\", \"texts_preprocessed_joined\", \"titles_preprocessed_joined\" et \"abstract_preprocessed_joined\" définies à la question `2.2.1` pour initialiser les modèles BM25 pour les documents (\"__titles__\", \"__abstracts__\" et \"__text__\"). Il faudra transformer chaque séquence (dont les jetons étaient joints pour former une seule chaîne) en une liste de jetons. Vous utiliserez la classe \"_BM250kapi_\" à ce niveau. "
   ]
  },
  {
   "cell_type": "code",
   "execution_count": 86,
   "metadata": {},
   "outputs": [],
   "source": [
    "# TODO\n",
    "tokenized_titles_preprocessed_joined = [text.split() for text in titles_preprocessed_joined]\n",
    "tokenized_abstracts_preprocessed_joined = [text.split() for text in abstracts_preprocessed_joined]\n",
    "tokenized_texts_preprocessed_joined = [text.split() for text in texts_preprocessed_joined]\n",
    "\n",
    "bm25_titles = BM25Okapi(tokenized_titles_preprocessed_joined)\n",
    "bm25_abstracts = BM25Okapi(tokenized_abstracts_preprocessed_joined)\n",
    "bm25_texts = BM25Okapi(tokenized_texts_preprocessed_joined)\n",
    "\n",
    "# END TODO"
   ]
  },
  {
   "cell_type": "markdown",
   "metadata": {},
   "source": [
    "##### 3.2 Utilisation du modèle BM25 (5 points)\n",
    "\n",
    "Retrouvez les identifiants des documents pour les cinq meilleures correspondances de \"_title_\", de \"_abstract_\" et de \"_text_\" en utilisant le score BM25 pour chaque affirmation (claim) traitée, et mettez à jour les résultats avec les identifiants de documents correspondants."
   ]
  },
  {
   "cell_type": "code",
   "execution_count": 97,
   "metadata": {},
   "outputs": [],
   "source": [
    "# TODO\n",
    "\n",
    "def rank_texts_bm25(claims, bm25, N=5):\n",
    "    top_n_docs = []\n",
    "    for claim in claims:\n",
    "        scores = bm25.get_scores(claim.split())\n",
    "        top_n_indices = np.argsort(scores)[::-1][:N]\n",
    "        top_n_doc_ids = [df_corpus.iloc[id]['doc_id'] for id in top_n_indices]\n",
    "        top_n_docs.append(top_n_doc_ids)\n",
    "    return top_n_docs\n",
    "\n",
    "results_titles_bm25 = rank_texts_bm25(claims_preprocessed_joined, bm25_titles)\n",
    "results_abstracts_bm25 = rank_texts_bm25(claims_preprocessed_joined, bm25_abstracts)\n",
    "results_texts_bm25 = rank_texts_bm25(claims_preprocessed_joined, bm25_texts)\n",
    "\n",
    "# END TODO\n"
   ]
  },
  {
   "cell_type": "markdown",
   "metadata": {},
   "source": [
    "##### 3.3 Affichage des performances (4 points)\n",
    "\n",
    "Affichez les résultats des performances BM25 pour les configurations Top1, Top3 et Top5 avec \"_title_\", \"_asbtract_\" et \"_text_\"."
   ]
  },
  {
   "cell_type": "code",
   "execution_count": null,
   "metadata": {},
   "outputs": [],
   "source": [
    "# TODO\n",
    "\n",
    "results_titles_bm25_df = prepare_results_df(df_claims, ['claim', 'evidence', 'claim_length', 'num_cited_doc', 'claims_preprocessed'], 'cited_doc_ids')\n",
    "results_abstracts_bm25_df = prepare_results_df(df_claims, ['claim', 'evidence', 'claim_length', 'num_cited_doc', 'claims_preprocessed'], 'cited_doc_ids')\n",
    "results_texts_bm25_df = prepare_results_df(df_claims, ['claim', 'evidence', 'claim_length', 'num_cited_doc', 'claims_preprocessed'], 'cited_doc_ids')\n",
    "\n",
    "fill_results(results_titles_bm25, results_titles_bm25_df)\n",
    "fill_results(results_abstracts_bm25, results_abstracts_bm25_df)\n",
    "fill_results(results_texts_bm25, results_texts_bm25_df)\n",
    "\n",
    "results_titles_bm25_df.to_csv('results_titles_bm25.csv', index=False, sep='\\t')\n",
    "results_abstracts_bm25_df.to_csv('results_abstracts_bm25.csv', index=False, sep='\\t')\n",
    "results_texts_bm25_df.to_csv('results_texts_bm25.csv', index=False, sep='\\t')\n",
    "\n",
    "print(f\"Précision using titles:\")\n",
    "precisions_titles_bm25 = evaluate(results_titles_bm25_df)\n",
    "\n",
    "print(f\"Précision using abstracts:\")\n",
    "precisions_abstracts_bm25 = evaluate(results_abstracts_bm25_df)\n",
    "\n",
    "print(f\"Précision using texts:\")\n",
    "precisions_texts_bm25 = evaluate(results_texts_bm25_df)\n",
    "\n",
    "# END TODO"
   ]
  },
  {
   "cell_type": "markdown",
   "metadata": {},
   "source": [
    "##### 3.4 Graphique (4 points)\n",
    "\n",
    "Dans un même graphique, affichez les performances pour les deux modèles (TF-IDF et BM25) dans la recherche des documents (text, title et abstract) pour les affirmations."
   ]
  },
  {
   "cell_type": "code",
   "execution_count": null,
   "metadata": {},
   "outputs": [],
   "source": [
    "# TODO\n",
    "\n",
    "documents_types = ['titles', 'abstracts', 'texts']\n",
    "N_values = [1, 3, 5]\n",
    "\n",
    "precisions_bm25 = {\n",
    "    'titles': precisions_titles_bm25,\n",
    "    'abstracts': precisions_abstracts_bm25,\n",
    "    'texts': precisions_texts_bm25\n",
    "}\n",
    "\n",
    "precisions_tfidf = {\n",
    "    'titles': precisions_titles,\n",
    "    'abstracts': precisions_abstracts,\n",
    "    'texts': precisions_texts\n",
    "}\n",
    "\n",
    "plt.figure(figsize=(10, 6))\n",
    "\n",
    "for document_type in documents_types:\n",
    "    plt.plot(N_values, precisions_tfidf[document_type], marker='o', label=f'{document_type} - TF-IDF')\n",
    "    plt.plot(N_values, precisions_bm25[document_type], marker='x', label=f'{document_type} - BM25')\n",
    "\n",
    "plt.title('Précision des documents retrouvés pour différents N')\n",
    "plt.xlabel('Top-N')\n",
    "plt.ylabel('Précision')\n",
    "plt.xticks(N_values)\n",
    "plt.legend()\n",
    "plt.grid(True)\n",
    "\n",
    "plt.show()\n",
    "# END TODO"
   ]
  },
  {
   "cell_type": "markdown",
   "metadata": {},
   "source": [
    "##### 3.5 Observation (4 points)\n",
    "\n",
    "Par rapport à vos résultats avec TF-IDF, observez-vous une amélioration ou une détérioration des performances, qu'est ce qui explique cela ? (Donnez au moins trois justifications)"
   ]
  },
  {
   "cell_type": "markdown",
   "metadata": {},
   "source": [
    "On remarque globalement une amélioration des performances de BM25 par rapport à TF-IDF. Cela est en parti dû au fait que BM25 considère un facteur que TF-IDF ignore, l'impact de la longueur des documents. En incluant ce facteur dans le calcul du score, on pénalise les documents longs en donnant un certain avantage aux documents plus courts. Ceci est fait parce que le fait qu'un terme document soit long (et présente donc une fréquence élevée pour un terme donné) ne signifie pas que ce document est plus pertinent qu'un document plus court dont la fréquence d'un terme est plus basse. Par ailleurs, BM25 prend également en compte la saturation de la fréquence des termes. Contrairement à TF-IDF qui continue d'augmenter proportionnellement à la fréquence d'un terme dans un document, BM25 applique une fonction de saturation à la fréquence des termes. En d'autres mots, si un mot apparaît de nombreuses fois dans un document, son importance ne continue pas à croître de manière linéaire, mais tend à se stabiliser. Cette approche permet d'éviter qu'un document soit indûment favorisé simplement parce qu'il contient un terme plusieurs fois, ce qui améliore la pertinence des résultats une fois de plus. Finalement, BM25 introduit des paramètres ajustables comme k1 (contrôle l'importance de la fréquence d'un terme) et b (contrôle l'importance de la normalisation par la longueur du document). Ces paramètres permettent d'affiner le comportement du modèle en fonction des spécificités du corpus, ce qui n'est pas possible avec TF-IDF, qui reste plus rigide dans sa formule. Cette flexibilité permet d'obtenir des résultats plus adaptés à divers types de corpus, améliorant la précision de la recherche."
   ]
  },
  {
   "cell_type": "markdown",
   "metadata": {
    "id": "DVYiuH8aeB8x"
   },
   "source": [
    "## Livrables\n",
    "Vous devez remettre votre notebook sur Moodle et Gradescope en ipynb et pdf. Pour Gradescope vous devez associer les numéros de questions avec vos réponses dans le pdf grâce à l'outil que fournit Gradescope.\n",
    "\n",
    "\n",
    "## Évaluation \n",
    "Votre TP sera évalué selon les critères suivants :\n",
    "1. Exécution correcte du code et obtention des sorties attendues\n",
    "2. Réponses correctes aux questions d'analyse\n",
    "3. Qualité du code (noms significatifs, structure, performance, gestion d’exception, etc.)\n",
    "4. Commentaires clairs et informatifs\n"
   ]
  }
 ],
 "metadata": {
  "colab": {
   "collapsed_sections": [
    "1tMX8go24rB_",
    "4ItqD8yL-utW",
    "0kzLIzqD-vp7",
    "VIRjMFlY-wHL",
    "R41oj9nI-wwi",
    "3FibZKYkHi06"
   ],
   "name": "TP2 solution.ipynb",
   "provenance": []
  },
  "kernelspec": {
   "display_name": "Python 3",
   "language": "python",
   "name": "python3"
  },
  "language_info": {
   "codemirror_mode": {
    "name": "ipython",
    "version": 3
   },
   "file_extension": ".py",
   "mimetype": "text/x-python",
   "name": "python",
   "nbconvert_exporter": "python",
   "pygments_lexer": "ipython3",
   "version": "3.11.4"
  }
 },
 "nbformat": 4,
 "nbformat_minor": 1
}
